{
 "cells": [
  {
   "cell_type": "markdown",
   "metadata": {},
   "source": [
    "baseline.csv<br>\n",
    ".. ├ models<br>\n",
    ".. └ data<br>\n",
    ".... ├ public_data<br>\n",
    ".... │ .. ├ train_AT_TSALET_ALL<br>\n",
    ".... │ .. ├ test_AT_TSALET_ALL<br>\n",
    ".... │ .. ├ test_files<br>\n",
    ".... │ .. └ train.csv<br>\n",
    ".... ├ prviate_data<br>\n",
    ".... │ .. ├ AT_TSALET_ALL<br>\n",
    ".... │ .. ├ private_data<br>\n",
    ".... └ sample_submission.csv<br>"
   ]
  },
  {
   "cell_type": "markdown",
   "metadata": {},
   "source": [
    "## 사용 패키지"
   ]
  },
  {
   "cell_type": "code",
   "execution_count": 1,
   "metadata": {},
   "outputs": [],
   "source": [
    "import pandas as pd\n",
    "import numpy as np\n",
    "import matplotlib.pyplot as plt\n",
    "from tqdm import tqdm\n",
    "import random\n",
    "import os\n",
    "\n",
    "import torch\n",
    "from torch import nn\n",
    "from torch.utils.data import Dataset, DataLoader"
   ]
  },
  {
   "cell_type": "markdown",
   "metadata": {},
   "source": [
    "## 재현을 위한 랜덤시드 고정"
   ]
  },
  {
   "cell_type": "code",
   "execution_count": 2,
   "metadata": {},
   "outputs": [],
   "source": [
    "def seed_everything(seed: int = 42):\n",
    "    random.seed(seed)\n",
    "    np.random.seed(seed)\n",
    "    os.environ[\"PYTHONHASHSEED\"] = str(seed)\n",
    "    torch.manual_seed(seed)\n",
    "    torch.cuda.manual_seed(seed)  # type: ignore\n",
    "    torch.backends.cudnn.deterministic = True  # type: ignore\n",
    "    torch.backends.cudnn.benchmark = True  # type: ignore"
   ]
  },
  {
   "cell_type": "code",
   "execution_count": 3,
   "metadata": {},
   "outputs": [],
   "source": [
    "seed_everything(42)"
   ]
  },
  {
   "cell_type": "markdown",
   "metadata": {},
   "source": [
    "## 데이터 로드"
   ]
  },
  {
   "cell_type": "code",
   "execution_count": 4,
   "metadata": {},
   "outputs": [],
   "source": [
    "data = pd.read_csv('./data/public_data/train.csv')"
   ]
  },
  {
   "cell_type": "code",
   "execution_count": 5,
   "metadata": {},
   "outputs": [
    {
     "data": {
      "text/plain": [
       "(1733, 44)"
      ]
     },
     "execution_count": 5,
     "metadata": {},
     "output_type": "execute_result"
    }
   ],
   "source": [
    "data.shape"
   ]
  },
  {
   "cell_type": "code",
   "execution_count": 6,
   "metadata": {
    "scrolled": true
   },
   "outputs": [
    {
     "data": {
      "text/html": [
       "<div>\n",
       "<style scoped>\n",
       "    .dataframe tbody tr th:only-of-type {\n",
       "        vertical-align: middle;\n",
       "    }\n",
       "\n",
       "    .dataframe tbody tr th {\n",
       "        vertical-align: top;\n",
       "    }\n",
       "\n",
       "    .dataframe thead th {\n",
       "        text-align: right;\n",
       "    }\n",
       "</style>\n",
       "<table border=\"1\" class=\"dataframe\">\n",
       "  <thead>\n",
       "    <tr style=\"text-align: right;\">\n",
       "      <th></th>\n",
       "      <th>date</th>\n",
       "      <th>요일</th>\n",
       "      <th>배추_거래량(kg)</th>\n",
       "      <th>배추_가격(원/kg)</th>\n",
       "      <th>무_거래량(kg)</th>\n",
       "      <th>무_가격(원/kg)</th>\n",
       "      <th>양파_거래량(kg)</th>\n",
       "      <th>양파_가격(원/kg)</th>\n",
       "      <th>건고추_거래량(kg)</th>\n",
       "      <th>건고추_가격(원/kg)</th>\n",
       "      <th>...</th>\n",
       "      <th>청상추_거래량(kg)</th>\n",
       "      <th>청상추_가격(원/kg)</th>\n",
       "      <th>백다다기_거래량(kg)</th>\n",
       "      <th>백다다기_가격(원/kg)</th>\n",
       "      <th>애호박_거래량(kg)</th>\n",
       "      <th>애호박_가격(원/kg)</th>\n",
       "      <th>캠벨얼리_거래량(kg)</th>\n",
       "      <th>캠벨얼리_가격(원/kg)</th>\n",
       "      <th>샤인마스캇_거래량(kg)</th>\n",
       "      <th>샤인마스캇_가격(원/kg)</th>\n",
       "    </tr>\n",
       "  </thead>\n",
       "  <tbody>\n",
       "    <tr>\n",
       "      <th>0</th>\n",
       "      <td>2016-01-01</td>\n",
       "      <td>금요일</td>\n",
       "      <td>0.0</td>\n",
       "      <td>0.0</td>\n",
       "      <td>0.0</td>\n",
       "      <td>0.0</td>\n",
       "      <td>0.0</td>\n",
       "      <td>0.0</td>\n",
       "      <td>0.0</td>\n",
       "      <td>0.0</td>\n",
       "      <td>...</td>\n",
       "      <td>0.0</td>\n",
       "      <td>0.0</td>\n",
       "      <td>0.0</td>\n",
       "      <td>0.0</td>\n",
       "      <td>0.0</td>\n",
       "      <td>0.0</td>\n",
       "      <td>0.0</td>\n",
       "      <td>0.0</td>\n",
       "      <td>0.0</td>\n",
       "      <td>0.0</td>\n",
       "    </tr>\n",
       "    <tr>\n",
       "      <th>1</th>\n",
       "      <td>2016-01-02</td>\n",
       "      <td>토요일</td>\n",
       "      <td>80860.0</td>\n",
       "      <td>329.0</td>\n",
       "      <td>80272.0</td>\n",
       "      <td>360.0</td>\n",
       "      <td>122787.5</td>\n",
       "      <td>1281.0</td>\n",
       "      <td>3.0</td>\n",
       "      <td>11000.0</td>\n",
       "      <td>...</td>\n",
       "      <td>5125.0</td>\n",
       "      <td>9235.0</td>\n",
       "      <td>434.0</td>\n",
       "      <td>2109.0</td>\n",
       "      <td>19159.0</td>\n",
       "      <td>2414.0</td>\n",
       "      <td>880.0</td>\n",
       "      <td>2014.0</td>\n",
       "      <td>0.0</td>\n",
       "      <td>0.0</td>\n",
       "    </tr>\n",
       "    <tr>\n",
       "      <th>2</th>\n",
       "      <td>2016-01-03</td>\n",
       "      <td>일요일</td>\n",
       "      <td>0.0</td>\n",
       "      <td>0.0</td>\n",
       "      <td>0.0</td>\n",
       "      <td>0.0</td>\n",
       "      <td>0.0</td>\n",
       "      <td>0.0</td>\n",
       "      <td>0.0</td>\n",
       "      <td>0.0</td>\n",
       "      <td>...</td>\n",
       "      <td>0.0</td>\n",
       "      <td>0.0</td>\n",
       "      <td>0.0</td>\n",
       "      <td>0.0</td>\n",
       "      <td>0.0</td>\n",
       "      <td>0.0</td>\n",
       "      <td>0.0</td>\n",
       "      <td>0.0</td>\n",
       "      <td>0.0</td>\n",
       "      <td>0.0</td>\n",
       "    </tr>\n",
       "    <tr>\n",
       "      <th>3</th>\n",
       "      <td>2016-01-04</td>\n",
       "      <td>월요일</td>\n",
       "      <td>1422742.5</td>\n",
       "      <td>478.0</td>\n",
       "      <td>1699653.7</td>\n",
       "      <td>382.0</td>\n",
       "      <td>2315079.0</td>\n",
       "      <td>1235.0</td>\n",
       "      <td>699.0</td>\n",
       "      <td>4464.0</td>\n",
       "      <td>...</td>\n",
       "      <td>38525.5</td>\n",
       "      <td>7631.0</td>\n",
       "      <td>500702.0</td>\n",
       "      <td>2046.0</td>\n",
       "      <td>620539.0</td>\n",
       "      <td>2018.0</td>\n",
       "      <td>2703.8</td>\n",
       "      <td>3885.0</td>\n",
       "      <td>0.0</td>\n",
       "      <td>0.0</td>\n",
       "    </tr>\n",
       "    <tr>\n",
       "      <th>4</th>\n",
       "      <td>2016-01-05</td>\n",
       "      <td>화요일</td>\n",
       "      <td>1167241.0</td>\n",
       "      <td>442.0</td>\n",
       "      <td>1423482.3</td>\n",
       "      <td>422.0</td>\n",
       "      <td>2092960.1</td>\n",
       "      <td>1213.0</td>\n",
       "      <td>1112.6</td>\n",
       "      <td>4342.0</td>\n",
       "      <td>...</td>\n",
       "      <td>32615.0</td>\n",
       "      <td>6926.0</td>\n",
       "      <td>147638.0</td>\n",
       "      <td>2268.0</td>\n",
       "      <td>231958.0</td>\n",
       "      <td>2178.0</td>\n",
       "      <td>8810.0</td>\n",
       "      <td>2853.0</td>\n",
       "      <td>0.0</td>\n",
       "      <td>0.0</td>\n",
       "    </tr>\n",
       "  </tbody>\n",
       "</table>\n",
       "<p>5 rows × 44 columns</p>\n",
       "</div>"
      ],
      "text/plain": [
       "         date   요일  배추_거래량(kg)  배추_가격(원/kg)  무_거래량(kg)  무_가격(원/kg)  \\\n",
       "0  2016-01-01  금요일         0.0          0.0        0.0         0.0   \n",
       "1  2016-01-02  토요일     80860.0        329.0    80272.0       360.0   \n",
       "2  2016-01-03  일요일         0.0          0.0        0.0         0.0   \n",
       "3  2016-01-04  월요일   1422742.5        478.0  1699653.7       382.0   \n",
       "4  2016-01-05  화요일   1167241.0        442.0  1423482.3       422.0   \n",
       "\n",
       "   양파_거래량(kg)  양파_가격(원/kg)  건고추_거래량(kg)  건고추_가격(원/kg)  ...  청상추_거래량(kg)  \\\n",
       "0         0.0          0.0          0.0           0.0  ...          0.0   \n",
       "1    122787.5       1281.0          3.0       11000.0  ...       5125.0   \n",
       "2         0.0          0.0          0.0           0.0  ...          0.0   \n",
       "3   2315079.0       1235.0        699.0        4464.0  ...      38525.5   \n",
       "4   2092960.1       1213.0       1112.6        4342.0  ...      32615.0   \n",
       "\n",
       "   청상추_가격(원/kg)  백다다기_거래량(kg)  백다다기_가격(원/kg)  애호박_거래량(kg)  애호박_가격(원/kg)  \\\n",
       "0           0.0           0.0            0.0          0.0           0.0   \n",
       "1        9235.0         434.0         2109.0      19159.0        2414.0   \n",
       "2           0.0           0.0            0.0          0.0           0.0   \n",
       "3        7631.0      500702.0         2046.0     620539.0        2018.0   \n",
       "4        6926.0      147638.0         2268.0     231958.0        2178.0   \n",
       "\n",
       "   캠벨얼리_거래량(kg)  캠벨얼리_가격(원/kg)  샤인마스캇_거래량(kg)  샤인마스캇_가격(원/kg)  \n",
       "0           0.0            0.0            0.0             0.0  \n",
       "1         880.0         2014.0            0.0             0.0  \n",
       "2           0.0            0.0            0.0             0.0  \n",
       "3        2703.8         3885.0            0.0             0.0  \n",
       "4        8810.0         2853.0            0.0             0.0  \n",
       "\n",
       "[5 rows x 44 columns]"
      ]
     },
     "execution_count": 6,
     "metadata": {},
     "output_type": "execute_result"
    }
   ],
   "source": [
    "data.head()"
   ]
  },
  {
   "cell_type": "markdown",
   "metadata": {},
   "source": [
    "## 데이터 정규화\n",
    "\n",
    "요일을 0 ~ 6으로 변환 후 각 컬럼 최대값으로 나눠 0 ~ 1값으로 정규화 진행"
   ]
  },
  {
   "cell_type": "code",
   "execution_count": 7,
   "metadata": {},
   "outputs": [],
   "source": [
    "week_day_map = {}\n",
    "for i, d in enumerate(data['요일'].unique()):\n",
    "    week_day_map[d] = i\n",
    "data['요일'] = data['요일'].map(week_day_map) \n",
    "#data['요일']의 값을 week_day_map 딕셔너리의 키값으로 이용, value를 반환받는다."
   ]
  },
  {
   "cell_type": "code",
   "execution_count": 8,
   "metadata": {
    "scrolled": true
   },
   "outputs": [
    {
     "data": {
      "text/plain": [
       "0       0\n",
       "1       1\n",
       "2       2\n",
       "3       3\n",
       "4       4\n",
       "       ..\n",
       "1728    6\n",
       "1729    0\n",
       "1730    1\n",
       "1731    2\n",
       "1732    3\n",
       "Name: 요일, Length: 1733, dtype: int64"
      ]
     },
     "execution_count": 8,
     "metadata": {},
     "output_type": "execute_result"
    }
   ],
   "source": [
    "data['요일']"
   ]
  },
  {
   "cell_type": "code",
   "execution_count": 11,
   "metadata": {},
   "outputs": [
    {
     "data": {
      "text/plain": [
       "2    229\n",
       "0      5\n",
       "3      5\n",
       "1      4\n",
       "4      4\n",
       "5      4\n",
       "6      2\n",
       "Name: 요일, dtype: int64"
      ]
     },
     "execution_count": 11,
     "metadata": {},
     "output_type": "execute_result"
    }
   ],
   "source": [
    "zero = data['배추_거래량(kg)'][0]\n",
    "\n",
    "data[data['배추_거래량(kg)'] == zero]['요일'].value_counts()"
   ]
  },
  {
   "cell_type": "code",
   "execution_count": 12,
   "metadata": {},
   "outputs": [
    {
     "data": {
      "text/plain": [
       "0             0.0\n",
       "1        122787.5\n",
       "2             2.0\n",
       "3       2315079.0\n",
       "4       2092960.1\n",
       "          ...    \n",
       "1728    2281429.2\n",
       "1729    2074513.0\n",
       "1730    2089081.2\n",
       "1731      38222.0\n",
       "1732    2747519.5\n",
       "Length: 1733, dtype: float64"
      ]
     },
     "execution_count": 12,
     "metadata": {},
     "output_type": "execute_result"
    }
   ],
   "source": [
    "data.iloc[:, 1:].max(1)"
   ]
  },
  {
   "cell_type": "code",
   "execution_count": 13,
   "metadata": {},
   "outputs": [
    {
     "data": {
      "text/plain": [
       "요일                      6.0\n",
       "배추_거래량(kg)        5210215.0\n",
       "배추_가격(원/kg)          5000.0\n",
       "무_거래량(kg)         3859745.9\n",
       "무_가격(원/kg)           1360.0\n",
       "양파_거래량(kg)        5024753.4\n",
       "양파_가격(원/kg)          2000.0\n",
       "건고추_거래량(kg)        413656.0\n",
       "건고추_가격(원/kg)       170836.0\n",
       "마늘_거래량(kg)        1092179.7\n",
       "마늘_가격(원/kg)          6415.0\n",
       "대파_거래량(kg)        1302729.4\n",
       "대파_가격(원/kg)          3182.0\n",
       "얼갈이배추_거래량(kg)      618133.3\n",
       "얼갈이배추_가격(원/kg)       3007.0\n",
       "양배추_거래량(kg)       1165192.1\n",
       "양배추_가격(원/kg)         1609.0\n",
       "깻잎_거래량(kg)         256450.4\n",
       "깻잎_가격(원/kg)         14326.0\n",
       "시금치_거래량(kg)        666537.2\n",
       "시금치_가격(원/kg)        14014.0\n",
       "미나리_거래량(kg)        187230.4\n",
       "미나리_가격(원/kg)         8370.0\n",
       "당근_거래량(kg)         764860.6\n",
       "당근_가격(원/kg)          3750.0\n",
       "파프리카_거래량(kg)       307079.2\n",
       "파프리카_가격(원/kg)       13059.0\n",
       "새송이_거래량(kg)        315101.7\n",
       "새송이_가격(원/kg)         4000.0\n",
       "팽이버섯_거래량(kg)       169256.0\n",
       "팽이버섯_가격(원/kg)        3951.0\n",
       "토마토_거래량(kg)       1279843.5\n",
       "토마토_가격(원/kg)         7348.0\n",
       "청상추_거래량(kg)         84155.0\n",
       "청상추_가격(원/kg)        18070.0\n",
       "백다다기_거래량(kg)      2202191.9\n",
       "백다다기_가격(원/kg)        5294.0\n",
       "애호박_거래량(kg)        831849.0\n",
       "애호박_가격(원/kg)         6778.0\n",
       "캠벨얼리_거래량(kg)      1490337.0\n",
       "캠벨얼리_가격(원/kg)       25000.0\n",
       "샤인마스캇_거래량(kg)      382263.4\n",
       "샤인마스캇_가격(원/kg)      40000.0\n",
       "dtype: float64"
      ]
     },
     "execution_count": 13,
     "metadata": {},
     "output_type": "execute_result"
    }
   ],
   "source": [
    "data.iloc[:, 1:].max(0)"
   ]
  },
  {
   "cell_type": "code",
   "execution_count": null,
   "metadata": {},
   "outputs": [],
   "source": [
    "norm = data.iloc[:, 1:].max(0)\n",
    "data.iloc[:, 1:] = data.iloc[:, 1:] / norm"
   ]
  },
  {
   "cell_type": "code",
   "execution_count": null,
   "metadata": {},
   "outputs": [],
   "source": [
    "data.iloc[:, 1:]"
   ]
  },
  {
   "cell_type": "code",
   "execution_count": null,
   "metadata": {},
   "outputs": [],
   "source": [
    "norm"
   ]
  },
  {
   "cell_type": "markdown",
   "metadata": {},
   "source": [
    "## 하이퍼파라미터"
   ]
  },
  {
   "cell_type": "code",
   "execution_count": null,
   "metadata": {
    "tags": []
   },
   "outputs": [],
   "source": [
    "device = torch.device(\"cuda:0\") # GPU 사용\n",
    "target_n = 21 # 맞춰야하는 품목/품종의 수\n",
    "learning_rate = 5e-4 # 학습률\n",
    "BATCH_SIZE = 128 # 배치사이즈\n",
    "EPOCHS = 50 # 총 eopochs\n",
    "teacher_forcing = False # 교사강요 설정\n",
    "n_layers = 3 # rnn레이어 층\n",
    "dropout = 0.2 # 드롭아웃\n",
    "window_size = 28 # 인코더 시퀀스 길이\n",
    "future_size = 28 # 디코더 시퀀스 길이\n",
    "hidden_dim = 128 # rnn 히든차원\n",
    "save_path = f'./models/best_model.pt' # 모델 저장 경로"
   ]
  },
  {
   "cell_type": "markdown",
   "metadata": {},
   "source": [
    "## 전처리\n",
    "시계열 학습이 가능한 형태로 전처리\n",
    "\n",
    "과거 28일의 변화를 보고 미래 28일을 예측"
   ]
  },
  {
   "cell_type": "code",
   "execution_count": null,
   "metadata": {},
   "outputs": [],
   "source": [
    "x_data = []\n",
    "y_data = []\n",
    "for i in range(data.shape[0]-window_size-future_size):\n",
    "    x = data.iloc[i:i+window_size, 1:].to_numpy()\n",
    "    y = data.iloc[i+window_size:i+window_size+future_size, 3::2].to_numpy()\n",
    "    y_0 = np.zeros([1, y.shape[1]]) # 디코더 첫 입력값 추가\n",
    "    x_data.append(x)\n",
    "    y_data.append(np.concatenate([y_0, y], axis=0))\n",
    "x_data = np.array(x_data)\n",
    "y_data = np.array(y_data)"
   ]
  },
  {
   "cell_type": "code",
   "execution_count": null,
   "metadata": {},
   "outputs": [],
   "source": [
    "x_data.shape, y_data.shape"
   ]
  },
  {
   "cell_type": "code",
   "execution_count": null,
   "metadata": {},
   "outputs": [],
   "source": [
    "train_test_split = 1\n",
    "x_train = x_data[:-train_test_split-future_size]\n",
    "y_train = y_data[:-train_test_split-future_size]\n",
    "x_val = x_data[-train_test_split:]\n",
    "y_val = y_data[-train_test_split:]"
   ]
  },
  {
   "cell_type": "code",
   "execution_count": null,
   "metadata": {},
   "outputs": [],
   "source": [
    "x_train.shape, y_train.shape, x_val.shape, y_val.shape"
   ]
  },
  {
   "cell_type": "markdown",
   "metadata": {},
   "source": [
    "## 데이터셋 정의"
   ]
  },
  {
   "cell_type": "code",
   "execution_count": null,
   "metadata": {},
   "outputs": [],
   "source": [
    "class CustomDataset(Dataset):\n",
    "    def __init__(self, encoder_input, decoder_input):\n",
    "        self.encoder_input = encoder_input\n",
    "        self.decoder_input = decoder_input\n",
    "        \n",
    "    def __len__(self):\n",
    "        return len(self.encoder_input)\n",
    "    \n",
    "    def __getitem__(self, i):\n",
    "        return {\n",
    "            'encoder_input' : torch.tensor(self.encoder_input[i], dtype=torch.float32),\n",
    "            'decoder_input' : torch.tensor(self.decoder_input[i], dtype=torch.float32)\n",
    "        }"
   ]
  },
  {
   "cell_type": "code",
   "execution_count": null,
   "metadata": {},
   "outputs": [],
   "source": [
    "train_dataset = CustomDataset(x_train, y_train)\n",
    "val_dataset = CustomDataset(x_val, y_val)\n",
    "\n",
    "train_dataloader = torch.utils.data.DataLoader(train_dataset, batch_size=BATCH_SIZE, num_workers=16, shuffle=True)\n",
    "val_dataloader = torch.utils.data.DataLoader(val_dataset, batch_size=BATCH_SIZE, num_workers=16, shuffle=False)"
   ]
  },
  {
   "cell_type": "code",
   "execution_count": null,
   "metadata": {},
   "outputs": [],
   "source": [
    "sample_batch = next(iter(train_dataloader))"
   ]
  },
  {
   "cell_type": "code",
   "execution_count": null,
   "metadata": {},
   "outputs": [],
   "source": [
    "sample_batch['encoder_input'].shape, sample_batch['decoder_input'].shape"
   ]
  },
  {
   "cell_type": "markdown",
   "metadata": {},
   "source": [
    "## 모델\n",
    "\n",
    "어텐션이 적용된 seq2seq모델\n",
    "\n",
    "인코더와 디코더는 GRU 사용"
   ]
  },
  {
   "cell_type": "code",
   "execution_count": null,
   "metadata": {
    "tags": []
   },
   "outputs": [],
   "source": [
    "class Encoder(nn.Module):\n",
    "    def __init__(self, input_dim, hidden_dim, n_layers, dropout):\n",
    "        super().__init__()\n",
    "        self.n_layers = n_layers\n",
    "        \n",
    "        self.rnn = nn.GRU(input_dim, hidden_dim, n_layers, dropout=dropout)\n",
    "        self.dropout = nn.Dropout(dropout)\n",
    "\n",
    "    def forward(self, inp_seq):\n",
    "        inp_seq = inp_seq.permute(1,0,2)\n",
    "        outputs, hidden = self.rnn(inp_seq)\n",
    "        \n",
    "        return outputs, hidden"
   ]
  },
  {
   "cell_type": "code",
   "execution_count": null,
   "metadata": {
    "tags": []
   },
   "outputs": [],
   "source": [
    "class BahdanauAttention(nn.Module):\n",
    "    def __init__(self, dec_output_dim, units):\n",
    "        super(BahdanauAttention, self).__init__()\n",
    "        self.W1 = nn.Linear(dec_output_dim, units)\n",
    "        self.W2 = nn.Linear(dec_output_dim, units)\n",
    "        self.V = nn.Linear(dec_output_dim, 1)\n",
    "\n",
    "    def forward(self, hidden, enc_output):\n",
    "        query_with_time_axis = hidden.unsqueeze(1)\n",
    "        \n",
    "        score = self.V(torch.tanh(self.W1(query_with_time_axis) + self.W2(enc_output)))\n",
    "        \n",
    "        attention_weights = torch.softmax(score, axis=1)\n",
    "        \n",
    "        context_vector = attention_weights * enc_output\n",
    "        context_vector = torch.sum(context_vector, dim=1)\n",
    "\n",
    "        return context_vector, attention_weights"
   ]
  },
  {
   "cell_type": "code",
   "execution_count": null,
   "metadata": {},
   "outputs": [],
   "source": [
    "class Decoder(nn.Module):\n",
    "    def __init__(self, dec_feature_size, encoder_hidden_dim, output_dim, decoder_hidden_dim, n_layers, dropout, attention):\n",
    "        super().__init__()\n",
    "        self.output_dim = output_dim\n",
    "        self.decoder_hidden_dim = decoder_hidden_dim\n",
    "        self.n_layers = n_layers\n",
    "        self.attention = attention\n",
    "        \n",
    "        self.layer = nn.Linear(dec_feature_size, encoder_hidden_dim)\n",
    "        self.rnn = nn.GRU(encoder_hidden_dim*2, decoder_hidden_dim, n_layers, dropout=dropout)\n",
    "        self.fc_out = nn.Linear(hidden_dim, output_dim)\n",
    "        self.dropout = nn.Dropout(dropout)\n",
    "\n",
    "    def forward(self, enc_output, dec_input, hidden):\n",
    "        dec_input = self.layer(dec_input)\n",
    "        context_vector, attention_weights = self.attention(hidden, enc_output)\n",
    "        dec_input = torch.cat([torch.sum(context_vector, dim=0), dec_input], dim=1)\n",
    "        dec_input = dec_input.unsqueeze(0)\n",
    "        \n",
    "        output, hidden = self.rnn(dec_input, hidden)\n",
    "\n",
    "        prediction = self.fc_out(output.sum(0))\n",
    "        \n",
    "        return prediction, hidden"
   ]
  },
  {
   "cell_type": "code",
   "execution_count": null,
   "metadata": {},
   "outputs": [],
   "source": [
    "class Seq2Seq(nn.Module):\n",
    "    def __init__(self, encoder, decoder, attention):\n",
    "        super().__init__()\n",
    "        self.encoder = encoder\n",
    "        self.decoder = decoder\n",
    "        \n",
    "    def forward(self, encoder_input, decoder_input, teacher_forcing=False):\n",
    "        batch_size = decoder_input.size(0)\n",
    "        trg_len = decoder_input.size(1)\n",
    "        \n",
    "        outputs = torch.zeros(batch_size, trg_len-1, self.decoder.output_dim).to(device)\n",
    "        enc_output, hidden = self.encoder(encoder_input)\n",
    "        \n",
    "        dec_input = decoder_input[:, 0]\n",
    "        for t in range(1, trg_len):\n",
    "            output, hidden = self.decoder(enc_output, dec_input, hidden)\n",
    "            outputs[:, t-1] = output\n",
    "            if teacher_forcing == True:\n",
    "                dec_input = decoder_input[:, t]\n",
    "            else:\n",
    "                dec_input = output\n",
    "        \n",
    "        return outputs"
   ]
  },
  {
   "cell_type": "code",
   "execution_count": null,
   "metadata": {},
   "outputs": [],
   "source": [
    "encoder = Encoder(input_dim=x_data.shape[-1], hidden_dim=hidden_dim, n_layers=n_layers, dropout=dropout)\n",
    "attention = BahdanauAttention(dec_output_dim=hidden_dim, units=hidden_dim)\n",
    "decoder = Decoder(\n",
    "    dec_feature_size=target_n, encoder_hidden_dim=hidden_dim, output_dim=target_n,\n",
    "    decoder_hidden_dim=hidden_dim, n_layers=n_layers, dropout=dropout,\n",
    "    attention = attention\n",
    ")\n",
    "\n",
    "model = Seq2Seq(encoder, decoder, attention)\n",
    "model = model.to(device)"
   ]
  },
  {
   "cell_type": "markdown",
   "metadata": {},
   "source": [
    "## 평가 함수\n",
    "\n",
    "평가를 위한 NMAE 정의"
   ]
  },
  {
   "cell_type": "code",
   "execution_count": null,
   "metadata": {},
   "outputs": [],
   "source": [
    "def my_custom_metric(pred, true):\n",
    "    pred = pred[:, [6, 13, 27]]\n",
    "    true = true[:, [6, 13, 27]]\n",
    "    target = torch.where(true!=0)\n",
    "    true = true[target]\n",
    "    pred = pred[target]\n",
    "    score = torch.mean(torch.abs((true-pred))/(true))\n",
    "    \n",
    "    return score"
   ]
  },
  {
   "cell_type": "markdown",
   "metadata": {},
   "source": [
    "## 옵티마이저 및 손실함수"
   ]
  },
  {
   "cell_type": "code",
   "execution_count": null,
   "metadata": {
    "tags": []
   },
   "outputs": [],
   "source": [
    "optimizer = torch.optim.Adam(model.parameters(), lr=learning_rate)\n",
    "criterion = nn.L1Loss() # mae\n",
    "custom_metric = my_custom_metric"
   ]
  },
  {
   "cell_type": "markdown",
   "metadata": {},
   "source": [
    "## 학습 정의"
   ]
  },
  {
   "cell_type": "code",
   "execution_count": null,
   "metadata": {},
   "outputs": [],
   "source": [
    "def train_step(batch_item, epoch, batch, training, teacher_forcing):\n",
    "    encoder_input = batch_item['encoder_input'].to(device)\n",
    "    decoder_input = batch_item['decoder_input'].to(device)\n",
    "    if training is True:\n",
    "        model.train()\n",
    "        optimizer.zero_grad()\n",
    "        with torch.cuda.amp.autocast():\n",
    "            output = model(encoder_input, decoder_input, teacher_forcing)\n",
    "            loss = criterion(output, decoder_input[:,1:])\n",
    "            score = custom_metric(output, decoder_input[:,1:])\n",
    "        loss.backward()\n",
    "        optimizer.step()\n",
    "        \n",
    "        return loss, score\n",
    "    else:\n",
    "        model.eval()\n",
    "        with torch.no_grad():\n",
    "            output = model(encoder_input, decoder_input, False)\n",
    "            loss = criterion(output, decoder_input[:,1:])\n",
    "            score = custom_metric(output, decoder_input[:,1:])\n",
    "        return loss, score"
   ]
  },
  {
   "cell_type": "markdown",
   "metadata": {},
   "source": [
    "## 학습"
   ]
  },
  {
   "cell_type": "code",
   "execution_count": null,
   "metadata": {
    "tags": []
   },
   "outputs": [],
   "source": [
    "loss_plot, val_loss_plot = [], []\n",
    "score_plot, val_score_plot = [], []\n",
    "\n",
    "for epoch in range(EPOCHS):\n",
    "    total_loss, total_val_loss = 0, 0\n",
    "    total_score, total_val_score = 0, 0\n",
    "    \n",
    "    tqdm_dataset = tqdm(enumerate(train_dataloader))\n",
    "    training = True\n",
    "    for batch, batch_item in tqdm_dataset:\n",
    "        batch_loss, batch_score = train_step(batch_item, epoch, batch, training, teacher_forcing)\n",
    "        total_loss += batch_loss\n",
    "        total_score += batch_score\n",
    "        \n",
    "        tqdm_dataset.set_postfix({\n",
    "            'Epoch': epoch + 1,\n",
    "            'Loss': '{:06f}'.format(batch_loss.item()),\n",
    "            'Total Loss' : '{:06f}'.format(total_loss/(batch+1)),\n",
    "            'Score': '{:06f}'.format(batch_score.item()),\n",
    "            'Total Score' : '{:06f}'.format(total_score/(batch+1)),\n",
    "        })\n",
    "    loss_plot.append(total_loss/(batch+1))\n",
    "    score_plot.append(total_score/(batch+1))\n",
    "    \n",
    "    tqdm_dataset = tqdm(enumerate(val_dataloader))\n",
    "    training = False\n",
    "    for batch, batch_item in tqdm_dataset:\n",
    "        batch_loss, batch_val_score = train_step(batch_item, epoch, batch, training, teacher_forcing)\n",
    "        total_val_loss += batch_loss\n",
    "        total_val_score += batch_val_score\n",
    "        \n",
    "        tqdm_dataset.set_postfix({\n",
    "            'Epoch': epoch + 1,\n",
    "            'Val Loss': '{:06f}'.format(batch_loss.item()),\n",
    "            'Total Val Loss' : '{:06f}'.format(total_val_loss/(batch+1)),\n",
    "            'Val Score': '{:06f}'.format(batch_val_score.item()),\n",
    "            'Total Val Score' : '{:06f}'.format(total_val_score/(batch+1)),\n",
    "        })\n",
    "    val_loss_plot.append(total_val_loss/(batch+1))\n",
    "    val_score_plot.append(total_val_score/(batch+1))\n",
    "    \n",
    "    if np.min(val_loss_plot) == val_loss_plot[-1]:\n",
    "        torch.save(model, save_path)"
   ]
  },
  {
   "cell_type": "markdown",
   "metadata": {},
   "source": [
    "## 학습 결과"
   ]
  },
  {
   "cell_type": "code",
   "execution_count": null,
   "metadata": {
    "tags": []
   },
   "outputs": [],
   "source": [
    "plt.plot(loss_plot, label='train_loss')\n",
    "plt.plot(val_loss_plot, label='val_loss')\n",
    "plt.xlabel('epoch')\n",
    "plt.ylabel('loss(mae)')\n",
    "plt.title('loss_plot')\n",
    "plt.legend()\n",
    "plt.show()\n",
    "\n",
    "plt.plot(score_plot, label='train_score')\n",
    "plt.plot(val_score_plot, label='val_score')\n",
    "plt.xlabel('epoch')\n",
    "plt.ylabel('score(nmae)')\n",
    "plt.title('score_plot')\n",
    "plt.legend()\n",
    "plt.show()"
   ]
  },
  {
   "cell_type": "markdown",
   "metadata": {},
   "source": [
    "## 베스트모델 복원"
   ]
  },
  {
   "cell_type": "code",
   "execution_count": null,
   "metadata": {},
   "outputs": [],
   "source": [
    "model = torch.load(save_path)\n",
    "model = model.to(device)"
   ]
  },
  {
   "cell_type": "markdown",
   "metadata": {},
   "source": [
    "## 추론 및 제출"
   ]
  },
  {
   "cell_type": "code",
   "execution_count": null,
   "metadata": {},
   "outputs": [],
   "source": [
    "def predict(encoder_input):\n",
    "    model.train()\n",
    "    encoder_input = encoder_input.to(device)\n",
    "    decoder_input = torch.zeros([1, future_size+1, target_n], dtype=torch.float32).to(device)\n",
    "    with torch.no_grad():\n",
    "        output = model(encoder_input, decoder_input, False)\n",
    "    return output.cpu()"
   ]
  },
  {
   "cell_type": "code",
   "execution_count": null,
   "metadata": {},
   "outputs": [],
   "source": [
    "submission = pd.read_csv('./data/sample_submission.csv')"
   ]
  },
  {
   "cell_type": "code",
   "execution_count": null,
   "metadata": {},
   "outputs": [],
   "source": [
    "public_date_list = submission[submission['예측대상일자'].str.contains('2020')]['예측대상일자'].str.split('+').str[0].unique()"
   ]
  },
  {
   "cell_type": "markdown",
   "metadata": {},
   "source": [
    "### 추론\n",
    "\n",
    "일자별 추론을 진행합니다.\n",
    "\n",
    "data leakage가 발생하지 않도록 주의합니다."
   ]
  },
  {
   "cell_type": "code",
   "execution_count": null,
   "metadata": {},
   "outputs": [],
   "source": [
    "outputs = []\n",
    "troch_norm = torch.tensor(norm.to_numpy()[2::2])\n",
    "for date in public_date_list:\n",
    "    test_df = pd.read_csv(f'./data/public_data/test_files/test_{date}.csv')\n",
    "    data = pd.read_csv('./data/public_data/train.csv')\n",
    "    data = pd.concat([data, test_df]).iloc[-window_size:]\n",
    "    \n",
    "    week_day_map = {}\n",
    "    for i, d in enumerate(data['요일'].unique()):\n",
    "        week_day_map[d] = i\n",
    "    data['요일'] = data['요일'].map(week_day_map)\n",
    "    data = data.iloc[:,1:]/norm\n",
    "    \n",
    "    encoder_input = torch.tensor(data.to_numpy(), dtype=torch.float32)\n",
    "    encoder_input = encoder_input.unsqueeze(0)\n",
    "    output = predict(encoder_input)*troch_norm\n",
    "    \n",
    "    idx = submission[submission['예측대상일자'].str.contains(date)].index\n",
    "    submission.loc[idx, '배추_가격(원/kg)':] = output[0,[6,13,27]].numpy()"
   ]
  },
  {
   "cell_type": "code",
   "execution_count": null,
   "metadata": {},
   "outputs": [],
   "source": [
    "submission.to_csv('dacon_baseline.csv', index=False)"
   ]
  },
  {
   "cell_type": "markdown",
   "metadata": {},
   "source": [
    "제출 API 사용법 => https://dacon.io/forum/403557"
   ]
  },
  {
   "cell_type": "code",
   "execution_count": null,
   "metadata": {},
   "outputs": [],
   "source": [
    "from dacon_submit_api import dacon_submit_api \n",
    "\n",
    "result = dacon_submit_api.post_submission_file(\n",
    "    'dacon_baseline.csv', \n",
    "    '개인 Token', \n",
    "    '235801', \n",
    "    'DACONIO', \n",
    "    'DACON_Baseline'\n",
    ")"
   ]
  },
  {
   "cell_type": "markdown",
   "metadata": {},
   "source": [
    "## Public LB Score : 0.3225"
   ]
  }
 ],
 "metadata": {
  "kernelspec": {
   "display_name": "Python 3",
   "language": "python",
   "name": "python3"
  },
  "language_info": {
   "codemirror_mode": {
    "name": "ipython",
    "version": 3
   },
   "file_extension": ".py",
   "mimetype": "text/x-python",
   "name": "python",
   "nbconvert_exporter": "python",
   "pygments_lexer": "ipython3",
   "version": "3.7.1"
  }
 },
 "nbformat": 4,
 "nbformat_minor": 4
}
