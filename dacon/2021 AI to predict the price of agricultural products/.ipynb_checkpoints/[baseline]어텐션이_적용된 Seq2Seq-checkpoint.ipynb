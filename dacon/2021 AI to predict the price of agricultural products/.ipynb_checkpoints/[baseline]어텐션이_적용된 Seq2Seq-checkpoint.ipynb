{
 "cells": [
  {
   "cell_type": "markdown",
   "metadata": {},
   "source": [
    "baseline.csv<br>\n",
    ".. ├ models<br>\n",
    ".. └ data<br>\n",
    ".... ├ public_data<br>\n",
    ".... │ .. ├ train_AT_TSALET_ALL<br>\n",
    ".... │ .. ├ test_AT_TSALET_ALL<br>\n",
    ".... │ .. ├ test_files<br>\n",
    ".... │ .. └ train.csv<br>\n",
    ".... ├ prviate_data<br>\n",
    ".... │ .. ├ AT_TSALET_ALL<br>\n",
    ".... │ .. ├ private_data<br>\n",
    ".... └ sample_submission.csv<br>"
   ]
  },
  {
   "cell_type": "markdown",
   "metadata": {},
   "source": [
    "## 사용 패키지"
   ]
  },
  {
   "cell_type": "code",
   "execution_count": 1,
   "metadata": {},
   "outputs": [],
   "source": [
    "import pandas as pd\n",
    "import numpy as np\n",
    "import matplotlib.pyplot as plt\n",
    "from tqdm import tqdm\n",
    "import random\n",
    "import os\n",
    "\n",
    "import torch\n",
    "from torch import nn\n",
    "from torch.utils.data import Dataset, DataLoader"
   ]
  },
  {
   "cell_type": "markdown",
   "metadata": {},
   "source": [
    "## 재현을 위한 랜덤시드 고정"
   ]
  },
  {
   "cell_type": "code",
   "execution_count": 2,
   "metadata": {},
   "outputs": [],
   "source": [
    "def seed_everything(seed: int = 42):\n",
    "    random.seed(seed)\n",
    "    np.random.seed(seed)\n",
    "    os.environ[\"PYTHONHASHSEED\"] = str(seed)\n",
    "    torch.manual_seed(seed)\n",
    "    torch.cuda.manual_seed(seed)  # type: ignore\n",
    "    torch.backends.cudnn.deterministic = True  # type: ignore\n",
    "    torch.backends.cudnn.benchmark = True  # type: ignore"
   ]
  },
  {
   "cell_type": "code",
   "execution_count": 3,
   "metadata": {},
   "outputs": [],
   "source": [
    "seed_everything(42)"
   ]
  },
  {
   "cell_type": "markdown",
   "metadata": {},
   "source": [
    "## 데이터 로드"
   ]
  },
  {
   "cell_type": "code",
   "execution_count": 4,
   "metadata": {},
   "outputs": [],
   "source": [
    "data = pd.read_csv('./data/public_data/train.csv')"
   ]
  },
  {
   "cell_type": "code",
   "execution_count": 5,
   "metadata": {},
   "outputs": [
    {
     "data": {
      "text/html": [
       "<div>\n",
       "<style scoped>\n",
       "    .dataframe tbody tr th:only-of-type {\n",
       "        vertical-align: middle;\n",
       "    }\n",
       "\n",
       "    .dataframe tbody tr th {\n",
       "        vertical-align: top;\n",
       "    }\n",
       "\n",
       "    .dataframe thead th {\n",
       "        text-align: right;\n",
       "    }\n",
       "</style>\n",
       "<table border=\"1\" class=\"dataframe\">\n",
       "  <thead>\n",
       "    <tr style=\"text-align: right;\">\n",
       "      <th></th>\n",
       "      <th>date</th>\n",
       "      <th>요일</th>\n",
       "      <th>배추_거래량(kg)</th>\n",
       "      <th>배추_가격(원/kg)</th>\n",
       "      <th>무_거래량(kg)</th>\n",
       "      <th>무_가격(원/kg)</th>\n",
       "      <th>양파_거래량(kg)</th>\n",
       "      <th>양파_가격(원/kg)</th>\n",
       "      <th>건고추_거래량(kg)</th>\n",
       "      <th>건고추_가격(원/kg)</th>\n",
       "      <th>...</th>\n",
       "      <th>청상추_거래량(kg)</th>\n",
       "      <th>청상추_가격(원/kg)</th>\n",
       "      <th>백다다기_거래량(kg)</th>\n",
       "      <th>백다다기_가격(원/kg)</th>\n",
       "      <th>애호박_거래량(kg)</th>\n",
       "      <th>애호박_가격(원/kg)</th>\n",
       "      <th>캠벨얼리_거래량(kg)</th>\n",
       "      <th>캠벨얼리_가격(원/kg)</th>\n",
       "      <th>샤인마스캇_거래량(kg)</th>\n",
       "      <th>샤인마스캇_가격(원/kg)</th>\n",
       "    </tr>\n",
       "  </thead>\n",
       "  <tbody>\n",
       "    <tr>\n",
       "      <th>0</th>\n",
       "      <td>2016-01-01</td>\n",
       "      <td>금요일</td>\n",
       "      <td>0.0</td>\n",
       "      <td>0.0</td>\n",
       "      <td>0.0</td>\n",
       "      <td>0.0</td>\n",
       "      <td>0.0</td>\n",
       "      <td>0.0</td>\n",
       "      <td>0.0</td>\n",
       "      <td>0.0</td>\n",
       "      <td>...</td>\n",
       "      <td>0.0</td>\n",
       "      <td>0.0</td>\n",
       "      <td>0.0</td>\n",
       "      <td>0.0</td>\n",
       "      <td>0.0</td>\n",
       "      <td>0.0</td>\n",
       "      <td>0.0</td>\n",
       "      <td>0.0</td>\n",
       "      <td>0.0</td>\n",
       "      <td>0.0</td>\n",
       "    </tr>\n",
       "    <tr>\n",
       "      <th>1</th>\n",
       "      <td>2016-01-02</td>\n",
       "      <td>토요일</td>\n",
       "      <td>80860.0</td>\n",
       "      <td>329.0</td>\n",
       "      <td>80272.0</td>\n",
       "      <td>360.0</td>\n",
       "      <td>122787.5</td>\n",
       "      <td>1281.0</td>\n",
       "      <td>3.0</td>\n",
       "      <td>11000.0</td>\n",
       "      <td>...</td>\n",
       "      <td>5125.0</td>\n",
       "      <td>9235.0</td>\n",
       "      <td>434.0</td>\n",
       "      <td>2109.0</td>\n",
       "      <td>19159.0</td>\n",
       "      <td>2414.0</td>\n",
       "      <td>880.0</td>\n",
       "      <td>2014.0</td>\n",
       "      <td>0.0</td>\n",
       "      <td>0.0</td>\n",
       "    </tr>\n",
       "    <tr>\n",
       "      <th>2</th>\n",
       "      <td>2016-01-03</td>\n",
       "      <td>일요일</td>\n",
       "      <td>0.0</td>\n",
       "      <td>0.0</td>\n",
       "      <td>0.0</td>\n",
       "      <td>0.0</td>\n",
       "      <td>0.0</td>\n",
       "      <td>0.0</td>\n",
       "      <td>0.0</td>\n",
       "      <td>0.0</td>\n",
       "      <td>...</td>\n",
       "      <td>0.0</td>\n",
       "      <td>0.0</td>\n",
       "      <td>0.0</td>\n",
       "      <td>0.0</td>\n",
       "      <td>0.0</td>\n",
       "      <td>0.0</td>\n",
       "      <td>0.0</td>\n",
       "      <td>0.0</td>\n",
       "      <td>0.0</td>\n",
       "      <td>0.0</td>\n",
       "    </tr>\n",
       "    <tr>\n",
       "      <th>3</th>\n",
       "      <td>2016-01-04</td>\n",
       "      <td>월요일</td>\n",
       "      <td>1422742.5</td>\n",
       "      <td>478.0</td>\n",
       "      <td>1699653.7</td>\n",
       "      <td>382.0</td>\n",
       "      <td>2315079.0</td>\n",
       "      <td>1235.0</td>\n",
       "      <td>699.0</td>\n",
       "      <td>4464.0</td>\n",
       "      <td>...</td>\n",
       "      <td>38525.5</td>\n",
       "      <td>7631.0</td>\n",
       "      <td>500702.0</td>\n",
       "      <td>2046.0</td>\n",
       "      <td>620539.0</td>\n",
       "      <td>2018.0</td>\n",
       "      <td>2703.8</td>\n",
       "      <td>3885.0</td>\n",
       "      <td>0.0</td>\n",
       "      <td>0.0</td>\n",
       "    </tr>\n",
       "    <tr>\n",
       "      <th>4</th>\n",
       "      <td>2016-01-05</td>\n",
       "      <td>화요일</td>\n",
       "      <td>1167241.0</td>\n",
       "      <td>442.0</td>\n",
       "      <td>1423482.3</td>\n",
       "      <td>422.0</td>\n",
       "      <td>2092960.1</td>\n",
       "      <td>1213.0</td>\n",
       "      <td>1112.6</td>\n",
       "      <td>4342.0</td>\n",
       "      <td>...</td>\n",
       "      <td>32615.0</td>\n",
       "      <td>6926.0</td>\n",
       "      <td>147638.0</td>\n",
       "      <td>2268.0</td>\n",
       "      <td>231958.0</td>\n",
       "      <td>2178.0</td>\n",
       "      <td>8810.0</td>\n",
       "      <td>2853.0</td>\n",
       "      <td>0.0</td>\n",
       "      <td>0.0</td>\n",
       "    </tr>\n",
       "  </tbody>\n",
       "</table>\n",
       "<p>5 rows × 44 columns</p>\n",
       "</div>"
      ],
      "text/plain": [
       "         date   요일  배추_거래량(kg)  배추_가격(원/kg)  무_거래량(kg)  무_가격(원/kg)  \\\n",
       "0  2016-01-01  금요일         0.0          0.0        0.0         0.0   \n",
       "1  2016-01-02  토요일     80860.0        329.0    80272.0       360.0   \n",
       "2  2016-01-03  일요일         0.0          0.0        0.0         0.0   \n",
       "3  2016-01-04  월요일   1422742.5        478.0  1699653.7       382.0   \n",
       "4  2016-01-05  화요일   1167241.0        442.0  1423482.3       422.0   \n",
       "\n",
       "   양파_거래량(kg)  양파_가격(원/kg)  건고추_거래량(kg)  건고추_가격(원/kg)  ...  청상추_거래량(kg)  \\\n",
       "0         0.0          0.0          0.0           0.0  ...          0.0   \n",
       "1    122787.5       1281.0          3.0       11000.0  ...       5125.0   \n",
       "2         0.0          0.0          0.0           0.0  ...          0.0   \n",
       "3   2315079.0       1235.0        699.0        4464.0  ...      38525.5   \n",
       "4   2092960.1       1213.0       1112.6        4342.0  ...      32615.0   \n",
       "\n",
       "   청상추_가격(원/kg)  백다다기_거래량(kg)  백다다기_가격(원/kg)  애호박_거래량(kg)  애호박_가격(원/kg)  \\\n",
       "0           0.0           0.0            0.0          0.0           0.0   \n",
       "1        9235.0         434.0         2109.0      19159.0        2414.0   \n",
       "2           0.0           0.0            0.0          0.0           0.0   \n",
       "3        7631.0      500702.0         2046.0     620539.0        2018.0   \n",
       "4        6926.0      147638.0         2268.0     231958.0        2178.0   \n",
       "\n",
       "   캠벨얼리_거래량(kg)  캠벨얼리_가격(원/kg)  샤인마스캇_거래량(kg)  샤인마스캇_가격(원/kg)  \n",
       "0           0.0            0.0            0.0             0.0  \n",
       "1         880.0         2014.0            0.0             0.0  \n",
       "2           0.0            0.0            0.0             0.0  \n",
       "3        2703.8         3885.0            0.0             0.0  \n",
       "4        8810.0         2853.0            0.0             0.0  \n",
       "\n",
       "[5 rows x 44 columns]"
      ]
     },
     "execution_count": 5,
     "metadata": {},
     "output_type": "execute_result"
    }
   ],
   "source": [
    "data.head()"
   ]
  },
  {
   "cell_type": "markdown",
   "metadata": {},
   "source": [
    "## 데이터 정규화\n",
    "\n",
    "요일을 0 ~ 6으로 변환 후 각 컬럼 최대값으로 나눠 0 ~ 1값으로 정규화 진행"
   ]
  },
  {
   "cell_type": "code",
   "execution_count": 6,
   "metadata": {},
   "outputs": [],
   "source": [
    "week_day_map = {}\n",
    "for i, d in enumerate(data['요일'].unique()):\n",
    "    week_day_map[d] = i\n",
    "data['요일'] = data['요일'].map(week_day_map)"
   ]
  },
  {
   "cell_type": "code",
   "execution_count": 7,
   "metadata": {},
   "outputs": [],
   "source": [
    "norm = data.iloc[:, 1:].max(0)\n",
    "data.iloc[:, 1:] = data.iloc[:, 1:] / norm"
   ]
  },
  {
   "cell_type": "markdown",
   "metadata": {},
   "source": [
    "## 하이퍼파라미터"
   ]
  },
  {
   "cell_type": "code",
   "execution_count": 8,
   "metadata": {
    "tags": []
   },
   "outputs": [],
   "source": [
    "device = torch.device(\"cuda:0\") # GPU 사용\n",
    "target_n = 21 # 맞춰야하는 품목/품종의 수\n",
    "learning_rate = 5e-4 # 학습률\n",
    "BATCH_SIZE = 128 # 배치사이즈\n",
    "EPOCHS = 50 # 총 eopochs\n",
    "teacher_forcing = False # 교사강요 설정\n",
    "n_layers = 3 # rnn레이어 층\n",
    "dropout = 0.2 # 드롭아웃\n",
    "window_size = 28 # 인코더 시퀀스 길이\n",
    "future_size = 28 # 디코더 시퀀스 길이\n",
    "hidden_dim = 128 # rnn 히든차원\n",
    "save_path = f'./models/best_model.pt' # 모델 저장 경로"
   ]
  },
  {
   "cell_type": "markdown",
   "metadata": {},
   "source": [
    "## 전처리\n",
    "시계열 학습이 가능한 형태로 전처리\n",
    "\n",
    "과거 28일의 변화를 보고 미래 28일을 예측"
   ]
  },
  {
   "cell_type": "code",
   "execution_count": 9,
   "metadata": {},
   "outputs": [],
   "source": [
    "x_data = []\n",
    "y_data = []\n",
    "for i in range(data.shape[0]-window_size-future_size):\n",
    "    x = data.iloc[i:i+window_size, 1:].to_numpy()\n",
    "    y = data.iloc[i+window_size:i+window_size+future_size, 3::2].to_numpy()\n",
    "    y_0 = np.zeros([1, y.shape[1]]) # 디코더 첫 입력값 추가\n",
    "    x_data.append(x)\n",
    "    y_data.append(np.concatenate([y_0, y], axis=0))\n",
    "x_data = np.array(x_data)\n",
    "y_data = np.array(y_data)"
   ]
  },
  {
   "cell_type": "code",
   "execution_count": 10,
   "metadata": {},
   "outputs": [
    {
     "data": {
      "text/plain": [
       "((1677, 28, 43), (1677, 29, 21))"
      ]
     },
     "execution_count": 10,
     "metadata": {},
     "output_type": "execute_result"
    }
   ],
   "source": [
    "x_data.shape, y_data.shape"
   ]
  },
  {
   "cell_type": "code",
   "execution_count": 11,
   "metadata": {},
   "outputs": [],
   "source": [
    "train_test_split = 1\n",
    "x_train = x_data[:-train_test_split-future_size]\n",
    "y_train = y_data[:-train_test_split-future_size]\n",
    "x_val = x_data[-train_test_split:]\n",
    "y_val = y_data[-train_test_split:]"
   ]
  },
  {
   "cell_type": "code",
   "execution_count": 12,
   "metadata": {},
   "outputs": [
    {
     "data": {
      "text/plain": [
       "((1648, 28, 43), (1648, 29, 21), (1, 28, 43), (1, 29, 21))"
      ]
     },
     "execution_count": 12,
     "metadata": {},
     "output_type": "execute_result"
    }
   ],
   "source": [
    "x_train.shape, y_train.shape, x_val.shape, y_val.shape"
   ]
  },
  {
   "cell_type": "markdown",
   "metadata": {},
   "source": [
    "## 데이터셋 정의"
   ]
  },
  {
   "cell_type": "code",
   "execution_count": 13,
   "metadata": {},
   "outputs": [],
   "source": [
    "class CustomDataset(Dataset):\n",
    "    def __init__(self, encoder_input, decoder_input):\n",
    "        self.encoder_input = encoder_input\n",
    "        self.decoder_input = decoder_input\n",
    "        \n",
    "    def __len__(self):\n",
    "        return len(self.encoder_input)\n",
    "    \n",
    "    def __getitem__(self, i):\n",
    "        return {\n",
    "            'encoder_input' : torch.tensor(self.encoder_input[i], dtype=torch.float32),\n",
    "            'decoder_input' : torch.tensor(self.decoder_input[i], dtype=torch.float32)\n",
    "        }"
   ]
  },
  {
   "cell_type": "code",
   "execution_count": 14,
   "metadata": {},
   "outputs": [],
   "source": [
    "train_dataset = CustomDataset(x_train, y_train)\n",
    "val_dataset = CustomDataset(x_val, y_val)\n",
    "\n",
    "train_dataloader = torch.utils.data.DataLoader(train_dataset, batch_size=BATCH_SIZE, num_workers=16, shuffle=True)\n",
    "val_dataloader = torch.utils.data.DataLoader(val_dataset, batch_size=BATCH_SIZE, num_workers=16, shuffle=False)"
   ]
  },
  {
   "cell_type": "code",
   "execution_count": 15,
   "metadata": {},
   "outputs": [],
   "source": [
    "sample_batch = next(iter(train_dataloader))"
   ]
  },
  {
   "cell_type": "code",
   "execution_count": 16,
   "metadata": {},
   "outputs": [
    {
     "data": {
      "text/plain": [
       "(torch.Size([128, 28, 43]), torch.Size([128, 29, 21]))"
      ]
     },
     "execution_count": 16,
     "metadata": {},
     "output_type": "execute_result"
    }
   ],
   "source": [
    "sample_batch['encoder_input'].shape, sample_batch['decoder_input'].shape"
   ]
  },
  {
   "cell_type": "markdown",
   "metadata": {},
   "source": [
    "## 모델\n",
    "\n",
    "어텐션이 적용된 seq2seq모델\n",
    "\n",
    "인코더와 디코더는 GRU 사용"
   ]
  },
  {
   "cell_type": "code",
   "execution_count": 17,
   "metadata": {
    "tags": []
   },
   "outputs": [],
   "source": [
    "class Encoder(nn.Module):\n",
    "    def __init__(self, input_dim, hidden_dim, n_layers, dropout):\n",
    "        super().__init__()\n",
    "        self.n_layers = n_layers\n",
    "        \n",
    "        self.rnn = nn.GRU(input_dim, hidden_dim, n_layers, dropout=dropout)\n",
    "        self.dropout = nn.Dropout(dropout)\n",
    "\n",
    "    def forward(self, inp_seq):\n",
    "        inp_seq = inp_seq.permute(1,0,2)\n",
    "        outputs, hidden = self.rnn(inp_seq)\n",
    "        \n",
    "        return outputs, hidden"
   ]
  },
  {
   "cell_type": "code",
   "execution_count": 18,
   "metadata": {
    "tags": []
   },
   "outputs": [],
   "source": [
    "class BahdanauAttention(nn.Module):\n",
    "    def __init__(self, dec_output_dim, units):\n",
    "        super(BahdanauAttention, self).__init__()\n",
    "        self.W1 = nn.Linear(dec_output_dim, units)\n",
    "        self.W2 = nn.Linear(dec_output_dim, units)\n",
    "        self.V = nn.Linear(dec_output_dim, 1)\n",
    "\n",
    "    def forward(self, hidden, enc_output):\n",
    "        query_with_time_axis = hidden.unsqueeze(1)\n",
    "        \n",
    "        score = self.V(torch.tanh(self.W1(query_with_time_axis) + self.W2(enc_output)))\n",
    "        \n",
    "        attention_weights = torch.softmax(score, axis=1)\n",
    "        \n",
    "        context_vector = attention_weights * enc_output\n",
    "        context_vector = torch.sum(context_vector, dim=1)\n",
    "\n",
    "        return context_vector, attention_weights"
   ]
  },
  {
   "cell_type": "code",
   "execution_count": 19,
   "metadata": {},
   "outputs": [],
   "source": [
    "class Decoder(nn.Module):\n",
    "    def __init__(self, dec_feature_size, encoder_hidden_dim, output_dim, decoder_hidden_dim, n_layers, dropout, attention):\n",
    "        super().__init__()\n",
    "        self.output_dim = output_dim\n",
    "        self.decoder_hidden_dim = decoder_hidden_dim\n",
    "        self.n_layers = n_layers\n",
    "        self.attention = attention\n",
    "        \n",
    "        self.layer = nn.Linear(dec_feature_size, encoder_hidden_dim)\n",
    "        self.rnn = nn.GRU(encoder_hidden_dim*2, decoder_hidden_dim, n_layers, dropout=dropout)\n",
    "        self.fc_out = nn.Linear(hidden_dim, output_dim)\n",
    "        self.dropout = nn.Dropout(dropout)\n",
    "\n",
    "    def forward(self, enc_output, dec_input, hidden):\n",
    "        dec_input = self.layer(dec_input)\n",
    "        context_vector, attention_weights = self.attention(hidden, enc_output)\n",
    "        dec_input = torch.cat([torch.sum(context_vector, dim=0), dec_input], dim=1)\n",
    "        dec_input = dec_input.unsqueeze(0)\n",
    "        \n",
    "        output, hidden = self.rnn(dec_input, hidden)\n",
    "\n",
    "        prediction = self.fc_out(output.sum(0))\n",
    "        \n",
    "        return prediction, hidden"
   ]
  },
  {
   "cell_type": "code",
   "execution_count": 20,
   "metadata": {},
   "outputs": [],
   "source": [
    "class Seq2Seq(nn.Module):\n",
    "    def __init__(self, encoder, decoder, attention):\n",
    "        super().__init__()\n",
    "        self.encoder = encoder\n",
    "        self.decoder = decoder\n",
    "        \n",
    "    def forward(self, encoder_input, decoder_input, teacher_forcing=False):\n",
    "        batch_size = decoder_input.size(0)\n",
    "        trg_len = decoder_input.size(1)\n",
    "        \n",
    "        outputs = torch.zeros(batch_size, trg_len-1, self.decoder.output_dim).to(device)\n",
    "        enc_output, hidden = self.encoder(encoder_input)\n",
    "        \n",
    "        dec_input = decoder_input[:, 0]\n",
    "        for t in range(1, trg_len):\n",
    "            output, hidden = self.decoder(enc_output, dec_input, hidden)\n",
    "            outputs[:, t-1] = output\n",
    "            if teacher_forcing == True:\n",
    "                dec_input = decoder_input[:, t]\n",
    "            else:\n",
    "                dec_input = output\n",
    "        \n",
    "        return outputs"
   ]
  },
  {
   "cell_type": "code",
   "execution_count": 21,
   "metadata": {},
   "outputs": [],
   "source": [
    "encoder = Encoder(input_dim=x_data.shape[-1], hidden_dim=hidden_dim, n_layers=n_layers, dropout=dropout)\n",
    "attention = BahdanauAttention(dec_output_dim=hidden_dim, units=hidden_dim)\n",
    "decoder = Decoder(\n",
    "    dec_feature_size=target_n, encoder_hidden_dim=hidden_dim, output_dim=target_n,\n",
    "    decoder_hidden_dim=hidden_dim, n_layers=n_layers, dropout=dropout,\n",
    "    attention = attention\n",
    ")\n",
    "\n",
    "model = Seq2Seq(encoder, decoder, attention)\n",
    "model = model.to(device)"
   ]
  },
  {
   "cell_type": "markdown",
   "metadata": {},
   "source": [
    "## 평가 함수\n",
    "\n",
    "평가를 위한 NMAE 정의"
   ]
  },
  {
   "cell_type": "code",
   "execution_count": 22,
   "metadata": {},
   "outputs": [],
   "source": [
    "def my_custom_metric(pred, true):\n",
    "    pred = pred[:, [6, 13, 27]]\n",
    "    true = true[:, [6, 13, 27]]\n",
    "    target = torch.where(true!=0)\n",
    "    true = true[target]\n",
    "    pred = pred[target]\n",
    "    score = torch.mean(torch.abs((true-pred))/(true))\n",
    "    \n",
    "    return score"
   ]
  },
  {
   "cell_type": "markdown",
   "metadata": {},
   "source": [
    "## 옵티마이저 및 손실함수"
   ]
  },
  {
   "cell_type": "code",
   "execution_count": 23,
   "metadata": {
    "tags": []
   },
   "outputs": [],
   "source": [
    "optimizer = torch.optim.Adam(model.parameters(), lr=learning_rate)\n",
    "criterion = nn.L1Loss() # mae\n",
    "custom_metric = my_custom_metric"
   ]
  },
  {
   "cell_type": "markdown",
   "metadata": {},
   "source": [
    "## 학습 정의"
   ]
  },
  {
   "cell_type": "code",
   "execution_count": 24,
   "metadata": {},
   "outputs": [],
   "source": [
    "def train_step(batch_item, epoch, batch, training, teacher_forcing):\n",
    "    encoder_input = batch_item['encoder_input'].to(device)\n",
    "    decoder_input = batch_item['decoder_input'].to(device)\n",
    "    if training is True:\n",
    "        model.train()\n",
    "        optimizer.zero_grad()\n",
    "        with torch.cuda.amp.autocast():\n",
    "            output = model(encoder_input, decoder_input, teacher_forcing)\n",
    "            loss = criterion(output, decoder_input[:,1:])\n",
    "            score = custom_metric(output, decoder_input[:,1:])\n",
    "        loss.backward()\n",
    "        optimizer.step()\n",
    "        \n",
    "        return loss, score\n",
    "    else:\n",
    "        model.eval()\n",
    "        with torch.no_grad():\n",
    "            output = model(encoder_input, decoder_input, False)\n",
    "            loss = criterion(output, decoder_input[:,1:])\n",
    "            score = custom_metric(output, decoder_input[:,1:])\n",
    "        return loss, score"
   ]
  },
  {
   "cell_type": "markdown",
   "metadata": {},
   "source": [
    "## 학습"
   ]
  },
  {
   "cell_type": "code",
   "execution_count": 25,
   "metadata": {
    "tags": []
   },
   "outputs": [
    {
     "name": "stderr",
     "output_type": "stream",
     "text": [
      "13it [00:02,  6.24it/s, Epoch=1, Loss=0.138029, Total Loss=0.181546, Score=0.391902, Total Score=0.589907]\n",
      "1it [00:00,  5.24it/s, Epoch=1, Val Loss=0.247098, Total Val Loss=0.247098, Val Score=0.444583, Total Val Score=0.444583]\n",
      "13it [00:02,  6.33it/s, Epoch=2, Loss=0.124507, Total Loss=0.131378, Score=0.325983, Total Score=0.365898]\n",
      "1it [00:00,  5.58it/s, Epoch=2, Val Loss=0.230699, Total Val Loss=0.230699, Val Score=0.453700, Total Val Score=0.453700]\n",
      "13it [00:02,  6.41it/s, Epoch=3, Loss=0.119213, Total Loss=0.121131, Score=0.288252, Total Score=0.322098]\n",
      "1it [00:00,  5.34it/s, Epoch=3, Val Loss=0.180287, Total Val Loss=0.180287, Val Score=0.348958, Total Val Score=0.348958]\n",
      "13it [00:02,  6.06it/s, Epoch=4, Loss=0.111046, Total Loss=0.115764, Score=0.279013, Total Score=0.300833]\n",
      "1it [00:00,  5.16it/s, Epoch=4, Val Loss=0.187897, Total Val Loss=0.187897, Val Score=0.388389, Total Val Score=0.388389]\n",
      "13it [00:02,  6.21it/s, Epoch=5, Loss=0.107567, Total Loss=0.112243, Score=0.324228, Total Score=0.289602]\n",
      "1it [00:00,  5.46it/s, Epoch=5, Val Loss=0.189470, Total Val Loss=0.189470, Val Score=0.408764, Total Val Score=0.408764]\n",
      "13it [00:02,  6.12it/s, Epoch=6, Loss=0.112262, Total Loss=0.109516, Score=0.263024, Total Score=0.274245]\n",
      "1it [00:00,  5.17it/s, Epoch=6, Val Loss=0.175836, Total Val Loss=0.175836, Val Score=0.377769, Total Val Score=0.377769]\n",
      "13it [00:02,  6.27it/s, Epoch=7, Loss=0.105845, Total Loss=0.106916, Score=0.247741, Total Score=0.265448]\n",
      "1it [00:00,  4.81it/s, Epoch=7, Val Loss=0.174783, Total Val Loss=0.174783, Val Score=0.362250, Total Val Score=0.362250]\n",
      "13it [00:02,  6.05it/s, Epoch=8, Loss=0.105235, Total Loss=0.104866, Score=0.240773, Total Score=0.254906]\n",
      "1it [00:00,  4.54it/s, Epoch=8, Val Loss=0.172316, Total Val Loss=0.172316, Val Score=0.351436, Total Val Score=0.351436]\n",
      "13it [00:02,  6.11it/s, Epoch=9, Loss=0.102986, Total Loss=0.102938, Score=0.235873, Total Score=0.246465]\n",
      "1it [00:00,  4.49it/s, Epoch=9, Val Loss=0.167039, Total Val Loss=0.167039, Val Score=0.342338, Total Val Score=0.342338]\n",
      "13it [00:02,  5.49it/s, Epoch=10, Loss=0.103311, Total Loss=0.101467, Score=0.227110, Total Score=0.238321]\n",
      "1it [00:00,  4.82it/s, Epoch=10, Val Loss=0.159264, Total Val Loss=0.159264, Val Score=0.316671, Total Val Score=0.316671]\n",
      "13it [00:02,  6.24it/s, Epoch=11, Loss=0.102237, Total Loss=0.100219, Score=0.223327, Total Score=0.232795]\n",
      "1it [00:00,  4.79it/s, Epoch=11, Val Loss=0.169271, Total Val Loss=0.169271, Val Score=0.347960, Total Val Score=0.347960]\n",
      "13it [00:02,  6.00it/s, Epoch=12, Loss=0.095237, Total Loss=0.099116, Score=0.207991, Total Score=0.234876]\n",
      "1it [00:00,  5.12it/s, Epoch=12, Val Loss=0.165897, Total Val Loss=0.165897, Val Score=0.338656, Total Val Score=0.338656]\n",
      "13it [00:02,  6.39it/s, Epoch=13, Loss=0.099075, Total Loss=0.098210, Score=0.220908, Total Score=0.229659]\n",
      "1it [00:00,  5.39it/s, Epoch=13, Val Loss=0.159414, Total Val Loss=0.159414, Val Score=0.342060, Total Val Score=0.342060]\n",
      "13it [00:02,  6.20it/s, Epoch=14, Loss=0.098195, Total Loss=0.097650, Score=0.204063, Total Score=0.225875]\n",
      "1it [00:00,  5.08it/s, Epoch=14, Val Loss=0.163434, Total Val Loss=0.163434, Val Score=0.340043, Total Val Score=0.340043]\n",
      "13it [00:02,  6.40it/s, Epoch=15, Loss=0.098691, Total Loss=0.096971, Score=0.208491, Total Score=0.222750]\n",
      "1it [00:00,  4.43it/s, Epoch=15, Val Loss=0.155799, Total Val Loss=0.155799, Val Score=0.339084, Total Val Score=0.339084]\n",
      "13it [00:02,  6.00it/s, Epoch=16, Loss=0.093575, Total Loss=0.096096, Score=0.205222, Total Score=0.220072]\n",
      "1it [00:00,  5.07it/s, Epoch=16, Val Loss=0.162204, Total Val Loss=0.162204, Val Score=0.343738, Total Val Score=0.343738]\n",
      "13it [00:02,  6.25it/s, Epoch=17, Loss=0.095851, Total Loss=0.095586, Score=0.201953, Total Score=0.218621]\n",
      "1it [00:00,  4.97it/s, Epoch=17, Val Loss=0.155655, Total Val Loss=0.155655, Val Score=0.322609, Total Val Score=0.322609]\n",
      "13it [00:02,  5.86it/s, Epoch=18, Loss=0.095688, Total Loss=0.094687, Score=0.191545, Total Score=0.211054]\n",
      "1it [00:00,  4.70it/s, Epoch=18, Val Loss=0.148620, Total Val Loss=0.148620, Val Score=0.309857, Total Val Score=0.309857]\n",
      "13it [00:02,  5.62it/s, Epoch=19, Loss=0.095081, Total Loss=0.093902, Score=0.199153, Total Score=0.209854]\n",
      "1it [00:00,  4.65it/s, Epoch=19, Val Loss=0.152417, Total Val Loss=0.152417, Val Score=0.322824, Total Val Score=0.322824]\n",
      "13it [00:02,  5.63it/s, Epoch=20, Loss=0.094679, Total Loss=0.093133, Score=0.195663, Total Score=0.207781]\n",
      "1it [00:00,  4.25it/s, Epoch=20, Val Loss=0.151747, Total Val Loss=0.151747, Val Score=0.319384, Total Val Score=0.319384]\n",
      "13it [00:02,  5.84it/s, Epoch=21, Loss=0.094345, Total Loss=0.092464, Score=0.192835, Total Score=0.203322]\n",
      "1it [00:00,  4.81it/s, Epoch=21, Val Loss=0.150863, Total Val Loss=0.150863, Val Score=0.311434, Total Val Score=0.311434]\n",
      "13it [00:02,  5.93it/s, Epoch=22, Loss=0.092869, Total Loss=0.091824, Score=0.189393, Total Score=0.201427]\n",
      "1it [00:00,  5.28it/s, Epoch=22, Val Loss=0.154757, Total Val Loss=0.154757, Val Score=0.326313, Total Val Score=0.326313]\n",
      "13it [00:02,  6.00it/s, Epoch=23, Loss=0.091144, Total Loss=0.091195, Score=0.318144, Total Score=0.199962]\n",
      "1it [00:00,  5.17it/s, Epoch=23, Val Loss=0.155001, Total Val Loss=0.155001, Val Score=0.318239, Total Val Score=0.318239]\n",
      "13it [00:02,  6.23it/s, Epoch=24, Loss=0.090694, Total Loss=0.090601, Score=0.189229, Total Score=0.197749]\n",
      "1it [00:00,  4.59it/s, Epoch=24, Val Loss=0.154371, Total Val Loss=0.154371, Val Score=0.308983, Total Val Score=0.308983]\n",
      "13it [00:02,  6.19it/s, Epoch=25, Loss=0.092635, Total Loss=0.090216, Score=0.185789, Total Score=0.194905]\n",
      "1it [00:00,  5.32it/s, Epoch=25, Val Loss=0.151081, Total Val Loss=0.151081, Val Score=0.305269, Total Val Score=0.305269]\n",
      "13it [00:02,  6.15it/s, Epoch=26, Loss=0.089077, Total Loss=0.089402, Score=0.232424, Total Score=0.192231]\n",
      "1it [00:00,  4.76it/s, Epoch=26, Val Loss=0.157310, Total Val Loss=0.157310, Val Score=0.308861, Total Val Score=0.308861]\n",
      "13it [00:02,  6.03it/s, Epoch=27, Loss=0.087196, Total Loss=0.089089, Score=0.176254, Total Score=0.191356]\n",
      "1it [00:00,  4.59it/s, Epoch=27, Val Loss=0.151149, Total Val Loss=0.151149, Val Score=0.296330, Total Val Score=0.296330]\n",
      "13it [00:02,  5.90it/s, Epoch=28, Loss=0.088271, Total Loss=0.088360, Score=0.170832, Total Score=0.187544]\n",
      "1it [00:00,  4.71it/s, Epoch=28, Val Loss=0.148301, Total Val Loss=0.148301, Val Score=0.287780, Total Val Score=0.287780]\n",
      "13it [00:02,  5.65it/s, Epoch=29, Loss=0.085657, Total Loss=0.087843, Score=0.172774, Total Score=0.187680]\n",
      "1it [00:00,  4.70it/s, Epoch=29, Val Loss=0.146916, Total Val Loss=0.146916, Val Score=0.282096, Total Val Score=0.282096]\n",
      "13it [00:02,  5.92it/s, Epoch=30, Loss=0.088262, Total Loss=0.087398, Score=0.166556, Total Score=0.185600]\n",
      "1it [00:00,  4.53it/s, Epoch=30, Val Loss=0.149336, Total Val Loss=0.149336, Val Score=0.280177, Total Val Score=0.280177]\n",
      "13it [00:02,  5.18it/s, Epoch=31, Loss=0.087487, Total Loss=0.086660, Score=0.171743, Total Score=0.182371]\n",
      "1it [00:00,  5.03it/s, Epoch=31, Val Loss=0.146103, Total Val Loss=0.146103, Val Score=0.275281, Total Val Score=0.275281]\n",
      "13it [00:02,  5.74it/s, Epoch=32, Loss=0.088418, Total Loss=0.086408, Score=0.169503, Total Score=0.180700]\n",
      "1it [00:00,  4.97it/s, Epoch=32, Val Loss=0.145284, Total Val Loss=0.145284, Val Score=0.271795, Total Val Score=0.271795]\n",
      "13it [00:02,  5.76it/s, Epoch=33, Loss=0.084147, Total Loss=0.085496, Score=0.160463, Total Score=0.178816]\n",
      "1it [00:00,  4.70it/s, Epoch=33, Val Loss=0.145278, Total Val Loss=0.145278, Val Score=0.267775, Total Val Score=0.267775]\n",
      "13it [00:02,  5.45it/s, Epoch=34, Loss=0.087171, Total Loss=0.085031, Score=0.160513, Total Score=0.176464]\n",
      "1it [00:00,  4.59it/s, Epoch=34, Val Loss=0.145783, Total Val Loss=0.145783, Val Score=0.264397, Total Val Score=0.264397]\n",
      "13it [00:02,  5.89it/s, Epoch=35, Loss=0.084517, Total Loss=0.084457, Score=0.154488, Total Score=0.175238]\n",
      "1it [00:00,  4.47it/s, Epoch=35, Val Loss=0.151749, Total Val Loss=0.151749, Val Score=0.275719, Total Val Score=0.275719]\n",
      "13it [00:02,  6.29it/s, Epoch=36, Loss=0.085016, Total Loss=0.083893, Score=0.155847, Total Score=0.174341]\n",
      "1it [00:00,  4.60it/s, Epoch=36, Val Loss=0.146522, Total Val Loss=0.146522, Val Score=0.283081, Total Val Score=0.283081]\n",
      "13it [00:02,  6.08it/s, Epoch=37, Loss=0.082130, Total Loss=0.083365, Score=0.237452, Total Score=0.172811]\n",
      "1it [00:00,  4.22it/s, Epoch=37, Val Loss=0.149768, Total Val Loss=0.149768, Val Score=0.279884, Total Val Score=0.279884]\n",
      "13it [00:02,  5.80it/s, Epoch=38, Loss=0.084103, Total Loss=0.083215, Score=0.153820, Total Score=0.170118]\n",
      "1it [00:00,  4.38it/s, Epoch=38, Val Loss=0.149373, Total Val Loss=0.149373, Val Score=0.277699, Total Val Score=0.277699]\n",
      "13it [00:02,  6.17it/s, Epoch=39, Loss=0.082524, Total Loss=0.082776, Score=0.155023, Total Score=0.168466]\n",
      "1it [00:00,  4.74it/s, Epoch=39, Val Loss=0.151320, Total Val Loss=0.151320, Val Score=0.289228, Total Val Score=0.289228]\n",
      "13it [00:02,  5.94it/s, Epoch=40, Loss=0.083569, Total Loss=0.082142, Score=0.155382, Total Score=0.167191]\n",
      "1it [00:00,  4.92it/s, Epoch=40, Val Loss=0.143829, Total Val Loss=0.143829, Val Score=0.280510, Total Val Score=0.280510]\n",
      "13it [00:02,  6.00it/s, Epoch=41, Loss=0.082355, Total Loss=0.081707, Score=0.152017, Total Score=0.163719]\n",
      "1it [00:00,  4.36it/s, Epoch=41, Val Loss=0.146982, Total Val Loss=0.146982, Val Score=0.286893, Total Val Score=0.286893]\n",
      "13it [00:02,  5.99it/s, Epoch=42, Loss=0.081072, Total Loss=0.081015, Score=0.147240, Total Score=0.161417]\n",
      "1it [00:00,  4.99it/s, Epoch=42, Val Loss=0.149442, Total Val Loss=0.149442, Val Score=0.282054, Total Val Score=0.282054]\n",
      "13it [00:02,  6.06it/s, Epoch=43, Loss=0.080535, Total Loss=0.080677, Score=0.142978, Total Score=0.159495]\n",
      "1it [00:00,  5.38it/s, Epoch=43, Val Loss=0.148707, Total Val Loss=0.148707, Val Score=0.294011, Total Val Score=0.294011]\n",
      "13it [00:02,  5.75it/s, Epoch=44, Loss=0.079205, Total Loss=0.080460, Score=0.141198, Total Score=0.160267]\n",
      "1it [00:00,  4.63it/s, Epoch=44, Val Loss=0.144629, Total Val Loss=0.144629, Val Score=0.290033, Total Val Score=0.290033]\n",
      "13it [00:02,  5.86it/s, Epoch=45, Loss=0.081369, Total Loss=0.080178, Score=0.149602, Total Score=0.159817]\n",
      "1it [00:00,  4.33it/s, Epoch=45, Val Loss=0.147682, Total Val Loss=0.147682, Val Score=0.296808, Total Val Score=0.296808]\n",
      "13it [00:02,  5.54it/s, Epoch=46, Loss=0.079266, Total Loss=0.080002, Score=0.203944, Total Score=0.157943]\n",
      "1it [00:00,  4.84it/s, Epoch=46, Val Loss=0.148008, Total Val Loss=0.148008, Val Score=0.301461, Total Val Score=0.301461]\n",
      "13it [00:02,  5.68it/s, Epoch=47, Loss=0.081799, Total Loss=0.079626, Score=0.142550, Total Score=0.155010]\n",
      "1it [00:00,  4.42it/s, Epoch=47, Val Loss=0.151704, Total Val Loss=0.151704, Val Score=0.294112, Total Val Score=0.294112]\n",
      "13it [00:02,  5.39it/s, Epoch=48, Loss=0.078466, Total Loss=0.079178, Score=0.144523, Total Score=0.153349]\n",
      "1it [00:00,  4.58it/s, Epoch=48, Val Loss=0.155313, Total Val Loss=0.155313, Val Score=0.309359, Total Val Score=0.309359]\n",
      "13it [00:02,  5.62it/s, Epoch=49, Loss=0.080844, Total Loss=0.078990, Score=0.144439, Total Score=0.151899]\n",
      "1it [00:00,  4.68it/s, Epoch=49, Val Loss=0.155678, Total Val Loss=0.155678, Val Score=0.303645, Total Val Score=0.303645]\n",
      "13it [00:02,  5.78it/s, Epoch=50, Loss=0.078830, Total Loss=0.078618, Score=0.143756, Total Score=0.152095]\n",
      "1it [00:00,  4.57it/s, Epoch=50, Val Loss=0.153589, Total Val Loss=0.153589, Val Score=0.300609, Total Val Score=0.300609]\n"
     ]
    }
   ],
   "source": [
    "loss_plot, val_loss_plot = [], []\n",
    "score_plot, val_score_plot = [], []\n",
    "\n",
    "for epoch in range(EPOCHS):\n",
    "    total_loss, total_val_loss = 0, 0\n",
    "    total_score, total_val_score = 0, 0\n",
    "    \n",
    "    tqdm_dataset = tqdm(enumerate(train_dataloader))\n",
    "    training = True\n",
    "    for batch, batch_item in tqdm_dataset:\n",
    "        batch_loss, batch_score = train_step(batch_item, epoch, batch, training, teacher_forcing)\n",
    "        total_loss += batch_loss\n",
    "        total_score += batch_score\n",
    "        \n",
    "        tqdm_dataset.set_postfix({\n",
    "            'Epoch': epoch + 1,\n",
    "            'Loss': '{:06f}'.format(batch_loss.item()),\n",
    "            'Total Loss' : '{:06f}'.format(total_loss/(batch+1)),\n",
    "            'Score': '{:06f}'.format(batch_score.item()),\n",
    "            'Total Score' : '{:06f}'.format(total_score/(batch+1)),\n",
    "        })\n",
    "    loss_plot.append(total_loss/(batch+1))\n",
    "    score_plot.append(total_score/(batch+1))\n",
    "    \n",
    "    tqdm_dataset = tqdm(enumerate(val_dataloader))\n",
    "    training = False\n",
    "    for batch, batch_item in tqdm_dataset:\n",
    "        batch_loss, batch_val_score = train_step(batch_item, epoch, batch, training, teacher_forcing)\n",
    "        total_val_loss += batch_loss\n",
    "        total_val_score += batch_val_score\n",
    "        \n",
    "        tqdm_dataset.set_postfix({\n",
    "            'Epoch': epoch + 1,\n",
    "            'Val Loss': '{:06f}'.format(batch_loss.item()),\n",
    "            'Total Val Loss' : '{:06f}'.format(total_val_loss/(batch+1)),\n",
    "            'Val Score': '{:06f}'.format(batch_val_score.item()),\n",
    "            'Total Val Score' : '{:06f}'.format(total_val_score/(batch+1)),\n",
    "        })\n",
    "    val_loss_plot.append(total_val_loss/(batch+1))\n",
    "    val_score_plot.append(total_val_score/(batch+1))\n",
    "    \n",
    "    if np.min(val_loss_plot) == val_loss_plot[-1]:\n",
    "        torch.save(model, save_path)"
   ]
  },
  {
   "cell_type": "markdown",
   "metadata": {},
   "source": [
    "## 학습 결과"
   ]
  },
  {
   "cell_type": "code",
   "execution_count": 26,
   "metadata": {
    "tags": []
   },
   "outputs": [
    {
     "data": {
      "image/png": "[encoded data removed]",
      "text/plain": [
       "<Figure size 432x288 with 1 Axes>"
      ]
     },
     "metadata": {
      "needs_background": "light"
     },
     "output_type": "display_data"
    },
    {
     "data": {
      "image/png": "[encoded data removed]",
      "text/plain": [
       "<Figure size 432x288 with 1 Axes>"
      ]
     },
     "metadata": {
      "needs_background": "light"
     },
     "output_type": "display_data"
    }
   ],
   "source": [
    "plt.plot(loss_plot, label='train_loss')\n",
    "plt.plot(val_loss_plot, label='val_loss')\n",
    "plt.xlabel('epoch')\n",
    "plt.ylabel('loss(mae)')\n",
    "plt.title('loss_plot')\n",
    "plt.legend()\n",
    "plt.show()\n",
    "\n",
    "plt.plot(score_plot, label='train_score')\n",
    "plt.plot(val_score_plot, label='val_score')\n",
    "plt.xlabel('epoch')\n",
    "plt.ylabel('score(nmae)')\n",
    "plt.title('score_plot')\n",
    "plt.legend()\n",
    "plt.show()"
   ]
  },
  {
   "cell_type": "markdown",
   "metadata": {},
   "source": [
    "## 베스트모델 복원"
   ]
  },
  {
   "cell_type": "code",
   "execution_count": 27,
   "metadata": {},
   "outputs": [],
   "source": [
    "model = torch.load(save_path)\n",
    "model = model.to(device)"
   ]
  },
  {
   "cell_type": "markdown",
   "metadata": {},
   "source": [
    "## 추론 및 제출"
   ]
  },
  {
   "cell_type": "code",
   "execution_count": 28,
   "metadata": {},
   "outputs": [],
   "source": [
    "def predict(encoder_input):\n",
    "    model.train()\n",
    "    encoder_input = encoder_input.to(device)\n",
    "    decoder_input = torch.zeros([1, future_size+1, target_n], dtype=torch.float32).to(device)\n",
    "    with torch.no_grad():\n",
    "        output = model(encoder_input, decoder_input, False)\n",
    "    return output.cpu()"
   ]
  },
  {
   "cell_type": "code",
   "execution_count": 29,
   "metadata": {},
   "outputs": [],
   "source": [
    "submission = pd.read_csv('./data/sample_submission.csv')"
   ]
  },
  {
   "cell_type": "code",
   "execution_count": 30,
   "metadata": {},
   "outputs": [],
   "source": [
    "public_date_list = submission[submission['예측대상일자'].str.contains('2020')]['예측대상일자'].str.split('+').str[0].unique()"
   ]
  },
  {
   "cell_type": "markdown",
   "metadata": {},
   "source": [
    "### 추론\n",
    "\n",
    "일자별 추론을 진행합니다.\n",
    "\n",
    "data leakage가 발생하지 않도록 주의합니다."
   ]
  },
  {
   "cell_type": "code",
   "execution_count": 31,
   "metadata": {},
   "outputs": [],
   "source": [
    "outputs = []\n",
    "troch_norm = torch.tensor(norm.to_numpy()[2::2])\n",
    "for date in public_date_list:\n",
    "    test_df = pd.read_csv(f'./data/public_data/test_files/test_{date}.csv')\n",
    "    data = pd.read_csv('./data/public_data/train.csv')\n",
    "    data = pd.concat([data, test_df]).iloc[-window_size:]\n",
    "    \n",
    "    week_day_map = {}\n",
    "    for i, d in enumerate(data['요일'].unique()):\n",
    "        week_day_map[d] = i\n",
    "    data['요일'] = data['요일'].map(week_day_map)\n",
    "    data = data.iloc[:,1:]/norm\n",
    "    \n",
    "    encoder_input = torch.tensor(data.to_numpy(), dtype=torch.float32)\n",
    "    encoder_input = encoder_input.unsqueeze(0)\n",
    "    output = predict(encoder_input)*troch_norm\n",
    "    \n",
    "    idx = submission[submission['예측대상일자'].str.contains(date)].index\n",
    "    submission.loc[idx, '배추_가격(원/kg)':] = output[0,[6,13,27]].numpy()"
   ]
  },
  {
   "cell_type": "code",
   "execution_count": 32,
   "metadata": {},
   "outputs": [],
   "source": [
    "submission.to_csv('dacon_baseline.csv', index=False)"
   ]
  },
  {
   "cell_type": "markdown",
   "metadata": {},
   "source": [
    "제출 API 사용법 => https://dacon.io/forum/403557"
   ]
  },
  {
   "cell_type": "code",
   "execution_count": null,
   "metadata": {},
   "outputs": [],
   "source": [
    "from dacon_submit_api import dacon_submit_api \n",
    "\n",
    "result = dacon_submit_api.post_submission_file(\n",
    "    'dacon_baseline.csv', \n",
    "    '개인 Token', \n",
    "    '235801', \n",
    "    'DACONIO', \n",
    "    'DACON_Baseline'\n",
    ")"
   ]
  },
  {
   "cell_type": "markdown",
   "metadata": {},
   "source": [
    "## Public LB Score : 0.3225"
   ]
  }
 ],
 "metadata": {
  "kernelspec": {
   "display_name": "Python 3",
   "language": "python",
   "name": "python3"
  },
  "language_info": {
   "codemirror_mode": {
    "name": "ipython",
    "version": 3
   },
   "file_extension": ".py",
   "mimetype": "text/x-python",
   "name": "python",
   "nbconvert_exporter": "python",
   "pygments_lexer": "ipython3",
   "version": "3.7.1"
  }
 },
 "nbformat": 4,
 "nbformat_minor": 4
}
