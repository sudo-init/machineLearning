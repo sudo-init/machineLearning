{
 "cells": [
  {
   "cell_type": "markdown",
   "metadata": {},
   "source": [
    "# 필요 패키지 import"
   ]
  },
  {
   "cell_type": "code",
   "execution_count": 1,
   "metadata": {
    "ExecuteTime": {
     "end_time": "2022-02-24T07:35:31.144253Z",
     "start_time": "2022-02-24T07:35:30.105447Z"
    }
   },
   "outputs": [],
   "source": [
    "import pandas as pd\n",
    "import numpy as np\n",
    "from tqdm import tqdm\n",
    "from sklearn.preprocessing import LabelEncoder\n",
    "from sklearn.ensemble import RandomForestClassifier\n",
    "from sklearn import metrics\n",
    "from sklearn.metrics import f1_score, accuracy_score, precision_score, recall_score\n",
    "from sklearn.model_selection import train_test_split, GridSearchCV\n",
    "\n",
    "from xgboost import plot_importance, XGBClassifier\n",
    "\n",
    "\n",
    "import warnings\n",
    "warnings.filterwarnings(action='ignore')\n",
    "\n",
    "pd.set_option('display.max_columns', None)\n",
    "pd.set_option('display.max_rows', None)"
   ]
  },
  {
   "cell_type": "code",
   "execution_count": null,
   "metadata": {
    "ExecuteTime": {
     "end_time": "2022-01-24T08:32:28.971908Z",
     "start_time": "2022-01-24T08:32:28.429883Z"
    }
   },
   "outputs": [],
   "source": [
    "import matplotlib.pyplot as plt"
   ]
  },
  {
   "cell_type": "code",
   "execution_count": null,
   "metadata": {
    "ExecuteTime": {
     "end_time": "2022-01-24T08:17:57.564470Z",
     "start_time": "2022-01-24T08:17:57.549468Z"
    }
   },
   "outputs": [],
   "source": [
    "import os\n",
    "\n",
    "os.path.abspath('.')"
   ]
  },
  {
   "cell_type": "markdown",
   "metadata": {},
   "source": [
    "# 데이터 불러오기"
   ]
  },
  {
   "cell_type": "code",
   "execution_count": 2,
   "metadata": {
    "ExecuteTime": {
     "end_time": "2022-02-24T07:35:38.121042Z",
     "start_time": "2022-02-24T07:35:37.028822Z"
    }
   },
   "outputs": [],
   "source": [
    "train = pd.read_csv('./data/train.csv')\n",
    "test = pd.read_csv('./data/test.csv')"
   ]
  },
  {
   "cell_type": "markdown",
   "metadata": {},
   "source": [
    "# 데이터 확인"
   ]
  },
  {
   "cell_type": "code",
   "execution_count": 3,
   "metadata": {
    "ExecuteTime": {
     "end_time": "2022-02-24T07:38:22.310706Z",
     "start_time": "2022-02-24T07:38:22.231971Z"
    },
    "scrolled": true
   },
   "outputs": [
    {
     "name": "stdout",
     "output_type": "stream",
     "text": [
      "<class 'pandas.core.frame.DataFrame'>\n",
      "RangeIndex: 501951 entries, 0 to 501950\n",
      "Data columns (total 35 columns):\n",
      " #   Column                  Non-Null Count   Dtype \n",
      "---  ------                  --------------   ----- \n",
      " 0   id                      501951 non-null  int64 \n",
      " 1   d_l_match_yn            501951 non-null  bool  \n",
      " 2   d_m_match_yn            501951 non-null  bool  \n",
      " 3   d_s_match_yn            501951 non-null  bool  \n",
      " 4   h_l_match_yn            501951 non-null  bool  \n",
      " 5   h_m_match_yn            501951 non-null  bool  \n",
      " 6   h_s_match_yn            501951 non-null  bool  \n",
      " 7   person_attribute_a      501951 non-null  int64 \n",
      " 8   person_attribute_a_1    501951 non-null  int64 \n",
      " 9   person_attribute_b      501951 non-null  int64 \n",
      " 10  person_prefer_c         501951 non-null  int64 \n",
      " 11  person_prefer_d_1       501951 non-null  int64 \n",
      " 12  person_prefer_d_2       501951 non-null  int64 \n",
      " 13  person_prefer_d_3       501951 non-null  int64 \n",
      " 14  person_prefer_e         501951 non-null  int64 \n",
      " 15  person_prefer_f         501951 non-null  int64 \n",
      " 16  person_prefer_g         501951 non-null  int64 \n",
      " 17  person_prefer_h_1       501951 non-null  int64 \n",
      " 18  person_prefer_h_2       501951 non-null  int64 \n",
      " 19  person_prefer_h_3       501951 non-null  int64 \n",
      " 20  contents_attribute_i    501951 non-null  int64 \n",
      " 21  contents_attribute_a    501951 non-null  int64 \n",
      " 22  contents_attribute_j_1  501951 non-null  int64 \n",
      " 23  contents_attribute_j    501951 non-null  int64 \n",
      " 24  contents_attribute_c    501951 non-null  int64 \n",
      " 25  contents_attribute_k    501951 non-null  int64 \n",
      " 26  contents_attribute_l    501951 non-null  int64 \n",
      " 27  contents_attribute_d    501951 non-null  int64 \n",
      " 28  contents_attribute_m    501951 non-null  int64 \n",
      " 29  contents_attribute_e    501951 non-null  int64 \n",
      " 30  contents_attribute_h    501951 non-null  int64 \n",
      " 31  person_rn               501951 non-null  int64 \n",
      " 32  contents_rn             501951 non-null  int64 \n",
      " 33  contents_open_dt        501951 non-null  object\n",
      " 34  target                  501951 non-null  int64 \n",
      "dtypes: bool(6), int64(28), object(1)\n",
      "memory usage: 113.9+ MB\n"
     ]
    }
   ],
   "source": [
    "train.info()"
   ]
  },
  {
   "cell_type": "code",
   "execution_count": null,
   "metadata": {
    "scrolled": true
   },
   "outputs": [],
   "source": [
    "train.shape"
   ]
  },
  {
   "cell_type": "code",
   "execution_count": null,
   "metadata": {
    "ExecuteTime": {
     "end_time": "2022-02-24T07:04:29.592824Z",
     "start_time": "2022-02-24T07:04:29.234394Z"
    }
   },
   "outputs": [],
   "source": [
    "train['month'] = pd.to_datetime(train['contents_open_dt']).dt.month\n",
    "test['month'] = pd.to_datetime(test['contents_open_dt']).dt.month"
   ]
  },
  {
   "cell_type": "code",
   "execution_count": null,
   "metadata": {
    "ExecuteTime": {
     "end_time": "2022-02-24T07:05:53.580996Z",
     "start_time": "2022-02-24T07:05:53.232202Z"
    }
   },
   "outputs": [],
   "source": [
    "train['day'] = pd.to_datetime(train['contents_open_dt']).dt.day\n",
    "test['day'] = pd.to_datetime(test['contents_open_dt']).dt.day"
   ]
  },
  {
   "cell_type": "code",
   "execution_count": null,
   "metadata": {
    "ExecuteTime": {
     "end_time": "2022-01-24T08:10:40.323192Z",
     "start_time": "2022-01-24T08:10:40.302204Z"
    }
   },
   "outputs": [],
   "source": [
    "train['day'].value_counts()"
   ]
  },
  {
   "cell_type": "code",
   "execution_count": null,
   "metadata": {
    "ExecuteTime": {
     "end_time": "2022-01-24T08:08:32.489615Z",
     "start_time": "2022-01-24T08:08:32.339225Z"
    }
   },
   "outputs": [],
   "source": [
    "train['month'].value_counts()"
   ]
  },
  {
   "cell_type": "code",
   "execution_count": null,
   "metadata": {
    "ExecuteTime": {
     "end_time": "2022-01-24T08:09:16.269551Z",
     "start_time": "2022-01-24T08:09:16.178590Z"
    }
   },
   "outputs": [],
   "source": [
    "train.groupby('target')['month'].value_counts()"
   ]
  },
  {
   "cell_type": "code",
   "execution_count": null,
   "metadata": {
    "ExecuteTime": {
     "end_time": "2022-01-24T08:12:12.804545Z",
     "start_time": "2022-01-24T08:11:22.821Z"
    }
   },
   "outputs": [],
   "source": [
    "train.groupby('target')['day'].value_counts()"
   ]
  },
  {
   "cell_type": "code",
   "execution_count": null,
   "metadata": {
    "ExecuteTime": {
     "end_time": "2022-01-24T08:12:27.535528Z",
     "start_time": "2022-01-24T08:12:27.410768Z"
    }
   },
   "outputs": [],
   "source": [
    "train[train['target'] == 0]['day'].value_counts()"
   ]
  },
  {
   "cell_type": "code",
   "execution_count": null,
   "metadata": {
    "ExecuteTime": {
     "end_time": "2022-01-24T08:14:05.695517Z",
     "start_time": "2022-01-24T08:14:05.685527Z"
    }
   },
   "outputs": [],
   "source": [
    "train['target'].value_counts()"
   ]
  },
  {
   "cell_type": "code",
   "execution_count": null,
   "metadata": {
    "ExecuteTime": {
     "end_time": "2022-01-24T08:25:58.409231Z",
     "start_time": "2022-01-24T08:25:58.351219Z"
    },
    "scrolled": true
   },
   "outputs": [],
   "source": [
    "train[train['target'] == 1]['day'].value_counts().sort_index()"
   ]
  },
  {
   "cell_type": "code",
   "execution_count": null,
   "metadata": {
    "ExecuteTime": {
     "end_time": "2022-01-24T08:26:12.711840Z",
     "start_time": "2022-01-24T08:26:12.658045Z"
    }
   },
   "outputs": [],
   "source": [
    "days = train[train['target'] == 1]['day'].value_counts().sort_index()"
   ]
  },
  {
   "cell_type": "code",
   "execution_count": null,
   "metadata": {
    "ExecuteTime": {
     "end_time": "2022-01-24T08:26:16.335744Z",
     "start_time": "2022-01-24T08:26:16.180736Z"
    }
   },
   "outputs": [],
   "source": [
    "plt.bar(range(1, 32),days)\n",
    "plt.show()"
   ]
  },
  {
   "cell_type": "code",
   "execution_count": null,
   "metadata": {
    "ExecuteTime": {
     "end_time": "2022-01-24T08:27:49.022478Z",
     "start_time": "2022-01-24T08:27:48.999479Z"
    }
   },
   "outputs": [],
   "source": [
    "m_1 = train[(train['target'] == 1) & (train['month'] == 1)]['day'].value_counts().sort_index()"
   ]
  },
  {
   "cell_type": "code",
   "execution_count": null,
   "metadata": {
    "ExecuteTime": {
     "end_time": "2022-01-24T08:37:27.985241Z",
     "start_time": "2022-01-24T08:37:27.903405Z"
    }
   },
   "outputs": [],
   "source": [
    "m_2 = train[(train['target'] == 1) & (train['month'] == 2)]['day'].value_counts().sort_index()"
   ]
  },
  {
   "cell_type": "code",
   "execution_count": null,
   "metadata": {
    "ExecuteTime": {
     "end_time": "2022-01-24T08:39:04.990604Z",
     "start_time": "2022-01-24T08:39:04.977612Z"
    }
   },
   "outputs": [],
   "source": [
    "m_2.shape"
   ]
  },
  {
   "cell_type": "code",
   "execution_count": null,
   "metadata": {
    "ExecuteTime": {
     "end_time": "2022-01-24T08:39:39.884907Z",
     "start_time": "2022-01-24T08:39:39.861888Z"
    }
   },
   "outputs": [],
   "source": [
    "m_3 = train[(train['target'] == 1) & (train['month'] == 3)]['day'].value_counts().sort_index()"
   ]
  },
  {
   "cell_type": "code",
   "execution_count": null,
   "metadata": {
    "ExecuteTime": {
     "end_time": "2022-01-24T08:43:55.321055Z",
     "start_time": "2022-01-24T08:43:55.199216Z"
    }
   },
   "outputs": [],
   "source": [
    "m_4 = train[(train['target'] == 1) & (train['month'] == 4)]['day'].value_counts().sort_index()\n",
    "m_5 = train[(train['target'] == 1) & (train['month'] == 5)]['day'].value_counts().sort_index()\n",
    "m_6 = train[(train['target'] == 1) & (train['month'] == 6)]['day'].value_counts().sort_index()\n",
    "m_7 = train[(train['target'] == 1) & (train['month'] == 7)]['day'].value_counts().sort_index()\n",
    "m_8 = train[(train['target'] == 1) & (train['month'] == 8)]['day'].value_counts().sort_index()\n",
    "m_9 = train[(train['target'] == 1) & (train['month'] == 9)]['day'].value_counts().sort_index()\n",
    "m_10 = train[(train['target'] == 1) & (train['month'] == 10)]['day'].value_counts().sort_index()\n",
    "m_11 = train[(train['target'] == 1) & (train['month'] == 11)]['day'].value_counts().sort_index()\n",
    "m_12 = train[(train['target'] == 1) & (train['month'] == 12)]['day'].value_counts().sort_index()"
   ]
  },
  {
   "cell_type": "code",
   "execution_count": null,
   "metadata": {},
   "outputs": [],
   "source": [
    "x_ticks = range(1, 32)"
   ]
  },
  {
   "cell_type": "code",
   "execution_count": null,
   "metadata": {
    "ExecuteTime": {
     "end_time": "2022-01-24T08:28:17.969632Z",
     "start_time": "2022-01-24T08:28:17.244424Z"
    },
    "scrolled": false
   },
   "outputs": [],
   "source": [
    "plt.bar(range(1, 32), m_1)\n",
    "plt.show()"
   ]
  },
  {
   "cell_type": "code",
   "execution_count": null,
   "metadata": {
    "ExecuteTime": {
     "end_time": "2022-01-24T08:41:16.526301Z",
     "start_time": "2022-01-24T08:41:16.414952Z"
    },
    "scrolled": true
   },
   "outputs": [],
   "source": [
    "plt.bar(range(1, 30), m_2)\n",
    "plt.show()"
   ]
  },
  {
   "cell_type": "code",
   "execution_count": null,
   "metadata": {
    "ExecuteTime": {
     "end_time": "2022-01-24T08:42:16.232295Z",
     "start_time": "2022-01-24T08:42:16.008755Z"
    }
   },
   "outputs": [],
   "source": [
    "plt.bar(range(1, 32), m_3)\n",
    "plt.show()"
   ]
  },
  {
   "cell_type": "code",
   "execution_count": null,
   "metadata": {
    "ExecuteTime": {
     "end_time": "2022-01-24T08:54:50.870345Z",
     "start_time": "2022-01-24T08:54:50.125268Z"
    }
   },
   "outputs": [],
   "source": [
    "plt.subplot(3, 3, 1)                # nrows=2, ncols=1, index=2\n",
    "plt.bar(range(1, 31), m_4)\n",
    "plt.title('4월')\n",
    "\n",
    "plt.subplot(3, 3, 2)                # nrows=2, ncols=1, index=2\n",
    "plt.bar(range(1, 32), m_5)\n",
    "plt.title('5월')\n",
    "\n",
    "plt.subplot(3, 3, 3)                # nrows=2, ncols=1, index=2\n",
    "plt.bar(range(1, 31), m_6)\n",
    "plt.title('6월')\n",
    "\n",
    "plt.subplot(3, 3, 4)                # nrows=2, ncols=1, index=2\n",
    "plt.bar(range(1, 32), m_7)\n",
    "plt.title('7월')\n",
    "\n",
    "plt.subplot(3, 3, 5)                # nrows=2, ncols=1, index=2\n",
    "plt.bar(range(1, 32), m_8)\n",
    "plt.title('8월')\n",
    "\n",
    "plt.subplot(3, 3, 6)                # nrows=2, ncols=1, index=2\n",
    "plt.bar(range(1, 31), m_9)\n",
    "plt.title('9월')\n",
    "\n",
    "plt.subplot(3, 3, 7)                # nrows=2, ncols=1, index=2\n",
    "plt.bar(range(1, 32), m_10)\n",
    "plt.title('10월')\n",
    "\n",
    "plt.subplot(3, 3, 8)                # nrows=2, ncols=1, index=2\n",
    "plt.bar(range(1, 31), m_11)\n",
    "plt.title('11월')\n",
    "\n",
    "plt.subplot(3, 3, 9)                # nrows=2, ncols=1, index=2\n",
    "plt.bar(range(1, m_12.shape[0]), m_12)\n",
    "plt.title('12월')\n",
    "\n",
    "plt.show()"
   ]
  },
  {
   "cell_type": "code",
   "execution_count": null,
   "metadata": {
    "ExecuteTime": {
     "end_time": "2022-01-24T08:55:36.385176Z",
     "start_time": "2022-01-24T08:55:17.421Z"
    }
   },
   "outputs": [],
   "source": [
    "m_12.shape"
   ]
  },
  {
   "cell_type": "code",
   "execution_count": null,
   "metadata": {},
   "outputs": [],
   "source": [
    "plt.subplot(3, 3, 9)                # nrows=2, ncols=1, index=2\n",
    "plt.bar(range(1, m_12.shape[0]), m_12)\n",
    "plt.title('12월')"
   ]
  },
  {
   "cell_type": "code",
   "execution_count": null,
   "metadata": {
    "ExecuteTime": {
     "end_time": "2022-01-24T08:17:48.393597Z",
     "start_time": "2022-01-24T08:16:47.459Z"
    }
   },
   "outputs": [],
   "source": [
    "train[train['target'] == 1]['day'].value_counts()"
   ]
  },
  {
   "cell_type": "code",
   "execution_count": null,
   "metadata": {
    "scrolled": false
   },
   "outputs": [],
   "source": [
    "train.head()"
   ]
  },
  {
   "cell_type": "markdown",
   "metadata": {},
   "source": [
    "# 필요 데이터 추출\n",
    "\n",
    "모델 학습시 id는 제외해야하고\n",
    "\n",
    "베이스라인에선 contents_open_dt를 제거하고 진행하였습니다"
   ]
  },
  {
   "cell_type": "code",
   "execution_count": null,
   "metadata": {
    "ExecuteTime": {
     "end_time": "2022-02-24T07:08:48.547620Z",
     "start_time": "2022-02-24T07:08:48.417615Z"
    }
   },
   "outputs": [],
   "source": [
    "train = train.drop(['id', 'contents_open_dt'], axis=1) \n",
    "\n",
    "test = test.drop(['id', 'contents_open_dt'], axis=1)"
   ]
  },
  {
   "cell_type": "code",
   "execution_count": null,
   "metadata": {
    "ExecuteTime": {
     "end_time": "2021-12-20T04:19:10.023445Z",
     "start_time": "2021-12-20T04:19:09.990351Z"
    },
    "scrolled": false
   },
   "outputs": [],
   "source": [
    "train.head()"
   ]
  },
  {
   "cell_type": "markdown",
   "metadata": {},
   "source": [
    "# 데이터 탐색"
   ]
  },
  {
   "cell_type": "code",
   "execution_count": null,
   "metadata": {
    "ExecuteTime": {
     "end_time": "2021-12-22T07:25:42.527126Z",
     "start_time": "2021-12-22T07:25:40.711898Z"
    },
    "scrolled": true
   },
   "outputs": [],
   "source": [
    "corr_matrix = train.corr()\n",
    "corr_matrix['target'].sort_values(ascending=False)"
   ]
  },
  {
   "cell_type": "code",
   "execution_count": null,
   "metadata": {
    "ExecuteTime": {
     "end_time": "2022-01-24T05:37:05.099729Z",
     "start_time": "2022-01-24T05:37:04.493930Z"
    }
   },
   "outputs": [],
   "source": [
    "for column in train.columns:\n",
    "    print(train[column].value_counts())"
   ]
  },
  {
   "cell_type": "code",
   "execution_count": null,
   "metadata": {
    "ExecuteTime": {
     "end_time": "2022-01-24T05:44:39.434469Z",
     "start_time": "2022-01-24T05:44:38.186467Z"
    }
   },
   "outputs": [],
   "source": [
    "for column in train.columns:\n",
    "    print(column + ' 결측치 수: ', sum(train[column].isna()))"
   ]
  },
  {
   "cell_type": "code",
   "execution_count": null,
   "metadata": {
    "ExecuteTime": {
     "end_time": "2022-01-24T05:49:54.432724Z",
     "start_time": "2022-01-24T05:49:53.840070Z"
    }
   },
   "outputs": [],
   "source": [
    "for column in train.columns:\n",
    "    print(column, '종류:', len(train[column].value_counts()))"
   ]
  },
  {
   "cell_type": "markdown",
   "metadata": {},
   "source": [
    "# 데이터 전처리"
   ]
  },
  {
   "cell_type": "markdown",
   "metadata": {},
   "source": [
    "## 값이 1개인 변수(column) drop\n",
    "- class가 하나만 있는 변수 drop"
   ]
  },
  {
   "cell_type": "code",
   "execution_count": null,
   "metadata": {
    "ExecuteTime": {
     "end_time": "2022-01-24T05:00:11.067207Z",
     "start_time": "2022-01-24T05:00:11.051563Z"
    }
   },
   "outputs": [],
   "source": [
    "train.shape"
   ]
  },
  {
   "cell_type": "code",
   "execution_count": null,
   "metadata": {
    "ExecuteTime": {
     "end_time": "2022-01-24T05:00:11.271352Z",
     "start_time": "2022-01-24T05:00:11.255354Z"
    }
   },
   "outputs": [],
   "source": [
    "train['person_prefer_f'].value_counts()"
   ]
  },
  {
   "cell_type": "code",
   "execution_count": null,
   "metadata": {
    "ExecuteTime": {
     "end_time": "2022-01-24T05:00:11.567572Z",
     "start_time": "2022-01-24T05:00:11.559570Z"
    }
   },
   "outputs": [],
   "source": [
    "train['person_prefer_g'].value_counts()"
   ]
  },
  {
   "cell_type": "markdown",
   "metadata": {},
   "source": [
    " feature person_prefer_h_3 (0.009)  \n",
    "20. feature person_attribute_a_1 (0.009)  \n",
    "21. feature contents_attribute_a (0.005)  \n",
    "22. feature h_m_match_yn (0.005)  \n",
    "23. feature person_prefer_c (0.004)  \n",
    "24. feature person_attribute_b (0.004)  \n",
    "25. feature h_s_match_yn (0.003)  \n",
    "26. feature contents_attribute_i (0.002)  \n",
    "27. feature contents_attribute_k (0.001)  \n",
    "28. feature person_attribute_a (0.001)  "
   ]
  },
  {
   "cell_type": "markdown",
   "metadata": {},
   "source": [
    "- person_rn: 사용자 번호  \n",
    "- contents_rn: 컨텐츠 번호"
   ]
  },
  {
   "cell_type": "code",
   "execution_count": null,
   "metadata": {
    "ExecuteTime": {
     "end_time": "2022-02-24T07:14:42.590597Z",
     "start_time": "2022-02-24T07:14:42.583395Z"
    }
   },
   "outputs": [],
   "source": [
    "# value의 종류가 1개이거나, 너무 많은 feartures drop\n",
    "drop_list = ['person_prefer_f', 'person_prefer_g', 'person_rn', 'contents_rn']"
   ]
  },
  {
   "cell_type": "code",
   "execution_count": null,
   "metadata": {
    "ExecuteTime": {
     "end_time": "2022-02-24T07:19:05.096546Z",
     "start_time": "2022-02-24T07:19:05.080646Z"
    }
   },
   "outputs": [],
   "source": [
    "# importance가 낮은 feartures drop\n",
    "low_importances = ['person_attribute_a_1', 'contents_attribute_a', 'h_m_match_yn', 'person_prefer_c', 'person_attribute_b', 'h_s_match_yn', 'contents_attribute_i', 'contents_attribute_k', 'person_attribute_a']"
   ]
  },
  {
   "cell_type": "code",
   "execution_count": null,
   "metadata": {
    "ExecuteTime": {
     "end_time": "2022-02-24T07:20:21.883860Z",
     "start_time": "2022-02-24T07:20:21.821860Z"
    }
   },
   "outputs": [],
   "source": [
    "train.drop(drop_list, axis=1, inplace=True)\n",
    "train.drop(low_importances, axis=1, inplace=True)\n",
    "test.drop(drop_list, axis=1, inplace=True)\n",
    "test.drop(low_importances, axis=1, inplace=True)"
   ]
  },
  {
   "cell_type": "code",
   "execution_count": null,
   "metadata": {
    "ExecuteTime": {
     "end_time": "2022-02-24T07:21:15.247289Z",
     "start_time": "2022-02-24T07:21:15.216290Z"
    }
   },
   "outputs": [],
   "source": [
    "train.head(3)"
   ]
  },
  {
   "cell_type": "code",
   "execution_count": null,
   "metadata": {
    "ExecuteTime": {
     "end_time": "2022-02-24T07:22:51.817521Z",
     "start_time": "2022-02-24T07:22:51.791515Z"
    }
   },
   "outputs": [],
   "source": [
    "test.head()"
   ]
  },
  {
   "cell_type": "code",
   "execution_count": null,
   "metadata": {
    "ExecuteTime": {
     "end_time": "2022-02-24T07:23:45.517413Z",
     "start_time": "2022-02-24T07:23:45.503412Z"
    }
   },
   "outputs": [],
   "source": [
    "train.shape"
   ]
  },
  {
   "cell_type": "code",
   "execution_count": null,
   "metadata": {
    "ExecuteTime": {
     "end_time": "2022-02-24T07:24:38.839508Z",
     "start_time": "2022-02-24T07:24:38.825499Z"
    }
   },
   "outputs": [],
   "source": [
    "test.shape"
   ]
  },
  {
   "cell_type": "markdown",
   "metadata": {},
   "source": [
    "# 데이터 분리"
   ]
  },
  {
   "cell_type": "code",
   "execution_count": null,
   "metadata": {
    "ExecuteTime": {
     "end_time": "2022-02-24T07:25:32.129648Z",
     "start_time": "2022-02-24T07:25:32.068630Z"
    }
   },
   "outputs": [],
   "source": [
    "X_train = train.drop('target', axis=1)\n",
    "y_train = train.loc[:, 'target']\n",
    "X_test = test.drop('target', axis=1)\n",
    "y_test = test.loc[:, 'target']"
   ]
  },
  {
   "cell_type": "markdown",
   "metadata": {},
   "source": [
    "# 모델 학습\n",
    "\n",
    "RandomForest를 이용한 학습"
   ]
  },
  {
   "cell_type": "markdown",
   "metadata": {},
   "source": [
    "## RandomForest "
   ]
  },
  {
   "cell_type": "code",
   "execution_count": null,
   "metadata": {
    "ExecuteTime": {
     "end_time": "2022-01-24T05:54:33.731504Z",
     "start_time": "2022-01-24T05:53:56.738476Z"
    }
   },
   "outputs": [],
   "source": [
    "model = RandomForestClassifier(n_estimators=300, max_depth=6)\n",
    "\n",
    "\n",
    "model.fit(X_train, y_train)"
   ]
  },
  {
   "cell_type": "markdown",
   "metadata": {},
   "source": [
    "## xgboost"
   ]
  },
  {
   "cell_type": "code",
   "execution_count": null,
   "metadata": {
    "ExecuteTime": {
     "end_time": "2022-01-24T05:55:45.190488Z",
     "start_time": "2022-01-24T05:55:45.179493Z"
    }
   },
   "outputs": [],
   "source": [
    "xgb = XGBClassifier(n_estimators=500, learning_rate=0.1, max_depth=8)"
   ]
  },
  {
   "cell_type": "code",
   "execution_count": null,
   "metadata": {
    "ExecuteTime": {
     "end_time": "2022-01-24T05:57:18.902885Z",
     "start_time": "2022-01-24T05:55:46.710595Z"
    }
   },
   "outputs": [],
   "source": [
    "xgb.fit(X_train, y_train)"
   ]
  },
  {
   "cell_type": "markdown",
   "metadata": {},
   "source": [
    "### 하이퍼파라미터 튜닝"
   ]
  },
  {
   "cell_type": "code",
   "execution_count": null,
   "metadata": {
    "ExecuteTime": {
     "end_time": "2021-12-21T02:00:50.006334Z",
     "start_time": "2021-12-20T05:21:22.264850Z"
    }
   },
   "outputs": [],
   "source": [
    "xgb = XGBClassifier()\n",
    "xgb_param_grid = {\n",
    "    'n_estimators' : [100, 200, 400, 600],\n",
    "    'learning_rate' : [0.01, 0.05, 0.1, 0.15],\n",
    "    'max_depth' : [4, 6, 8, 10, 12],\n",
    "}\n",
    "\n",
    "xgb_grid = GridSearchCV(xgb, param_grid=xgb_param_grid, scoring='accuracy', n_jobs= -1, verbose=1)\n",
    "xgb_grid.fit(X_train, y_train)"
   ]
  },
  {
   "cell_type": "markdown",
   "metadata": {},
   "source": [
    "## 모델 검증"
   ]
  },
  {
   "cell_type": "code",
   "execution_count": null,
   "metadata": {
    "ExecuteTime": {
     "end_time": "2022-01-24T05:25:51.003663Z",
     "start_time": "2022-01-24T05:25:50.992673Z"
    }
   },
   "outputs": [],
   "source": [
    "def get_metrics(y_test, pred):\n",
    "    print('정확도: ', accuracy_score(y_test, pred))\n",
    "    print('정확성: ',  precision_score(y_test, pred)) # 정확도\n",
    "    print('재현율: ', recall_score(y_test, pred)) # 재현율\n",
    "    print('f1 score: ', f1_score(y_test, pred)) # f1 score"
   ]
  },
  {
   "cell_type": "markdown",
   "metadata": {},
   "source": [
    "### RandomForest"
   ]
  },
  {
   "cell_type": "code",
   "execution_count": null,
   "metadata": {
    "ExecuteTime": {
     "end_time": "2022-01-24T05:54:35.340839Z",
     "start_time": "2022-01-24T05:54:33.859516Z"
    },
    "scrolled": true
   },
   "outputs": [],
   "source": [
    "pred = model.predict(X_test)\n",
    "\n",
    "get_metrics(y_test, pred)"
   ]
  },
  {
   "cell_type": "code",
   "execution_count": null,
   "metadata": {
    "ExecuteTime": {
     "end_time": "2022-01-24T05:26:55.439099Z",
     "start_time": "2022-01-24T05:26:55.280887Z"
    },
    "scrolled": false
   },
   "outputs": [],
   "source": [
    "get_metrics(y_test, pred)"
   ]
  },
  {
   "cell_type": "markdown",
   "metadata": {},
   "source": [
    "### xgboost"
   ]
  },
  {
   "cell_type": "code",
   "execution_count": null,
   "metadata": {
    "ExecuteTime": {
     "end_time": "2022-01-24T05:57:19.921739Z",
     "start_time": "2022-01-24T05:57:19.030583Z"
    }
   },
   "outputs": [],
   "source": [
    "pred = xgb.predict(X_test) \n",
    "\n",
    "get_metrics(y_test, pred)"
   ]
  },
  {
   "cell_type": "markdown",
   "metadata": {},
   "source": [
    "# feature importance"
   ]
  },
  {
   "cell_type": "code",
   "execution_count": null,
   "metadata": {
    "ExecuteTime": {
     "end_time": "2022-01-24T05:58:01.623440Z",
     "start_time": "2022-01-24T05:58:01.491557Z"
    }
   },
   "outputs": [],
   "source": [
    "importances = model.feature_importances_"
   ]
  },
  {
   "cell_type": "code",
   "execution_count": null,
   "metadata": {
    "ExecuteTime": {
     "end_time": "2022-01-24T05:58:01.766860Z",
     "start_time": "2022-01-24T05:58:01.752838Z"
    }
   },
   "outputs": [],
   "source": [
    "import matplotlib.pyplot as plt"
   ]
  },
  {
   "cell_type": "code",
   "execution_count": null,
   "metadata": {
    "ExecuteTime": {
     "end_time": "2022-01-24T05:58:02.149922Z",
     "start_time": "2022-01-24T05:58:01.896399Z"
    },
    "scrolled": false
   },
   "outputs": [],
   "source": [
    "std = np.std([tree.feature_importances_ for tree in model.estimators_], axis=0)\n",
    "indices = np.argsort(importances)[::-1]\n",
    "\n",
    "print('Feature Ranking: ')\n",
    "\n",
    "for f in range(X.shape[1]):\n",
    "    print(\"{}. feature {} ({:.3f})\".format(f + 1, X.columns[indices][f], importances[indices[f]]))\n",
    "    \n",
    "    \n",
    "plt.figure(figsize =(20, 10))\n",
    "plt.title('Feature importances')\n",
    "plt.bar(range(X.shape[1]), importances[indices],\n",
    "       color='r', yerr=std[indices], align='center')\n",
    "plt.xticks(range(X.shape[1]), X.columns[indices], rotation=45, fontsize=20)\n",
    "plt.xlim([-1, X.shape[1]])\n",
    "plt.show()"
   ]
  },
  {
   "cell_type": "markdown",
   "metadata": {},
   "source": [
    "# Test set 예측"
   ]
  },
  {
   "cell_type": "code",
   "execution_count": null,
   "metadata": {},
   "outputs": [],
   "source": [
    "preds = model.predict(test)"
   ]
  },
  {
   "cell_type": "code",
   "execution_count": null,
   "metadata": {
    "ExecuteTime": {
     "end_time": "2021-12-22T06:26:29.130864Z",
     "start_time": "2021-12-22T06:26:28.819723Z"
    }
   },
   "outputs": [],
   "source": [
    "test2 = test.drop(drop_columns, axis=1)\n",
    "preds2 = xgb.predict(test2)"
   ]
  },
  {
   "cell_type": "code",
   "execution_count": null,
   "metadata": {
    "ExecuteTime": {
     "end_time": "2021-12-22T06:48:09.621845Z",
     "start_time": "2021-12-22T06:48:09.034728Z"
    }
   },
   "outputs": [],
   "source": [
    "preds3 = xgb_grid.predict(test)"
   ]
  },
  {
   "cell_type": "markdown",
   "metadata": {},
   "source": [
    "# 제출파일 생성"
   ]
  },
  {
   "cell_type": "code",
   "execution_count": null,
   "metadata": {},
   "outputs": [],
   "source": [
    "submission = pd.read_csv('sample_submission.csv')\n",
    "submission['target'] = preds\n",
    "\n",
    "submission.to_csv('baseline.csv', index=False)"
   ]
  },
  {
   "cell_type": "code",
   "execution_count": null,
   "metadata": {
    "ExecuteTime": {
     "end_time": "2021-12-22T06:27:27.304313Z",
     "start_time": "2021-12-22T06:27:27.132850Z"
    }
   },
   "outputs": [],
   "source": [
    "submission = pd.read_csv('./data/sample_submission.csv')\n",
    "submission['target'] = preds2\n",
    "\n",
    "submission.to_csv('result1.csv', index=False)"
   ]
  },
  {
   "cell_type": "code",
   "execution_count": null,
   "metadata": {
    "ExecuteTime": {
     "end_time": "2021-12-22T06:51:01.193248Z",
     "start_time": "2021-12-22T06:51:01.127235Z"
    }
   },
   "outputs": [],
   "source": [
    "# grid search 적용\n",
    "submission = pd.read_csv('./data/sample_submission.csv')\n",
    "submission['target'] = preds3\n",
    "\n",
    "submission.to_csv('result2.csv', index=False)"
   ]
  },
  {
   "cell_type": "code",
   "execution_count": null,
   "metadata": {},
   "outputs": [],
   "source": []
  }
 ],
 "metadata": {
  "kernelspec": {
   "display_name": "Python 3",
   "language": "python",
   "name": "python3"
  },
  "language_info": {
   "codemirror_mode": {
    "name": "ipython",
    "version": 3
   },
   "file_extension": ".py",
   "mimetype": "text/x-python",
   "name": "python",
   "nbconvert_exporter": "python",
   "pygments_lexer": "ipython3",
   "version": "3.7.1"
  },
  "toc": {
   "base_numbering": 1,
   "nav_menu": {},
   "number_sections": true,
   "sideBar": true,
   "skip_h1_title": false,
   "title_cell": "Table of Contents",
   "title_sidebar": "Contents",
   "toc_cell": false,
   "toc_position": {
    "height": "calc(100% - 180px)",
    "left": "10px",
    "top": "150px",
    "width": "303.825px"
   },
   "toc_section_display": true,
   "toc_window_display": false
  },
  "varInspector": {
   "cols": {
    "lenName": 16,
    "lenType": 16,
    "lenVar": 40
   },
   "kernels_config": {
    "python": {
     "delete_cmd_postfix": "",
     "delete_cmd_prefix": "del ",
     "library": "var_list.py",
     "varRefreshCmd": "print(var_dic_list())"
    },
    "r": {
     "delete_cmd_postfix": ") ",
     "delete_cmd_prefix": "rm(",
     "library": "var_list.r",
     "varRefreshCmd": "cat(var_dic_list()) "
    }
   },
   "types_to_exclude": [
    "module",
    "function",
    "builtin_function_or_method",
    "instance",
    "_Feature"
   ],
   "window_display": false
  }
 },
 "nbformat": 4,
 "nbformat_minor": 4
}
