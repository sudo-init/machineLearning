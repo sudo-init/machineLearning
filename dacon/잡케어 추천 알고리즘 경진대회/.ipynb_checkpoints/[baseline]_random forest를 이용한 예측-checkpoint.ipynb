{
 "cells": [
  {
   "cell_type": "markdown",
   "metadata": {},
   "source": [
    "# 필요 패키지 import"
   ]
  },
  {
   "cell_type": "code",
   "execution_count": 30,
   "metadata": {
    "ExecuteTime": {
     "end_time": "2021-12-20T04:21:43.220339Z",
     "start_time": "2021-12-20T04:21:43.211684Z"
    }
   },
   "outputs": [],
   "source": [
    "from sklearn.preprocessing import LabelEncoder\n",
    "from tqdm import tqdm\n",
    "import numpy as np\n",
    "from sklearn.ensemble import RandomForestClassifier\n",
    "from sklearn import metrics\n",
    "from sklearn.metrics import f1_score, accuracy_score\n",
    "from sklearn.model_selection import train_test_split\n",
    "\n",
    "from xgboost import plot_importance, XGBClassifier\n",
    "\n",
    "import pandas as pd\n",
    "import warnings\n",
    "warnings.filterwarnings(action='ignore')"
   ]
  },
  {
   "cell_type": "code",
   "execution_count": 55,
   "metadata": {
    "ExecuteTime": {
     "end_time": "2021-12-20T05:20:44.305272Z",
     "start_time": "2021-12-20T05:20:44.299597Z"
    }
   },
   "outputs": [],
   "source": [
    "from sklearn.model_selection import GridSearchCV"
   ]
  },
  {
   "cell_type": "code",
   "execution_count": 2,
   "metadata": {
    "ExecuteTime": {
     "end_time": "2021-12-20T02:26:31.108905Z",
     "start_time": "2021-12-20T02:26:31.096472Z"
    }
   },
   "outputs": [],
   "source": [
    "pd.set_option('display.max_columns', None)"
   ]
  },
  {
   "cell_type": "code",
   "execution_count": 3,
   "metadata": {
    "ExecuteTime": {
     "end_time": "2021-12-20T02:26:32.998817Z",
     "start_time": "2021-12-20T02:26:32.975554Z"
    }
   },
   "outputs": [
    {
     "data": {
      "text/plain": [
       "'C:\\\\Users\\\\user\\\\projects\\\\ml\\\\dacon\\\\잡케어 추천 알고리즘 경진대회'"
      ]
     },
     "execution_count": 3,
     "metadata": {},
     "output_type": "execute_result"
    }
   ],
   "source": [
    "import os\n",
    "\n",
    "os.path.abspath('.')"
   ]
  },
  {
   "cell_type": "markdown",
   "metadata": {},
   "source": [
    "# 데이터 불러오기"
   ]
  },
  {
   "cell_type": "code",
   "execution_count": 26,
   "metadata": {
    "ExecuteTime": {
     "end_time": "2021-12-20T04:17:59.142656Z",
     "start_time": "2021-12-20T04:17:57.102353Z"
    }
   },
   "outputs": [],
   "source": [
    "train = pd.read_csv('./data/train.csv')\n",
    "test = pd.read_csv('./data/test.csv')"
   ]
  },
  {
   "cell_type": "markdown",
   "metadata": {},
   "source": [
    "# 데이터 확인"
   ]
  },
  {
   "cell_type": "code",
   "execution_count": 5,
   "metadata": {
    "ExecuteTime": {
     "end_time": "2021-12-20T02:28:26.982859Z",
     "start_time": "2021-12-20T02:28:26.871205Z"
    },
    "collapsed": true
   },
   "outputs": [
    {
     "name": "stdout",
     "output_type": "stream",
     "text": [
      "<class 'pandas.core.frame.DataFrame'>\n",
      "RangeIndex: 501951 entries, 0 to 501950\n",
      "Data columns (total 35 columns):\n",
      " #   Column                  Non-Null Count   Dtype \n",
      "---  ------                  --------------   ----- \n",
      " 0   id                      501951 non-null  int64 \n",
      " 1   d_l_match_yn            501951 non-null  bool  \n",
      " 2   d_m_match_yn            501951 non-null  bool  \n",
      " 3   d_s_match_yn            501951 non-null  bool  \n",
      " 4   h_l_match_yn            501951 non-null  bool  \n",
      " 5   h_m_match_yn            501951 non-null  bool  \n",
      " 6   h_s_match_yn            501951 non-null  bool  \n",
      " 7   person_attribute_a      501951 non-null  int64 \n",
      " 8   person_attribute_a_1    501951 non-null  int64 \n",
      " 9   person_attribute_b      501951 non-null  int64 \n",
      " 10  person_prefer_c         501951 non-null  int64 \n",
      " 11  person_prefer_d_1       501951 non-null  int64 \n",
      " 12  person_prefer_d_2       501951 non-null  int64 \n",
      " 13  person_prefer_d_3       501951 non-null  int64 \n",
      " 14  person_prefer_e         501951 non-null  int64 \n",
      " 15  person_prefer_f         501951 non-null  int64 \n",
      " 16  person_prefer_g         501951 non-null  int64 \n",
      " 17  person_prefer_h_1       501951 non-null  int64 \n",
      " 18  person_prefer_h_2       501951 non-null  int64 \n",
      " 19  person_prefer_h_3       501951 non-null  int64 \n",
      " 20  contents_attribute_i    501951 non-null  int64 \n",
      " 21  contents_attribute_a    501951 non-null  int64 \n",
      " 22  contents_attribute_j_1  501951 non-null  int64 \n",
      " 23  contents_attribute_j    501951 non-null  int64 \n",
      " 24  contents_attribute_c    501951 non-null  int64 \n",
      " 25  contents_attribute_k    501951 non-null  int64 \n",
      " 26  contents_attribute_l    501951 non-null  int64 \n",
      " 27  contents_attribute_d    501951 non-null  int64 \n",
      " 28  contents_attribute_m    501951 non-null  int64 \n",
      " 29  contents_attribute_e    501951 non-null  int64 \n",
      " 30  contents_attribute_h    501951 non-null  int64 \n",
      " 31  person_rn               501951 non-null  int64 \n",
      " 32  contents_rn             501951 non-null  int64 \n",
      " 33  contents_open_dt        501951 non-null  object\n",
      " 34  target                  501951 non-null  int64 \n",
      "dtypes: bool(6), int64(28), object(1)\n",
      "memory usage: 113.9+ MB\n"
     ]
    }
   ],
   "source": [
    "train.info()"
   ]
  },
  {
   "cell_type": "code",
   "execution_count": 5,
   "metadata": {
    "scrolled": true
   },
   "outputs": [
    {
     "data": {
      "text/plain": [
       "(501951, 35)"
      ]
     },
     "execution_count": 5,
     "metadata": {},
     "output_type": "execute_result"
    }
   ],
   "source": [
    "train.shape"
   ]
  },
  {
   "cell_type": "code",
   "execution_count": 9,
   "metadata": {
    "scrolled": true
   },
   "outputs": [
    {
     "data": {
      "text/html": [
       "<div>\n",
       "<style scoped>\n",
       "    .dataframe tbody tr th:only-of-type {\n",
       "        vertical-align: middle;\n",
       "    }\n",
       "\n",
       "    .dataframe tbody tr th {\n",
       "        vertical-align: top;\n",
       "    }\n",
       "\n",
       "    .dataframe thead th {\n",
       "        text-align: right;\n",
       "    }\n",
       "</style>\n",
       "<table border=\"1\" class=\"dataframe\">\n",
       "  <thead>\n",
       "    <tr style=\"text-align: right;\">\n",
       "      <th></th>\n",
       "      <th>id</th>\n",
       "      <th>d_l_match_yn</th>\n",
       "      <th>d_m_match_yn</th>\n",
       "      <th>d_s_match_yn</th>\n",
       "      <th>h_l_match_yn</th>\n",
       "      <th>h_m_match_yn</th>\n",
       "      <th>h_s_match_yn</th>\n",
       "      <th>person_attribute_a</th>\n",
       "      <th>person_attribute_a_1</th>\n",
       "      <th>person_attribute_b</th>\n",
       "      <th>person_prefer_c</th>\n",
       "      <th>person_prefer_d_1</th>\n",
       "      <th>person_prefer_d_2</th>\n",
       "      <th>person_prefer_d_3</th>\n",
       "      <th>person_prefer_e</th>\n",
       "      <th>person_prefer_f</th>\n",
       "      <th>person_prefer_g</th>\n",
       "      <th>person_prefer_h_1</th>\n",
       "      <th>person_prefer_h_2</th>\n",
       "      <th>person_prefer_h_3</th>\n",
       "      <th>contents_attribute_i</th>\n",
       "      <th>contents_attribute_a</th>\n",
       "      <th>contents_attribute_j_1</th>\n",
       "      <th>contents_attribute_j</th>\n",
       "      <th>contents_attribute_c</th>\n",
       "      <th>contents_attribute_k</th>\n",
       "      <th>contents_attribute_l</th>\n",
       "      <th>contents_attribute_d</th>\n",
       "      <th>contents_attribute_m</th>\n",
       "      <th>contents_attribute_e</th>\n",
       "      <th>contents_attribute_h</th>\n",
       "      <th>person_rn</th>\n",
       "      <th>contents_rn</th>\n",
       "      <th>contents_open_dt</th>\n",
       "      <th>target</th>\n",
       "    </tr>\n",
       "  </thead>\n",
       "  <tbody>\n",
       "    <tr>\n",
       "      <th>0</th>\n",
       "      <td>0</td>\n",
       "      <td>True</td>\n",
       "      <td>True</td>\n",
       "      <td>True</td>\n",
       "      <td>False</td>\n",
       "      <td>False</td>\n",
       "      <td>False</td>\n",
       "      <td>1</td>\n",
       "      <td>4</td>\n",
       "      <td>3</td>\n",
       "      <td>5</td>\n",
       "      <td>275</td>\n",
       "      <td>370</td>\n",
       "      <td>369</td>\n",
       "      <td>8</td>\n",
       "      <td>1</td>\n",
       "      <td>1</td>\n",
       "      <td>4</td>\n",
       "      <td>95</td>\n",
       "      <td>59</td>\n",
       "      <td>3</td>\n",
       "      <td>3</td>\n",
       "      <td>10</td>\n",
       "      <td>2</td>\n",
       "      <td>1</td>\n",
       "      <td>2</td>\n",
       "      <td>1608</td>\n",
       "      <td>275</td>\n",
       "      <td>1</td>\n",
       "      <td>4</td>\n",
       "      <td>139</td>\n",
       "      <td>618822</td>\n",
       "      <td>354805</td>\n",
       "      <td>2020-01-17 12:09:36</td>\n",
       "      <td>1</td>\n",
       "    </tr>\n",
       "    <tr>\n",
       "      <th>1</th>\n",
       "      <td>1</td>\n",
       "      <td>False</td>\n",
       "      <td>False</td>\n",
       "      <td>False</td>\n",
       "      <td>True</td>\n",
       "      <td>True</td>\n",
       "      <td>False</td>\n",
       "      <td>1</td>\n",
       "      <td>3</td>\n",
       "      <td>4</td>\n",
       "      <td>1</td>\n",
       "      <td>114</td>\n",
       "      <td>181</td>\n",
       "      <td>175</td>\n",
       "      <td>4</td>\n",
       "      <td>1</td>\n",
       "      <td>1</td>\n",
       "      <td>131</td>\n",
       "      <td>101</td>\n",
       "      <td>96</td>\n",
       "      <td>1</td>\n",
       "      <td>3</td>\n",
       "      <td>5</td>\n",
       "      <td>1</td>\n",
       "      <td>1</td>\n",
       "      <td>2</td>\n",
       "      <td>1608</td>\n",
       "      <td>275</td>\n",
       "      <td>1</td>\n",
       "      <td>4</td>\n",
       "      <td>133</td>\n",
       "      <td>571659</td>\n",
       "      <td>346213</td>\n",
       "      <td>2020-06-18 17:48:52</td>\n",
       "      <td>0</td>\n",
       "    </tr>\n",
       "    <tr>\n",
       "      <th>2</th>\n",
       "      <td>2</td>\n",
       "      <td>False</td>\n",
       "      <td>False</td>\n",
       "      <td>False</td>\n",
       "      <td>True</td>\n",
       "      <td>False</td>\n",
       "      <td>False</td>\n",
       "      <td>2</td>\n",
       "      <td>0</td>\n",
       "      <td>3</td>\n",
       "      <td>5</td>\n",
       "      <td>464</td>\n",
       "      <td>175</td>\n",
       "      <td>452</td>\n",
       "      <td>3</td>\n",
       "      <td>1</td>\n",
       "      <td>1</td>\n",
       "      <td>54</td>\n",
       "      <td>263</td>\n",
       "      <td>56</td>\n",
       "      <td>3</td>\n",
       "      <td>1</td>\n",
       "      <td>10</td>\n",
       "      <td>2</td>\n",
       "      <td>1</td>\n",
       "      <td>1</td>\n",
       "      <td>1600</td>\n",
       "      <td>94</td>\n",
       "      <td>1</td>\n",
       "      <td>4</td>\n",
       "      <td>53</td>\n",
       "      <td>399816</td>\n",
       "      <td>206408</td>\n",
       "      <td>2020-07-08 20:00:10</td>\n",
       "      <td>0</td>\n",
       "    </tr>\n",
       "    <tr>\n",
       "      <th>3</th>\n",
       "      <td>3</td>\n",
       "      <td>False</td>\n",
       "      <td>False</td>\n",
       "      <td>False</td>\n",
       "      <td>True</td>\n",
       "      <td>False</td>\n",
       "      <td>False</td>\n",
       "      <td>2</td>\n",
       "      <td>0</td>\n",
       "      <td>2</td>\n",
       "      <td>5</td>\n",
       "      <td>703</td>\n",
       "      <td>705</td>\n",
       "      <td>704</td>\n",
       "      <td>3</td>\n",
       "      <td>1</td>\n",
       "      <td>1</td>\n",
       "      <td>72</td>\n",
       "      <td>227</td>\n",
       "      <td>2</td>\n",
       "      <td>1</td>\n",
       "      <td>3</td>\n",
       "      <td>5</td>\n",
       "      <td>1</td>\n",
       "      <td>1</td>\n",
       "      <td>2</td>\n",
       "      <td>1608</td>\n",
       "      <td>275</td>\n",
       "      <td>5</td>\n",
       "      <td>3</td>\n",
       "      <td>74</td>\n",
       "      <td>827967</td>\n",
       "      <td>572323</td>\n",
       "      <td>2020-01-13 18:09:34</td>\n",
       "      <td>0</td>\n",
       "    </tr>\n",
       "    <tr>\n",
       "      <th>4</th>\n",
       "      <td>4</td>\n",
       "      <td>True</td>\n",
       "      <td>True</td>\n",
       "      <td>True</td>\n",
       "      <td>False</td>\n",
       "      <td>False</td>\n",
       "      <td>False</td>\n",
       "      <td>1</td>\n",
       "      <td>3</td>\n",
       "      <td>4</td>\n",
       "      <td>5</td>\n",
       "      <td>275</td>\n",
       "      <td>370</td>\n",
       "      <td>369</td>\n",
       "      <td>4</td>\n",
       "      <td>1</td>\n",
       "      <td>1</td>\n",
       "      <td>214</td>\n",
       "      <td>210</td>\n",
       "      <td>209</td>\n",
       "      <td>1</td>\n",
       "      <td>1</td>\n",
       "      <td>10</td>\n",
       "      <td>2</td>\n",
       "      <td>1</td>\n",
       "      <td>2</td>\n",
       "      <td>1608</td>\n",
       "      <td>275</td>\n",
       "      <td>1</td>\n",
       "      <td>4</td>\n",
       "      <td>74</td>\n",
       "      <td>831614</td>\n",
       "      <td>573899</td>\n",
       "      <td>2020-03-09 20:39:22</td>\n",
       "      <td>0</td>\n",
       "    </tr>\n",
       "  </tbody>\n",
       "</table>\n",
       "</div>"
      ],
      "text/plain": [
       "   id  d_l_match_yn  d_m_match_yn  d_s_match_yn  h_l_match_yn  h_m_match_yn  \\\n",
       "0   0          True          True          True         False         False   \n",
       "1   1         False         False         False          True          True   \n",
       "2   2         False         False         False          True         False   \n",
       "3   3         False         False         False          True         False   \n",
       "4   4          True          True          True         False         False   \n",
       "\n",
       "   h_s_match_yn  person_attribute_a  person_attribute_a_1  person_attribute_b  \\\n",
       "0         False                   1                     4                   3   \n",
       "1         False                   1                     3                   4   \n",
       "2         False                   2                     0                   3   \n",
       "3         False                   2                     0                   2   \n",
       "4         False                   1                     3                   4   \n",
       "\n",
       "   person_prefer_c  person_prefer_d_1  person_prefer_d_2  person_prefer_d_3  \\\n",
       "0                5                275                370                369   \n",
       "1                1                114                181                175   \n",
       "2                5                464                175                452   \n",
       "3                5                703                705                704   \n",
       "4                5                275                370                369   \n",
       "\n",
       "   person_prefer_e  person_prefer_f  person_prefer_g  person_prefer_h_1  \\\n",
       "0                8                1                1                  4   \n",
       "1                4                1                1                131   \n",
       "2                3                1                1                 54   \n",
       "3                3                1                1                 72   \n",
       "4                4                1                1                214   \n",
       "\n",
       "   person_prefer_h_2  person_prefer_h_3  contents_attribute_i  \\\n",
       "0                 95                 59                     3   \n",
       "1                101                 96                     1   \n",
       "2                263                 56                     3   \n",
       "3                227                  2                     1   \n",
       "4                210                209                     1   \n",
       "\n",
       "   contents_attribute_a  contents_attribute_j_1  contents_attribute_j  \\\n",
       "0                     3                      10                     2   \n",
       "1                     3                       5                     1   \n",
       "2                     1                      10                     2   \n",
       "3                     3                       5                     1   \n",
       "4                     1                      10                     2   \n",
       "\n",
       "   contents_attribute_c  contents_attribute_k  contents_attribute_l  \\\n",
       "0                     1                     2                  1608   \n",
       "1                     1                     2                  1608   \n",
       "2                     1                     1                  1600   \n",
       "3                     1                     2                  1608   \n",
       "4                     1                     2                  1608   \n",
       "\n",
       "   contents_attribute_d  contents_attribute_m  contents_attribute_e  \\\n",
       "0                   275                     1                     4   \n",
       "1                   275                     1                     4   \n",
       "2                    94                     1                     4   \n",
       "3                   275                     5                     3   \n",
       "4                   275                     1                     4   \n",
       "\n",
       "   contents_attribute_h  person_rn  contents_rn     contents_open_dt  target  \n",
       "0                   139     618822       354805  2020-01-17 12:09:36       1  \n",
       "1                   133     571659       346213  2020-06-18 17:48:52       0  \n",
       "2                    53     399816       206408  2020-07-08 20:00:10       0  \n",
       "3                    74     827967       572323  2020-01-13 18:09:34       0  \n",
       "4                    74     831614       573899  2020-03-09 20:39:22       0  "
      ]
     },
     "execution_count": 9,
     "metadata": {},
     "output_type": "execute_result"
    }
   ],
   "source": [
    "train.head()"
   ]
  },
  {
   "cell_type": "markdown",
   "metadata": {},
   "source": [
    "# 필요 데이터 추출\n",
    "\n",
    "모델 학습시 id는 제외해야하고\n",
    "\n",
    "베이스라인에선 contents_open_dt를 제거하고 진행하였습니다"
   ]
  },
  {
   "cell_type": "code",
   "execution_count": 27,
   "metadata": {
    "ExecuteTime": {
     "end_time": "2021-12-20T04:18:06.981867Z",
     "start_time": "2021-12-20T04:18:06.871776Z"
    }
   },
   "outputs": [],
   "source": [
    "train = train.drop(['id', 'contents_open_dt'], axis=1) \n",
    "\n",
    "test = test.drop(['id', 'contents_open_dt'], axis=1)"
   ]
  },
  {
   "cell_type": "code",
   "execution_count": 28,
   "metadata": {
    "ExecuteTime": {
     "end_time": "2021-12-20T04:19:10.023445Z",
     "start_time": "2021-12-20T04:19:09.990351Z"
    },
    "scrolled": true
   },
   "outputs": [
    {
     "data": {
      "text/html": [
       "<div>\n",
       "<style scoped>\n",
       "    .dataframe tbody tr th:only-of-type {\n",
       "        vertical-align: middle;\n",
       "    }\n",
       "\n",
       "    .dataframe tbody tr th {\n",
       "        vertical-align: top;\n",
       "    }\n",
       "\n",
       "    .dataframe thead th {\n",
       "        text-align: right;\n",
       "    }\n",
       "</style>\n",
       "<table border=\"1\" class=\"dataframe\">\n",
       "  <thead>\n",
       "    <tr style=\"text-align: right;\">\n",
       "      <th></th>\n",
       "      <th>d_l_match_yn</th>\n",
       "      <th>d_m_match_yn</th>\n",
       "      <th>d_s_match_yn</th>\n",
       "      <th>h_l_match_yn</th>\n",
       "      <th>h_m_match_yn</th>\n",
       "      <th>h_s_match_yn</th>\n",
       "      <th>person_attribute_a</th>\n",
       "      <th>person_attribute_a_1</th>\n",
       "      <th>person_attribute_b</th>\n",
       "      <th>person_prefer_c</th>\n",
       "      <th>person_prefer_d_1</th>\n",
       "      <th>person_prefer_d_2</th>\n",
       "      <th>person_prefer_d_3</th>\n",
       "      <th>person_prefer_e</th>\n",
       "      <th>person_prefer_f</th>\n",
       "      <th>person_prefer_g</th>\n",
       "      <th>person_prefer_h_1</th>\n",
       "      <th>person_prefer_h_2</th>\n",
       "      <th>person_prefer_h_3</th>\n",
       "      <th>contents_attribute_i</th>\n",
       "      <th>contents_attribute_a</th>\n",
       "      <th>contents_attribute_j_1</th>\n",
       "      <th>contents_attribute_j</th>\n",
       "      <th>contents_attribute_c</th>\n",
       "      <th>contents_attribute_k</th>\n",
       "      <th>contents_attribute_l</th>\n",
       "      <th>contents_attribute_d</th>\n",
       "      <th>contents_attribute_m</th>\n",
       "      <th>contents_attribute_e</th>\n",
       "      <th>contents_attribute_h</th>\n",
       "      <th>person_rn</th>\n",
       "      <th>contents_rn</th>\n",
       "      <th>target</th>\n",
       "    </tr>\n",
       "  </thead>\n",
       "  <tbody>\n",
       "    <tr>\n",
       "      <th>0</th>\n",
       "      <td>True</td>\n",
       "      <td>True</td>\n",
       "      <td>True</td>\n",
       "      <td>False</td>\n",
       "      <td>False</td>\n",
       "      <td>False</td>\n",
       "      <td>1</td>\n",
       "      <td>4</td>\n",
       "      <td>3</td>\n",
       "      <td>5</td>\n",
       "      <td>275</td>\n",
       "      <td>370</td>\n",
       "      <td>369</td>\n",
       "      <td>8</td>\n",
       "      <td>1</td>\n",
       "      <td>1</td>\n",
       "      <td>4</td>\n",
       "      <td>95</td>\n",
       "      <td>59</td>\n",
       "      <td>3</td>\n",
       "      <td>3</td>\n",
       "      <td>10</td>\n",
       "      <td>2</td>\n",
       "      <td>1</td>\n",
       "      <td>2</td>\n",
       "      <td>1608</td>\n",
       "      <td>275</td>\n",
       "      <td>1</td>\n",
       "      <td>4</td>\n",
       "      <td>139</td>\n",
       "      <td>618822</td>\n",
       "      <td>354805</td>\n",
       "      <td>1</td>\n",
       "    </tr>\n",
       "    <tr>\n",
       "      <th>1</th>\n",
       "      <td>False</td>\n",
       "      <td>False</td>\n",
       "      <td>False</td>\n",
       "      <td>True</td>\n",
       "      <td>True</td>\n",
       "      <td>False</td>\n",
       "      <td>1</td>\n",
       "      <td>3</td>\n",
       "      <td>4</td>\n",
       "      <td>1</td>\n",
       "      <td>114</td>\n",
       "      <td>181</td>\n",
       "      <td>175</td>\n",
       "      <td>4</td>\n",
       "      <td>1</td>\n",
       "      <td>1</td>\n",
       "      <td>131</td>\n",
       "      <td>101</td>\n",
       "      <td>96</td>\n",
       "      <td>1</td>\n",
       "      <td>3</td>\n",
       "      <td>5</td>\n",
       "      <td>1</td>\n",
       "      <td>1</td>\n",
       "      <td>2</td>\n",
       "      <td>1608</td>\n",
       "      <td>275</td>\n",
       "      <td>1</td>\n",
       "      <td>4</td>\n",
       "      <td>133</td>\n",
       "      <td>571659</td>\n",
       "      <td>346213</td>\n",
       "      <td>0</td>\n",
       "    </tr>\n",
       "    <tr>\n",
       "      <th>2</th>\n",
       "      <td>False</td>\n",
       "      <td>False</td>\n",
       "      <td>False</td>\n",
       "      <td>True</td>\n",
       "      <td>False</td>\n",
       "      <td>False</td>\n",
       "      <td>2</td>\n",
       "      <td>0</td>\n",
       "      <td>3</td>\n",
       "      <td>5</td>\n",
       "      <td>464</td>\n",
       "      <td>175</td>\n",
       "      <td>452</td>\n",
       "      <td>3</td>\n",
       "      <td>1</td>\n",
       "      <td>1</td>\n",
       "      <td>54</td>\n",
       "      <td>263</td>\n",
       "      <td>56</td>\n",
       "      <td>3</td>\n",
       "      <td>1</td>\n",
       "      <td>10</td>\n",
       "      <td>2</td>\n",
       "      <td>1</td>\n",
       "      <td>1</td>\n",
       "      <td>1600</td>\n",
       "      <td>94</td>\n",
       "      <td>1</td>\n",
       "      <td>4</td>\n",
       "      <td>53</td>\n",
       "      <td>399816</td>\n",
       "      <td>206408</td>\n",
       "      <td>0</td>\n",
       "    </tr>\n",
       "    <tr>\n",
       "      <th>3</th>\n",
       "      <td>False</td>\n",
       "      <td>False</td>\n",
       "      <td>False</td>\n",
       "      <td>True</td>\n",
       "      <td>False</td>\n",
       "      <td>False</td>\n",
       "      <td>2</td>\n",
       "      <td>0</td>\n",
       "      <td>2</td>\n",
       "      <td>5</td>\n",
       "      <td>703</td>\n",
       "      <td>705</td>\n",
       "      <td>704</td>\n",
       "      <td>3</td>\n",
       "      <td>1</td>\n",
       "      <td>1</td>\n",
       "      <td>72</td>\n",
       "      <td>227</td>\n",
       "      <td>2</td>\n",
       "      <td>1</td>\n",
       "      <td>3</td>\n",
       "      <td>5</td>\n",
       "      <td>1</td>\n",
       "      <td>1</td>\n",
       "      <td>2</td>\n",
       "      <td>1608</td>\n",
       "      <td>275</td>\n",
       "      <td>5</td>\n",
       "      <td>3</td>\n",
       "      <td>74</td>\n",
       "      <td>827967</td>\n",
       "      <td>572323</td>\n",
       "      <td>0</td>\n",
       "    </tr>\n",
       "    <tr>\n",
       "      <th>4</th>\n",
       "      <td>True</td>\n",
       "      <td>True</td>\n",
       "      <td>True</td>\n",
       "      <td>False</td>\n",
       "      <td>False</td>\n",
       "      <td>False</td>\n",
       "      <td>1</td>\n",
       "      <td>3</td>\n",
       "      <td>4</td>\n",
       "      <td>5</td>\n",
       "      <td>275</td>\n",
       "      <td>370</td>\n",
       "      <td>369</td>\n",
       "      <td>4</td>\n",
       "      <td>1</td>\n",
       "      <td>1</td>\n",
       "      <td>214</td>\n",
       "      <td>210</td>\n",
       "      <td>209</td>\n",
       "      <td>1</td>\n",
       "      <td>1</td>\n",
       "      <td>10</td>\n",
       "      <td>2</td>\n",
       "      <td>1</td>\n",
       "      <td>2</td>\n",
       "      <td>1608</td>\n",
       "      <td>275</td>\n",
       "      <td>1</td>\n",
       "      <td>4</td>\n",
       "      <td>74</td>\n",
       "      <td>831614</td>\n",
       "      <td>573899</td>\n",
       "      <td>0</td>\n",
       "    </tr>\n",
       "  </tbody>\n",
       "</table>\n",
       "</div>"
      ],
      "text/plain": [
       "   d_l_match_yn  d_m_match_yn  d_s_match_yn  h_l_match_yn  h_m_match_yn  \\\n",
       "0          True          True          True         False         False   \n",
       "1         False         False         False          True          True   \n",
       "2         False         False         False          True         False   \n",
       "3         False         False         False          True         False   \n",
       "4          True          True          True         False         False   \n",
       "\n",
       "   h_s_match_yn  person_attribute_a  person_attribute_a_1  person_attribute_b  \\\n",
       "0         False                   1                     4                   3   \n",
       "1         False                   1                     3                   4   \n",
       "2         False                   2                     0                   3   \n",
       "3         False                   2                     0                   2   \n",
       "4         False                   1                     3                   4   \n",
       "\n",
       "   person_prefer_c  person_prefer_d_1  person_prefer_d_2  person_prefer_d_3  \\\n",
       "0                5                275                370                369   \n",
       "1                1                114                181                175   \n",
       "2                5                464                175                452   \n",
       "3                5                703                705                704   \n",
       "4                5                275                370                369   \n",
       "\n",
       "   person_prefer_e  person_prefer_f  person_prefer_g  person_prefer_h_1  \\\n",
       "0                8                1                1                  4   \n",
       "1                4                1                1                131   \n",
       "2                3                1                1                 54   \n",
       "3                3                1                1                 72   \n",
       "4                4                1                1                214   \n",
       "\n",
       "   person_prefer_h_2  person_prefer_h_3  contents_attribute_i  \\\n",
       "0                 95                 59                     3   \n",
       "1                101                 96                     1   \n",
       "2                263                 56                     3   \n",
       "3                227                  2                     1   \n",
       "4                210                209                     1   \n",
       "\n",
       "   contents_attribute_a  contents_attribute_j_1  contents_attribute_j  \\\n",
       "0                     3                      10                     2   \n",
       "1                     3                       5                     1   \n",
       "2                     1                      10                     2   \n",
       "3                     3                       5                     1   \n",
       "4                     1                      10                     2   \n",
       "\n",
       "   contents_attribute_c  contents_attribute_k  contents_attribute_l  \\\n",
       "0                     1                     2                  1608   \n",
       "1                     1                     2                  1608   \n",
       "2                     1                     1                  1600   \n",
       "3                     1                     2                  1608   \n",
       "4                     1                     2                  1608   \n",
       "\n",
       "   contents_attribute_d  contents_attribute_m  contents_attribute_e  \\\n",
       "0                   275                     1                     4   \n",
       "1                   275                     1                     4   \n",
       "2                    94                     1                     4   \n",
       "3                   275                     5                     3   \n",
       "4                   275                     1                     4   \n",
       "\n",
       "   contents_attribute_h  person_rn  contents_rn  target  \n",
       "0                   139     618822       354805       1  \n",
       "1                   133     571659       346213       0  \n",
       "2                    53     399816       206408       0  \n",
       "3                    74     827967       572323       0  \n",
       "4                    74     831614       573899       0  "
      ]
     },
     "execution_count": 28,
     "metadata": {},
     "output_type": "execute_result"
    }
   ],
   "source": [
    "train.head()"
   ]
  },
  {
   "cell_type": "markdown",
   "metadata": {},
   "source": [
    "# 데이터 탐색"
   ]
  },
  {
   "cell_type": "code",
   "execution_count": 113,
   "metadata": {
    "ExecuteTime": {
     "end_time": "2021-12-22T07:25:42.527126Z",
     "start_time": "2021-12-22T07:25:40.711898Z"
    }
   },
   "outputs": [
    {
     "data": {
      "text/plain": [
       "target                    1.000000\n",
       "d_l_match_yn              0.142670\n",
       "d_m_match_yn              0.118406\n",
       "d_s_match_yn              0.087591\n",
       "person_prefer_e           0.032915\n",
       "contents_attribute_e      0.024869\n",
       "contents_attribute_k      0.023783\n",
       "person_attribute_a_1      0.022103\n",
       "h_l_match_yn              0.018988\n",
       "person_prefer_c           0.016768\n",
       "contents_attribute_i      0.014837\n",
       "h_s_match_yn              0.006311\n",
       "h_m_match_yn              0.004264\n",
       "person_attribute_b       -0.003641\n",
       "contents_attribute_a     -0.008566\n",
       "contents_attribute_j_1   -0.010707\n",
       "person_attribute_a       -0.015284\n",
       "contents_attribute_m     -0.015300\n",
       "contents_attribute_l     -0.023740\n",
       "person_prefer_d_3        -0.023895\n",
       "person_prefer_d_2        -0.028528\n",
       "person_prefer_d_1        -0.029676\n",
       "person_prefer_h_3        -0.029770\n",
       "person_rn                -0.031704\n",
       "contents_rn              -0.035738\n",
       "person_prefer_h_2        -0.035839\n",
       "contents_attribute_j     -0.036308\n",
       "person_prefer_h_1        -0.043870\n",
       "contents_attribute_h     -0.047302\n",
       "contents_attribute_c     -0.050670\n",
       "contents_attribute_d     -0.069321\n",
       "person_prefer_f                NaN\n",
       "person_prefer_g                NaN\n",
       "Name: target, dtype: float64"
      ]
     },
     "execution_count": 113,
     "metadata": {},
     "output_type": "execute_result"
    }
   ],
   "source": [
    "corr_matrix = train.corr()\n",
    "corr_matrix['target'].sort_values(ascending=False)"
   ]
  },
  {
   "cell_type": "markdown",
   "metadata": {},
   "source": [
    "# 데이터 나누기"
   ]
  },
  {
   "cell_type": "code",
   "execution_count": 31,
   "metadata": {
    "ExecuteTime": {
     "end_time": "2021-12-20T04:24:45.110147Z",
     "start_time": "2021-12-20T04:24:45.015088Z"
    }
   },
   "outputs": [],
   "source": [
    "X = train.iloc[:, :-1]\n",
    "y = train.iloc[:, -1:]"
   ]
  },
  {
   "cell_type": "code",
   "execution_count": 86,
   "metadata": {
    "ExecuteTime": {
     "end_time": "2021-12-22T05:55:33.517296Z",
     "start_time": "2021-12-22T05:55:33.506841Z"
    }
   },
   "outputs": [
    {
     "data": {
      "text/plain": [
       "(501951, 32)"
      ]
     },
     "execution_count": 86,
     "metadata": {},
     "output_type": "execute_result"
    }
   ],
   "source": [
    "X.shape"
   ]
  },
  {
   "cell_type": "code",
   "execution_count": 90,
   "metadata": {
    "ExecuteTime": {
     "end_time": "2021-12-22T05:57:13.712169Z",
     "start_time": "2021-12-22T05:57:13.688178Z"
    }
   },
   "outputs": [],
   "source": [
    "drop_columns = ['d_m_match_yn', 'h_m_match_yn', 'h_s_match_yn', 'h_l_match_yn', 'contents_attribute_j', 'd_s_match_yn', 'contents_attribute_k', 'person_prefer_f', 'person_prefer_g']"
   ]
  },
  {
   "cell_type": "code",
   "execution_count": 91,
   "metadata": {
    "ExecuteTime": {
     "end_time": "2021-12-22T05:57:15.206010Z",
     "start_time": "2021-12-22T05:57:15.085361Z"
    }
   },
   "outputs": [],
   "source": [
    "X.drop(drop_columns, axis=1, inplace=True)"
   ]
  },
  {
   "cell_type": "code",
   "execution_count": 92,
   "metadata": {
    "ExecuteTime": {
     "end_time": "2021-12-22T05:57:17.986928Z",
     "start_time": "2021-12-22T05:57:17.972260Z"
    }
   },
   "outputs": [
    {
     "data": {
      "text/plain": [
       "(501951, 23)"
      ]
     },
     "execution_count": 92,
     "metadata": {},
     "output_type": "execute_result"
    }
   ],
   "source": [
    "X.shape"
   ]
  },
  {
   "cell_type": "code",
   "execution_count": 93,
   "metadata": {
    "ExecuteTime": {
     "end_time": "2021-12-22T05:57:26.523258Z",
     "start_time": "2021-12-22T05:57:22.678491Z"
    }
   },
   "outputs": [],
   "source": [
    "X_train, X_test, y_train, y_test =  train_test_split(X, y, test_size=0.33, stratify=y, random_state=42)"
   ]
  },
  {
   "cell_type": "markdown",
   "metadata": {},
   "source": [
    "# 모델 학습\n",
    "\n",
    "RandomForest를 이용한 학습"
   ]
  },
  {
   "cell_type": "markdown",
   "metadata": {},
   "source": [
    "## RandomForest "
   ]
  },
  {
   "cell_type": "code",
   "execution_count": 94,
   "metadata": {
    "ExecuteTime": {
     "end_time": "2021-12-22T05:59:00.275922Z",
     "start_time": "2021-12-22T05:57:41.748663Z"
    }
   },
   "outputs": [
    {
     "data": {
      "text/plain": [
       "RandomForestClassifier(max_depth=60, n_estimators=300, n_jobs=-1)"
      ]
     },
     "execution_count": 94,
     "metadata": {},
     "output_type": "execute_result"
    }
   ],
   "source": [
    "model = RandomForestClassifier(n_estimators=300, max_depth=60, n_jobs=-1)\n",
    "\n",
    "\n",
    "model.fit(X_train, y_train)"
   ]
  },
  {
   "cell_type": "markdown",
   "metadata": {},
   "source": [
    "## xgboost"
   ]
  },
  {
   "cell_type": "code",
   "execution_count": 107,
   "metadata": {
    "ExecuteTime": {
     "end_time": "2021-12-22T06:46:39.328762Z",
     "start_time": "2021-12-22T06:46:39.312766Z"
    }
   },
   "outputs": [],
   "source": [
    "xgb = XGBClassifier(n_estimators=500, learning_rate=0.1, max_depth=6)"
   ]
  },
  {
   "cell_type": "code",
   "execution_count": 108,
   "metadata": {
    "ExecuteTime": {
     "end_time": "2021-12-22T06:48:08.158532Z",
     "start_time": "2021-12-22T06:46:40.188594Z"
    }
   },
   "outputs": [
    {
     "name": "stdout",
     "output_type": "stream",
     "text": [
      "[15:46:40] WARNING: C:/Users/Administrator/workspace/xgboost-win64_release_1.5.0/src/learner.cc:1115: Starting in XGBoost 1.3.0, the default evaluation metric used with the objective 'binary:logistic' was changed from 'error' to 'logloss'. Explicitly set eval_metric if you'd like to restore the old behavior.\n"
     ]
    },
    {
     "data": {
      "text/plain": [
       "XGBClassifier(base_score=0.5, booster='gbtree', colsample_bylevel=1,\n",
       "              colsample_bynode=1, colsample_bytree=1, enable_categorical=False,\n",
       "              gamma=0, gpu_id=-1, importance_type=None,\n",
       "              interaction_constraints='', learning_rate=0.1, max_delta_step=0,\n",
       "              max_depth=6, min_child_weight=1, missing=nan,\n",
       "              monotone_constraints='()', n_estimators=500, n_jobs=6,\n",
       "              num_parallel_tree=1, predictor='auto', random_state=0,\n",
       "              reg_alpha=0, reg_lambda=1, scale_pos_weight=1, subsample=1,\n",
       "              tree_method='exact', validate_parameters=1, verbosity=None)"
      ]
     },
     "execution_count": 108,
     "metadata": {},
     "output_type": "execute_result"
    }
   ],
   "source": [
    "xgb.fit(X_train, y_train)"
   ]
  },
  {
   "cell_type": "markdown",
   "metadata": {},
   "source": [
    "### 하이퍼파라미터 튜닝"
   ]
  },
  {
   "cell_type": "code",
   "execution_count": 57,
   "metadata": {
    "ExecuteTime": {
     "end_time": "2021-12-21T02:00:50.006334Z",
     "start_time": "2021-12-20T05:21:22.264850Z"
    }
   },
   "outputs": [
    {
     "name": "stdout",
     "output_type": "stream",
     "text": [
      "Fitting 5 folds for each of 80 candidates, totalling 400 fits\n",
      "[10:56:21] WARNING: C:/Users/Administrator/workspace/xgboost-win64_release_1.5.0/src/learner.cc:1115: Starting in XGBoost 1.3.0, the default evaluation metric used with the objective 'binary:logistic' was changed from 'error' to 'logloss'. Explicitly set eval_metric if you'd like to restore the old behavior.\n"
     ]
    },
    {
     "data": {
      "text/plain": [
       "GridSearchCV(estimator=XGBClassifier(base_score=None, booster=None,\n",
       "                                     colsample_bylevel=None,\n",
       "                                     colsample_bynode=None,\n",
       "                                     colsample_bytree=None,\n",
       "                                     enable_categorical=False, gamma=None,\n",
       "                                     gpu_id=None, importance_type=None,\n",
       "                                     interaction_constraints=None,\n",
       "                                     learning_rate=None, max_delta_step=None,\n",
       "                                     max_depth=None, min_child_weight=None,\n",
       "                                     missing=nan, monotone_constraints=None,\n",
       "                                     n_est...ors=100, n_jobs=None,\n",
       "                                     num_parallel_tree=None, predictor=None,\n",
       "                                     random_state=None, reg_alpha=None,\n",
       "                                     reg_lambda=None, scale_pos_weight=None,\n",
       "                                     subsample=None, tree_method=None,\n",
       "                                     validate_parameters=None, verbosity=None),\n",
       "             n_jobs=-1,\n",
       "             param_grid={'learning_rate': [0.01, 0.05, 0.1, 0.15],\n",
       "                         'max_depth': [4, 6, 8, 10, 12],\n",
       "                         'n_estimators': [100, 200, 400, 600]},\n",
       "             scoring='accuracy', verbose=1)"
      ]
     },
     "execution_count": 57,
     "metadata": {},
     "output_type": "execute_result"
    }
   ],
   "source": [
    "xgb = XGBClassifier()\n",
    "xgb_param_grid = {\n",
    "    'n_estimators' : [100, 200, 400, 600],\n",
    "    'learning_rate' : [0.01, 0.05, 0.1, 0.15],\n",
    "    'max_depth' : [4, 6, 8, 10, 12],\n",
    "}\n",
    "\n",
    "xgb_grid = GridSearchCV(xgb, param_grid=xgb_param_grid, scoring='accuracy', n_jobs= -1, verbose=1)\n",
    "xgb_grid.fit(X_train, y_train)"
   ]
  },
  {
   "cell_type": "markdown",
   "metadata": {},
   "source": [
    "## 모델 검증"
   ]
  },
  {
   "cell_type": "code",
   "execution_count": 95,
   "metadata": {
    "ExecuteTime": {
     "end_time": "2021-12-22T05:59:01.083689Z",
     "start_time": "2021-12-22T05:59:01.069965Z"
    }
   },
   "outputs": [],
   "source": [
    "def get_metrics(y_test, pred):\n",
    "    score = [0, 0, 0]\n",
    "    score[0] = metrics.precision_score(y_test, pred) # 정확도\n",
    "    score[1] = metrics.recall_score(y_test, pred) # 재현율\n",
    "    score[2] = metrics.f1_score(y_test, pred) # f1 score\n",
    "    \n",
    "    return score"
   ]
  },
  {
   "cell_type": "markdown",
   "metadata": {},
   "source": [
    "### RandomForest"
   ]
  },
  {
   "cell_type": "code",
   "execution_count": 37,
   "metadata": {
    "ExecuteTime": {
     "end_time": "2021-12-20T04:49:38.041235Z",
     "start_time": "2021-12-20T04:49:29.978564Z"
    },
    "scrolled": true
   },
   "outputs": [
    {
     "name": "stdout",
     "output_type": "stream",
     "text": [
      "정확도:  0.6217792374006906\n"
     ]
    }
   ],
   "source": [
    "pred = model.predict(X_test)\n",
    "acc_score = accuracy_score(y_test, pred)\n",
    "print('정확도: ', acc_score)"
   ]
  },
  {
   "cell_type": "code",
   "execution_count": 46,
   "metadata": {
    "ExecuteTime": {
     "end_time": "2021-12-20T05:05:19.991784Z",
     "start_time": "2021-12-20T05:05:19.730268Z"
    },
    "scrolled": true
   },
   "outputs": [
    {
     "name": "stdout",
     "output_type": "stream",
     "text": [
      "정확도:  0.6173114356649144\n",
      "재현율:  0.6397878689039491\n",
      "f1 score:  0.6283487174619746\n"
     ]
    }
   ],
   "source": [
    "score = get_metrics(y_test, pred)\n",
    "\n",
    "print('정확도: ', score[0])\n",
    "print('재현율: ', score[1])\n",
    "print('f1 score: ', score[2])"
   ]
  },
  {
   "cell_type": "markdown",
   "metadata": {},
   "source": [
    "#### drop columns"
   ]
  },
  {
   "cell_type": "code",
   "execution_count": 96,
   "metadata": {
    "ExecuteTime": {
     "end_time": "2021-12-22T05:59:09.842311Z",
     "start_time": "2021-12-22T05:59:02.403335Z"
    },
    "scrolled": true
   },
   "outputs": [
    {
     "name": "stdout",
     "output_type": "stream",
     "text": [
      "정확도:  0.6235722392601\n"
     ]
    }
   ],
   "source": [
    "pred = model.predict(X_test)\n",
    "acc_score = accuracy_score(y_test, pred)\n",
    "print('정확도: ', acc_score)"
   ]
  },
  {
   "cell_type": "code",
   "execution_count": 97,
   "metadata": {
    "ExecuteTime": {
     "end_time": "2021-12-22T05:59:49.383565Z",
     "start_time": "2021-12-22T05:59:49.109428Z"
    }
   },
   "outputs": [
    {
     "name": "stdout",
     "output_type": "stream",
     "text": [
      "정확도:  0.6162735097226649\n",
      "재현율:  0.6539218884016478\n",
      "f1 score:  0.6345397532456114\n"
     ]
    }
   ],
   "source": [
    "score = get_metrics(y_test, pred)\n",
    "\n",
    "print('정확도: ', score[0])\n",
    "print('재현율: ', score[1])\n",
    "print('f1 score: ', score[2])"
   ]
  },
  {
   "cell_type": "markdown",
   "metadata": {},
   "source": [
    "### xgboost"
   ]
  },
  {
   "cell_type": "code",
   "execution_count": 51,
   "metadata": {
    "ExecuteTime": {
     "end_time": "2021-12-20T05:12:12.528175Z",
     "start_time": "2021-12-20T05:12:11.596644Z"
    }
   },
   "outputs": [
    {
     "name": "stdout",
     "output_type": "stream",
     "text": [
      "정확도:  0.620511458308179\n"
     ]
    }
   ],
   "source": [
    "# not drop\n",
    "pred = xgb.predict(X_test) \n",
    "acc_score = accuracy_score(y_test, pred)\n",
    "print('정확도: ', acc_score)"
   ]
  },
  {
   "cell_type": "code",
   "execution_count": 111,
   "metadata": {
    "ExecuteTime": {
     "end_time": "2021-12-22T06:50:05.268554Z",
     "start_time": "2021-12-22T06:50:04.713439Z"
    }
   },
   "outputs": [
    {
     "name": "stdout",
     "output_type": "stream",
     "text": [
      "정확도:  0.6239465359445558\n"
     ]
    }
   ],
   "source": [
    "# drop \n",
    "pred = xgb.predict(X_test)\n",
    "acc_score = accuracy_score(y_test, pred)\n",
    "print('정확도: ', acc_score)"
   ]
  },
  {
   "cell_type": "code",
   "execution_count": 59,
   "metadata": {
    "ExecuteTime": {
     "end_time": "2021-12-22T00:45:29.565301Z",
     "start_time": "2021-12-22T00:45:25.870158Z"
    }
   },
   "outputs": [
    {
     "name": "stdout",
     "output_type": "stream",
     "text": [
      "정확도:  0.6345838062350583\n"
     ]
    }
   ],
   "source": [
    "pred2 = xgb_grid.predict(X_test)\n",
    "acc_score = accuracy_score(y_test, pred2)\n",
    "print('정확도: ', acc_score)"
   ]
  },
  {
   "cell_type": "code",
   "execution_count": 60,
   "metadata": {
    "ExecuteTime": {
     "end_time": "2021-12-22T00:45:44.131345Z",
     "start_time": "2021-12-22T00:45:43.852561Z"
    }
   },
   "outputs": [
    {
     "name": "stdout",
     "output_type": "stream",
     "text": [
      "정확도:  0.624949458645941\n",
      "재현율:  0.6721873905217507\n",
      "f1 score:  0.6477082908942757\n"
     ]
    }
   ],
   "source": [
    "score = get_metrics(y_test, pred2)\n",
    "\n",
    "print('정확도: ', score[0])\n",
    "print('재현율: ', score[1])\n",
    "print('f1 score: ', score[2])"
   ]
  },
  {
   "cell_type": "code",
   "execution_count": 52,
   "metadata": {
    "ExecuteTime": {
     "end_time": "2021-12-20T05:12:14.740987Z",
     "start_time": "2021-12-20T05:12:14.481239Z"
    }
   },
   "outputs": [
    {
     "name": "stdout",
     "output_type": "stream",
     "text": [
      "정확도:  0.6100898670233345\n",
      "재현율:  0.666751229176482\n",
      "f1 score:  0.6371633399905338\n"
     ]
    }
   ],
   "source": [
    "score = get_metrics(y_test, pred)\n",
    "\n",
    "print('정확도: ', score[0])\n",
    "print('재현율: ', score[1])\n",
    "print('f1 score: ', score[2])"
   ]
  },
  {
   "cell_type": "markdown",
   "metadata": {},
   "source": [
    "#### drop columns"
   ]
  },
  {
   "cell_type": "code",
   "execution_count": 101,
   "metadata": {
    "ExecuteTime": {
     "end_time": "2021-12-22T06:24:43.710841Z",
     "start_time": "2021-12-22T06:24:43.140842Z"
    }
   },
   "outputs": [
    {
     "name": "stdout",
     "output_type": "stream",
     "text": [
      "정확도:  0.6049962570331554\n"
     ]
    }
   ],
   "source": [
    "pred_1 = xgb.predict(X_test)\n",
    "acc_score = accuracy_score(y_test, pred_1)\n",
    "print('정확도: ', acc_score)"
   ]
  },
  {
   "cell_type": "code",
   "execution_count": 102,
   "metadata": {
    "ExecuteTime": {
     "end_time": "2021-12-22T06:25:15.343065Z",
     "start_time": "2021-12-22T06:25:15.072204Z"
    }
   },
   "outputs": [
    {
     "name": "stdout",
     "output_type": "stream",
     "text": [
      "정확도:  0.5916588298692927\n",
      "재현율:  0.6764275963710603\n",
      "f1 score:  0.6312099110575026\n"
     ]
    }
   ],
   "source": [
    "score = get_metrics(y_test, pred_1)\n",
    "\n",
    "print('정확도: ', score[0])\n",
    "print('재현율: ', score[1])\n",
    "print('f1 score: ', score[2])"
   ]
  },
  {
   "cell_type": "markdown",
   "metadata": {},
   "source": [
    "# feature importance"
   ]
  },
  {
   "cell_type": "code",
   "execution_count": 65,
   "metadata": {
    "ExecuteTime": {
     "end_time": "2021-12-22T05:35:05.340083Z",
     "start_time": "2021-12-22T05:35:04.988478Z"
    }
   },
   "outputs": [],
   "source": [
    "importances = model.feature_importances_"
   ]
  },
  {
   "cell_type": "code",
   "execution_count": 69,
   "metadata": {
    "ExecuteTime": {
     "end_time": "2021-12-22T05:36:09.172990Z",
     "start_time": "2021-12-22T05:36:08.116648Z"
    }
   },
   "outputs": [],
   "source": [
    "import matplotlib.pyplot as plt"
   ]
  },
  {
   "cell_type": "code",
   "execution_count": 80,
   "metadata": {
    "ExecuteTime": {
     "end_time": "2021-12-22T05:41:44.808717Z",
     "start_time": "2021-12-22T05:41:43.579179Z"
    },
    "scrolled": false
   },
   "outputs": [
    {
     "name": "stdout",
     "output_type": "stream",
     "text": [
      "Feature Ranking: \n",
      "1. feature contents_rn (0.083)\n",
      "2. feature person_rn (0.082)\n",
      "3. feature contents_attribute_l (0.081)\n",
      "4. feature contents_attribute_d (0.070)\n",
      "5. feature person_prefer_d_2 (0.063)\n",
      "6. feature person_prefer_d_1 (0.060)\n",
      "7. feature contents_attribute_h (0.059)\n",
      "8. feature person_prefer_d_3 (0.058)\n",
      "9. feature person_prefer_h_2 (0.054)\n",
      "10. feature person_prefer_h_3 (0.050)\n",
      "11. feature person_prefer_h_1 (0.048)\n",
      "12. feature person_attribute_a_1 (0.038)\n",
      "13. feature person_prefer_e (0.033)\n",
      "14. feature contents_attribute_e (0.029)\n",
      "15. feature person_attribute_b (0.024)\n",
      "16. feature contents_attribute_m (0.024)\n",
      "17. feature person_prefer_c (0.018)\n",
      "18. feature contents_attribute_j_1 (0.018)\n",
      "19. feature contents_attribute_i (0.018)\n",
      "20. feature contents_attribute_a (0.017)\n",
      "21. feature d_l_match_yn (0.012)\n",
      "22. feature contents_attribute_c (0.011)\n",
      "23. feature person_attribute_a (0.010)\n",
      "24. feature d_m_match_yn (0.008)\n",
      "25. feature h_m_match_yn (0.007)\n",
      "26. feature h_s_match_yn (0.006)\n",
      "27. feature h_l_match_yn (0.006)\n",
      "28. feature contents_attribute_j (0.005)\n",
      "29. feature d_s_match_yn (0.005)\n",
      "30. feature contents_attribute_k (0.004)\n",
      "31. feature person_prefer_f (0.000)\n",
      "32. feature person_prefer_g (0.000)\n"
     ]
    },
    {
     "data": {
      "image/png": "[encoded data removed]",
      "text/plain": [
       "<Figure size 1440x720 with 1 Axes>"
      ]
     },
     "metadata": {
      "needs_background": "light"
     },
     "output_type": "display_data"
    }
   ],
   "source": [
    "std = np.std([tree.feature_importances_ for tree in model.estimators_], axis=0)\n",
    "indices = np.argsort(importances)[::-1]\n",
    "\n",
    "print('Feature Ranking: ')\n",
    "\n",
    "for f in range(X.shape[1]):\n",
    "    print(\"{}. feature {} ({:.3f})\".format(f + 1, x.columns[indices][f], importances[indices[f]]))\n",
    "    \n",
    "    \n",
    "plt.figure(figsize =(20, 10))\n",
    "plt.title('Feature importances')\n",
    "plt.bar(range(X.shape[1]), importances[indices],\n",
    "       color='r', yerr=std[indices], align='center')\n",
    "plt.xticks(range(X.shape[1]), X.columns[indices], rotation=45, fontsize=20)\n",
    "plt.xlim([-1, X.shape[1]])\n",
    "plt.show()"
   ]
  },
  {
   "cell_type": "markdown",
   "metadata": {},
   "source": [
    "# Test set 예측"
   ]
  },
  {
   "cell_type": "code",
   "execution_count": 6,
   "metadata": {},
   "outputs": [],
   "source": [
    "preds = model.predict(test)"
   ]
  },
  {
   "cell_type": "code",
   "execution_count": 104,
   "metadata": {
    "ExecuteTime": {
     "end_time": "2021-12-22T06:26:29.130864Z",
     "start_time": "2021-12-22T06:26:28.819723Z"
    }
   },
   "outputs": [],
   "source": [
    "test2 = test.drop(drop_columns, axis=1)\n",
    "preds2 = xgb.predict(test2)"
   ]
  },
  {
   "cell_type": "code",
   "execution_count": 109,
   "metadata": {
    "ExecuteTime": {
     "end_time": "2021-12-22T06:48:09.621845Z",
     "start_time": "2021-12-22T06:48:09.034728Z"
    }
   },
   "outputs": [],
   "source": [
    "preds3 = xgb_grid.predict(test)"
   ]
  },
  {
   "cell_type": "markdown",
   "metadata": {},
   "source": [
    "# 제출파일 생성"
   ]
  },
  {
   "cell_type": "code",
   "execution_count": 7,
   "metadata": {},
   "outputs": [],
   "source": [
    "submission = pd.read_csv('sample_submission.csv')\n",
    "submission['target'] = preds\n",
    "\n",
    "submission.to_csv('baseline.csv', index=False)"
   ]
  },
  {
   "cell_type": "code",
   "execution_count": 106,
   "metadata": {
    "ExecuteTime": {
     "end_time": "2021-12-22T06:27:27.304313Z",
     "start_time": "2021-12-22T06:27:27.132850Z"
    }
   },
   "outputs": [],
   "source": [
    "submission = pd.read_csv('./data/sample_submission.csv')\n",
    "submission['target'] = preds2\n",
    "\n",
    "submission.to_csv('result1.csv', index=False)"
   ]
  },
  {
   "cell_type": "code",
   "execution_count": 112,
   "metadata": {
    "ExecuteTime": {
     "end_time": "2021-12-22T06:51:01.193248Z",
     "start_time": "2021-12-22T06:51:01.127235Z"
    }
   },
   "outputs": [],
   "source": [
    "# grid search 적용\n",
    "submission = pd.read_csv('./data/sample_submission.csv')\n",
    "submission['target'] = preds3\n",
    "\n",
    "submission.to_csv('result2.csv', index=False)"
   ]
  },
  {
   "cell_type": "code",
   "execution_count": null,
   "metadata": {},
   "outputs": [],
   "source": []
  }
 ],
 "metadata": {
  "kernelspec": {
   "display_name": "Python 3",
   "language": "python",
   "name": "python3"
  },
  "language_info": {
   "codemirror_mode": {
    "name": "ipython",
    "version": 3
   },
   "file_extension": ".py",
   "mimetype": "text/x-python",
   "name": "python",
   "nbconvert_exporter": "python",
   "pygments_lexer": "ipython3",
   "version": "3.7.1"
  },
  "toc": {
   "base_numbering": 1,
   "nav_menu": {},
   "number_sections": true,
   "sideBar": true,
   "skip_h1_title": false,
   "title_cell": "Table of Contents",
   "title_sidebar": "Contents",
   "toc_cell": false,
   "toc_position": {
    "height": "calc(100% - 180px)",
    "left": "10px",
    "top": "150px",
    "width": "303.837px"
   },
   "toc_section_display": true,
   "toc_window_display": true
  },
  "varInspector": {
   "cols": {
    "lenName": 16,
    "lenType": 16,
    "lenVar": 40
   },
   "kernels_config": {
    "python": {
     "delete_cmd_postfix": "",
     "delete_cmd_prefix": "del ",
     "library": "var_list.py",
     "varRefreshCmd": "print(var_dic_list())"
    },
    "r": {
     "delete_cmd_postfix": ") ",
     "delete_cmd_prefix": "rm(",
     "library": "var_list.r",
     "varRefreshCmd": "cat(var_dic_list()) "
    }
   },
   "types_to_exclude": [
    "module",
    "function",
    "builtin_function_or_method",
    "instance",
    "_Feature"
   ],
   "window_display": false
  }
 },
 "nbformat": 4,
 "nbformat_minor": 4
}
