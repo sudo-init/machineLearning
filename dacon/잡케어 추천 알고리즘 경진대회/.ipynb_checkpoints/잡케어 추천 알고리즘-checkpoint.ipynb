{
 "cells": [
  {
   "cell_type": "markdown",
   "metadata": {},
   "source": [
    "# 필요 패키지 import"
   ]
  },
  {
   "cell_type": "code",
   "execution_count": 4,
   "metadata": {
    "ExecuteTime": {
     "end_time": "2022-02-24T07:01:39.993551Z",
     "start_time": "2022-02-24T07:01:39.973551Z"
    }
   },
   "outputs": [],
   "source": [
    "import pandas as pd\n",
    "import numpy as np\n",
    "from tqdm import tqdm\n",
    "from sklearn.preprocessing import LabelEncoder\n",
    "from sklearn.ensemble import RandomForestClassifier\n",
    "from sklearn import metrics\n",
    "from sklearn.metrics import f1_score, accuracy_score, precision_score, recall_score\n",
    "from sklearn.model_selection import train_test_split, GridSearchCV\n",
    "\n",
    "from xgboost import plot_importance, XGBClassifier\n",
    "\n",
    "\n",
    "import warnings\n",
    "warnings.filterwarnings(action='ignore')\n",
    "\n",
    "pd.set_option('display.max_columns', None)\n",
    "pd.set_option('display.max_rows', None)"
   ]
  },
  {
   "cell_type": "code",
   "execution_count": 2,
   "metadata": {
    "ExecuteTime": {
     "end_time": "2022-01-24T08:32:28.971908Z",
     "start_time": "2022-01-24T08:32:28.429883Z"
    }
   },
   "outputs": [],
   "source": [
    "import matplotlib.pyplot as plt"
   ]
  },
  {
   "cell_type": "code",
   "execution_count": 2,
   "metadata": {
    "ExecuteTime": {
     "end_time": "2022-01-24T08:17:57.564470Z",
     "start_time": "2022-01-24T08:17:57.549468Z"
    }
   },
   "outputs": [
    {
     "data": {
      "text/plain": [
       "'C:\\\\Users\\\\user\\\\projects\\\\ml\\\\dacon\\\\dacon\\\\잡케어 추천 알고리즘 경진대회'"
      ]
     },
     "execution_count": 2,
     "metadata": {},
     "output_type": "execute_result"
    }
   ],
   "source": [
    "import os\n",
    "\n",
    "os.path.abspath('.')"
   ]
  },
  {
   "cell_type": "markdown",
   "metadata": {},
   "source": [
    "# 데이터 불러오기"
   ]
  },
  {
   "cell_type": "code",
   "execution_count": 5,
   "metadata": {
    "ExecuteTime": {
     "end_time": "2022-02-24T07:01:50.093460Z",
     "start_time": "2022-02-24T07:01:48.893802Z"
    }
   },
   "outputs": [],
   "source": [
    "train = pd.read_csv('./data/train.csv')\n",
    "test = pd.read_csv('./data/test.csv')"
   ]
  },
  {
   "cell_type": "markdown",
   "metadata": {},
   "source": [
    "# 데이터 확인"
   ]
  },
  {
   "cell_type": "code",
   "execution_count": 5,
   "metadata": {
    "ExecuteTime": {
     "end_time": "2021-12-20T02:28:26.982859Z",
     "start_time": "2021-12-20T02:28:26.871205Z"
    },
    "scrolled": true
   },
   "outputs": [
    {
     "name": "stdout",
     "output_type": "stream",
     "text": [
      "<class 'pandas.core.frame.DataFrame'>\n",
      "RangeIndex: 501951 entries, 0 to 501950\n",
      "Data columns (total 35 columns):\n",
      " #   Column                  Non-Null Count   Dtype \n",
      "---  ------                  --------------   ----- \n",
      " 0   id                      501951 non-null  int64 \n",
      " 1   d_l_match_yn            501951 non-null  bool  \n",
      " 2   d_m_match_yn            501951 non-null  bool  \n",
      " 3   d_s_match_yn            501951 non-null  bool  \n",
      " 4   h_l_match_yn            501951 non-null  bool  \n",
      " 5   h_m_match_yn            501951 non-null  bool  \n",
      " 6   h_s_match_yn            501951 non-null  bool  \n",
      " 7   person_attribute_a      501951 non-null  int64 \n",
      " 8   person_attribute_a_1    501951 non-null  int64 \n",
      " 9   person_attribute_b      501951 non-null  int64 \n",
      " 10  person_prefer_c         501951 non-null  int64 \n",
      " 11  person_prefer_d_1       501951 non-null  int64 \n",
      " 12  person_prefer_d_2       501951 non-null  int64 \n",
      " 13  person_prefer_d_3       501951 non-null  int64 \n",
      " 14  person_prefer_e         501951 non-null  int64 \n",
      " 15  person_prefer_f         501951 non-null  int64 \n",
      " 16  person_prefer_g         501951 non-null  int64 \n",
      " 17  person_prefer_h_1       501951 non-null  int64 \n",
      " 18  person_prefer_h_2       501951 non-null  int64 \n",
      " 19  person_prefer_h_3       501951 non-null  int64 \n",
      " 20  contents_attribute_i    501951 non-null  int64 \n",
      " 21  contents_attribute_a    501951 non-null  int64 \n",
      " 22  contents_attribute_j_1  501951 non-null  int64 \n",
      " 23  contents_attribute_j    501951 non-null  int64 \n",
      " 24  contents_attribute_c    501951 non-null  int64 \n",
      " 25  contents_attribute_k    501951 non-null  int64 \n",
      " 26  contents_attribute_l    501951 non-null  int64 \n",
      " 27  contents_attribute_d    501951 non-null  int64 \n",
      " 28  contents_attribute_m    501951 non-null  int64 \n",
      " 29  contents_attribute_e    501951 non-null  int64 \n",
      " 30  contents_attribute_h    501951 non-null  int64 \n",
      " 31  person_rn               501951 non-null  int64 \n",
      " 32  contents_rn             501951 non-null  int64 \n",
      " 33  contents_open_dt        501951 non-null  object\n",
      " 34  target                  501951 non-null  int64 \n",
      "dtypes: bool(6), int64(28), object(1)\n",
      "memory usage: 113.9+ MB\n"
     ]
    }
   ],
   "source": [
    "train.info()"
   ]
  },
  {
   "cell_type": "code",
   "execution_count": 5,
   "metadata": {
    "scrolled": true
   },
   "outputs": [
    {
     "data": {
      "text/plain": [
       "(501951, 35)"
      ]
     },
     "execution_count": 5,
     "metadata": {},
     "output_type": "execute_result"
    }
   ],
   "source": [
    "train.shape"
   ]
  },
  {
   "cell_type": "code",
   "execution_count": 6,
   "metadata": {
    "ExecuteTime": {
     "end_time": "2022-02-24T07:04:29.592824Z",
     "start_time": "2022-02-24T07:04:29.234394Z"
    }
   },
   "outputs": [],
   "source": [
    "train['month'] = pd.to_datetime(train['contents_open_dt']).dt.month"
   ]
  },
  {
   "cell_type": "code",
   "execution_count": 7,
   "metadata": {
    "ExecuteTime": {
     "end_time": "2022-02-24T07:05:53.580996Z",
     "start_time": "2022-02-24T07:05:53.232202Z"
    }
   },
   "outputs": [],
   "source": [
    "train['day'] = pd.to_datetime(train['contents_open_dt']).dt.day"
   ]
  },
  {
   "cell_type": "code",
   "execution_count": 11,
   "metadata": {
    "ExecuteTime": {
     "end_time": "2022-01-24T08:10:40.323192Z",
     "start_time": "2022-01-24T08:10:40.302204Z"
    }
   },
   "outputs": [
    {
     "data": {
      "text/plain": [
       "6     19482\n",
       "13    19059\n",
       "20    18448\n",
       "3     18229\n",
       "10    18180\n",
       "7     17909\n",
       "17    17648\n",
       "14    17257\n",
       "16    17122\n",
       "2     16825\n",
       "21    16781\n",
       "12    16743\n",
       "9     16723\n",
       "11    16718\n",
       "27    16499\n",
       "19    16459\n",
       "18    16417\n",
       "24    16263\n",
       "28    16136\n",
       "8     16037\n",
       "23    15778\n",
       "4     15717\n",
       "26    15270\n",
       "5     15200\n",
       "22    15194\n",
       "25    15168\n",
       "15    15164\n",
       "29    14526\n",
       "30    13869\n",
       "1     12638\n",
       "31     8492\n",
       "Name: day, dtype: int64"
      ]
     },
     "execution_count": 11,
     "metadata": {},
     "output_type": "execute_result"
    }
   ],
   "source": [
    "train['day'].value_counts()"
   ]
  },
  {
   "cell_type": "code",
   "execution_count": 6,
   "metadata": {
    "ExecuteTime": {
     "end_time": "2022-01-24T08:08:32.489615Z",
     "start_time": "2022-01-24T08:08:32.339225Z"
    }
   },
   "outputs": [
    {
     "data": {
      "text/plain": [
       "2     50424\n",
       "3     49029\n",
       "6     47444\n",
       "7     47129\n",
       "1     45683\n",
       "10    45605\n",
       "11    44979\n",
       "8     44458\n",
       "4     42790\n",
       "9     42393\n",
       "5     42017\n",
       "Name: month, dtype: int64"
      ]
     },
     "execution_count": 6,
     "metadata": {},
     "output_type": "execute_result"
    }
   ],
   "source": [
    "train['month'].value_counts()"
   ]
  },
  {
   "cell_type": "code",
   "execution_count": 7,
   "metadata": {
    "ExecuteTime": {
     "end_time": "2022-01-24T08:09:16.269551Z",
     "start_time": "2022-01-24T08:09:16.178590Z"
    }
   },
   "outputs": [
    {
     "data": {
      "text/plain": [
       "target  month\n",
       "0       2        25801\n",
       "        3        24623\n",
       "        6        23654\n",
       "        1        23321\n",
       "        7        23125\n",
       "        11       22940\n",
       "        10       22814\n",
       "        8        22074\n",
       "        4        21100\n",
       "        9        21053\n",
       "        5        20601\n",
       "1       2        24623\n",
       "        3        24406\n",
       "        7        24004\n",
       "        6        23790\n",
       "        10       22791\n",
       "        8        22384\n",
       "        1        22362\n",
       "        11       22039\n",
       "        4        21690\n",
       "        5        21416\n",
       "        9        21340\n",
       "Name: month, dtype: int64"
      ]
     },
     "execution_count": 7,
     "metadata": {},
     "output_type": "execute_result"
    }
   ],
   "source": [
    "train.groupby('target')['month'].value_counts()"
   ]
  },
  {
   "cell_type": "code",
   "execution_count": null,
   "metadata": {
    "ExecuteTime": {
     "end_time": "2022-01-24T08:12:12.804545Z",
     "start_time": "2022-01-24T08:11:22.821Z"
    }
   },
   "outputs": [],
   "source": [
    "train.groupby('target')['day'].value_counts()"
   ]
  },
  {
   "cell_type": "code",
   "execution_count": 14,
   "metadata": {
    "ExecuteTime": {
     "end_time": "2022-01-24T08:12:27.535528Z",
     "start_time": "2022-01-24T08:12:27.410768Z"
    }
   },
   "outputs": [
    {
     "data": {
      "text/plain": [
       "6     9840\n",
       "13    9465\n",
       "20    9251\n",
       "3     9049\n",
       "10    9039\n",
       "17    8971\n",
       "7     8916\n",
       "14    8713\n",
       "16    8507\n",
       "2     8445\n",
       "21    8401\n",
       "9     8352\n",
       "11    8327\n",
       "27    8313\n",
       "12    8249\n",
       "28    8209\n",
       "19    8171\n",
       "18    8095\n",
       "8     8068\n",
       "24    8061\n",
       "4     7920\n",
       "23    7823\n",
       "5     7643\n",
       "26    7633\n",
       "15    7571\n",
       "25    7554\n",
       "22    7483\n",
       "29    7341\n",
       "30    7012\n",
       "1     6358\n",
       "31    4326\n",
       "Name: day, dtype: int64"
      ]
     },
     "execution_count": 14,
     "metadata": {},
     "output_type": "execute_result"
    }
   ],
   "source": [
    "train[train['target'] == 0]['day'].value_counts()"
   ]
  },
  {
   "cell_type": "code",
   "execution_count": 15,
   "metadata": {
    "ExecuteTime": {
     "end_time": "2022-01-24T08:14:05.695517Z",
     "start_time": "2022-01-24T08:14:05.685527Z"
    }
   },
   "outputs": [
    {
     "data": {
      "text/plain": [
       "0    251106\n",
       "1    250845\n",
       "Name: target, dtype: int64"
      ]
     },
     "execution_count": 15,
     "metadata": {},
     "output_type": "execute_result"
    }
   ],
   "source": [
    "train['target'].value_counts()"
   ]
  },
  {
   "cell_type": "code",
   "execution_count": 14,
   "metadata": {
    "ExecuteTime": {
     "end_time": "2022-01-24T08:25:58.409231Z",
     "start_time": "2022-01-24T08:25:58.351219Z"
    },
    "scrolled": true
   },
   "outputs": [
    {
     "data": {
      "text/plain": [
       "1     6280\n",
       "2     8380\n",
       "3     9180\n",
       "4     7797\n",
       "5     7557\n",
       "6     9642\n",
       "7     8993\n",
       "8     7969\n",
       "9     8371\n",
       "10    9141\n",
       "11    8391\n",
       "12    8494\n",
       "13    9594\n",
       "14    8544\n",
       "15    7593\n",
       "16    8615\n",
       "17    8677\n",
       "18    8322\n",
       "19    8288\n",
       "20    9197\n",
       "21    8380\n",
       "22    7711\n",
       "23    7955\n",
       "24    8202\n",
       "25    7614\n",
       "26    7637\n",
       "27    8186\n",
       "28    7927\n",
       "29    7185\n",
       "30    6857\n",
       "31    4166\n",
       "Name: day, dtype: int64"
      ]
     },
     "execution_count": 14,
     "metadata": {},
     "output_type": "execute_result"
    }
   ],
   "source": [
    "train[train['target'] == 1]['day'].value_counts().sort_index()"
   ]
  },
  {
   "cell_type": "code",
   "execution_count": 15,
   "metadata": {
    "ExecuteTime": {
     "end_time": "2022-01-24T08:26:12.711840Z",
     "start_time": "2022-01-24T08:26:12.658045Z"
    }
   },
   "outputs": [],
   "source": [
    "days = train[train['target'] == 1]['day'].value_counts().sort_index()"
   ]
  },
  {
   "cell_type": "code",
   "execution_count": 16,
   "metadata": {
    "ExecuteTime": {
     "end_time": "2022-01-24T08:26:16.335744Z",
     "start_time": "2022-01-24T08:26:16.180736Z"
    }
   },
   "outputs": [
    {
     "data": {
      "image/png": "[encoded data removed]",
      "text/plain": [
       "<Figure size 432x288 with 1 Axes>"
      ]
     },
     "metadata": {
      "needs_background": "light"
     },
     "output_type": "display_data"
    }
   ],
   "source": [
    "plt.bar(range(1, 32),days)\n",
    "plt.show()"
   ]
  },
  {
   "cell_type": "code",
   "execution_count": 18,
   "metadata": {
    "ExecuteTime": {
     "end_time": "2022-01-24T08:27:49.022478Z",
     "start_time": "2022-01-24T08:27:48.999479Z"
    }
   },
   "outputs": [],
   "source": [
    "m_1 = train[(train['target'] == 1) & (train['month'] == 1)]['day'].value_counts().sort_index()"
   ]
  },
  {
   "cell_type": "code",
   "execution_count": 6,
   "metadata": {
    "ExecuteTime": {
     "end_time": "2022-01-24T08:37:27.985241Z",
     "start_time": "2022-01-24T08:37:27.903405Z"
    }
   },
   "outputs": [],
   "source": [
    "m_2 = train[(train['target'] == 1) & (train['month'] == 2)]['day'].value_counts().sort_index()"
   ]
  },
  {
   "cell_type": "code",
   "execution_count": 8,
   "metadata": {
    "ExecuteTime": {
     "end_time": "2022-01-24T08:39:04.990604Z",
     "start_time": "2022-01-24T08:39:04.977612Z"
    }
   },
   "outputs": [
    {
     "data": {
      "text/plain": [
       "(29,)"
      ]
     },
     "execution_count": 8,
     "metadata": {},
     "output_type": "execute_result"
    }
   ],
   "source": [
    "m_2.shape"
   ]
  },
  {
   "cell_type": "code",
   "execution_count": 9,
   "metadata": {
    "ExecuteTime": {
     "end_time": "2022-01-24T08:39:39.884907Z",
     "start_time": "2022-01-24T08:39:39.861888Z"
    }
   },
   "outputs": [],
   "source": [
    "m_3 = train[(train['target'] == 1) & (train['month'] == 3)]['day'].value_counts().sort_index()"
   ]
  },
  {
   "cell_type": "code",
   "execution_count": 13,
   "metadata": {
    "ExecuteTime": {
     "end_time": "2022-01-24T08:43:55.321055Z",
     "start_time": "2022-01-24T08:43:55.199216Z"
    }
   },
   "outputs": [],
   "source": [
    "m_4 = train[(train['target'] == 1) & (train['month'] == 4)]['day'].value_counts().sort_index()\n",
    "m_5 = train[(train['target'] == 1) & (train['month'] == 5)]['day'].value_counts().sort_index()\n",
    "m_6 = train[(train['target'] == 1) & (train['month'] == 6)]['day'].value_counts().sort_index()\n",
    "m_7 = train[(train['target'] == 1) & (train['month'] == 7)]['day'].value_counts().sort_index()\n",
    "m_8 = train[(train['target'] == 1) & (train['month'] == 8)]['day'].value_counts().sort_index()\n",
    "m_9 = train[(train['target'] == 1) & (train['month'] == 9)]['day'].value_counts().sort_index()\n",
    "m_10 = train[(train['target'] == 1) & (train['month'] == 10)]['day'].value_counts().sort_index()\n",
    "m_11 = train[(train['target'] == 1) & (train['month'] == 11)]['day'].value_counts().sort_index()\n",
    "m_12 = train[(train['target'] == 1) & (train['month'] == 12)]['day'].value_counts().sort_index()"
   ]
  },
  {
   "cell_type": "code",
   "execution_count": null,
   "metadata": {},
   "outputs": [],
   "source": [
    "x_ticks = range(1, 32)"
   ]
  },
  {
   "cell_type": "code",
   "execution_count": 19,
   "metadata": {
    "ExecuteTime": {
     "end_time": "2022-01-24T08:28:17.969632Z",
     "start_time": "2022-01-24T08:28:17.244424Z"
    },
    "scrolled": false
   },
   "outputs": [
    {
     "data": {
      "image/png": "[encoded data removed]",
      "text/plain": [
       "<Figure size 432x288 with 1 Axes>"
      ]
     },
     "metadata": {
      "needs_background": "light"
     },
     "output_type": "display_data"
    }
   ],
   "source": [
    "plt.bar(range(1, 32), m_1)\n",
    "plt.show()"
   ]
  },
  {
   "cell_type": "code",
   "execution_count": 11,
   "metadata": {
    "ExecuteTime": {
     "end_time": "2022-01-24T08:41:16.526301Z",
     "start_time": "2022-01-24T08:41:16.414952Z"
    },
    "scrolled": true
   },
   "outputs": [
    {
     "data": {
      "image/png": "[encoded data removed]",
      "text/plain": [
       "<Figure size 432x288 with 1 Axes>"
      ]
     },
     "metadata": {
      "needs_background": "light"
     },
     "output_type": "display_data"
    }
   ],
   "source": [
    "plt.bar(range(1, 30), m_2)\n",
    "plt.show()"
   ]
  },
  {
   "cell_type": "code",
   "execution_count": 12,
   "metadata": {
    "ExecuteTime": {
     "end_time": "2022-01-24T08:42:16.232295Z",
     "start_time": "2022-01-24T08:42:16.008755Z"
    }
   },
   "outputs": [
    {
     "data": {
      "image/png": "[encoded data removed]",
      "text/plain": [
       "<Figure size 432x288 with 1 Axes>"
      ]
     },
     "metadata": {
      "needs_background": "light"
     },
     "output_type": "display_data"
    }
   ],
   "source": [
    "plt.bar(range(1, 32), m_3)\n",
    "plt.show()"
   ]
  },
  {
   "cell_type": "code",
   "execution_count": 19,
   "metadata": {
    "ExecuteTime": {
     "end_time": "2022-01-24T08:54:50.870345Z",
     "start_time": "2022-01-24T08:54:50.125268Z"
    }
   },
   "outputs": [
    {
     "data": {
      "image/png": "[encoded data removed]",
      "text/plain": [
       "<Figure size 432x288 with 9 Axes>"
      ]
     },
     "metadata": {
      "needs_background": "light"
     },
     "output_type": "display_data"
    }
   ],
   "source": [
    "plt.subplot(3, 3, 1)                # nrows=2, ncols=1, index=2\n",
    "plt.bar(range(1, 31), m_4)\n",
    "plt.title('4월')\n",
    "\n",
    "plt.subplot(3, 3, 2)                # nrows=2, ncols=1, index=2\n",
    "plt.bar(range(1, 32), m_5)\n",
    "plt.title('5월')\n",
    "\n",
    "plt.subplot(3, 3, 3)                # nrows=2, ncols=1, index=2\n",
    "plt.bar(range(1, 31), m_6)\n",
    "plt.title('6월')\n",
    "\n",
    "plt.subplot(3, 3, 4)                # nrows=2, ncols=1, index=2\n",
    "plt.bar(range(1, 32), m_7)\n",
    "plt.title('7월')\n",
    "\n",
    "plt.subplot(3, 3, 5)                # nrows=2, ncols=1, index=2\n",
    "plt.bar(range(1, 32), m_8)\n",
    "plt.title('8월')\n",
    "\n",
    "plt.subplot(3, 3, 6)                # nrows=2, ncols=1, index=2\n",
    "plt.bar(range(1, 31), m_9)\n",
    "plt.title('9월')\n",
    "\n",
    "plt.subplot(3, 3, 7)                # nrows=2, ncols=1, index=2\n",
    "plt.bar(range(1, 32), m_10)\n",
    "plt.title('10월')\n",
    "\n",
    "plt.subplot(3, 3, 8)                # nrows=2, ncols=1, index=2\n",
    "plt.bar(range(1, 31), m_11)\n",
    "plt.title('11월')\n",
    "\n",
    "plt.subplot(3, 3, 9)                # nrows=2, ncols=1, index=2\n",
    "plt.bar(range(1, m_12.shape[0]), m_12)\n",
    "plt.title('12월')\n",
    "\n",
    "plt.show()"
   ]
  },
  {
   "cell_type": "code",
   "execution_count": null,
   "metadata": {
    "ExecuteTime": {
     "end_time": "2022-01-24T08:55:36.385176Z",
     "start_time": "2022-01-24T08:55:17.421Z"
    }
   },
   "outputs": [],
   "source": [
    "m_12.shape"
   ]
  },
  {
   "cell_type": "code",
   "execution_count": null,
   "metadata": {},
   "outputs": [],
   "source": [
    "plt.subplot(3, 3, 9)                # nrows=2, ncols=1, index=2\n",
    "plt.bar(range(1, m_12.shape[0]), m_12)\n",
    "plt.title('12월')"
   ]
  },
  {
   "cell_type": "code",
   "execution_count": null,
   "metadata": {
    "ExecuteTime": {
     "end_time": "2022-01-24T08:17:48.393597Z",
     "start_time": "2022-01-24T08:16:47.459Z"
    }
   },
   "outputs": [],
   "source": [
    "train[train['target'] == 1]['day'].value_counts()"
   ]
  },
  {
   "cell_type": "code",
   "execution_count": 9,
   "metadata": {
    "scrolled": false
   },
   "outputs": [
    {
     "data": {
      "text/html": [
       "<div>\n",
       "<style scoped>\n",
       "    .dataframe tbody tr th:only-of-type {\n",
       "        vertical-align: middle;\n",
       "    }\n",
       "\n",
       "    .dataframe tbody tr th {\n",
       "        vertical-align: top;\n",
       "    }\n",
       "\n",
       "    .dataframe thead th {\n",
       "        text-align: right;\n",
       "    }\n",
       "</style>\n",
       "<table border=\"1\" class=\"dataframe\">\n",
       "  <thead>\n",
       "    <tr style=\"text-align: right;\">\n",
       "      <th></th>\n",
       "      <th>id</th>\n",
       "      <th>d_l_match_yn</th>\n",
       "      <th>d_m_match_yn</th>\n",
       "      <th>d_s_match_yn</th>\n",
       "      <th>h_l_match_yn</th>\n",
       "      <th>h_m_match_yn</th>\n",
       "      <th>h_s_match_yn</th>\n",
       "      <th>person_attribute_a</th>\n",
       "      <th>person_attribute_a_1</th>\n",
       "      <th>person_attribute_b</th>\n",
       "      <th>person_prefer_c</th>\n",
       "      <th>person_prefer_d_1</th>\n",
       "      <th>person_prefer_d_2</th>\n",
       "      <th>person_prefer_d_3</th>\n",
       "      <th>person_prefer_e</th>\n",
       "      <th>person_prefer_f</th>\n",
       "      <th>person_prefer_g</th>\n",
       "      <th>person_prefer_h_1</th>\n",
       "      <th>person_prefer_h_2</th>\n",
       "      <th>person_prefer_h_3</th>\n",
       "      <th>contents_attribute_i</th>\n",
       "      <th>contents_attribute_a</th>\n",
       "      <th>contents_attribute_j_1</th>\n",
       "      <th>contents_attribute_j</th>\n",
       "      <th>contents_attribute_c</th>\n",
       "      <th>contents_attribute_k</th>\n",
       "      <th>contents_attribute_l</th>\n",
       "      <th>contents_attribute_d</th>\n",
       "      <th>contents_attribute_m</th>\n",
       "      <th>contents_attribute_e</th>\n",
       "      <th>contents_attribute_h</th>\n",
       "      <th>person_rn</th>\n",
       "      <th>contents_rn</th>\n",
       "      <th>contents_open_dt</th>\n",
       "      <th>target</th>\n",
       "    </tr>\n",
       "  </thead>\n",
       "  <tbody>\n",
       "    <tr>\n",
       "      <th>0</th>\n",
       "      <td>0</td>\n",
       "      <td>True</td>\n",
       "      <td>True</td>\n",
       "      <td>True</td>\n",
       "      <td>False</td>\n",
       "      <td>False</td>\n",
       "      <td>False</td>\n",
       "      <td>1</td>\n",
       "      <td>4</td>\n",
       "      <td>3</td>\n",
       "      <td>5</td>\n",
       "      <td>275</td>\n",
       "      <td>370</td>\n",
       "      <td>369</td>\n",
       "      <td>8</td>\n",
       "      <td>1</td>\n",
       "      <td>1</td>\n",
       "      <td>4</td>\n",
       "      <td>95</td>\n",
       "      <td>59</td>\n",
       "      <td>3</td>\n",
       "      <td>3</td>\n",
       "      <td>10</td>\n",
       "      <td>2</td>\n",
       "      <td>1</td>\n",
       "      <td>2</td>\n",
       "      <td>1608</td>\n",
       "      <td>275</td>\n",
       "      <td>1</td>\n",
       "      <td>4</td>\n",
       "      <td>139</td>\n",
       "      <td>618822</td>\n",
       "      <td>354805</td>\n",
       "      <td>2020-01-17 12:09:36</td>\n",
       "      <td>1</td>\n",
       "    </tr>\n",
       "    <tr>\n",
       "      <th>1</th>\n",
       "      <td>1</td>\n",
       "      <td>False</td>\n",
       "      <td>False</td>\n",
       "      <td>False</td>\n",
       "      <td>True</td>\n",
       "      <td>True</td>\n",
       "      <td>False</td>\n",
       "      <td>1</td>\n",
       "      <td>3</td>\n",
       "      <td>4</td>\n",
       "      <td>1</td>\n",
       "      <td>114</td>\n",
       "      <td>181</td>\n",
       "      <td>175</td>\n",
       "      <td>4</td>\n",
       "      <td>1</td>\n",
       "      <td>1</td>\n",
       "      <td>131</td>\n",
       "      <td>101</td>\n",
       "      <td>96</td>\n",
       "      <td>1</td>\n",
       "      <td>3</td>\n",
       "      <td>5</td>\n",
       "      <td>1</td>\n",
       "      <td>1</td>\n",
       "      <td>2</td>\n",
       "      <td>1608</td>\n",
       "      <td>275</td>\n",
       "      <td>1</td>\n",
       "      <td>4</td>\n",
       "      <td>133</td>\n",
       "      <td>571659</td>\n",
       "      <td>346213</td>\n",
       "      <td>2020-06-18 17:48:52</td>\n",
       "      <td>0</td>\n",
       "    </tr>\n",
       "    <tr>\n",
       "      <th>2</th>\n",
       "      <td>2</td>\n",
       "      <td>False</td>\n",
       "      <td>False</td>\n",
       "      <td>False</td>\n",
       "      <td>True</td>\n",
       "      <td>False</td>\n",
       "      <td>False</td>\n",
       "      <td>2</td>\n",
       "      <td>0</td>\n",
       "      <td>3</td>\n",
       "      <td>5</td>\n",
       "      <td>464</td>\n",
       "      <td>175</td>\n",
       "      <td>452</td>\n",
       "      <td>3</td>\n",
       "      <td>1</td>\n",
       "      <td>1</td>\n",
       "      <td>54</td>\n",
       "      <td>263</td>\n",
       "      <td>56</td>\n",
       "      <td>3</td>\n",
       "      <td>1</td>\n",
       "      <td>10</td>\n",
       "      <td>2</td>\n",
       "      <td>1</td>\n",
       "      <td>1</td>\n",
       "      <td>1600</td>\n",
       "      <td>94</td>\n",
       "      <td>1</td>\n",
       "      <td>4</td>\n",
       "      <td>53</td>\n",
       "      <td>399816</td>\n",
       "      <td>206408</td>\n",
       "      <td>2020-07-08 20:00:10</td>\n",
       "      <td>0</td>\n",
       "    </tr>\n",
       "    <tr>\n",
       "      <th>3</th>\n",
       "      <td>3</td>\n",
       "      <td>False</td>\n",
       "      <td>False</td>\n",
       "      <td>False</td>\n",
       "      <td>True</td>\n",
       "      <td>False</td>\n",
       "      <td>False</td>\n",
       "      <td>2</td>\n",
       "      <td>0</td>\n",
       "      <td>2</td>\n",
       "      <td>5</td>\n",
       "      <td>703</td>\n",
       "      <td>705</td>\n",
       "      <td>704</td>\n",
       "      <td>3</td>\n",
       "      <td>1</td>\n",
       "      <td>1</td>\n",
       "      <td>72</td>\n",
       "      <td>227</td>\n",
       "      <td>2</td>\n",
       "      <td>1</td>\n",
       "      <td>3</td>\n",
       "      <td>5</td>\n",
       "      <td>1</td>\n",
       "      <td>1</td>\n",
       "      <td>2</td>\n",
       "      <td>1608</td>\n",
       "      <td>275</td>\n",
       "      <td>5</td>\n",
       "      <td>3</td>\n",
       "      <td>74</td>\n",
       "      <td>827967</td>\n",
       "      <td>572323</td>\n",
       "      <td>2020-01-13 18:09:34</td>\n",
       "      <td>0</td>\n",
       "    </tr>\n",
       "    <tr>\n",
       "      <th>4</th>\n",
       "      <td>4</td>\n",
       "      <td>True</td>\n",
       "      <td>True</td>\n",
       "      <td>True</td>\n",
       "      <td>False</td>\n",
       "      <td>False</td>\n",
       "      <td>False</td>\n",
       "      <td>1</td>\n",
       "      <td>3</td>\n",
       "      <td>4</td>\n",
       "      <td>5</td>\n",
       "      <td>275</td>\n",
       "      <td>370</td>\n",
       "      <td>369</td>\n",
       "      <td>4</td>\n",
       "      <td>1</td>\n",
       "      <td>1</td>\n",
       "      <td>214</td>\n",
       "      <td>210</td>\n",
       "      <td>209</td>\n",
       "      <td>1</td>\n",
       "      <td>1</td>\n",
       "      <td>10</td>\n",
       "      <td>2</td>\n",
       "      <td>1</td>\n",
       "      <td>2</td>\n",
       "      <td>1608</td>\n",
       "      <td>275</td>\n",
       "      <td>1</td>\n",
       "      <td>4</td>\n",
       "      <td>74</td>\n",
       "      <td>831614</td>\n",
       "      <td>573899</td>\n",
       "      <td>2020-03-09 20:39:22</td>\n",
       "      <td>0</td>\n",
       "    </tr>\n",
       "  </tbody>\n",
       "</table>\n",
       "</div>"
      ],
      "text/plain": [
       "   id  d_l_match_yn  d_m_match_yn  d_s_match_yn  h_l_match_yn  h_m_match_yn  \\\n",
       "0   0          True          True          True         False         False   \n",
       "1   1         False         False         False          True          True   \n",
       "2   2         False         False         False          True         False   \n",
       "3   3         False         False         False          True         False   \n",
       "4   4          True          True          True         False         False   \n",
       "\n",
       "   h_s_match_yn  person_attribute_a  person_attribute_a_1  person_attribute_b  \\\n",
       "0         False                   1                     4                   3   \n",
       "1         False                   1                     3                   4   \n",
       "2         False                   2                     0                   3   \n",
       "3         False                   2                     0                   2   \n",
       "4         False                   1                     3                   4   \n",
       "\n",
       "   person_prefer_c  person_prefer_d_1  person_prefer_d_2  person_prefer_d_3  \\\n",
       "0                5                275                370                369   \n",
       "1                1                114                181                175   \n",
       "2                5                464                175                452   \n",
       "3                5                703                705                704   \n",
       "4                5                275                370                369   \n",
       "\n",
       "   person_prefer_e  person_prefer_f  person_prefer_g  person_prefer_h_1  \\\n",
       "0                8                1                1                  4   \n",
       "1                4                1                1                131   \n",
       "2                3                1                1                 54   \n",
       "3                3                1                1                 72   \n",
       "4                4                1                1                214   \n",
       "\n",
       "   person_prefer_h_2  person_prefer_h_3  contents_attribute_i  \\\n",
       "0                 95                 59                     3   \n",
       "1                101                 96                     1   \n",
       "2                263                 56                     3   \n",
       "3                227                  2                     1   \n",
       "4                210                209                     1   \n",
       "\n",
       "   contents_attribute_a  contents_attribute_j_1  contents_attribute_j  \\\n",
       "0                     3                      10                     2   \n",
       "1                     3                       5                     1   \n",
       "2                     1                      10                     2   \n",
       "3                     3                       5                     1   \n",
       "4                     1                      10                     2   \n",
       "\n",
       "   contents_attribute_c  contents_attribute_k  contents_attribute_l  \\\n",
       "0                     1                     2                  1608   \n",
       "1                     1                     2                  1608   \n",
       "2                     1                     1                  1600   \n",
       "3                     1                     2                  1608   \n",
       "4                     1                     2                  1608   \n",
       "\n",
       "   contents_attribute_d  contents_attribute_m  contents_attribute_e  \\\n",
       "0                   275                     1                     4   \n",
       "1                   275                     1                     4   \n",
       "2                    94                     1                     4   \n",
       "3                   275                     5                     3   \n",
       "4                   275                     1                     4   \n",
       "\n",
       "   contents_attribute_h  person_rn  contents_rn     contents_open_dt  target  \n",
       "0                   139     618822       354805  2020-01-17 12:09:36       1  \n",
       "1                   133     571659       346213  2020-06-18 17:48:52       0  \n",
       "2                    53     399816       206408  2020-07-08 20:00:10       0  \n",
       "3                    74     827967       572323  2020-01-13 18:09:34       0  \n",
       "4                    74     831614       573899  2020-03-09 20:39:22       0  "
      ]
     },
     "execution_count": 9,
     "metadata": {},
     "output_type": "execute_result"
    }
   ],
   "source": [
    "train.head()"
   ]
  },
  {
   "cell_type": "markdown",
   "metadata": {},
   "source": [
    "# 필요 데이터 추출\n",
    "\n",
    "모델 학습시 id는 제외해야하고\n",
    "\n",
    "베이스라인에선 contents_open_dt를 제거하고 진행하였습니다"
   ]
  },
  {
   "cell_type": "code",
   "execution_count": 9,
   "metadata": {
    "ExecuteTime": {
     "end_time": "2022-02-24T07:08:48.547620Z",
     "start_time": "2022-02-24T07:08:48.417615Z"
    }
   },
   "outputs": [],
   "source": [
    "train = train.drop(['id', 'contents_open_dt'], axis=1) \n",
    "\n",
    "test = test.drop(['id', 'contents_open_dt'], axis=1)"
   ]
  },
  {
   "cell_type": "code",
   "execution_count": 28,
   "metadata": {
    "ExecuteTime": {
     "end_time": "2021-12-20T04:19:10.023445Z",
     "start_time": "2021-12-20T04:19:09.990351Z"
    },
    "scrolled": false
   },
   "outputs": [
    {
     "data": {
      "text/html": [
       "<div>\n",
       "<style scoped>\n",
       "    .dataframe tbody tr th:only-of-type {\n",
       "        vertical-align: middle;\n",
       "    }\n",
       "\n",
       "    .dataframe tbody tr th {\n",
       "        vertical-align: top;\n",
       "    }\n",
       "\n",
       "    .dataframe thead th {\n",
       "        text-align: right;\n",
       "    }\n",
       "</style>\n",
       "<table border=\"1\" class=\"dataframe\">\n",
       "  <thead>\n",
       "    <tr style=\"text-align: right;\">\n",
       "      <th></th>\n",
       "      <th>d_l_match_yn</th>\n",
       "      <th>d_m_match_yn</th>\n",
       "      <th>d_s_match_yn</th>\n",
       "      <th>h_l_match_yn</th>\n",
       "      <th>h_m_match_yn</th>\n",
       "      <th>h_s_match_yn</th>\n",
       "      <th>person_attribute_a</th>\n",
       "      <th>person_attribute_a_1</th>\n",
       "      <th>person_attribute_b</th>\n",
       "      <th>person_prefer_c</th>\n",
       "      <th>person_prefer_d_1</th>\n",
       "      <th>person_prefer_d_2</th>\n",
       "      <th>person_prefer_d_3</th>\n",
       "      <th>person_prefer_e</th>\n",
       "      <th>person_prefer_f</th>\n",
       "      <th>person_prefer_g</th>\n",
       "      <th>person_prefer_h_1</th>\n",
       "      <th>person_prefer_h_2</th>\n",
       "      <th>person_prefer_h_3</th>\n",
       "      <th>contents_attribute_i</th>\n",
       "      <th>contents_attribute_a</th>\n",
       "      <th>contents_attribute_j_1</th>\n",
       "      <th>contents_attribute_j</th>\n",
       "      <th>contents_attribute_c</th>\n",
       "      <th>contents_attribute_k</th>\n",
       "      <th>contents_attribute_l</th>\n",
       "      <th>contents_attribute_d</th>\n",
       "      <th>contents_attribute_m</th>\n",
       "      <th>contents_attribute_e</th>\n",
       "      <th>contents_attribute_h</th>\n",
       "      <th>person_rn</th>\n",
       "      <th>contents_rn</th>\n",
       "      <th>target</th>\n",
       "    </tr>\n",
       "  </thead>\n",
       "  <tbody>\n",
       "    <tr>\n",
       "      <th>0</th>\n",
       "      <td>True</td>\n",
       "      <td>True</td>\n",
       "      <td>True</td>\n",
       "      <td>False</td>\n",
       "      <td>False</td>\n",
       "      <td>False</td>\n",
       "      <td>1</td>\n",
       "      <td>4</td>\n",
       "      <td>3</td>\n",
       "      <td>5</td>\n",
       "      <td>275</td>\n",
       "      <td>370</td>\n",
       "      <td>369</td>\n",
       "      <td>8</td>\n",
       "      <td>1</td>\n",
       "      <td>1</td>\n",
       "      <td>4</td>\n",
       "      <td>95</td>\n",
       "      <td>59</td>\n",
       "      <td>3</td>\n",
       "      <td>3</td>\n",
       "      <td>10</td>\n",
       "      <td>2</td>\n",
       "      <td>1</td>\n",
       "      <td>2</td>\n",
       "      <td>1608</td>\n",
       "      <td>275</td>\n",
       "      <td>1</td>\n",
       "      <td>4</td>\n",
       "      <td>139</td>\n",
       "      <td>618822</td>\n",
       "      <td>354805</td>\n",
       "      <td>1</td>\n",
       "    </tr>\n",
       "    <tr>\n",
       "      <th>1</th>\n",
       "      <td>False</td>\n",
       "      <td>False</td>\n",
       "      <td>False</td>\n",
       "      <td>True</td>\n",
       "      <td>True</td>\n",
       "      <td>False</td>\n",
       "      <td>1</td>\n",
       "      <td>3</td>\n",
       "      <td>4</td>\n",
       "      <td>1</td>\n",
       "      <td>114</td>\n",
       "      <td>181</td>\n",
       "      <td>175</td>\n",
       "      <td>4</td>\n",
       "      <td>1</td>\n",
       "      <td>1</td>\n",
       "      <td>131</td>\n",
       "      <td>101</td>\n",
       "      <td>96</td>\n",
       "      <td>1</td>\n",
       "      <td>3</td>\n",
       "      <td>5</td>\n",
       "      <td>1</td>\n",
       "      <td>1</td>\n",
       "      <td>2</td>\n",
       "      <td>1608</td>\n",
       "      <td>275</td>\n",
       "      <td>1</td>\n",
       "      <td>4</td>\n",
       "      <td>133</td>\n",
       "      <td>571659</td>\n",
       "      <td>346213</td>\n",
       "      <td>0</td>\n",
       "    </tr>\n",
       "    <tr>\n",
       "      <th>2</th>\n",
       "      <td>False</td>\n",
       "      <td>False</td>\n",
       "      <td>False</td>\n",
       "      <td>True</td>\n",
       "      <td>False</td>\n",
       "      <td>False</td>\n",
       "      <td>2</td>\n",
       "      <td>0</td>\n",
       "      <td>3</td>\n",
       "      <td>5</td>\n",
       "      <td>464</td>\n",
       "      <td>175</td>\n",
       "      <td>452</td>\n",
       "      <td>3</td>\n",
       "      <td>1</td>\n",
       "      <td>1</td>\n",
       "      <td>54</td>\n",
       "      <td>263</td>\n",
       "      <td>56</td>\n",
       "      <td>3</td>\n",
       "      <td>1</td>\n",
       "      <td>10</td>\n",
       "      <td>2</td>\n",
       "      <td>1</td>\n",
       "      <td>1</td>\n",
       "      <td>1600</td>\n",
       "      <td>94</td>\n",
       "      <td>1</td>\n",
       "      <td>4</td>\n",
       "      <td>53</td>\n",
       "      <td>399816</td>\n",
       "      <td>206408</td>\n",
       "      <td>0</td>\n",
       "    </tr>\n",
       "    <tr>\n",
       "      <th>3</th>\n",
       "      <td>False</td>\n",
       "      <td>False</td>\n",
       "      <td>False</td>\n",
       "      <td>True</td>\n",
       "      <td>False</td>\n",
       "      <td>False</td>\n",
       "      <td>2</td>\n",
       "      <td>0</td>\n",
       "      <td>2</td>\n",
       "      <td>5</td>\n",
       "      <td>703</td>\n",
       "      <td>705</td>\n",
       "      <td>704</td>\n",
       "      <td>3</td>\n",
       "      <td>1</td>\n",
       "      <td>1</td>\n",
       "      <td>72</td>\n",
       "      <td>227</td>\n",
       "      <td>2</td>\n",
       "      <td>1</td>\n",
       "      <td>3</td>\n",
       "      <td>5</td>\n",
       "      <td>1</td>\n",
       "      <td>1</td>\n",
       "      <td>2</td>\n",
       "      <td>1608</td>\n",
       "      <td>275</td>\n",
       "      <td>5</td>\n",
       "      <td>3</td>\n",
       "      <td>74</td>\n",
       "      <td>827967</td>\n",
       "      <td>572323</td>\n",
       "      <td>0</td>\n",
       "    </tr>\n",
       "    <tr>\n",
       "      <th>4</th>\n",
       "      <td>True</td>\n",
       "      <td>True</td>\n",
       "      <td>True</td>\n",
       "      <td>False</td>\n",
       "      <td>False</td>\n",
       "      <td>False</td>\n",
       "      <td>1</td>\n",
       "      <td>3</td>\n",
       "      <td>4</td>\n",
       "      <td>5</td>\n",
       "      <td>275</td>\n",
       "      <td>370</td>\n",
       "      <td>369</td>\n",
       "      <td>4</td>\n",
       "      <td>1</td>\n",
       "      <td>1</td>\n",
       "      <td>214</td>\n",
       "      <td>210</td>\n",
       "      <td>209</td>\n",
       "      <td>1</td>\n",
       "      <td>1</td>\n",
       "      <td>10</td>\n",
       "      <td>2</td>\n",
       "      <td>1</td>\n",
       "      <td>2</td>\n",
       "      <td>1608</td>\n",
       "      <td>275</td>\n",
       "      <td>1</td>\n",
       "      <td>4</td>\n",
       "      <td>74</td>\n",
       "      <td>831614</td>\n",
       "      <td>573899</td>\n",
       "      <td>0</td>\n",
       "    </tr>\n",
       "  </tbody>\n",
       "</table>\n",
       "</div>"
      ],
      "text/plain": [
       "   d_l_match_yn  d_m_match_yn  d_s_match_yn  h_l_match_yn  h_m_match_yn  \\\n",
       "0          True          True          True         False         False   \n",
       "1         False         False         False          True          True   \n",
       "2         False         False         False          True         False   \n",
       "3         False         False         False          True         False   \n",
       "4          True          True          True         False         False   \n",
       "\n",
       "   h_s_match_yn  person_attribute_a  person_attribute_a_1  person_attribute_b  \\\n",
       "0         False                   1                     4                   3   \n",
       "1         False                   1                     3                   4   \n",
       "2         False                   2                     0                   3   \n",
       "3         False                   2                     0                   2   \n",
       "4         False                   1                     3                   4   \n",
       "\n",
       "   person_prefer_c  person_prefer_d_1  person_prefer_d_2  person_prefer_d_3  \\\n",
       "0                5                275                370                369   \n",
       "1                1                114                181                175   \n",
       "2                5                464                175                452   \n",
       "3                5                703                705                704   \n",
       "4                5                275                370                369   \n",
       "\n",
       "   person_prefer_e  person_prefer_f  person_prefer_g  person_prefer_h_1  \\\n",
       "0                8                1                1                  4   \n",
       "1                4                1                1                131   \n",
       "2                3                1                1                 54   \n",
       "3                3                1                1                 72   \n",
       "4                4                1                1                214   \n",
       "\n",
       "   person_prefer_h_2  person_prefer_h_3  contents_attribute_i  \\\n",
       "0                 95                 59                     3   \n",
       "1                101                 96                     1   \n",
       "2                263                 56                     3   \n",
       "3                227                  2                     1   \n",
       "4                210                209                     1   \n",
       "\n",
       "   contents_attribute_a  contents_attribute_j_1  contents_attribute_j  \\\n",
       "0                     3                      10                     2   \n",
       "1                     3                       5                     1   \n",
       "2                     1                      10                     2   \n",
       "3                     3                       5                     1   \n",
       "4                     1                      10                     2   \n",
       "\n",
       "   contents_attribute_c  contents_attribute_k  contents_attribute_l  \\\n",
       "0                     1                     2                  1608   \n",
       "1                     1                     2                  1608   \n",
       "2                     1                     1                  1600   \n",
       "3                     1                     2                  1608   \n",
       "4                     1                     2                  1608   \n",
       "\n",
       "   contents_attribute_d  contents_attribute_m  contents_attribute_e  \\\n",
       "0                   275                     1                     4   \n",
       "1                   275                     1                     4   \n",
       "2                    94                     1                     4   \n",
       "3                   275                     5                     3   \n",
       "4                   275                     1                     4   \n",
       "\n",
       "   contents_attribute_h  person_rn  contents_rn  target  \n",
       "0                   139     618822       354805       1  \n",
       "1                   133     571659       346213       0  \n",
       "2                    53     399816       206408       0  \n",
       "3                    74     827967       572323       0  \n",
       "4                    74     831614       573899       0  "
      ]
     },
     "execution_count": 28,
     "metadata": {},
     "output_type": "execute_result"
    }
   ],
   "source": [
    "train.head()"
   ]
  },
  {
   "cell_type": "markdown",
   "metadata": {},
   "source": [
    "# 데이터 탐색"
   ]
  },
  {
   "cell_type": "code",
   "execution_count": 113,
   "metadata": {
    "ExecuteTime": {
     "end_time": "2021-12-22T07:25:42.527126Z",
     "start_time": "2021-12-22T07:25:40.711898Z"
    },
    "scrolled": true
   },
   "outputs": [
    {
     "data": {
      "text/plain": [
       "target                    1.000000\n",
       "d_l_match_yn              0.142670\n",
       "d_m_match_yn              0.118406\n",
       "d_s_match_yn              0.087591\n",
       "person_prefer_e           0.032915\n",
       "contents_attribute_e      0.024869\n",
       "contents_attribute_k      0.023783\n",
       "person_attribute_a_1      0.022103\n",
       "h_l_match_yn              0.018988\n",
       "person_prefer_c           0.016768\n",
       "contents_attribute_i      0.014837\n",
       "h_s_match_yn              0.006311\n",
       "h_m_match_yn              0.004264\n",
       "person_attribute_b       -0.003641\n",
       "contents_attribute_a     -0.008566\n",
       "contents_attribute_j_1   -0.010707\n",
       "person_attribute_a       -0.015284\n",
       "contents_attribute_m     -0.015300\n",
       "contents_attribute_l     -0.023740\n",
       "person_prefer_d_3        -0.023895\n",
       "person_prefer_d_2        -0.028528\n",
       "person_prefer_d_1        -0.029676\n",
       "person_prefer_h_3        -0.029770\n",
       "person_rn                -0.031704\n",
       "contents_rn              -0.035738\n",
       "person_prefer_h_2        -0.035839\n",
       "contents_attribute_j     -0.036308\n",
       "person_prefer_h_1        -0.043870\n",
       "contents_attribute_h     -0.047302\n",
       "contents_attribute_c     -0.050670\n",
       "contents_attribute_d     -0.069321\n",
       "person_prefer_f                NaN\n",
       "person_prefer_g                NaN\n",
       "Name: target, dtype: float64"
      ]
     },
     "execution_count": 113,
     "metadata": {},
     "output_type": "execute_result"
    }
   ],
   "source": [
    "corr_matrix = train.corr()\n",
    "corr_matrix['target'].sort_values(ascending=False)"
   ]
  },
  {
   "cell_type": "code",
   "execution_count": 39,
   "metadata": {
    "ExecuteTime": {
     "end_time": "2022-01-24T05:37:05.099729Z",
     "start_time": "2022-01-24T05:37:04.493930Z"
    }
   },
   "outputs": [
    {
     "name": "stdout",
     "output_type": "stream",
     "text": [
      "0         1\n",
      "160539    1\n",
      "156441    1\n",
      "158488    1\n",
      "135959    1\n",
      "         ..\n",
      "87168     1\n",
      "437375    1\n",
      "435326    1\n",
      "441469    1\n",
      "2047      1\n",
      "Name: id, Length: 501951, dtype: int64\n",
      "True     315268\n",
      "False    186683\n",
      "Name: d_l_match_yn, dtype: int64\n",
      "False    368324\n",
      "True     133627\n",
      "Name: d_m_match_yn, dtype: int64\n",
      "False    426694\n",
      "True      75257\n",
      "Name: d_s_match_yn, dtype: int64\n",
      "True     399338\n",
      "False    102613\n",
      "Name: h_l_match_yn, dtype: int64\n",
      "False    318818\n",
      "True     183133\n",
      "Name: h_m_match_yn, dtype: int64\n",
      "False    365322\n",
      "True     136629\n",
      "Name: h_s_match_yn, dtype: int64\n",
      "1    331260\n",
      "2    170691\n",
      "Name: person_attribute_a, dtype: int64\n",
      "0    158626\n",
      "1     61195\n",
      "5     57783\n",
      "2     51895\n",
      "6     49820\n",
      "3     46340\n",
      "4     44325\n",
      "7     31967\n",
      "Name: person_attribute_a_1, dtype: int64\n",
      "2    223884\n",
      "3    139489\n",
      "4    121200\n",
      "1     10150\n",
      "5      7123\n",
      "0       105\n",
      "Name: person_attribute_b, dtype: int64\n",
      "1    304571\n",
      "5    156688\n",
      "2     20223\n",
      "3     15665\n",
      "4      4804\n",
      "Name: person_prefer_c, dtype: int64\n",
      "114     41720\n",
      "102     25470\n",
      "1227    24337\n",
      "181     13213\n",
      "857     13059\n",
      "        ...  \n",
      "206         1\n",
      "914         1\n",
      "485         1\n",
      "1156        1\n",
      "629         1\n",
      "Name: person_prefer_d_1, Length: 1093, dtype: int64\n",
      "181     49859\n",
      "1086    19260\n",
      "175     16558\n",
      "102     14693\n",
      "113     13769\n",
      "        ...  \n",
      "559         1\n",
      "556         1\n",
      "433         1\n",
      "427         1\n",
      "1214        1\n",
      "Name: person_prefer_d_2, Length: 1081, dtype: int64\n",
      "175     49049\n",
      "857     27014\n",
      "114     26647\n",
      "95      23355\n",
      "1227    16177\n",
      "        ...  \n",
      "1165        1\n",
      "1015        1\n",
      "1223        1\n",
      "296         1\n",
      "179         1\n",
      "Name: person_prefer_d_3, Length: 1043, dtype: int64\n",
      "4     160100\n",
      "3     139683\n",
      "5      81635\n",
      "0      66676\n",
      "6      31407\n",
      "7       8641\n",
      "8       6259\n",
      "2       2323\n",
      "10      1936\n",
      "9       1473\n",
      "11      1452\n",
      "1        366\n",
      "Name: person_prefer_e, dtype: int64\n",
      "4      35257\n",
      "31     31393\n",
      "2      22458\n",
      "59     20938\n",
      "49     19155\n",
      "       ...  \n",
      "248        9\n",
      "249        9\n",
      "70         8\n",
      "267        8\n",
      "276        1\n",
      "Name: person_prefer_h_1, Length: 279, dtype: int64\n",
      "95     42383\n",
      "4      36033\n",
      "278    32846\n",
      "251    23068\n",
      "31     15713\n",
      "       ...  \n",
      "220        8\n",
      "155        5\n",
      "276        4\n",
      "70         3\n",
      "267        1\n",
      "Name: person_prefer_h_2, Length: 279, dtype: int64\n",
      "59     36745\n",
      "95     33260\n",
      "4      29087\n",
      "86     27323\n",
      "278    21123\n",
      "       ...  \n",
      "267        4\n",
      "221        4\n",
      "70         1\n",
      "276        1\n",
      "163        1\n",
      "Name: person_prefer_h_3, Length: 279, dtype: int64\n",
      "3    341052\n",
      "1    116273\n",
      "2     44626\n",
      "Name: contents_attribute_i, dtype: int64\n",
      "3    308855\n",
      "1    141895\n",
      "2     51201\n",
      "Name: contents_attribute_a, dtype: int64\n",
      "5     330790\n",
      "10     89307\n",
      "3      30664\n",
      "4      19649\n",
      "9      19115\n",
      "6      10808\n",
      "2       1416\n",
      "8        137\n",
      "1         65\n",
      "Name: contents_attribute_j_1, dtype: int64\n",
      "1    382584\n",
      "2    119367\n",
      "Name: contents_attribute_j, dtype: int64\n",
      "1    401409\n",
      "3     82929\n",
      "2     12459\n",
      "4      5154\n",
      "Name: contents_attribute_c, dtype: int64\n",
      "2    483533\n",
      "1     18418\n",
      "Name: contents_attribute_k, dtype: int64\n",
      "759     15373\n",
      "1648    11984\n",
      "1835    10967\n",
      "861      9899\n",
      "572      9604\n",
      "        ...  \n",
      "9           1\n",
      "751         1\n",
      "1787        1\n",
      "170         1\n",
      "1365        1\n",
      "Name: contents_attribute_l, Length: 1752, dtype: int64\n",
      "1227    24668\n",
      "114     23028\n",
      "857     18808\n",
      "102     18721\n",
      "181     12792\n",
      "        ...  \n",
      "205         1\n",
      "133         1\n",
      "829         1\n",
      "606         1\n",
      "68          1\n",
      "Name: contents_attribute_d, Length: 1065, dtype: int64\n",
      "1    272885\n",
      "4     86367\n",
      "5     67639\n",
      "2     57114\n",
      "3     17946\n",
      "Name: contents_attribute_m, dtype: int64\n",
      "3     187593\n",
      "4     175628\n",
      "5      81684\n",
      "6      27776\n",
      "2       9414\n",
      "7       7734\n",
      "1       5179\n",
      "8       3991\n",
      "0       1025\n",
      "9        908\n",
      "10       673\n",
      "11       346\n",
      "Name: contents_attribute_e, dtype: int64\n",
      "139    15030\n",
      "288    13430\n",
      "68     11877\n",
      "127    11243\n",
      "43     11018\n",
      "       ...  \n",
      "248       23\n",
      "220       21\n",
      "276       13\n",
      "267       12\n",
      "164        9\n",
      "Name: contents_attribute_h, Length: 250, dtype: int64\n",
      "627445     20\n",
      "1047079    19\n",
      "241140     19\n",
      "827703     19\n",
      "1016996    18\n",
      "           ..\n",
      "798856      1\n",
      "54141       1\n",
      "467843      1\n",
      "988037      1\n",
      "907205      1\n",
      "Name: person_rn, Length: 300177, dtype: int64\n",
      "22078     39\n",
      "76824     36\n",
      "138209    32\n",
      "72025     29\n",
      "402922    28\n",
      "          ..\n",
      "581489     1\n",
      "65397      1\n",
      "59254      1\n",
      "585591     1\n",
      "571531     1\n",
      "Name: contents_rn, Length: 283359, dtype: int64\n",
      "2020-02-18 12:42:30    4\n",
      "2020-11-13 15:26:00    3\n",
      "2020-03-24 10:15:57    3\n",
      "2020-11-24 09:52:42    3\n",
      "2020-02-06 20:08:44    3\n",
      "                      ..\n",
      "2020-05-11 19:12:12    1\n",
      "2020-04-03 21:46:24    1\n",
      "2020-10-11 18:21:54    1\n",
      "2020-08-05 16:21:51    1\n",
      "2020-03-03 23:48:57    1\n",
      "Name: contents_open_dt, Length: 494952, dtype: int64\n",
      "0    251106\n",
      "1    250845\n",
      "Name: target, dtype: int64\n"
     ]
    }
   ],
   "source": [
    "for column in train.columns:\n",
    "    print(train[column].value_counts())"
   ]
  },
  {
   "cell_type": "code",
   "execution_count": 42,
   "metadata": {
    "ExecuteTime": {
     "end_time": "2022-01-24T05:44:39.434469Z",
     "start_time": "2022-01-24T05:44:38.186467Z"
    }
   },
   "outputs": [
    {
     "name": "stdout",
     "output_type": "stream",
     "text": [
      "id 결측치 수:  0\n",
      "d_l_match_yn 결측치 수:  0\n",
      "d_m_match_yn 결측치 수:  0\n",
      "d_s_match_yn 결측치 수:  0\n",
      "h_l_match_yn 결측치 수:  0\n",
      "h_m_match_yn 결측치 수:  0\n",
      "h_s_match_yn 결측치 수:  0\n",
      "person_attribute_a 결측치 수:  0\n",
      "person_attribute_a_1 결측치 수:  0\n",
      "person_attribute_b 결측치 수:  0\n",
      "person_prefer_c 결측치 수:  0\n",
      "person_prefer_d_1 결측치 수:  0\n",
      "person_prefer_d_2 결측치 수:  0\n",
      "person_prefer_d_3 결측치 수:  0\n",
      "person_prefer_e 결측치 수:  0\n",
      "person_prefer_h_1 결측치 수:  0\n",
      "person_prefer_h_2 결측치 수:  0\n",
      "person_prefer_h_3 결측치 수:  0\n",
      "contents_attribute_i 결측치 수:  0\n",
      "contents_attribute_a 결측치 수:  0\n",
      "contents_attribute_j_1 결측치 수:  0\n",
      "contents_attribute_j 결측치 수:  0\n",
      "contents_attribute_c 결측치 수:  0\n",
      "contents_attribute_k 결측치 수:  0\n",
      "contents_attribute_l 결측치 수:  0\n",
      "contents_attribute_d 결측치 수:  0\n",
      "contents_attribute_m 결측치 수:  0\n",
      "contents_attribute_e 결측치 수:  0\n",
      "contents_attribute_h 결측치 수:  0\n",
      "person_rn 결측치 수:  0\n",
      "contents_rn 결측치 수:  0\n",
      "contents_open_dt 결측치 수:  0\n",
      "target 결측치 수:  0\n"
     ]
    }
   ],
   "source": [
    "for column in train.columns:\n",
    "    print(column + ' 결측치 수: ', sum(train[column].isna()))"
   ]
  },
  {
   "cell_type": "code",
   "execution_count": 44,
   "metadata": {
    "ExecuteTime": {
     "end_time": "2022-01-24T05:49:54.432724Z",
     "start_time": "2022-01-24T05:49:53.840070Z"
    }
   },
   "outputs": [
    {
     "name": "stdout",
     "output_type": "stream",
     "text": [
      "id 종류: 501951\n",
      "d_l_match_yn 종류: 2\n",
      "d_m_match_yn 종류: 2\n",
      "d_s_match_yn 종류: 2\n",
      "h_l_match_yn 종류: 2\n",
      "h_m_match_yn 종류: 2\n",
      "h_s_match_yn 종류: 2\n",
      "person_attribute_a 종류: 2\n",
      "person_attribute_a_1 종류: 8\n",
      "person_attribute_b 종류: 6\n",
      "person_prefer_c 종류: 5\n",
      "person_prefer_d_1 종류: 1093\n",
      "person_prefer_d_2 종류: 1081\n",
      "person_prefer_d_3 종류: 1043\n",
      "person_prefer_e 종류: 12\n",
      "person_prefer_h_1 종류: 279\n",
      "person_prefer_h_2 종류: 279\n",
      "person_prefer_h_3 종류: 279\n",
      "contents_attribute_i 종류: 3\n",
      "contents_attribute_a 종류: 3\n",
      "contents_attribute_j_1 종류: 9\n",
      "contents_attribute_j 종류: 2\n",
      "contents_attribute_c 종류: 4\n",
      "contents_attribute_k 종류: 2\n",
      "contents_attribute_l 종류: 1752\n",
      "contents_attribute_d 종류: 1065\n",
      "contents_attribute_m 종류: 5\n",
      "contents_attribute_e 종류: 12\n",
      "contents_attribute_h 종류: 250\n",
      "person_rn 종류: 300177\n",
      "contents_rn 종류: 283359\n",
      "contents_open_dt 종류: 494952\n",
      "target 종류: 2\n"
     ]
    }
   ],
   "source": [
    "for column in train.columns:\n",
    "    print(column, '종류:', len(train[column].value_counts()))"
   ]
  },
  {
   "cell_type": "markdown",
   "metadata": {},
   "source": [
    "# 데이터 전처리"
   ]
  },
  {
   "cell_type": "markdown",
   "metadata": {},
   "source": [
    "## 값이 1개인 변수(column) drop\n",
    "- class가 하나만 있는 변수 drop"
   ]
  },
  {
   "cell_type": "code",
   "execution_count": 10,
   "metadata": {
    "ExecuteTime": {
     "end_time": "2022-01-24T05:00:11.067207Z",
     "start_time": "2022-01-24T05:00:11.051563Z"
    }
   },
   "outputs": [
    {
     "data": {
      "text/plain": [
       "(501951, 35)"
      ]
     },
     "execution_count": 10,
     "metadata": {},
     "output_type": "execute_result"
    }
   ],
   "source": [
    "train.shape"
   ]
  },
  {
   "cell_type": "code",
   "execution_count": 11,
   "metadata": {
    "ExecuteTime": {
     "end_time": "2022-01-24T05:00:11.271352Z",
     "start_time": "2022-01-24T05:00:11.255354Z"
    }
   },
   "outputs": [
    {
     "data": {
      "text/plain": [
       "1    501951\n",
       "Name: person_prefer_f, dtype: int64"
      ]
     },
     "execution_count": 11,
     "metadata": {},
     "output_type": "execute_result"
    }
   ],
   "source": [
    "train['person_prefer_f'].value_counts()"
   ]
  },
  {
   "cell_type": "code",
   "execution_count": 12,
   "metadata": {
    "ExecuteTime": {
     "end_time": "2022-01-24T05:00:11.567572Z",
     "start_time": "2022-01-24T05:00:11.559570Z"
    }
   },
   "outputs": [
    {
     "data": {
      "text/plain": [
       "1    501951\n",
       "Name: person_prefer_g, dtype: int64"
      ]
     },
     "execution_count": 12,
     "metadata": {},
     "output_type": "execute_result"
    }
   ],
   "source": [
    "train['person_prefer_g'].value_counts()"
   ]
  },
  {
   "cell_type": "markdown",
   "metadata": {},
   "source": [
    " feature person_prefer_h_3 (0.009)  \n",
    "20. feature person_attribute_a_1 (0.009)  \n",
    "21. feature contents_attribute_a (0.005)  \n",
    "22. feature h_m_match_yn (0.005)  \n",
    "23. feature person_prefer_c (0.004)  \n",
    "24. feature person_attribute_b (0.004)  \n",
    "25. feature h_s_match_yn (0.003)  \n",
    "26. feature contents_attribute_i (0.002)  \n",
    "27. feature contents_attribute_k (0.001)  \n",
    "28. feature person_attribute_a (0.001)  "
   ]
  },
  {
   "cell_type": "markdown",
   "metadata": {},
   "source": [
    "- person_rn: 사용자 번호  \n",
    "- contents_rn: 컨텐츠 번호"
   ]
  },
  {
   "cell_type": "code",
   "execution_count": 14,
   "metadata": {
    "ExecuteTime": {
     "end_time": "2022-02-24T07:14:42.590597Z",
     "start_time": "2022-02-24T07:14:42.583395Z"
    }
   },
   "outputs": [],
   "source": [
    "# value의 종류가 1개이거나, 너무 많은 feartures drop\n",
    "drop_list = ['person_prefer_f', 'person_prefer_g', 'person_rn', 'contents_rn']"
   ]
  },
  {
   "cell_type": "code",
   "execution_count": 18,
   "metadata": {
    "ExecuteTime": {
     "end_time": "2022-02-24T07:19:05.096546Z",
     "start_time": "2022-02-24T07:19:05.080646Z"
    }
   },
   "outputs": [],
   "source": [
    "# importance가 낮은 feartures drop\n",
    "low_importances = ['person_attribute_a_1', 'contents_attribute_a', 'h_m_match_yn', 'person_prefer_c', 'person_attribute_b', 'h_s_match_yn', 'contents_attribute_i', 'contents_attribute_k', 'person_attribute_a']"
   ]
  },
  {
   "cell_type": "code",
   "execution_count": 19,
   "metadata": {
    "ExecuteTime": {
     "end_time": "2022-02-24T07:20:21.883860Z",
     "start_time": "2022-02-24T07:20:21.821860Z"
    }
   },
   "outputs": [],
   "source": [
    "train.drop(drop_list, axis=1, inplace=True)\n",
    "train.drop(low_importances, axis=1, inplace=True)\n",
    "test.drop(drop_list, axis=1, inplace=True)\n",
    "test.drop(low_importances, axis=1, inplace=True)"
   ]
  },
  {
   "cell_type": "code",
   "execution_count": 20,
   "metadata": {
    "ExecuteTime": {
     "end_time": "2022-02-24T07:21:15.247289Z",
     "start_time": "2022-02-24T07:21:15.216290Z"
    }
   },
   "outputs": [
    {
     "data": {
      "text/html": [
       "<div>\n",
       "<style scoped>\n",
       "    .dataframe tbody tr th:only-of-type {\n",
       "        vertical-align: middle;\n",
       "    }\n",
       "\n",
       "    .dataframe tbody tr th {\n",
       "        vertical-align: top;\n",
       "    }\n",
       "\n",
       "    .dataframe thead th {\n",
       "        text-align: right;\n",
       "    }\n",
       "</style>\n",
       "<table border=\"1\" class=\"dataframe\">\n",
       "  <thead>\n",
       "    <tr style=\"text-align: right;\">\n",
       "      <th></th>\n",
       "      <th>d_l_match_yn</th>\n",
       "      <th>d_m_match_yn</th>\n",
       "      <th>d_s_match_yn</th>\n",
       "      <th>h_l_match_yn</th>\n",
       "      <th>person_prefer_d_1</th>\n",
       "      <th>person_prefer_d_2</th>\n",
       "      <th>person_prefer_d_3</th>\n",
       "      <th>person_prefer_e</th>\n",
       "      <th>person_prefer_h_1</th>\n",
       "      <th>person_prefer_h_2</th>\n",
       "      <th>person_prefer_h_3</th>\n",
       "      <th>contents_attribute_j_1</th>\n",
       "      <th>contents_attribute_j</th>\n",
       "      <th>contents_attribute_c</th>\n",
       "      <th>contents_attribute_l</th>\n",
       "      <th>contents_attribute_d</th>\n",
       "      <th>contents_attribute_m</th>\n",
       "      <th>contents_attribute_e</th>\n",
       "      <th>contents_attribute_h</th>\n",
       "      <th>target</th>\n",
       "      <th>month</th>\n",
       "      <th>day</th>\n",
       "    </tr>\n",
       "  </thead>\n",
       "  <tbody>\n",
       "    <tr>\n",
       "      <th>0</th>\n",
       "      <td>True</td>\n",
       "      <td>True</td>\n",
       "      <td>True</td>\n",
       "      <td>False</td>\n",
       "      <td>275</td>\n",
       "      <td>370</td>\n",
       "      <td>369</td>\n",
       "      <td>8</td>\n",
       "      <td>4</td>\n",
       "      <td>95</td>\n",
       "      <td>59</td>\n",
       "      <td>10</td>\n",
       "      <td>2</td>\n",
       "      <td>1</td>\n",
       "      <td>1608</td>\n",
       "      <td>275</td>\n",
       "      <td>1</td>\n",
       "      <td>4</td>\n",
       "      <td>139</td>\n",
       "      <td>1</td>\n",
       "      <td>1</td>\n",
       "      <td>17</td>\n",
       "    </tr>\n",
       "    <tr>\n",
       "      <th>1</th>\n",
       "      <td>False</td>\n",
       "      <td>False</td>\n",
       "      <td>False</td>\n",
       "      <td>True</td>\n",
       "      <td>114</td>\n",
       "      <td>181</td>\n",
       "      <td>175</td>\n",
       "      <td>4</td>\n",
       "      <td>131</td>\n",
       "      <td>101</td>\n",
       "      <td>96</td>\n",
       "      <td>5</td>\n",
       "      <td>1</td>\n",
       "      <td>1</td>\n",
       "      <td>1608</td>\n",
       "      <td>275</td>\n",
       "      <td>1</td>\n",
       "      <td>4</td>\n",
       "      <td>133</td>\n",
       "      <td>0</td>\n",
       "      <td>6</td>\n",
       "      <td>18</td>\n",
       "    </tr>\n",
       "    <tr>\n",
       "      <th>2</th>\n",
       "      <td>False</td>\n",
       "      <td>False</td>\n",
       "      <td>False</td>\n",
       "      <td>True</td>\n",
       "      <td>464</td>\n",
       "      <td>175</td>\n",
       "      <td>452</td>\n",
       "      <td>3</td>\n",
       "      <td>54</td>\n",
       "      <td>263</td>\n",
       "      <td>56</td>\n",
       "      <td>10</td>\n",
       "      <td>2</td>\n",
       "      <td>1</td>\n",
       "      <td>1600</td>\n",
       "      <td>94</td>\n",
       "      <td>1</td>\n",
       "      <td>4</td>\n",
       "      <td>53</td>\n",
       "      <td>0</td>\n",
       "      <td>7</td>\n",
       "      <td>8</td>\n",
       "    </tr>\n",
       "  </tbody>\n",
       "</table>\n",
       "</div>"
      ],
      "text/plain": [
       "   d_l_match_yn  d_m_match_yn  d_s_match_yn  h_l_match_yn  person_prefer_d_1  \\\n",
       "0          True          True          True         False                275   \n",
       "1         False         False         False          True                114   \n",
       "2         False         False         False          True                464   \n",
       "\n",
       "   person_prefer_d_2  person_prefer_d_3  person_prefer_e  person_prefer_h_1  \\\n",
       "0                370                369                8                  4   \n",
       "1                181                175                4                131   \n",
       "2                175                452                3                 54   \n",
       "\n",
       "   person_prefer_h_2  person_prefer_h_3  contents_attribute_j_1  \\\n",
       "0                 95                 59                      10   \n",
       "1                101                 96                       5   \n",
       "2                263                 56                      10   \n",
       "\n",
       "   contents_attribute_j  contents_attribute_c  contents_attribute_l  \\\n",
       "0                     2                     1                  1608   \n",
       "1                     1                     1                  1608   \n",
       "2                     2                     1                  1600   \n",
       "\n",
       "   contents_attribute_d  contents_attribute_m  contents_attribute_e  \\\n",
       "0                   275                     1                     4   \n",
       "1                   275                     1                     4   \n",
       "2                    94                     1                     4   \n",
       "\n",
       "   contents_attribute_h  target  month  day  \n",
       "0                   139       1      1   17  \n",
       "1                   133       0      6   18  \n",
       "2                    53       0      7    8  "
      ]
     },
     "execution_count": 20,
     "metadata": {},
     "output_type": "execute_result"
    }
   ],
   "source": [
    "train.head(3)"
   ]
  },
  {
   "cell_type": "code",
   "execution_count": null,
   "metadata": {},
   "outputs": [],
   "source": []
  },
  {
   "cell_type": "markdown",
   "metadata": {},
   "source": [
    "# 데이터 분리"
   ]
  },
  {
   "cell_type": "code",
   "execution_count": 50,
   "metadata": {
    "ExecuteTime": {
     "end_time": "2022-01-24T05:53:33.741558Z",
     "start_time": "2022-01-24T05:53:33.685084Z"
    }
   },
   "outputs": [],
   "source": [
    "X = train.iloc[:, 1:-1]\n",
    "y = train.loc[:, 'target']"
   ]
  },
  {
   "cell_type": "code",
   "execution_count": 51,
   "metadata": {
    "ExecuteTime": {
     "end_time": "2022-01-24T05:53:34.820574Z",
     "start_time": "2022-01-24T05:53:34.804946Z"
    }
   },
   "outputs": [
    {
     "data": {
      "text/plain": [
       "(501951, 28)"
      ]
     },
     "execution_count": 51,
     "metadata": {},
     "output_type": "execute_result"
    }
   ],
   "source": [
    "X.shape"
   ]
  },
  {
   "cell_type": "code",
   "execution_count": 52,
   "metadata": {
    "ExecuteTime": {
     "end_time": "2022-01-24T05:53:37.484584Z",
     "start_time": "2022-01-24T05:53:37.458577Z"
    }
   },
   "outputs": [
    {
     "data": {
      "text/html": [
       "<div>\n",
       "<style scoped>\n",
       "    .dataframe tbody tr th:only-of-type {\n",
       "        vertical-align: middle;\n",
       "    }\n",
       "\n",
       "    .dataframe tbody tr th {\n",
       "        vertical-align: top;\n",
       "    }\n",
       "\n",
       "    .dataframe thead th {\n",
       "        text-align: right;\n",
       "    }\n",
       "</style>\n",
       "<table border=\"1\" class=\"dataframe\">\n",
       "  <thead>\n",
       "    <tr style=\"text-align: right;\">\n",
       "      <th></th>\n",
       "      <th>d_l_match_yn</th>\n",
       "      <th>d_m_match_yn</th>\n",
       "      <th>d_s_match_yn</th>\n",
       "      <th>h_l_match_yn</th>\n",
       "      <th>h_m_match_yn</th>\n",
       "      <th>h_s_match_yn</th>\n",
       "      <th>person_attribute_a</th>\n",
       "      <th>person_attribute_a_1</th>\n",
       "      <th>person_attribute_b</th>\n",
       "      <th>person_prefer_c</th>\n",
       "      <th>person_prefer_d_1</th>\n",
       "      <th>person_prefer_d_2</th>\n",
       "      <th>person_prefer_d_3</th>\n",
       "      <th>person_prefer_e</th>\n",
       "      <th>person_prefer_h_1</th>\n",
       "      <th>person_prefer_h_2</th>\n",
       "      <th>person_prefer_h_3</th>\n",
       "      <th>contents_attribute_i</th>\n",
       "      <th>contents_attribute_a</th>\n",
       "      <th>contents_attribute_j_1</th>\n",
       "      <th>contents_attribute_j</th>\n",
       "      <th>contents_attribute_c</th>\n",
       "      <th>contents_attribute_k</th>\n",
       "      <th>contents_attribute_l</th>\n",
       "      <th>contents_attribute_d</th>\n",
       "      <th>contents_attribute_m</th>\n",
       "      <th>contents_attribute_e</th>\n",
       "      <th>contents_attribute_h</th>\n",
       "    </tr>\n",
       "  </thead>\n",
       "  <tbody>\n",
       "    <tr>\n",
       "      <th>0</th>\n",
       "      <td>True</td>\n",
       "      <td>True</td>\n",
       "      <td>True</td>\n",
       "      <td>False</td>\n",
       "      <td>False</td>\n",
       "      <td>False</td>\n",
       "      <td>1</td>\n",
       "      <td>4</td>\n",
       "      <td>3</td>\n",
       "      <td>5</td>\n",
       "      <td>275</td>\n",
       "      <td>370</td>\n",
       "      <td>369</td>\n",
       "      <td>8</td>\n",
       "      <td>4</td>\n",
       "      <td>95</td>\n",
       "      <td>59</td>\n",
       "      <td>3</td>\n",
       "      <td>3</td>\n",
       "      <td>10</td>\n",
       "      <td>2</td>\n",
       "      <td>1</td>\n",
       "      <td>2</td>\n",
       "      <td>1608</td>\n",
       "      <td>275</td>\n",
       "      <td>1</td>\n",
       "      <td>4</td>\n",
       "      <td>139</td>\n",
       "    </tr>\n",
       "    <tr>\n",
       "      <th>1</th>\n",
       "      <td>False</td>\n",
       "      <td>False</td>\n",
       "      <td>False</td>\n",
       "      <td>True</td>\n",
       "      <td>True</td>\n",
       "      <td>False</td>\n",
       "      <td>1</td>\n",
       "      <td>3</td>\n",
       "      <td>4</td>\n",
       "      <td>1</td>\n",
       "      <td>114</td>\n",
       "      <td>181</td>\n",
       "      <td>175</td>\n",
       "      <td>4</td>\n",
       "      <td>131</td>\n",
       "      <td>101</td>\n",
       "      <td>96</td>\n",
       "      <td>1</td>\n",
       "      <td>3</td>\n",
       "      <td>5</td>\n",
       "      <td>1</td>\n",
       "      <td>1</td>\n",
       "      <td>2</td>\n",
       "      <td>1608</td>\n",
       "      <td>275</td>\n",
       "      <td>1</td>\n",
       "      <td>4</td>\n",
       "      <td>133</td>\n",
       "    </tr>\n",
       "    <tr>\n",
       "      <th>2</th>\n",
       "      <td>False</td>\n",
       "      <td>False</td>\n",
       "      <td>False</td>\n",
       "      <td>True</td>\n",
       "      <td>False</td>\n",
       "      <td>False</td>\n",
       "      <td>2</td>\n",
       "      <td>0</td>\n",
       "      <td>3</td>\n",
       "      <td>5</td>\n",
       "      <td>464</td>\n",
       "      <td>175</td>\n",
       "      <td>452</td>\n",
       "      <td>3</td>\n",
       "      <td>54</td>\n",
       "      <td>263</td>\n",
       "      <td>56</td>\n",
       "      <td>3</td>\n",
       "      <td>1</td>\n",
       "      <td>10</td>\n",
       "      <td>2</td>\n",
       "      <td>1</td>\n",
       "      <td>1</td>\n",
       "      <td>1600</td>\n",
       "      <td>94</td>\n",
       "      <td>1</td>\n",
       "      <td>4</td>\n",
       "      <td>53</td>\n",
       "    </tr>\n",
       "  </tbody>\n",
       "</table>\n",
       "</div>"
      ],
      "text/plain": [
       "   d_l_match_yn  d_m_match_yn  d_s_match_yn  h_l_match_yn  h_m_match_yn  \\\n",
       "0          True          True          True         False         False   \n",
       "1         False         False         False          True          True   \n",
       "2         False         False         False          True         False   \n",
       "\n",
       "   h_s_match_yn  person_attribute_a  person_attribute_a_1  person_attribute_b  \\\n",
       "0         False                   1                     4                   3   \n",
       "1         False                   1                     3                   4   \n",
       "2         False                   2                     0                   3   \n",
       "\n",
       "   person_prefer_c  person_prefer_d_1  person_prefer_d_2  person_prefer_d_3  \\\n",
       "0                5                275                370                369   \n",
       "1                1                114                181                175   \n",
       "2                5                464                175                452   \n",
       "\n",
       "   person_prefer_e  person_prefer_h_1  person_prefer_h_2  person_prefer_h_3  \\\n",
       "0                8                  4                 95                 59   \n",
       "1                4                131                101                 96   \n",
       "2                3                 54                263                 56   \n",
       "\n",
       "   contents_attribute_i  contents_attribute_a  contents_attribute_j_1  \\\n",
       "0                     3                     3                      10   \n",
       "1                     1                     3                       5   \n",
       "2                     3                     1                      10   \n",
       "\n",
       "   contents_attribute_j  contents_attribute_c  contents_attribute_k  \\\n",
       "0                     2                     1                     2   \n",
       "1                     1                     1                     2   \n",
       "2                     2                     1                     1   \n",
       "\n",
       "   contents_attribute_l  contents_attribute_d  contents_attribute_m  \\\n",
       "0                  1608                   275                     1   \n",
       "1                  1608                   275                     1   \n",
       "2                  1600                    94                     1   \n",
       "\n",
       "   contents_attribute_e  contents_attribute_h  \n",
       "0                     4                   139  \n",
       "1                     4                   133  \n",
       "2                     4                    53  "
      ]
     },
     "execution_count": 52,
     "metadata": {},
     "output_type": "execute_result"
    }
   ],
   "source": [
    "X.head(3)"
   ]
  },
  {
   "cell_type": "code",
   "execution_count": 53,
   "metadata": {
    "ExecuteTime": {
     "end_time": "2022-01-24T05:53:50.007611Z",
     "start_time": "2022-01-24T05:53:47.856034Z"
    }
   },
   "outputs": [],
   "source": [
    "X_train, X_test, y_train, y_test =  train_test_split(X, y, test_size=0.33, stratify=y, random_state=42)"
   ]
  },
  {
   "cell_type": "markdown",
   "metadata": {},
   "source": [
    "# 모델 학습\n",
    "\n",
    "RandomForest를 이용한 학습"
   ]
  },
  {
   "cell_type": "markdown",
   "metadata": {},
   "source": [
    "## RandomForest "
   ]
  },
  {
   "cell_type": "code",
   "execution_count": 54,
   "metadata": {
    "ExecuteTime": {
     "end_time": "2022-01-24T05:54:33.731504Z",
     "start_time": "2022-01-24T05:53:56.738476Z"
    }
   },
   "outputs": [
    {
     "data": {
      "text/plain": [
       "RandomForestClassifier(max_depth=8, n_estimators=300, n_jobs=-1)"
      ]
     },
     "execution_count": 54,
     "metadata": {},
     "output_type": "execute_result"
    }
   ],
   "source": [
    "model = RandomForestClassifier(n_estimators=300, max_depth=8, n_jobs=-1)\n",
    "\n",
    "\n",
    "model.fit(X_train, y_train)"
   ]
  },
  {
   "cell_type": "markdown",
   "metadata": {},
   "source": [
    "## xgboost"
   ]
  },
  {
   "cell_type": "code",
   "execution_count": 56,
   "metadata": {
    "ExecuteTime": {
     "end_time": "2022-01-24T05:55:45.190488Z",
     "start_time": "2022-01-24T05:55:45.179493Z"
    }
   },
   "outputs": [],
   "source": [
    "xgb = XGBClassifier(n_estimators=500, learning_rate=0.1, max_depth=8)"
   ]
  },
  {
   "cell_type": "code",
   "execution_count": 57,
   "metadata": {
    "ExecuteTime": {
     "end_time": "2022-01-24T05:57:18.902885Z",
     "start_time": "2022-01-24T05:55:46.710595Z"
    }
   },
   "outputs": [
    {
     "name": "stdout",
     "output_type": "stream",
     "text": [
      "[14:55:47] WARNING: C:/Users/Administrator/workspace/xgboost-win64_release_1.5.0/src/learner.cc:1115: Starting in XGBoost 1.3.0, the default evaluation metric used with the objective 'binary:logistic' was changed from 'error' to 'logloss'. Explicitly set eval_metric if you'd like to restore the old behavior.\n"
     ]
    },
    {
     "data": {
      "text/plain": [
       "XGBClassifier(base_score=0.5, booster='gbtree', colsample_bylevel=1,\n",
       "              colsample_bynode=1, colsample_bytree=1, enable_categorical=False,\n",
       "              gamma=0, gpu_id=-1, importance_type=None,\n",
       "              interaction_constraints='', learning_rate=0.1, max_delta_step=0,\n",
       "              max_depth=8, min_child_weight=1, missing=nan,\n",
       "              monotone_constraints='()', n_estimators=500, n_jobs=6,\n",
       "              num_parallel_tree=1, predictor='auto', random_state=0,\n",
       "              reg_alpha=0, reg_lambda=1, scale_pos_weight=1, subsample=1,\n",
       "              tree_method='exact', validate_parameters=1, verbosity=None)"
      ]
     },
     "execution_count": 57,
     "metadata": {},
     "output_type": "execute_result"
    }
   ],
   "source": [
    "xgb.fit(X_train, y_train)"
   ]
  },
  {
   "cell_type": "markdown",
   "metadata": {},
   "source": [
    "### 하이퍼파라미터 튜닝"
   ]
  },
  {
   "cell_type": "code",
   "execution_count": 57,
   "metadata": {
    "ExecuteTime": {
     "end_time": "2021-12-21T02:00:50.006334Z",
     "start_time": "2021-12-20T05:21:22.264850Z"
    },
    "collapsed": true
   },
   "outputs": [
    {
     "name": "stdout",
     "output_type": "stream",
     "text": [
      "Fitting 5 folds for each of 80 candidates, totalling 400 fits\n",
      "[10:56:21] WARNING: C:/Users/Administrator/workspace/xgboost-win64_release_1.5.0/src/learner.cc:1115: Starting in XGBoost 1.3.0, the default evaluation metric used with the objective 'binary:logistic' was changed from 'error' to 'logloss'. Explicitly set eval_metric if you'd like to restore the old behavior.\n"
     ]
    },
    {
     "data": {
      "text/plain": [
       "GridSearchCV(estimator=XGBClassifier(base_score=None, booster=None,\n",
       "                                     colsample_bylevel=None,\n",
       "                                     colsample_bynode=None,\n",
       "                                     colsample_bytree=None,\n",
       "                                     enable_categorical=False, gamma=None,\n",
       "                                     gpu_id=None, importance_type=None,\n",
       "                                     interaction_constraints=None,\n",
       "                                     learning_rate=None, max_delta_step=None,\n",
       "                                     max_depth=None, min_child_weight=None,\n",
       "                                     missing=nan, monotone_constraints=None,\n",
       "                                     n_est...ors=100, n_jobs=None,\n",
       "                                     num_parallel_tree=None, predictor=None,\n",
       "                                     random_state=None, reg_alpha=None,\n",
       "                                     reg_lambda=None, scale_pos_weight=None,\n",
       "                                     subsample=None, tree_method=None,\n",
       "                                     validate_parameters=None, verbosity=None),\n",
       "             n_jobs=-1,\n",
       "             param_grid={'learning_rate': [0.01, 0.05, 0.1, 0.15],\n",
       "                         'max_depth': [4, 6, 8, 10, 12],\n",
       "                         'n_estimators': [100, 200, 400, 600]},\n",
       "             scoring='accuracy', verbose=1)"
      ]
     },
     "execution_count": 57,
     "metadata": {},
     "output_type": "execute_result"
    }
   ],
   "source": [
    "xgb = XGBClassifier()\n",
    "xgb_param_grid = {\n",
    "    'n_estimators' : [100, 200, 400, 600],\n",
    "    'learning_rate' : [0.01, 0.05, 0.1, 0.15],\n",
    "    'max_depth' : [4, 6, 8, 10, 12],\n",
    "}\n",
    "\n",
    "xgb_grid = GridSearchCV(xgb, param_grid=xgb_param_grid, scoring='accuracy', n_jobs= -1, verbose=1)\n",
    "xgb_grid.fit(X_train, y_train)"
   ]
  },
  {
   "cell_type": "markdown",
   "metadata": {},
   "source": [
    "## 모델 검증"
   ]
  },
  {
   "cell_type": "code",
   "execution_count": 28,
   "metadata": {
    "ExecuteTime": {
     "end_time": "2022-01-24T05:25:51.003663Z",
     "start_time": "2022-01-24T05:25:50.992673Z"
    }
   },
   "outputs": [],
   "source": [
    "def get_metrics(y_test, pred):\n",
    "    print('정확도: ', accuracy_score(y_test, pred))\n",
    "    print('정확성: ',  precision_score(y_test, pred)) # 정확도\n",
    "    print('재현율: ', recall_score(y_test, pred)) # 재현율\n",
    "    print('f1 score: ', f1_score(y_test, pred)) # f1 score"
   ]
  },
  {
   "cell_type": "markdown",
   "metadata": {},
   "source": [
    "### RandomForest"
   ]
  },
  {
   "cell_type": "code",
   "execution_count": 55,
   "metadata": {
    "ExecuteTime": {
     "end_time": "2022-01-24T05:54:35.340839Z",
     "start_time": "2022-01-24T05:54:33.859516Z"
    },
    "scrolled": true
   },
   "outputs": [
    {
     "name": "stdout",
     "output_type": "stream",
     "text": [
      "정확도:  0.5973956195213832\n",
      "정확성:  0.5900270808621114\n",
      "재현율:  0.6369489846458642\n",
      "f1 score:  0.6125908412289925\n"
     ]
    }
   ],
   "source": [
    "pred = model.predict(X_test)\n",
    "\n",
    "get_metrics(y_test, pred)"
   ]
  },
  {
   "cell_type": "code",
   "execution_count": 31,
   "metadata": {
    "ExecuteTime": {
     "end_time": "2022-01-24T05:26:55.439099Z",
     "start_time": "2022-01-24T05:26:55.280887Z"
    },
    "scrolled": false
   },
   "outputs": [
    {
     "name": "stdout",
     "output_type": "stream",
     "text": [
      "정확도:  0.5914974282195552\n",
      "정확성:  0.5897350639480341\n",
      "재현율:  0.5999226857053117\n",
      "f1 score:  0.5947852540302297\n"
     ]
    }
   ],
   "source": [
    "get_metrics(y_test, pred)"
   ]
  },
  {
   "cell_type": "markdown",
   "metadata": {},
   "source": [
    "### xgboost"
   ]
  },
  {
   "cell_type": "code",
   "execution_count": 58,
   "metadata": {
    "ExecuteTime": {
     "end_time": "2022-01-24T05:57:19.921739Z",
     "start_time": "2022-01-24T05:57:19.030583Z"
    }
   },
   "outputs": [
    {
     "name": "stdout",
     "output_type": "stream",
     "text": [
      "정확도:  0.6306778392214629\n",
      "정확성:  0.6201408121725783\n",
      "재현율:  0.6735403906787953\n",
      "f1 score:  0.6457385080435009\n"
     ]
    }
   ],
   "source": [
    "pred = xgb.predict(X_test) \n",
    "\n",
    "get_metrics(y_test, pred)"
   ]
  },
  {
   "cell_type": "markdown",
   "metadata": {},
   "source": [
    "# feature importance"
   ]
  },
  {
   "cell_type": "code",
   "execution_count": 60,
   "metadata": {
    "ExecuteTime": {
     "end_time": "2022-01-24T05:58:01.623440Z",
     "start_time": "2022-01-24T05:58:01.491557Z"
    }
   },
   "outputs": [],
   "source": [
    "importances = model.feature_importances_"
   ]
  },
  {
   "cell_type": "code",
   "execution_count": 61,
   "metadata": {
    "ExecuteTime": {
     "end_time": "2022-01-24T05:58:01.766860Z",
     "start_time": "2022-01-24T05:58:01.752838Z"
    }
   },
   "outputs": [],
   "source": [
    "import matplotlib.pyplot as plt"
   ]
  },
  {
   "cell_type": "code",
   "execution_count": 62,
   "metadata": {
    "ExecuteTime": {
     "end_time": "2022-01-24T05:58:02.149922Z",
     "start_time": "2022-01-24T05:58:01.896399Z"
    },
    "scrolled": false
   },
   "outputs": [
    {
     "name": "stdout",
     "output_type": "stream",
     "text": [
      "Feature Ranking: \n",
      "1. feature d_l_match_yn (0.196)\n",
      "2. feature d_m_match_yn (0.124)\n",
      "3. feature contents_attribute_j_1 (0.122)\n",
      "4. feature contents_attribute_d (0.105)\n",
      "5. feature contents_attribute_l (0.064)\n",
      "6. feature person_prefer_d_1 (0.061)\n",
      "7. feature d_s_match_yn (0.038)\n",
      "8. feature contents_attribute_h (0.038)\n",
      "9. feature person_prefer_d_2 (0.038)\n",
      "10. feature person_prefer_d_3 (0.036)\n",
      "11. feature person_prefer_h_1 (0.026)\n",
      "12. feature contents_attribute_c (0.024)\n",
      "13. feature contents_attribute_j (0.016)\n",
      "14. feature contents_attribute_e (0.016)\n",
      "15. feature contents_attribute_m (0.014)\n",
      "16. feature person_prefer_e (0.013)\n",
      "17. feature h_l_match_yn (0.013)\n",
      "18. feature person_prefer_h_2 (0.012)\n",
      "19. feature person_prefer_h_3 (0.009)\n",
      "20. feature person_attribute_a_1 (0.009)\n",
      "21. feature contents_attribute_a (0.005)\n",
      "22. feature h_m_match_yn (0.005)\n",
      "23. feature person_prefer_c (0.004)\n",
      "24. feature person_attribute_b (0.004)\n",
      "25. feature h_s_match_yn (0.003)\n",
      "26. feature contents_attribute_i (0.002)\n",
      "27. feature contents_attribute_k (0.001)\n",
      "28. feature person_attribute_a (0.001)\n"
     ]
    },
    {
     "data": {
      "image/png": "[encoded data removed]",
      "text/plain": [
       "<Figure size 1440x720 with 1 Axes>"
      ]
     },
     "metadata": {
      "needs_background": "light"
     },
     "output_type": "display_data"
    }
   ],
   "source": [
    "std = np.std([tree.feature_importances_ for tree in model.estimators_], axis=0)\n",
    "indices = np.argsort(importances)[::-1]\n",
    "\n",
    "print('Feature Ranking: ')\n",
    "\n",
    "for f in range(X.shape[1]):\n",
    "    print(\"{}. feature {} ({:.3f})\".format(f + 1, X.columns[indices][f], importances[indices[f]]))\n",
    "    \n",
    "    \n",
    "plt.figure(figsize =(20, 10))\n",
    "plt.title('Feature importances')\n",
    "plt.bar(range(X.shape[1]), importances[indices],\n",
    "       color='r', yerr=std[indices], align='center')\n",
    "plt.xticks(range(X.shape[1]), X.columns[indices], rotation=45, fontsize=20)\n",
    "plt.xlim([-1, X.shape[1]])\n",
    "plt.show()"
   ]
  },
  {
   "cell_type": "markdown",
   "metadata": {},
   "source": [
    "# Test set 예측"
   ]
  },
  {
   "cell_type": "code",
   "execution_count": 6,
   "metadata": {},
   "outputs": [],
   "source": [
    "preds = model.predict(test)"
   ]
  },
  {
   "cell_type": "code",
   "execution_count": 104,
   "metadata": {
    "ExecuteTime": {
     "end_time": "2021-12-22T06:26:29.130864Z",
     "start_time": "2021-12-22T06:26:28.819723Z"
    }
   },
   "outputs": [],
   "source": [
    "test2 = test.drop(drop_columns, axis=1)\n",
    "preds2 = xgb.predict(test2)"
   ]
  },
  {
   "cell_type": "code",
   "execution_count": 109,
   "metadata": {
    "ExecuteTime": {
     "end_time": "2021-12-22T06:48:09.621845Z",
     "start_time": "2021-12-22T06:48:09.034728Z"
    }
   },
   "outputs": [],
   "source": [
    "preds3 = xgb_grid.predict(test)"
   ]
  },
  {
   "cell_type": "markdown",
   "metadata": {},
   "source": [
    "# 제출파일 생성"
   ]
  },
  {
   "cell_type": "code",
   "execution_count": 7,
   "metadata": {},
   "outputs": [],
   "source": [
    "submission = pd.read_csv('sample_submission.csv')\n",
    "submission['target'] = preds\n",
    "\n",
    "submission.to_csv('baseline.csv', index=False)"
   ]
  },
  {
   "cell_type": "code",
   "execution_count": 106,
   "metadata": {
    "ExecuteTime": {
     "end_time": "2021-12-22T06:27:27.304313Z",
     "start_time": "2021-12-22T06:27:27.132850Z"
    }
   },
   "outputs": [],
   "source": [
    "submission = pd.read_csv('./data/sample_submission.csv')\n",
    "submission['target'] = preds2\n",
    "\n",
    "submission.to_csv('result1.csv', index=False)"
   ]
  },
  {
   "cell_type": "code",
   "execution_count": 112,
   "metadata": {
    "ExecuteTime": {
     "end_time": "2021-12-22T06:51:01.193248Z",
     "start_time": "2021-12-22T06:51:01.127235Z"
    }
   },
   "outputs": [],
   "source": [
    "# grid search 적용\n",
    "submission = pd.read_csv('./data/sample_submission.csv')\n",
    "submission['target'] = preds3\n",
    "\n",
    "submission.to_csv('result2.csv', index=False)"
   ]
  },
  {
   "cell_type": "code",
   "execution_count": null,
   "metadata": {},
   "outputs": [],
   "source": []
  }
 ],
 "metadata": {
  "kernelspec": {
   "display_name": "Python 3",
   "language": "python",
   "name": "python3"
  },
  "language_info": {
   "codemirror_mode": {
    "name": "ipython",
    "version": 3
   },
   "file_extension": ".py",
   "mimetype": "text/x-python",
   "name": "python",
   "nbconvert_exporter": "python",
   "pygments_lexer": "ipython3",
   "version": "3.7.1"
  },
  "toc": {
   "base_numbering": 1,
   "nav_menu": {},
   "number_sections": true,
   "sideBar": true,
   "skip_h1_title": false,
   "title_cell": "Table of Contents",
   "title_sidebar": "Contents",
   "toc_cell": false,
   "toc_position": {
    "height": "calc(100% - 180px)",
    "left": "10px",
    "top": "150px",
    "width": "303.825px"
   },
   "toc_section_display": true,
   "toc_window_display": false
  },
  "varInspector": {
   "cols": {
    "lenName": 16,
    "lenType": 16,
    "lenVar": 40
   },
   "kernels_config": {
    "python": {
     "delete_cmd_postfix": "",
     "delete_cmd_prefix": "del ",
     "library": "var_list.py",
     "varRefreshCmd": "print(var_dic_list())"
    },
    "r": {
     "delete_cmd_postfix": ") ",
     "delete_cmd_prefix": "rm(",
     "library": "var_list.r",
     "varRefreshCmd": "cat(var_dic_list()) "
    }
   },
   "types_to_exclude": [
    "module",
    "function",
    "builtin_function_or_method",
    "instance",
    "_Feature"
   ],
   "window_display": false
  }
 },
 "nbformat": 4,
 "nbformat_minor": 4
}
