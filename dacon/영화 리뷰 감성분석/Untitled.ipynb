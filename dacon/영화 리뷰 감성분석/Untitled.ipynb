{
 "cells": [
  {
   "cell_type": "markdown",
   "metadata": {},
   "source": [
    "# 패키지 불러오기"
   ]
  },
  {
   "cell_type": "code",
   "execution_count": 1,
   "metadata": {
    "ExecuteTime": {
     "end_time": "2022-01-19T09:45:00.692401Z",
     "start_time": "2022-01-19T09:44:59.644465Z"
    }
   },
   "outputs": [],
   "source": [
    "import pandas as pd\n",
    "import os\n",
    "import re\n",
    "import warnings\n",
    "warnings.filterwarnings(action='ignore')\n",
    "import nltk\n",
    "\n",
    "from sklearn.feature_extraction.text import CountVectorizer\n",
    "from sklearn.model_selection import train_test_split"
   ]
  },
  {
   "cell_type": "code",
   "execution_count": 2,
   "metadata": {
    "ExecuteTime": {
     "end_time": "2022-01-13T06:57:34.525549Z",
     "start_time": "2022-01-13T06:57:34.504408Z"
    }
   },
   "outputs": [
    {
     "data": {
      "text/plain": [
       "'C:\\\\Users\\\\user\\\\projects\\\\ml\\\\dacon\\\\영화 리뷰 감성분석'"
      ]
     },
     "execution_count": 2,
     "metadata": {},
     "output_type": "execute_result"
    }
   ],
   "source": [
    "os.path.realpath('.')"
   ]
  },
  {
   "cell_type": "markdown",
   "metadata": {},
   "source": [
    "# 데이터 로드"
   ]
  },
  {
   "cell_type": "code",
   "execution_count": 2,
   "metadata": {
    "ExecuteTime": {
     "end_time": "2022-01-19T09:45:04.060101Z",
     "start_time": "2022-01-19T09:45:04.020089Z"
    },
    "scrolled": true
   },
   "outputs": [
    {
     "data": {
      "text/html": [
       "<div>\n",
       "<style scoped>\n",
       "    .dataframe tbody tr th:only-of-type {\n",
       "        vertical-align: middle;\n",
       "    }\n",
       "\n",
       "    .dataframe tbody tr th {\n",
       "        vertical-align: top;\n",
       "    }\n",
       "\n",
       "    .dataframe thead th {\n",
       "        text-align: right;\n",
       "    }\n",
       "</style>\n",
       "<table border=\"1\" class=\"dataframe\">\n",
       "  <thead>\n",
       "    <tr style=\"text-align: right;\">\n",
       "      <th></th>\n",
       "      <th>id</th>\n",
       "      <th>document</th>\n",
       "      <th>label</th>\n",
       "    </tr>\n",
       "  </thead>\n",
       "  <tbody>\n",
       "    <tr>\n",
       "      <th>0</th>\n",
       "      <td>1</td>\n",
       "      <td>영상이나 음악이 이쁘다 해도 미화시킨 불륜일뿐</td>\n",
       "      <td>0</td>\n",
       "    </tr>\n",
       "    <tr>\n",
       "      <th>1</th>\n",
       "      <td>2</td>\n",
       "      <td>히치콕이 이 영화를 봤다면 분명 박수를 쳤을듯...</td>\n",
       "      <td>1</td>\n",
       "    </tr>\n",
       "    <tr>\n",
       "      <th>2</th>\n",
       "      <td>3</td>\n",
       "      <td>괜찮은 음악영화가 또 나왔군요!!! 따뜻한 겨울이 될 것 같아요~</td>\n",
       "      <td>1</td>\n",
       "    </tr>\n",
       "    <tr>\n",
       "      <th>3</th>\n",
       "      <td>4</td>\n",
       "      <td>아무래도 20년도지난작품이라 지금보기는너무유치하다</td>\n",
       "      <td>0</td>\n",
       "    </tr>\n",
       "    <tr>\n",
       "      <th>4</th>\n",
       "      <td>5</td>\n",
       "      <td>지금까지의 영화들이 그랬듯. 이 영화역시 일본에 대한 미화는 여전하다.</td>\n",
       "      <td>0</td>\n",
       "    </tr>\n",
       "  </tbody>\n",
       "</table>\n",
       "</div>"
      ],
      "text/plain": [
       "   id                                 document  label\n",
       "0   1                영상이나 음악이 이쁘다 해도 미화시킨 불륜일뿐      0\n",
       "1   2             히치콕이 이 영화를 봤다면 분명 박수를 쳤을듯...      1\n",
       "2   3     괜찮은 음악영화가 또 나왔군요!!! 따뜻한 겨울이 될 것 같아요~      1\n",
       "3   4              아무래도 20년도지난작품이라 지금보기는너무유치하다      0\n",
       "4   5  지금까지의 영화들이 그랬듯. 이 영화역시 일본에 대한 미화는 여전하다.      0"
      ]
     },
     "execution_count": 2,
     "metadata": {},
     "output_type": "execute_result"
    }
   ],
   "source": [
    "train = pd.read_csv('./data/train.csv')\n",
    "train.head()"
   ]
  },
  {
   "cell_type": "code",
   "execution_count": 8,
   "metadata": {
    "ExecuteTime": {
     "end_time": "2022-01-19T09:47:33.085522Z",
     "start_time": "2022-01-19T09:47:33.077525Z"
    }
   },
   "outputs": [
    {
     "data": {
      "text/plain": [
       "id                   0\n",
       "document             0\n",
       "label                0\n",
       "preprocessed         0\n",
       "tokenized_stem    1129\n",
       "dtype: int64"
      ]
     },
     "execution_count": 8,
     "metadata": {},
     "output_type": "execute_result"
    }
   ],
   "source": [
    "train.isna().sum()"
   ]
  },
  {
   "cell_type": "code",
   "execution_count": 3,
   "metadata": {
    "ExecuteTime": {
     "end_time": "2022-01-19T09:26:31.746970Z",
     "start_time": "2022-01-19T09:26:31.732985Z"
    }
   },
   "outputs": [
    {
     "data": {
      "text/plain": [
       "(5000, 3)"
      ]
     },
     "execution_count": 3,
     "metadata": {},
     "output_type": "execute_result"
    }
   ],
   "source": [
    "train.shape"
   ]
  },
  {
   "cell_type": "markdown",
   "metadata": {},
   "source": [
    "- 단어 임베딩을 통해 벡터화\n",
    "- 모델 선정"
   ]
  },
  {
   "cell_type": "markdown",
   "metadata": {},
   "source": [
    "- 어떤 임베딩 모델을 쓸 것인지\n",
    "- 어떤 모델을 쓸 것인지 -> 자연어 처리에 좋은 모델 구상"
   ]
  },
  {
   "cell_type": "markdown",
   "metadata": {},
   "source": [
    "# 데이터 나누기"
   ]
  },
  {
   "cell_type": "markdown",
   "metadata": {},
   "source": [
    "## X, y"
   ]
  },
  {
   "cell_type": "code",
   "execution_count": 4,
   "metadata": {
    "ExecuteTime": {
     "end_time": "2022-01-19T09:26:38.172211Z",
     "start_time": "2022-01-19T09:26:38.156579Z"
    }
   },
   "outputs": [],
   "source": [
    "X = train['document']\n",
    "y = train['label']"
   ]
  },
  {
   "cell_type": "markdown",
   "metadata": {},
   "source": [
    "## train, test 데이터 나누기"
   ]
  },
  {
   "cell_type": "code",
   "execution_count": 3,
   "metadata": {
    "ExecuteTime": {
     "end_time": "2022-01-19T09:45:10.138540Z",
     "start_time": "2022-01-19T09:45:10.129548Z"
    }
   },
   "outputs": [],
   "source": [
    "train, val = train_test_split(train, test_size=0.33, random_state=42)"
   ]
  },
  {
   "cell_type": "code",
   "execution_count": 17,
   "metadata": {
    "ExecuteTime": {
     "end_time": "2022-01-19T09:29:56.098028Z",
     "start_time": "2022-01-19T09:29:56.089018Z"
    },
    "scrolled": true
   },
   "outputs": [
    {
     "data": {
      "text/plain": [
       "(3350, 3)"
      ]
     },
     "execution_count": 17,
     "metadata": {},
     "output_type": "execute_result"
    }
   ],
   "source": [
    "train.shape"
   ]
  },
  {
   "cell_type": "code",
   "execution_count": 18,
   "metadata": {
    "ExecuteTime": {
     "end_time": "2022-01-19T09:29:56.642842Z",
     "start_time": "2022-01-19T09:29:56.633848Z"
    }
   },
   "outputs": [
    {
     "data": {
      "text/plain": [
       "(1650, 3)"
      ]
     },
     "execution_count": 18,
     "metadata": {},
     "output_type": "execute_result"
    }
   ],
   "source": [
    "val.shape"
   ]
  },
  {
   "cell_type": "markdown",
   "metadata": {},
   "source": [
    "# 데이터 정제"
   ]
  },
  {
   "cell_type": "code",
   "execution_count": 4,
   "metadata": {
    "ExecuteTime": {
     "end_time": "2022-01-19T09:45:22.487388Z",
     "start_time": "2022-01-19T09:45:22.451651Z"
    }
   },
   "outputs": [
    {
     "data": {
      "text/html": [
       "<div>\n",
       "<style scoped>\n",
       "    .dataframe tbody tr th:only-of-type {\n",
       "        vertical-align: middle;\n",
       "    }\n",
       "\n",
       "    .dataframe tbody tr th {\n",
       "        vertical-align: top;\n",
       "    }\n",
       "\n",
       "    .dataframe thead th {\n",
       "        text-align: right;\n",
       "    }\n",
       "</style>\n",
       "<table border=\"1\" class=\"dataframe\">\n",
       "  <thead>\n",
       "    <tr style=\"text-align: right;\">\n",
       "      <th></th>\n",
       "      <th>id</th>\n",
       "      <th>document</th>\n",
       "      <th>label</th>\n",
       "      <th>preprocessed</th>\n",
       "    </tr>\n",
       "  </thead>\n",
       "  <tbody>\n",
       "    <tr>\n",
       "      <th>1522</th>\n",
       "      <td>1523</td>\n",
       "      <td>극장에서 보신분들께 심심한 위로의 말을 전합니다.</td>\n",
       "      <td>0</td>\n",
       "      <td>극장에서 보신분들께 심심한 위로의 말을 전합니다</td>\n",
       "    </tr>\n",
       "    <tr>\n",
       "      <th>835</th>\n",
       "      <td>836</td>\n",
       "      <td>킬링타임용 그 이상 그 이하도 아님</td>\n",
       "      <td>0</td>\n",
       "      <td>킬링타임용 그 이상 그 이하도 아님</td>\n",
       "    </tr>\n",
       "    <tr>\n",
       "      <th>358</th>\n",
       "      <td>359</td>\n",
       "      <td>디워 만도 못한영화는 오랜 만이다</td>\n",
       "      <td>0</td>\n",
       "      <td>디워 만도 못한영화는 오랜 만이다</td>\n",
       "    </tr>\n",
       "    <tr>\n",
       "      <th>138</th>\n",
       "      <td>139</td>\n",
       "      <td>학생 개 답답함 스토리 어이없음마지막 학살 웃음만 나옴</td>\n",
       "      <td>0</td>\n",
       "      <td>학생 개 답답함 스토리 어이없음마지막 학살 웃음만 나옴</td>\n",
       "    </tr>\n",
       "    <tr>\n",
       "      <th>299</th>\n",
       "      <td>300</td>\n",
       "      <td>무료로 올레서 봣는데ㅡ화가난다....난화가나...</td>\n",
       "      <td>0</td>\n",
       "      <td>무료로 올레서 봣는데ㅡ화가난다난화가나</td>\n",
       "    </tr>\n",
       "  </tbody>\n",
       "</table>\n",
       "</div>"
      ],
      "text/plain": [
       "        id                        document  label  \\\n",
       "1522  1523     극장에서 보신분들께 심심한 위로의 말을 전합니다.      0   \n",
       "835    836             킬링타임용 그 이상 그 이하도 아님      0   \n",
       "358    359              디워 만도 못한영화는 오랜 만이다      0   \n",
       "138    139  학생 개 답답함 스토리 어이없음마지막 학살 웃음만 나옴      0   \n",
       "299    300     무료로 올레서 봣는데ㅡ화가난다....난화가나...      0   \n",
       "\n",
       "                        preprocessed  \n",
       "1522      극장에서 보신분들께 심심한 위로의 말을 전합니다  \n",
       "835              킬링타임용 그 이상 그 이하도 아님  \n",
       "358               디워 만도 못한영화는 오랜 만이다  \n",
       "138   학생 개 답답함 스토리 어이없음마지막 학살 웃음만 나옴  \n",
       "299             무료로 올레서 봣는데ㅡ화가난다난화가나  "
      ]
     },
     "execution_count": 4,
     "metadata": {},
     "output_type": "execute_result"
    }
   ],
   "source": [
    "train['preprocessed'] = train['document'].str.replace(\"[^ㄱ-ㅎㅏ-ㅣ가-힣 ]\",\"\") # 한글과 공백을 제외하고 모두 제거\n",
    "train['preprocessed'] = train['preprocessed'].str.replace(\" +\", \" \") # 다중 공백 제거\n",
    "train.head() # 데이터 확인"
   ]
  },
  {
   "cell_type": "markdown",
   "metadata": {},
   "source": [
    "# 토큰화"
   ]
  },
  {
   "cell_type": "code",
   "execution_count": 5,
   "metadata": {
    "ExecuteTime": {
     "end_time": "2022-01-19T09:45:45.873581Z",
     "start_time": "2022-01-19T09:45:45.308396Z"
    }
   },
   "outputs": [],
   "source": [
    "from konlpy.tag import Okt \n",
    "\n",
    "okt = Okt() # 인스턴스 할당"
   ]
  },
  {
   "cell_type": "code",
   "execution_count": 6,
   "metadata": {
    "ExecuteTime": {
     "end_time": "2022-01-19T09:46:00.437489Z",
     "start_time": "2022-01-19T09:45:53.316223Z"
    },
    "scrolled": true
   },
   "outputs": [
    {
     "data": {
      "text/html": [
       "<div>\n",
       "<style scoped>\n",
       "    .dataframe tbody tr th:only-of-type {\n",
       "        vertical-align: middle;\n",
       "    }\n",
       "\n",
       "    .dataframe tbody tr th {\n",
       "        vertical-align: top;\n",
       "    }\n",
       "\n",
       "    .dataframe thead th {\n",
       "        text-align: right;\n",
       "    }\n",
       "</style>\n",
       "<table border=\"1\" class=\"dataframe\">\n",
       "  <thead>\n",
       "    <tr style=\"text-align: right;\">\n",
       "      <th></th>\n",
       "      <th>id</th>\n",
       "      <th>document</th>\n",
       "      <th>label</th>\n",
       "      <th>preprocessed</th>\n",
       "      <th>tokenized_stem</th>\n",
       "    </tr>\n",
       "  </thead>\n",
       "  <tbody>\n",
       "    <tr>\n",
       "      <th>1522</th>\n",
       "      <td>1523</td>\n",
       "      <td>극장에서 보신분들께 심심한 위로의 말을 전합니다.</td>\n",
       "      <td>0</td>\n",
       "      <td>극장에서 보신분들께 심심한 위로의 말을 전합니다</td>\n",
       "      <td>최고 의 영화 울다 오다 꼭 보다 볼 까맣다 망설이다 분 들 정말 최고 이다</td>\n",
       "    </tr>\n",
       "    <tr>\n",
       "      <th>835</th>\n",
       "      <td>836</td>\n",
       "      <td>킬링타임용 그 이상 그 이하도 아님</td>\n",
       "      <td>0</td>\n",
       "      <td>킬링타임용 그 이상 그 이하도 아님</td>\n",
       "      <td>함 부러 악플 남다 말다 되다</td>\n",
       "    </tr>\n",
       "    <tr>\n",
       "      <th>358</th>\n",
       "      <td>359</td>\n",
       "      <td>디워 만도 못한영화는 오랜 만이다</td>\n",
       "      <td>0</td>\n",
       "      <td>디워 만도 못한영화는 오랜 만이다</td>\n",
       "      <td>아무 기대 없이 보다 정말 재미없다</td>\n",
       "    </tr>\n",
       "    <tr>\n",
       "      <th>138</th>\n",
       "      <td>139</td>\n",
       "      <td>학생 개 답답함 스토리 어이없음마지막 학살 웃음만 나옴</td>\n",
       "      <td>0</td>\n",
       "      <td>학생 개 답답함 스토리 어이없음마지막 학살 웃음만 나옴</td>\n",
       "      <td>누구 한테 하다 복수 인가 허다 접함 의 연속</td>\n",
       "    </tr>\n",
       "    <tr>\n",
       "      <th>299</th>\n",
       "      <td>300</td>\n",
       "      <td>무료로 올레서 봣는데ㅡ화가난다....난화가나...</td>\n",
       "      <td>0</td>\n",
       "      <td>무료로 올레서 봣는데ㅡ화가난다난화가나</td>\n",
       "      <td>박시후 한테 반한 드라마</td>\n",
       "    </tr>\n",
       "  </tbody>\n",
       "</table>\n",
       "</div>"
      ],
      "text/plain": [
       "        id                        document  label  \\\n",
       "1522  1523     극장에서 보신분들께 심심한 위로의 말을 전합니다.      0   \n",
       "835    836             킬링타임용 그 이상 그 이하도 아님      0   \n",
       "358    359              디워 만도 못한영화는 오랜 만이다      0   \n",
       "138    139  학생 개 답답함 스토리 어이없음마지막 학살 웃음만 나옴      0   \n",
       "299    300     무료로 올레서 봣는데ㅡ화가난다....난화가나...      0   \n",
       "\n",
       "                        preprocessed  \\\n",
       "1522      극장에서 보신분들께 심심한 위로의 말을 전합니다   \n",
       "835              킬링타임용 그 이상 그 이하도 아님   \n",
       "358               디워 만도 못한영화는 오랜 만이다   \n",
       "138   학생 개 답답함 스토리 어이없음마지막 학살 웃음만 나옴   \n",
       "299             무료로 올레서 봣는데ㅡ화가난다난화가나   \n",
       "\n",
       "                                  tokenized_stem  \n",
       "1522  최고 의 영화 울다 오다 꼭 보다 볼 까맣다 망설이다 분 들 정말 최고 이다  \n",
       "835                             함 부러 악플 남다 말다 되다  \n",
       "358                          아무 기대 없이 보다 정말 재미없다  \n",
       "138                    누구 한테 하다 복수 인가 허다 접함 의 연속  \n",
       "299                                박시후 한테 반한 드라마  "
      ]
     },
     "execution_count": 6,
     "metadata": {},
     "output_type": "execute_result"
    }
   ],
   "source": [
    "tokenized = [] # 데이터프레임의 한 컬럼으로 추가할 리스트\n",
    "for sentence in train['preprocessed']: # 전처리된 리뷰들을 하나씩 꺼내옵니다\n",
    "    tokens = okt.morphs(sentence, stem = True) # 형태소 분석 (stem = True로 설정해 어간 추출을 해주었습니다)\n",
    "    tokenize = \" \".join(tokens) # tokens라는 리스트 안의 형태소들을 띄어쓰기로 분리된 하나의 문자열로 join시켜줍니다.\n",
    "    tokenized.append(tokenize) # 형태소 단위로 띄어쓰기된 문자열을 최종 리스트에 추가해줍니다\n",
    "train[\"tokenized_stem\"] = pd.DataFrame(tokenized) # 리스트를 데이터프레임으로 변환해 tokenized_stem라는 컬럼명으로 추가해줍니다.\n",
    "\n",
    "train.head() # 데이터 확인"
   ]
  },
  {
   "cell_type": "code",
   "execution_count": 7,
   "metadata": {
    "ExecuteTime": {
     "end_time": "2022-01-19T09:46:43.508304Z",
     "start_time": "2022-01-19T09:46:43.494290Z"
    }
   },
   "outputs": [
    {
     "data": {
      "text/plain": [
       "1129"
      ]
     },
     "execution_count": 7,
     "metadata": {},
     "output_type": "execute_result"
    }
   ],
   "source": [
    "train['tokenized_stem'].isna().sum()"
   ]
  },
  {
   "cell_type": "code",
   "execution_count": 22,
   "metadata": {
    "ExecuteTime": {
     "end_time": "2022-01-19T09:32:17.440353Z",
     "start_time": "2022-01-19T09:32:10.841293Z"
    },
    "code_folding": []
   },
   "outputs": [
    {
     "data": {
      "text/html": [
       "<div>\n",
       "<style scoped>\n",
       "    .dataframe tbody tr th:only-of-type {\n",
       "        vertical-align: middle;\n",
       "    }\n",
       "\n",
       "    .dataframe tbody tr th {\n",
       "        vertical-align: top;\n",
       "    }\n",
       "\n",
       "    .dataframe thead th {\n",
       "        text-align: right;\n",
       "    }\n",
       "</style>\n",
       "<table border=\"1\" class=\"dataframe\">\n",
       "  <thead>\n",
       "    <tr style=\"text-align: right;\">\n",
       "      <th></th>\n",
       "      <th>id</th>\n",
       "      <th>document</th>\n",
       "      <th>label</th>\n",
       "      <th>preprocessed</th>\n",
       "      <th>main_pos</th>\n",
       "    </tr>\n",
       "  </thead>\n",
       "  <tbody>\n",
       "    <tr>\n",
       "      <th>1522</th>\n",
       "      <td>1523</td>\n",
       "      <td>극장에서 보신분들께 심심한 위로의 말을 전합니다.</td>\n",
       "      <td>0</td>\n",
       "      <td>극장에서 보신분들께 심심한 위로의 말을 전합니다</td>\n",
       "      <td>최고 영화 울다 왔네요 꼭 보세요 볼 까말까 망설이시는 분 정말 최고 입니다</td>\n",
       "    </tr>\n",
       "    <tr>\n",
       "      <th>835</th>\n",
       "      <td>836</td>\n",
       "      <td>킬링타임용 그 이상 그 이하도 아님</td>\n",
       "      <td>0</td>\n",
       "      <td>킬링타임용 그 이상 그 이하도 아님</td>\n",
       "      <td>함 부러 악플 남기지 말아야 되겠다</td>\n",
       "    </tr>\n",
       "    <tr>\n",
       "      <th>358</th>\n",
       "      <td>359</td>\n",
       "      <td>디워 만도 못한영화는 오랜 만이다</td>\n",
       "      <td>0</td>\n",
       "      <td>디워 만도 못한영화는 오랜 만이다</td>\n",
       "      <td>아무 기대 없이 봤는데 정말 재미없어요</td>\n",
       "    </tr>\n",
       "    <tr>\n",
       "      <th>138</th>\n",
       "      <td>139</td>\n",
       "      <td>학생 개 답답함 스토리 어이없음마지막 학살 웃음만 나옴</td>\n",
       "      <td>0</td>\n",
       "      <td>학생 개 답답함 스토리 어이없음마지막 학살 웃음만 나옴</td>\n",
       "      <td>누구 하는 복수 허 접함 연속</td>\n",
       "    </tr>\n",
       "    <tr>\n",
       "      <th>299</th>\n",
       "      <td>300</td>\n",
       "      <td>무료로 올레서 봣는데ㅡ화가난다....난화가나...</td>\n",
       "      <td>0</td>\n",
       "      <td>무료로 올레서 봣는데ㅡ화가난다난화가나</td>\n",
       "      <td>박시후 반한 드라마</td>\n",
       "    </tr>\n",
       "  </tbody>\n",
       "</table>\n",
       "</div>"
      ],
      "text/plain": [
       "        id                        document  label  \\\n",
       "1522  1523     극장에서 보신분들께 심심한 위로의 말을 전합니다.      0   \n",
       "835    836             킬링타임용 그 이상 그 이하도 아님      0   \n",
       "358    359              디워 만도 못한영화는 오랜 만이다      0   \n",
       "138    139  학생 개 답답함 스토리 어이없음마지막 학살 웃음만 나옴      0   \n",
       "299    300     무료로 올레서 봣는데ㅡ화가난다....난화가나...      0   \n",
       "\n",
       "                        preprocessed  \\\n",
       "1522      극장에서 보신분들께 심심한 위로의 말을 전합니다   \n",
       "835              킬링타임용 그 이상 그 이하도 아님   \n",
       "358               디워 만도 못한영화는 오랜 만이다   \n",
       "138   학생 개 답답함 스토리 어이없음마지막 학살 웃음만 나옴   \n",
       "299             무료로 올레서 봣는데ㅡ화가난다난화가나   \n",
       "\n",
       "                                        main_pos  \n",
       "1522  최고 영화 울다 왔네요 꼭 보세요 볼 까말까 망설이시는 분 정말 최고 입니다  \n",
       "835                          함 부러 악플 남기지 말아야 되겠다  \n",
       "358                        아무 기대 없이 봤는데 정말 재미없어요  \n",
       "138                             누구 하는 복수 허 접함 연속  \n",
       "299                                   박시후 반한 드라마  "
      ]
     },
     "execution_count": 22,
     "metadata": {},
     "output_type": "execute_result"
    }
   ],
   "source": [
    "main_pos = [] # 데이터프레임의 새 컬럼이 될 리스트\n",
    "for sentence in train['document']: # 리뷰들을 하나씩 가져옵니다\n",
    "    pos = okt.pos(sentence) # 형태소 분석을 진행하고 해당 리스트를 pos라는 변수로 받습니다\n",
    "    main_words = [word_pos[0] for word_pos in pos if word_pos[1] in (\"Noun\", \"Adverb\", \"Adjective\", \"Verb\")] # 가져오고자 하는 품사에 해당하면 해당 형태소를 main_words 리스트에 추가합니다.\n",
    "    main_words_str = \" \".join(main_words) # main_words 리스트 안의 형태소들을 띄어쓰기로 분리된 하나의 문자열로 join시켜줍니다.\n",
    "    main_pos.append(main_words_str) # 선택한 형태소들로 이루어진 문자열을 최종 리스트에 추가해줍니\n",
    "train[\"main_pos\"] = pd.DataFrame(main_pos) # 리스트를 데이터프레임으로 변환해 main_pos라는 컬럼명으로 추가해줍니다.\n",
    "\n",
    "train.head() # 데이터 확인"
   ]
  },
  {
   "cell_type": "code",
   "execution_count": 24,
   "metadata": {
    "ExecuteTime": {
     "end_time": "2022-01-19T09:34:12.056256Z",
     "start_time": "2022-01-19T09:34:12.050246Z"
    }
   },
   "outputs": [],
   "source": [
    "X_train = train.main_pos #training 데이터에서 문서 추출\n",
    "y_train = train.label #training 데이터에서 라벨 추출"
   ]
  },
  {
   "cell_type": "code",
   "execution_count": 48,
   "metadata": {
    "ExecuteTime": {
     "end_time": "2022-01-19T09:44:46.804307Z",
     "start_time": "2022-01-19T09:44:43.175270Z"
    }
   },
   "outputs": [
    {
     "data": {
      "text/html": [
       "<div>\n",
       "<style scoped>\n",
       "    .dataframe tbody tr th:only-of-type {\n",
       "        vertical-align: middle;\n",
       "    }\n",
       "\n",
       "    .dataframe tbody tr th {\n",
       "        vertical-align: top;\n",
       "    }\n",
       "\n",
       "    .dataframe thead th {\n",
       "        text-align: right;\n",
       "    }\n",
       "</style>\n",
       "<table border=\"1\" class=\"dataframe\">\n",
       "  <thead>\n",
       "    <tr style=\"text-align: right;\">\n",
       "      <th></th>\n",
       "      <th>id</th>\n",
       "      <th>document</th>\n",
       "      <th>label</th>\n",
       "      <th>preprocessed</th>\n",
       "      <th>tokenized_stem</th>\n",
       "      <th>main_pos</th>\n",
       "    </tr>\n",
       "  </thead>\n",
       "  <tbody>\n",
       "    <tr>\n",
       "      <th>1501</th>\n",
       "      <td>1502</td>\n",
       "      <td>영화 잘봤습니다 보면서졸앗네요</td>\n",
       "      <td>0</td>\n",
       "      <td>영화 잘봤습니다 보면서졸앗네요</td>\n",
       "      <td>정말 최고다 그냥 말 을 못 하다 정도 로 최고다</td>\n",
       "      <td>정말 최고다 그냥 말 할 정도 최고다</td>\n",
       "    </tr>\n",
       "    <tr>\n",
       "      <th>2586</th>\n",
       "      <td>2587</td>\n",
       "      <td>대단했지 투유초콜렛 광고도 한번보삼 추억이 새록새록ㅎ</td>\n",
       "      <td>1</td>\n",
       "      <td>대단했지 투유초콜렛 광고도 한번보삼 추억이 새록새록ㅎ</td>\n",
       "      <td>NaN</td>\n",
       "      <td>NaN</td>\n",
       "    </tr>\n",
       "    <tr>\n",
       "      <th>2653</th>\n",
       "      <td>2654</td>\n",
       "      <td>대체 우리보고 어쩌라는거냐........좋은 점수를 줄 수가 없다</td>\n",
       "      <td>0</td>\n",
       "      <td>대체 우리보고 어쩌라는거냐좋은 점수를 줄 수가 없다</td>\n",
       "      <td>NaN</td>\n",
       "      <td>NaN</td>\n",
       "    </tr>\n",
       "    <tr>\n",
       "      <th>1055</th>\n",
       "      <td>1056</td>\n",
       "      <td>지금보기엔별거없음 뻔함. 극적인감동도약하고.</td>\n",
       "      <td>0</td>\n",
       "      <td>지금보기엔별거없음 뻔함 극적인감동도약하고</td>\n",
       "      <td>무언가 하다 만들다 영화 개인 적 으론 내 인생 에 터닝 포인트</td>\n",
       "      <td>무언가 하고싶게 만드는 영화 개인 내 인생 터닝 포인트</td>\n",
       "    </tr>\n",
       "    <tr>\n",
       "      <th>705</th>\n",
       "      <td>706</td>\n",
       "      <td>십광구네요 정말 굳입니다 추천!</td>\n",
       "      <td>1</td>\n",
       "      <td>십광구네요 정말 굳입니다 추천</td>\n",
       "      <td>평점 왜캐 낮다 공포 영화 톱 안 에 들어가다 ㄹㅇ 개 무서움</td>\n",
       "      <td>평점 왜캐 낮아 공포 영화 톱 안 들어감 개 무서움</td>\n",
       "    </tr>\n",
       "  </tbody>\n",
       "</table>\n",
       "</div>"
      ],
      "text/plain": [
       "        id                              document  label  \\\n",
       "1501  1502                      영화 잘봤습니다 보면서졸앗네요      0   \n",
       "2586  2587         대단했지 투유초콜렛 광고도 한번보삼 추억이 새록새록ㅎ      1   \n",
       "2653  2654  대체 우리보고 어쩌라는거냐........좋은 점수를 줄 수가 없다      0   \n",
       "1055  1056              지금보기엔별거없음 뻔함. 극적인감동도약하고.      0   \n",
       "705    706                     십광구네요 정말 굳입니다 추천!      1   \n",
       "\n",
       "                       preprocessed                       tokenized_stem  \\\n",
       "1501               영화 잘봤습니다 보면서졸앗네요          정말 최고다 그냥 말 을 못 하다 정도 로 최고다   \n",
       "2586  대단했지 투유초콜렛 광고도 한번보삼 추억이 새록새록ㅎ                                  NaN   \n",
       "2653   대체 우리보고 어쩌라는거냐좋은 점수를 줄 수가 없다                                  NaN   \n",
       "1055         지금보기엔별거없음 뻔함 극적인감동도약하고  무언가 하다 만들다 영화 개인 적 으론 내 인생 에 터닝 포인트   \n",
       "705                십광구네요 정말 굳입니다 추천   평점 왜캐 낮다 공포 영화 톱 안 에 들어가다 ㄹㅇ 개 무서움   \n",
       "\n",
       "                            main_pos  \n",
       "1501            정말 최고다 그냥 말 할 정도 최고다  \n",
       "2586                             NaN  \n",
       "2653                             NaN  \n",
       "1055  무언가 하고싶게 만드는 영화 개인 내 인생 터닝 포인트  \n",
       "705     평점 왜캐 낮아 공포 영화 톱 안 들어감 개 무서움  "
      ]
     },
     "execution_count": 48,
     "metadata": {},
     "output_type": "execute_result"
    }
   ],
   "source": [
    "# preprocessed\n",
    "val['preprocessed'] = val['document'].str.replace(\"[^ㄱ-ㅎㅏ-ㅣ가-힣 ]\",\"\") # 한글과 공백을 제외하고 모두 제거\n",
    "val['preprocessed'] = val['preprocessed'].str.replace(\" +\", \" \") # 다중 공백 제거\n",
    "\n",
    "# tokenized_stem\n",
    "tokenized = []\n",
    "for sentence in val['preprocessed']:\n",
    "    tokens = okt.morphs(sentence, stem = True) # stem = True로 설정해 어간 추출을 해주었습니다\n",
    "    tokenize = \" \".join(tokens)\n",
    "    tokenized.append(tokenize)\n",
    "val[\"tokenized_stem\"] = pd.DataFrame(tokenized)\n",
    "\n",
    "# main_pos\n",
    "main_pos = []\n",
    "for sentence in val['document']:\n",
    "    pos = okt.pos(sentence)\n",
    "    main_words = [word_pos[0] for word_pos in pos if word_pos[1] in (\"Noun\", \"Adverb\", \"Adjective\", \"Verb\")]\n",
    "    main_words_str = \" \".join(main_words)\n",
    "    main_pos.append(main_words_str)\n",
    "val[\"main_pos\"] = pd.DataFrame(main_pos)\n",
    "\n",
    "val.head()"
   ]
  },
  {
   "cell_type": "code",
   "execution_count": 26,
   "metadata": {
    "ExecuteTime": {
     "end_time": "2022-01-19T09:34:57.262139Z",
     "start_time": "2022-01-19T09:34:57.244144Z"
    }
   },
   "outputs": [],
   "source": [
    "X_val = val.main_pos #validation 데이터에서 전처리된 문서 추출\n",
    "y_val = val.label #validation 데이터에서 라벨 추출"
   ]
  },
  {
   "cell_type": "markdown",
   "metadata": {},
   "source": [
    "# 워드 임베딩"
   ]
  },
  {
   "cell_type": "code",
   "execution_count": 32,
   "metadata": {
    "ExecuteTime": {
     "end_time": "2022-01-19T09:36:50.250000Z",
     "start_time": "2022-01-19T09:36:50.242016Z"
    }
   },
   "outputs": [
    {
     "data": {
      "text/plain": [
       "1522    최고 영화 울다 왔네요 꼭 보세요 볼 까말까 망설이시는 분 정말 최고 입니다\n",
       "835                            함 부러 악플 남기지 말아야 되겠다\n",
       "358                          아무 기대 없이 봤는데 정말 재미없어요\n",
       "138                               누구 하는 복수 허 접함 연속\n",
       "299                                     박시후 반한 드라마\n",
       "                           ...                    \n",
       "4426                                           NaN\n",
       "466                어렸을 때 오빠 매일 같이 보던 아직 기억나는 추억 영화\n",
       "3092                     당신 마음 정서 채워주는 영화 잭 바라지 안녕\n",
       "3772                                           NaN\n",
       "860                                쓰레기 원작 망치는구나 아주\n",
       "Name: main_pos, Length: 3350, dtype: object"
      ]
     },
     "execution_count": 32,
     "metadata": {},
     "output_type": "execute_result"
    }
   ],
   "source": [
    "X_train"
   ]
  },
  {
   "cell_type": "markdown",
   "metadata": {},
   "source": [
    "## CountVectorizer"
   ]
  },
  {
   "cell_type": "code",
   "execution_count": 34,
   "metadata": {
    "ExecuteTime": {
     "end_time": "2022-01-19T09:37:08.646903Z",
     "start_time": "2022-01-19T09:37:08.640903Z"
    }
   },
   "outputs": [],
   "source": [
    "vectorizer = CountVectorizer()"
   ]
  },
  {
   "cell_type": "code",
   "execution_count": 38,
   "metadata": {
    "ExecuteTime": {
     "end_time": "2022-01-19T09:38:08.823648Z",
     "start_time": "2022-01-19T09:38:08.805643Z"
    }
   },
   "outputs": [
    {
     "data": {
      "text/plain": [
       "(3350,)"
      ]
     },
     "execution_count": 38,
     "metadata": {},
     "output_type": "execute_result"
    }
   ],
   "source": [
    "X_train.shape"
   ]
  },
  {
   "cell_type": "code",
   "execution_count": null,
   "metadata": {},
   "outputs": [],
   "source": [
    "z"
   ]
  },
  {
   "cell_type": "code",
   "execution_count": 39,
   "metadata": {
    "ExecuteTime": {
     "end_time": "2022-01-19T09:38:20.998740Z",
     "start_time": "2022-01-19T09:38:20.980743Z"
    }
   },
   "outputs": [
    {
     "data": {
      "text/plain": [
       "4446    NaN\n",
       "4854    NaN\n",
       "3999    NaN\n",
       "3615    NaN\n",
       "3873    NaN\n",
       "Name: main_pos, dtype: object"
      ]
     },
     "execution_count": 39,
     "metadata": {},
     "output_type": "execute_result"
    }
   ],
   "source": [
    "X_train = X_train[X_train.isna()].head()"
   ]
  },
  {
   "cell_type": "code",
   "execution_count": 46,
   "metadata": {
    "ExecuteTime": {
     "end_time": "2022-01-19T09:40:47.188905Z",
     "start_time": "2022-01-19T09:40:47.169329Z"
    }
   },
   "outputs": [
    {
     "data": {
      "text/plain": [
       "id                              4447\n",
       "document          진짜 사랑이란 건 이런 것일테지.\n",
       "label                              1\n",
       "preprocessed       진짜 사랑이란 건 이런 것일테지\n",
       "main_pos                         NaN\n",
       "tokenized_stem                   NaN\n",
       "Name: 4446, dtype: object"
      ]
     },
     "execution_count": 46,
     "metadata": {},
     "output_type": "execute_result"
    }
   ],
   "source": [
    "train.loc[4446, :]"
   ]
  },
  {
   "cell_type": "code",
   "execution_count": 35,
   "metadata": {
    "ExecuteTime": {
     "end_time": "2022-01-19T09:37:20.441665Z",
     "start_time": "2022-01-19T09:37:20.410355Z"
    }
   },
   "outputs": [
    {
     "ename": "ValueError",
     "evalue": "np.nan is an invalid document, expected byte or unicode string.",
     "output_type": "error",
     "traceback": [
      "\u001b[1;31m---------------------------------------------------------------------------\u001b[0m",
      "\u001b[1;31mValueError\u001b[0m                                Traceback (most recent call last)",
      "\u001b[1;32m<ipython-input-35-25a0e07b0c6b>\u001b[0m in \u001b[0;36m<module>\u001b[1;34m\u001b[0m\n\u001b[0;32m      1\u001b[0m \u001b[1;31m# vectorizer = CountVectorizer()\u001b[0m\u001b[1;33m\u001b[0m\u001b[1;33m\u001b[0m\u001b[1;33m\u001b[0m\u001b[0m\n\u001b[1;32m----> 2\u001b[1;33m \u001b[0mvectorizer\u001b[0m\u001b[1;33m.\u001b[0m\u001b[0mfit\u001b[0m\u001b[1;33m(\u001b[0m\u001b[0mX_train\u001b[0m\u001b[1;33m)\u001b[0m\u001b[1;33m\u001b[0m\u001b[1;33m\u001b[0m\u001b[0m\n\u001b[0m\u001b[0;32m      3\u001b[0m \u001b[1;31m# X_input = vectorizer.transform(X_train)\u001b[0m\u001b[1;33m\u001b[0m\u001b[1;33m\u001b[0m\u001b[1;33m\u001b[0m\u001b[0m\n",
      "\u001b[1;32mc:\\users\\user\\appdata\\local\\programs\\python\\python37\\lib\\site-packages\\sklearn\\feature_extraction\\text.py\u001b[0m in \u001b[0;36mfit\u001b[1;34m(self, raw_documents, y)\u001b[0m\n\u001b[0;32m   1168\u001b[0m         \"\"\"\n\u001b[0;32m   1169\u001b[0m         \u001b[0mself\u001b[0m\u001b[1;33m.\u001b[0m\u001b[0m_warn_for_unused_params\u001b[0m\u001b[1;33m(\u001b[0m\u001b[1;33m)\u001b[0m\u001b[1;33m\u001b[0m\u001b[1;33m\u001b[0m\u001b[0m\n\u001b[1;32m-> 1170\u001b[1;33m         \u001b[0mself\u001b[0m\u001b[1;33m.\u001b[0m\u001b[0mfit_transform\u001b[0m\u001b[1;33m(\u001b[0m\u001b[0mraw_documents\u001b[0m\u001b[1;33m)\u001b[0m\u001b[1;33m\u001b[0m\u001b[1;33m\u001b[0m\u001b[0m\n\u001b[0m\u001b[0;32m   1171\u001b[0m         \u001b[1;32mreturn\u001b[0m \u001b[0mself\u001b[0m\u001b[1;33m\u001b[0m\u001b[1;33m\u001b[0m\u001b[0m\n\u001b[0;32m   1172\u001b[0m \u001b[1;33m\u001b[0m\u001b[0m\n",
      "\u001b[1;32mc:\\users\\user\\appdata\\local\\programs\\python\\python37\\lib\\site-packages\\sklearn\\feature_extraction\\text.py\u001b[0m in \u001b[0;36mfit_transform\u001b[1;34m(self, raw_documents, y)\u001b[0m\n\u001b[0;32m   1202\u001b[0m \u001b[1;33m\u001b[0m\u001b[0m\n\u001b[0;32m   1203\u001b[0m         vocabulary, X = self._count_vocab(raw_documents,\n\u001b[1;32m-> 1204\u001b[1;33m                                           self.fixed_vocabulary_)\n\u001b[0m\u001b[0;32m   1205\u001b[0m \u001b[1;33m\u001b[0m\u001b[0m\n\u001b[0;32m   1206\u001b[0m         \u001b[1;32mif\u001b[0m \u001b[0mself\u001b[0m\u001b[1;33m.\u001b[0m\u001b[0mbinary\u001b[0m\u001b[1;33m:\u001b[0m\u001b[1;33m\u001b[0m\u001b[1;33m\u001b[0m\u001b[0m\n",
      "\u001b[1;32mc:\\users\\user\\appdata\\local\\programs\\python\\python37\\lib\\site-packages\\sklearn\\feature_extraction\\text.py\u001b[0m in \u001b[0;36m_count_vocab\u001b[1;34m(self, raw_documents, fixed_vocab)\u001b[0m\n\u001b[0;32m   1113\u001b[0m         \u001b[1;32mfor\u001b[0m \u001b[0mdoc\u001b[0m \u001b[1;32min\u001b[0m \u001b[0mraw_documents\u001b[0m\u001b[1;33m:\u001b[0m\u001b[1;33m\u001b[0m\u001b[1;33m\u001b[0m\u001b[0m\n\u001b[0;32m   1114\u001b[0m             \u001b[0mfeature_counter\u001b[0m \u001b[1;33m=\u001b[0m \u001b[1;33m{\u001b[0m\u001b[1;33m}\u001b[0m\u001b[1;33m\u001b[0m\u001b[1;33m\u001b[0m\u001b[0m\n\u001b[1;32m-> 1115\u001b[1;33m             \u001b[1;32mfor\u001b[0m \u001b[0mfeature\u001b[0m \u001b[1;32min\u001b[0m \u001b[0manalyze\u001b[0m\u001b[1;33m(\u001b[0m\u001b[0mdoc\u001b[0m\u001b[1;33m)\u001b[0m\u001b[1;33m:\u001b[0m\u001b[1;33m\u001b[0m\u001b[1;33m\u001b[0m\u001b[0m\n\u001b[0m\u001b[0;32m   1116\u001b[0m                 \u001b[1;32mtry\u001b[0m\u001b[1;33m:\u001b[0m\u001b[1;33m\u001b[0m\u001b[1;33m\u001b[0m\u001b[0m\n\u001b[0;32m   1117\u001b[0m                     \u001b[0mfeature_idx\u001b[0m \u001b[1;33m=\u001b[0m \u001b[0mvocabulary\u001b[0m\u001b[1;33m[\u001b[0m\u001b[0mfeature\u001b[0m\u001b[1;33m]\u001b[0m\u001b[1;33m\u001b[0m\u001b[1;33m\u001b[0m\u001b[0m\n",
      "\u001b[1;32mc:\\users\\user\\appdata\\local\\programs\\python\\python37\\lib\\site-packages\\sklearn\\feature_extraction\\text.py\u001b[0m in \u001b[0;36m_analyze\u001b[1;34m(doc, analyzer, tokenizer, ngrams, preprocessor, decoder, stop_words)\u001b[0m\n\u001b[0;32m     97\u001b[0m \u001b[1;33m\u001b[0m\u001b[0m\n\u001b[0;32m     98\u001b[0m     \u001b[1;32mif\u001b[0m \u001b[0mdecoder\u001b[0m \u001b[1;32mis\u001b[0m \u001b[1;32mnot\u001b[0m \u001b[1;32mNone\u001b[0m\u001b[1;33m:\u001b[0m\u001b[1;33m\u001b[0m\u001b[1;33m\u001b[0m\u001b[0m\n\u001b[1;32m---> 99\u001b[1;33m         \u001b[0mdoc\u001b[0m \u001b[1;33m=\u001b[0m \u001b[0mdecoder\u001b[0m\u001b[1;33m(\u001b[0m\u001b[0mdoc\u001b[0m\u001b[1;33m)\u001b[0m\u001b[1;33m\u001b[0m\u001b[1;33m\u001b[0m\u001b[0m\n\u001b[0m\u001b[0;32m    100\u001b[0m     \u001b[1;32mif\u001b[0m \u001b[0manalyzer\u001b[0m \u001b[1;32mis\u001b[0m \u001b[1;32mnot\u001b[0m \u001b[1;32mNone\u001b[0m\u001b[1;33m:\u001b[0m\u001b[1;33m\u001b[0m\u001b[1;33m\u001b[0m\u001b[0m\n\u001b[0;32m    101\u001b[0m         \u001b[0mdoc\u001b[0m \u001b[1;33m=\u001b[0m \u001b[0manalyzer\u001b[0m\u001b[1;33m(\u001b[0m\u001b[0mdoc\u001b[0m\u001b[1;33m)\u001b[0m\u001b[1;33m\u001b[0m\u001b[1;33m\u001b[0m\u001b[0m\n",
      "\u001b[1;32mc:\\users\\user\\appdata\\local\\programs\\python\\python37\\lib\\site-packages\\sklearn\\feature_extraction\\text.py\u001b[0m in \u001b[0;36mdecode\u001b[1;34m(self, doc)\u001b[0m\n\u001b[0;32m    215\u001b[0m \u001b[1;33m\u001b[0m\u001b[0m\n\u001b[0;32m    216\u001b[0m         \u001b[1;32mif\u001b[0m \u001b[0mdoc\u001b[0m \u001b[1;32mis\u001b[0m \u001b[0mnp\u001b[0m\u001b[1;33m.\u001b[0m\u001b[0mnan\u001b[0m\u001b[1;33m:\u001b[0m\u001b[1;33m\u001b[0m\u001b[1;33m\u001b[0m\u001b[0m\n\u001b[1;32m--> 217\u001b[1;33m             raise ValueError(\"np.nan is an invalid document, expected byte or \"\n\u001b[0m\u001b[0;32m    218\u001b[0m                              \"unicode string.\")\n\u001b[0;32m    219\u001b[0m \u001b[1;33m\u001b[0m\u001b[0m\n",
      "\u001b[1;31mValueError\u001b[0m: np.nan is an invalid document, expected byte or unicode string."
     ]
    }
   ],
   "source": [
    "# vectorizer = CountVectorizer()\n",
    "vectorizer.fit(X_train)\n",
    "# X_input = vectorizer.transform(X_train)"
   ]
  },
  {
   "cell_type": "code",
   "execution_count": 28,
   "metadata": {
    "ExecuteTime": {
     "end_time": "2022-01-18T01:30:58.983807Z",
     "start_time": "2022-01-18T01:30:58.951803Z"
    }
   },
   "outputs": [],
   "source": [
    "X_input2 = vectorizer.transform(X_test)"
   ]
  },
  {
   "cell_type": "code",
   "execution_count": 18,
   "metadata": {
    "ExecuteTime": {
     "end_time": "2022-01-18T01:23:33.170952Z",
     "start_time": "2022-01-18T01:23:33.162104Z"
    }
   },
   "outputs": [
    {
     "data": {
      "text/plain": [
       "<3x10850 sparse matrix of type '<class 'numpy.int64'>'\n",
       "\twith 15 stored elements in Compressed Sparse Row format>"
      ]
     },
     "execution_count": 18,
     "metadata": {},
     "output_type": "execute_result"
    }
   ],
   "source": [
    "X_input"
   ]
  },
  {
   "cell_type": "markdown",
   "metadata": {},
   "source": [
    "# 모델 및 학습"
   ]
  },
  {
   "cell_type": "markdown",
   "metadata": {},
   "source": [
    "## 랜덤포레스트"
   ]
  },
  {
   "cell_type": "code",
   "execution_count": 51,
   "metadata": {
    "ExecuteTime": {
     "end_time": "2022-01-18T05:13:26.343447Z",
     "start_time": "2022-01-18T05:13:26.335448Z"
    }
   },
   "outputs": [],
   "source": [
    "from sklearn.ensemble import RandomForestClassifier"
   ]
  },
  {
   "cell_type": "code",
   "execution_count": 52,
   "metadata": {
    "ExecuteTime": {
     "end_time": "2022-01-18T05:13:26.871545Z",
     "start_time": "2022-01-18T05:13:26.578934Z"
    }
   },
   "outputs": [
    {
     "data": {
      "text/plain": [
       "RandomForestClassifier(max_depth=6, random_state=42)"
      ]
     },
     "execution_count": 52,
     "metadata": {},
     "output_type": "execute_result"
    }
   ],
   "source": [
    "clf = RandomForestClassifier(max_depth=6, random_state=42)\n",
    "clf.fit(X_input, y_train)"
   ]
  },
  {
   "cell_type": "code",
   "execution_count": 53,
   "metadata": {
    "ExecuteTime": {
     "end_time": "2022-01-18T05:13:27.048304Z",
     "start_time": "2022-01-18T05:13:27.007576Z"
    }
   },
   "outputs": [],
   "source": [
    "pred = clf.predict(X_input2)"
   ]
  },
  {
   "cell_type": "code",
   "execution_count": 54,
   "metadata": {
    "ExecuteTime": {
     "end_time": "2022-01-18T05:13:27.563320Z",
     "start_time": "2022-01-18T05:13:27.528578Z"
    }
   },
   "outputs": [
    {
     "data": {
      "text/plain": [
       "0.6187878787878788"
      ]
     },
     "execution_count": 54,
     "metadata": {},
     "output_type": "execute_result"
    }
   ],
   "source": [
    "clf.score(X_input2, y_test)"
   ]
  },
  {
   "cell_type": "code",
   "execution_count": 55,
   "metadata": {
    "ExecuteTime": {
     "end_time": "2022-01-18T05:14:07.642856Z",
     "start_time": "2022-01-18T05:14:07.619683Z"
    }
   },
   "outputs": [
    {
     "data": {
      "text/plain": [
       "0.6187878787878788"
      ]
     },
     "execution_count": 55,
     "metadata": {},
     "output_type": "execute_result"
    }
   ],
   "source": [
    "accuracy_score(y_test, pred)"
   ]
  },
  {
   "cell_type": "code",
   "execution_count": 56,
   "metadata": {
    "ExecuteTime": {
     "end_time": "2022-01-18T05:14:07.830802Z",
     "start_time": "2022-01-18T05:14:07.815095Z"
    }
   },
   "outputs": [
    {
     "data": {
      "text/plain": [
       "0.92"
      ]
     },
     "execution_count": 56,
     "metadata": {},
     "output_type": "execute_result"
    }
   ],
   "source": [
    "precision_score(y_test, pred)"
   ]
  },
  {
   "cell_type": "code",
   "execution_count": 57,
   "metadata": {
    "ExecuteTime": {
     "end_time": "2022-01-18T05:14:08.030852Z",
     "start_time": "2022-01-18T05:14:08.007069Z"
    }
   },
   "outputs": [
    {
     "data": {
      "text/plain": [
       "0.23086574654956085"
      ]
     },
     "execution_count": 57,
     "metadata": {},
     "output_type": "execute_result"
    }
   ],
   "source": [
    "recall_score(y_test, pred)"
   ]
  },
  {
   "cell_type": "code",
   "execution_count": 58,
   "metadata": {
    "ExecuteTime": {
     "end_time": "2022-01-18T05:14:08.283062Z",
     "start_time": "2022-01-18T05:14:08.258489Z"
    }
   },
   "outputs": [
    {
     "data": {
      "text/plain": [
       "0.36910732196589774"
      ]
     },
     "execution_count": 58,
     "metadata": {},
     "output_type": "execute_result"
    }
   ],
   "source": [
    "f1_score(y_test, pred)"
   ]
  },
  {
   "cell_type": "markdown",
   "metadata": {},
   "source": [
    "## xgboost"
   ]
  },
  {
   "cell_type": "code",
   "execution_count": 37,
   "metadata": {
    "ExecuteTime": {
     "end_time": "2022-01-18T04:56:46.146896Z",
     "start_time": "2022-01-18T04:56:45.498538Z"
    }
   },
   "outputs": [],
   "source": [
    "import xgboost as xgb"
   ]
  },
  {
   "cell_type": "code",
   "execution_count": 40,
   "metadata": {
    "ExecuteTime": {
     "end_time": "2022-01-18T05:01:12.391513Z",
     "start_time": "2022-01-18T05:01:12.375511Z"
    }
   },
   "outputs": [],
   "source": [
    "xgb_model = xgb.XGBClassifier(n_estimators=500, learning_rate=0.1, max_depth=6)"
   ]
  },
  {
   "cell_type": "code",
   "execution_count": 41,
   "metadata": {
    "ExecuteTime": {
     "end_time": "2022-01-18T05:01:49.105560Z",
     "start_time": "2022-01-18T05:01:47.720075Z"
    }
   },
   "outputs": [
    {
     "name": "stderr",
     "output_type": "stream",
     "text": [
      "c:\\users\\user\\appdata\\local\\programs\\python\\python37\\lib\\site-packages\\xgboost\\sklearn.py:1224: UserWarning: The use of label encoder in XGBClassifier is deprecated and will be removed in a future release. To remove this warning, do the following: 1) Pass option use_label_encoder=False when constructing XGBClassifier object; and 2) Encode your labels (y) as integers starting with 0, i.e. 0, 1, 2, ..., [num_class - 1].\n",
      "  warnings.warn(label_encoder_deprecation_msg, UserWarning)\n"
     ]
    },
    {
     "name": "stdout",
     "output_type": "stream",
     "text": [
      "[14:01:47] WARNING: C:/Users/Administrator/workspace/xgboost-win64_release_1.5.0/src/learner.cc:1115: Starting in XGBoost 1.3.0, the default evaluation metric used with the objective 'binary:logistic' was changed from 'error' to 'logloss'. Explicitly set eval_metric if you'd like to restore the old behavior.\n"
     ]
    },
    {
     "data": {
      "text/plain": [
       "XGBClassifier(base_score=0.5, booster='gbtree', colsample_bylevel=1,\n",
       "              colsample_bynode=1, colsample_bytree=1, enable_categorical=False,\n",
       "              gamma=0, gpu_id=-1, importance_type=None,\n",
       "              interaction_constraints='', learning_rate=0.1, max_delta_step=0,\n",
       "              max_depth=6, min_child_weight=1, missing=nan,\n",
       "              monotone_constraints='()', n_estimators=500, n_jobs=6,\n",
       "              num_parallel_tree=1, predictor='auto', random_state=0,\n",
       "              reg_alpha=0, reg_lambda=1, scale_pos_weight=1, subsample=1,\n",
       "              tree_method='exact', validate_parameters=1, verbosity=None)"
      ]
     },
     "execution_count": 41,
     "metadata": {},
     "output_type": "execute_result"
    }
   ],
   "source": [
    "xgb_model.fit(X_input, y_train)"
   ]
  },
  {
   "cell_type": "code",
   "execution_count": 42,
   "metadata": {
    "ExecuteTime": {
     "end_time": "2022-01-18T05:02:26.158120Z",
     "start_time": "2022-01-18T05:02:26.101975Z"
    }
   },
   "outputs": [],
   "source": [
    "pred = xgb_model.predict(X_input2)"
   ]
  },
  {
   "cell_type": "code",
   "execution_count": 46,
   "metadata": {
    "ExecuteTime": {
     "end_time": "2022-01-18T05:12:21.429239Z",
     "start_time": "2022-01-18T05:12:21.413242Z"
    }
   },
   "outputs": [],
   "source": [
    "from sklearn.metrics import accuracy_score\n",
    "from sklearn.metrics import recall_score\n",
    "from sklearn.metrics import precision_score\n",
    "from sklearn.metrics import f1_score"
   ]
  },
  {
   "cell_type": "code",
   "execution_count": 47,
   "metadata": {
    "ExecuteTime": {
     "end_time": "2022-01-18T05:12:28.424612Z",
     "start_time": "2022-01-18T05:12:28.408727Z"
    }
   },
   "outputs": [
    {
     "data": {
      "text/plain": [
       "0.7006060606060606"
      ]
     },
     "execution_count": 47,
     "metadata": {},
     "output_type": "execute_result"
    }
   ],
   "source": [
    "accuracy_score(y_test, pred)"
   ]
  },
  {
   "cell_type": "code",
   "execution_count": 48,
   "metadata": {
    "ExecuteTime": {
     "end_time": "2022-01-18T05:12:50.118563Z",
     "start_time": "2022-01-18T05:12:50.106755Z"
    }
   },
   "outputs": [
    {
     "data": {
      "text/plain": [
       "0.7546218487394958"
      ]
     },
     "execution_count": 48,
     "metadata": {},
     "output_type": "execute_result"
    }
   ],
   "source": [
    "precision_score(y_test, pred)"
   ]
  },
  {
   "cell_type": "code",
   "execution_count": 49,
   "metadata": {
    "ExecuteTime": {
     "end_time": "2022-01-18T05:12:58.610859Z",
     "start_time": "2022-01-18T05:12:58.601030Z"
    }
   },
   "outputs": [
    {
     "data": {
      "text/plain": [
       "0.5633626097867002"
      ]
     },
     "execution_count": 49,
     "metadata": {},
     "output_type": "execute_result"
    }
   ],
   "source": [
    "recall_score(y_test, pred)"
   ]
  },
  {
   "cell_type": "code",
   "execution_count": 50,
   "metadata": {
    "ExecuteTime": {
     "end_time": "2022-01-18T05:13:13.105570Z",
     "start_time": "2022-01-18T05:13:13.092801Z"
    }
   },
   "outputs": [
    {
     "data": {
      "text/plain": [
       "0.6451149425287357"
      ]
     },
     "execution_count": 50,
     "metadata": {},
     "output_type": "execute_result"
    }
   ],
   "source": [
    "f1_score(y_test, pred)"
   ]
  },
  {
   "cell_type": "markdown",
   "metadata": {},
   "source": [
    "# 적용"
   ]
  },
  {
   "cell_type": "code",
   "execution_count": 59,
   "metadata": {
    "ExecuteTime": {
     "end_time": "2022-01-18T05:15:10.497005Z",
     "start_time": "2022-01-18T05:15:10.489004Z"
    }
   },
   "outputs": [
    {
     "data": {
      "text/plain": [
       "(5000, 3)"
      ]
     },
     "execution_count": 59,
     "metadata": {},
     "output_type": "execute_result"
    }
   ],
   "source": [
    "train.shape"
   ]
  },
  {
   "cell_type": "code",
   "execution_count": 60,
   "metadata": {
    "ExecuteTime": {
     "end_time": "2022-01-18T05:16:22.657311Z",
     "start_time": "2022-01-18T05:16:22.647278Z"
    }
   },
   "outputs": [
    {
     "data": {
      "text/plain": [
       "Index(['id', 'document', 'label'], dtype='object')"
      ]
     },
     "execution_count": 60,
     "metadata": {},
     "output_type": "execute_result"
    }
   ],
   "source": [
    "train.columns"
   ]
  },
  {
   "cell_type": "code",
   "execution_count": 63,
   "metadata": {
    "ExecuteTime": {
     "end_time": "2022-01-18T05:16:49.769097Z",
     "start_time": "2022-01-18T05:16:49.761101Z"
    }
   },
   "outputs": [],
   "source": [
    "X = train['document']\n",
    "y = train['label']"
   ]
  },
  {
   "cell_type": "code",
   "execution_count": 64,
   "metadata": {
    "ExecuteTime": {
     "end_time": "2022-01-18T05:16:56.999847Z",
     "start_time": "2022-01-18T05:16:56.991846Z"
    }
   },
   "outputs": [],
   "source": [
    "xgb_model = xgb.XGBClassifier(n_estimators=500, learning_rate=0.1, max_depth=6)"
   ]
  },
  {
   "cell_type": "code",
   "execution_count": 65,
   "metadata": {
    "ExecuteTime": {
     "end_time": "2022-01-18T05:17:10.338808Z",
     "start_time": "2022-01-18T05:17:10.160196Z"
    }
   },
   "outputs": [],
   "source": [
    "vectorizer = CountVectorizer()\n",
    "vectorizer.fit(X)\n",
    "X_input = vectorizer.transform(X)"
   ]
  },
  {
   "cell_type": "code",
   "execution_count": 67,
   "metadata": {
    "ExecuteTime": {
     "end_time": "2022-01-18T05:17:21.361483Z",
     "start_time": "2022-01-18T05:17:19.637292Z"
    }
   },
   "outputs": [
    {
     "name": "stdout",
     "output_type": "stream",
     "text": [
      "[14:17:19] WARNING: C:/Users/Administrator/workspace/xgboost-win64_release_1.5.0/src/learner.cc:1115: Starting in XGBoost 1.3.0, the default evaluation metric used with the objective 'binary:logistic' was changed from 'error' to 'logloss'. Explicitly set eval_metric if you'd like to restore the old behavior.\n"
     ]
    },
    {
     "data": {
      "text/plain": [
       "XGBClassifier(base_score=0.5, booster='gbtree', colsample_bylevel=1,\n",
       "              colsample_bynode=1, colsample_bytree=1, enable_categorical=False,\n",
       "              gamma=0, gpu_id=-1, importance_type=None,\n",
       "              interaction_constraints='', learning_rate=0.1, max_delta_step=0,\n",
       "              max_depth=6, min_child_weight=1, missing=nan,\n",
       "              monotone_constraints='()', n_estimators=500, n_jobs=6,\n",
       "              num_parallel_tree=1, predictor='auto', random_state=0,\n",
       "              reg_alpha=0, reg_lambda=1, scale_pos_weight=1, subsample=1,\n",
       "              tree_method='exact', validate_parameters=1, verbosity=None)"
      ]
     },
     "execution_count": 67,
     "metadata": {},
     "output_type": "execute_result"
    }
   ],
   "source": [
    "xgb_model.fit(X_input, y)"
   ]
  },
  {
   "cell_type": "code",
   "execution_count": 68,
   "metadata": {
    "ExecuteTime": {
     "end_time": "2022-01-18T05:18:01.019593Z",
     "start_time": "2022-01-18T05:18:00.955535Z"
    }
   },
   "outputs": [
    {
     "data": {
      "text/html": [
       "<div>\n",
       "<style scoped>\n",
       "    .dataframe tbody tr th:only-of-type {\n",
       "        vertical-align: middle;\n",
       "    }\n",
       "\n",
       "    .dataframe tbody tr th {\n",
       "        vertical-align: top;\n",
       "    }\n",
       "\n",
       "    .dataframe thead th {\n",
       "        text-align: right;\n",
       "    }\n",
       "</style>\n",
       "<table border=\"1\" class=\"dataframe\">\n",
       "  <thead>\n",
       "    <tr style=\"text-align: right;\">\n",
       "      <th></th>\n",
       "      <th>id</th>\n",
       "      <th>document</th>\n",
       "    </tr>\n",
       "  </thead>\n",
       "  <tbody>\n",
       "    <tr>\n",
       "      <th>0</th>\n",
       "      <td>1</td>\n",
       "      <td>시간 때우기 좋은 영화 지루함</td>\n",
       "    </tr>\n",
       "    <tr>\n",
       "      <th>1</th>\n",
       "      <td>2</td>\n",
       "      <td>훈훈한 정이 느껴지는 영화! 가족끼리 드라마 보듯이 보면 딱~!</td>\n",
       "    </tr>\n",
       "    <tr>\n",
       "      <th>2</th>\n",
       "      <td>3</td>\n",
       "      <td>Childhood fantasy</td>\n",
       "    </tr>\n",
       "    <tr>\n",
       "      <th>3</th>\n",
       "      <td>4</td>\n",
       "      <td>멋있는 영화입니다. 잊을 수 없는!</td>\n",
       "    </tr>\n",
       "    <tr>\n",
       "      <th>4</th>\n",
       "      <td>5</td>\n",
       "      <td>너무 감동적이네요 펑펑 울었습니다</td>\n",
       "    </tr>\n",
       "  </tbody>\n",
       "</table>\n",
       "</div>"
      ],
      "text/plain": [
       "   id                             document\n",
       "0   1                     시간 때우기 좋은 영화 지루함\n",
       "1   2  훈훈한 정이 느껴지는 영화! 가족끼리 드라마 보듯이 보면 딱~!\n",
       "2   3                    Childhood fantasy\n",
       "3   4                  멋있는 영화입니다. 잊을 수 없는!\n",
       "4   5                   너무 감동적이네요 펑펑 울었습니다"
      ]
     },
     "execution_count": 68,
     "metadata": {},
     "output_type": "execute_result"
    }
   ],
   "source": [
    "test = pd.read_csv('./data/test.csv')\n",
    "test.head()"
   ]
  },
  {
   "cell_type": "code",
   "execution_count": 69,
   "metadata": {
    "ExecuteTime": {
     "end_time": "2022-01-18T05:20:20.483636Z",
     "start_time": "2022-01-18T05:20:20.473926Z"
    }
   },
   "outputs": [],
   "source": [
    "X_test = test['document']"
   ]
  },
  {
   "cell_type": "code",
   "execution_count": 70,
   "metadata": {
    "ExecuteTime": {
     "end_time": "2022-01-18T05:21:06.262175Z",
     "start_time": "2022-01-18T05:21:06.186392Z"
    }
   },
   "outputs": [],
   "source": [
    "X_test_input = vectorizer.transform(X_test)"
   ]
  },
  {
   "cell_type": "code",
   "execution_count": 71,
   "metadata": {
    "ExecuteTime": {
     "end_time": "2022-01-18T05:21:11.231796Z",
     "start_time": "2022-01-18T05:21:11.162849Z"
    }
   },
   "outputs": [],
   "source": [
    "pred = xgb_model.predict(X_test_input)"
   ]
  },
  {
   "cell_type": "code",
   "execution_count": 74,
   "metadata": {
    "ExecuteTime": {
     "end_time": "2022-01-18T05:21:43.278560Z",
     "start_time": "2022-01-18T05:21:43.229797Z"
    }
   },
   "outputs": [
    {
     "data": {
      "text/html": [
       "<div>\n",
       "<style scoped>\n",
       "    .dataframe tbody tr th:only-of-type {\n",
       "        vertical-align: middle;\n",
       "    }\n",
       "\n",
       "    .dataframe tbody tr th {\n",
       "        vertical-align: top;\n",
       "    }\n",
       "\n",
       "    .dataframe thead th {\n",
       "        text-align: right;\n",
       "    }\n",
       "</style>\n",
       "<table border=\"1\" class=\"dataframe\">\n",
       "  <thead>\n",
       "    <tr style=\"text-align: right;\">\n",
       "      <th></th>\n",
       "      <th>id</th>\n",
       "      <th>label</th>\n",
       "    </tr>\n",
       "  </thead>\n",
       "  <tbody>\n",
       "    <tr>\n",
       "      <th>0</th>\n",
       "      <td>1</td>\n",
       "      <td>0</td>\n",
       "    </tr>\n",
       "    <tr>\n",
       "      <th>1</th>\n",
       "      <td>2</td>\n",
       "      <td>0</td>\n",
       "    </tr>\n",
       "    <tr>\n",
       "      <th>2</th>\n",
       "      <td>3</td>\n",
       "      <td>0</td>\n",
       "    </tr>\n",
       "    <tr>\n",
       "      <th>3</th>\n",
       "      <td>4</td>\n",
       "      <td>0</td>\n",
       "    </tr>\n",
       "    <tr>\n",
       "      <th>4</th>\n",
       "      <td>5</td>\n",
       "      <td>0</td>\n",
       "    </tr>\n",
       "  </tbody>\n",
       "</table>\n",
       "</div>"
      ],
      "text/plain": [
       "   id  label\n",
       "0   1      0\n",
       "1   2      0\n",
       "2   3      0\n",
       "3   4      0\n",
       "4   5      0"
      ]
     },
     "execution_count": 74,
     "metadata": {},
     "output_type": "execute_result"
    }
   ],
   "source": [
    "submission = pd.read_csv(\"./data/sample_submission.csv\") #제출용 파일 불러오기\n",
    "submission.head() #제출 파일이 잘 생성되었는지 확인"
   ]
  },
  {
   "cell_type": "code",
   "execution_count": 75,
   "metadata": {
    "ExecuteTime": {
     "end_time": "2022-01-18T05:21:52.660543Z",
     "start_time": "2022-01-18T05:21:52.613972Z"
    }
   },
   "outputs": [
    {
     "data": {
      "text/html": [
       "<div>\n",
       "<style scoped>\n",
       "    .dataframe tbody tr th:only-of-type {\n",
       "        vertical-align: middle;\n",
       "    }\n",
       "\n",
       "    .dataframe tbody tr th {\n",
       "        vertical-align: top;\n",
       "    }\n",
       "\n",
       "    .dataframe thead th {\n",
       "        text-align: right;\n",
       "    }\n",
       "</style>\n",
       "<table border=\"1\" class=\"dataframe\">\n",
       "  <thead>\n",
       "    <tr style=\"text-align: right;\">\n",
       "      <th></th>\n",
       "      <th>id</th>\n",
       "      <th>label</th>\n",
       "    </tr>\n",
       "  </thead>\n",
       "  <tbody>\n",
       "    <tr>\n",
       "      <th>0</th>\n",
       "      <td>1</td>\n",
       "      <td>0</td>\n",
       "    </tr>\n",
       "    <tr>\n",
       "      <th>1</th>\n",
       "      <td>2</td>\n",
       "      <td>1</td>\n",
       "    </tr>\n",
       "    <tr>\n",
       "      <th>2</th>\n",
       "      <td>3</td>\n",
       "      <td>0</td>\n",
       "    </tr>\n",
       "    <tr>\n",
       "      <th>3</th>\n",
       "      <td>4</td>\n",
       "      <td>1</td>\n",
       "    </tr>\n",
       "    <tr>\n",
       "      <th>4</th>\n",
       "      <td>5</td>\n",
       "      <td>0</td>\n",
       "    </tr>\n",
       "  </tbody>\n",
       "</table>\n",
       "</div>"
      ],
      "text/plain": [
       "   id  label\n",
       "0   1      0\n",
       "1   2      1\n",
       "2   3      0\n",
       "3   4      1\n",
       "4   5      0"
      ]
     },
     "execution_count": 75,
     "metadata": {},
     "output_type": "execute_result"
    }
   ],
   "source": [
    "submission[\"label\"] = pred #예측 값 넣어주기\n",
    "submission.head() # 데이터가 잘 들어갔는지 확인합니다."
   ]
  },
  {
   "cell_type": "code",
   "execution_count": 76,
   "metadata": {
    "ExecuteTime": {
     "end_time": "2022-01-18T05:22:08.848764Z",
     "start_time": "2022-01-18T05:22:08.804985Z"
    }
   },
   "outputs": [],
   "source": [
    "submission.to_csv(\"./submission.csv\",index=False)"
   ]
  },
  {
   "cell_type": "code",
   "execution_count": null,
   "metadata": {},
   "outputs": [],
   "source": [
    "test, test, test"
   ]
  }
 ],
 "metadata": {
  "kernelspec": {
   "display_name": "Python 3",
   "language": "python",
   "name": "python3"
  },
  "language_info": {
   "codemirror_mode": {
    "name": "ipython",
    "version": 3
   },
   "file_extension": ".py",
   "mimetype": "text/x-python",
   "name": "python",
   "nbconvert_exporter": "python",
   "pygments_lexer": "ipython3",
   "version": "3.7.1"
  },
  "toc": {
   "base_numbering": 1,
   "nav_menu": {},
   "number_sections": true,
   "sideBar": true,
   "skip_h1_title": false,
   "title_cell": "Table of Contents",
   "title_sidebar": "Contents",
   "toc_cell": false,
   "toc_position": {},
   "toc_section_display": true,
   "toc_window_display": false
  },
  "varInspector": {
   "cols": {
    "lenName": 16,
    "lenType": 16,
    "lenVar": 40
   },
   "kernels_config": {
    "python": {
     "delete_cmd_postfix": "",
     "delete_cmd_prefix": "del ",
     "library": "var_list.py",
     "varRefreshCmd": "print(var_dic_list())"
    },
    "r": {
     "delete_cmd_postfix": ") ",
     "delete_cmd_prefix": "rm(",
     "library": "var_list.r",
     "varRefreshCmd": "cat(var_dic_list()) "
    }
   },
   "types_to_exclude": [
    "module",
    "function",
    "builtin_function_or_method",
    "instance",
    "_Feature"
   ],
   "window_display": false
  }
 },
 "nbformat": 4,
 "nbformat_minor": 4
}
