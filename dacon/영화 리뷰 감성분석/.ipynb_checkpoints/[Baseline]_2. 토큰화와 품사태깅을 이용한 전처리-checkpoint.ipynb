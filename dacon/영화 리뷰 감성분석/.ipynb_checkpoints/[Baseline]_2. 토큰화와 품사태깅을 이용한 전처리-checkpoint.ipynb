{
 "cells": [
  {
   "cell_type": "markdown",
   "metadata": {},
   "source": [
    "# 두 번째 베이스라인\n",
    "\n",
    "이전의 베이스라인은 잘 보셨나요?\n",
    "\n",
    "Count Vectorizer을 중점적으로 다루어 보았었는데요\n",
    "\n",
    "이번에는 자연어처리에서 빼놓을 수 없는 개념인\n",
    "\n",
    "\"토큰화(Tokenization)\"와 \"품사 태깅(POS Tagging)\"에 대해 살펴보려 합니다.\n",
    "\n",
    "자 시작해볼까요??"
   ]
  },
  {
   "cell_type": "markdown",
   "metadata": {},
   "source": [
    "# train.csv 학습/검증"
   ]
  },
  {
   "cell_type": "markdown",
   "metadata": {},
   "source": [
    "### 필요한 패키지 불러오기\n",
    "\n",
    "먼저 필요한 패키지들을 불러와줍니다."
   ]
  },
  {
   "cell_type": "code",
   "execution_count": 1,
   "metadata": {
    "ExecuteTime": {
     "end_time": "2022-01-19T08:28:32.975649Z",
     "start_time": "2022-01-19T08:28:29.026857Z"
    }
   },
   "outputs": [],
   "source": [
    "import pandas as pd\n",
    "import numpy as np\n",
    "import re\n",
    "import warnings\n",
    "warnings.filterwarnings(action='ignore')\n",
    "import nltk\n",
    "#nltk.download('all') # 처음 실행 시 주석을 제거하고 실행해주세요!"
   ]
  },
  {
   "cell_type": "markdown",
   "metadata": {},
   "source": [
    "### train 데이터 불러오기"
   ]
  },
  {
   "cell_type": "code",
   "execution_count": 2,
   "metadata": {
    "ExecuteTime": {
     "end_time": "2022-01-19T08:28:49.824171Z",
     "start_time": "2022-01-19T08:28:49.772159Z"
    }
   },
   "outputs": [
    {
     "data": {
      "text/html": [
       "<div>\n",
       "<style scoped>\n",
       "    .dataframe tbody tr th:only-of-type {\n",
       "        vertical-align: middle;\n",
       "    }\n",
       "\n",
       "    .dataframe tbody tr th {\n",
       "        vertical-align: top;\n",
       "    }\n",
       "\n",
       "    .dataframe thead th {\n",
       "        text-align: right;\n",
       "    }\n",
       "</style>\n",
       "<table border=\"1\" class=\"dataframe\">\n",
       "  <thead>\n",
       "    <tr style=\"text-align: right;\">\n",
       "      <th></th>\n",
       "      <th>id</th>\n",
       "      <th>document</th>\n",
       "      <th>label</th>\n",
       "    </tr>\n",
       "  </thead>\n",
       "  <tbody>\n",
       "    <tr>\n",
       "      <th>0</th>\n",
       "      <td>1</td>\n",
       "      <td>영상이나 음악이 이쁘다 해도 미화시킨 불륜일뿐</td>\n",
       "      <td>0</td>\n",
       "    </tr>\n",
       "    <tr>\n",
       "      <th>1</th>\n",
       "      <td>2</td>\n",
       "      <td>히치콕이 이 영화를 봤다면 분명 박수를 쳤을듯...</td>\n",
       "      <td>1</td>\n",
       "    </tr>\n",
       "    <tr>\n",
       "      <th>2</th>\n",
       "      <td>3</td>\n",
       "      <td>괜찮은 음악영화가 또 나왔군요!!! 따뜻한 겨울이 될 것 같아요~</td>\n",
       "      <td>1</td>\n",
       "    </tr>\n",
       "    <tr>\n",
       "      <th>3</th>\n",
       "      <td>4</td>\n",
       "      <td>아무래도 20년도지난작품이라 지금보기는너무유치하다</td>\n",
       "      <td>0</td>\n",
       "    </tr>\n",
       "    <tr>\n",
       "      <th>4</th>\n",
       "      <td>5</td>\n",
       "      <td>지금까지의 영화들이 그랬듯. 이 영화역시 일본에 대한 미화는 여전하다.</td>\n",
       "      <td>0</td>\n",
       "    </tr>\n",
       "  </tbody>\n",
       "</table>\n",
       "</div>"
      ],
      "text/plain": [
       "   id                                 document  label\n",
       "0   1                영상이나 음악이 이쁘다 해도 미화시킨 불륜일뿐      0\n",
       "1   2             히치콕이 이 영화를 봤다면 분명 박수를 쳤을듯...      1\n",
       "2   3     괜찮은 음악영화가 또 나왔군요!!! 따뜻한 겨울이 될 것 같아요~      1\n",
       "3   4              아무래도 20년도지난작품이라 지금보기는너무유치하다      0\n",
       "4   5  지금까지의 영화들이 그랬듯. 이 영화역시 일본에 대한 미화는 여전하다.      0"
      ]
     },
     "execution_count": 2,
     "metadata": {},
     "output_type": "execute_result"
    }
   ],
   "source": [
    "data = pd.read_csv('./data/train.csv') # train 데이터 불러오기\n",
    "data.head() # 데이터 확인하기"
   ]
  },
  {
   "cell_type": "code",
   "execution_count": 3,
   "metadata": {
    "ExecuteTime": {
     "end_time": "2022-01-19T08:28:52.013271Z",
     "start_time": "2022-01-19T08:28:51.997487Z"
    }
   },
   "outputs": [
    {
     "data": {
      "text/plain": [
       "id          0\n",
       "document    0\n",
       "label       0\n",
       "dtype: int64"
      ]
     },
     "execution_count": 3,
     "metadata": {},
     "output_type": "execute_result"
    }
   ],
   "source": [
    "data.isna().sum() # 결측치 확인"
   ]
  },
  {
   "cell_type": "markdown",
   "metadata": {},
   "source": [
    "간단하게 결측치 여부를 확인해보았습니다.\n",
    "\n",
    "결측치가 존재하지 않는 데이터셋이군요!"
   ]
  },
  {
   "cell_type": "markdown",
   "metadata": {},
   "source": [
    "### 학습/검증셋 분리하기\n",
    "\n",
    "모델링 후 성능을 검증하기 위해 학습셋과 검증셋으로 train 데이터를 나눠줍니다."
   ]
  },
  {
   "cell_type": "code",
   "execution_count": 4,
   "metadata": {
    "ExecuteTime": {
     "end_time": "2022-01-19T08:30:12.741219Z",
     "start_time": "2022-01-19T08:30:12.732236Z"
    }
   },
   "outputs": [],
   "source": [
    "from sklearn.model_selection import train_test_split\n",
    "\n",
    "train, val = train_test_split(data)\n",
    "train.reset_index(inplace=True) # 전처리 과정에서 데이터가 뒤섞이지 않도록 인덱스를 초기화해주었습니다.\n",
    "val.reset_index(inplace=True)"
   ]
  },
  {
   "cell_type": "code",
   "execution_count": null,
   "metadata": {},
   "outputs": [],
   "source": [
    "train # train 셋 확인"
   ]
  },
  {
   "cell_type": "markdown",
   "metadata": {},
   "source": [
    "### 데이터 정제하기\n",
    "\n",
    "document 컬럼의 리뷰들을 전처리해줍니다. 현재 리뷰는 다양한 특수문자와 \n",
    "\n",
    "가장 먼저 한글과 공백만 남긴 뒤 preprocessed라는 컬럼으로 저장하겠습니다."
   ]
  },
  {
   "cell_type": "code",
   "execution_count": 6,
   "metadata": {},
   "outputs": [
    {
     "data": {
      "text/html": [
       "<div>\n",
       "<style scoped>\n",
       "    .dataframe tbody tr th:only-of-type {\n",
       "        vertical-align: middle;\n",
       "    }\n",
       "\n",
       "    .dataframe tbody tr th {\n",
       "        vertical-align: top;\n",
       "    }\n",
       "\n",
       "    .dataframe thead th {\n",
       "        text-align: right;\n",
       "    }\n",
       "</style>\n",
       "<table border=\"1\" class=\"dataframe\">\n",
       "  <thead>\n",
       "    <tr style=\"text-align: right;\">\n",
       "      <th></th>\n",
       "      <th>index</th>\n",
       "      <th>id</th>\n",
       "      <th>document</th>\n",
       "      <th>label</th>\n",
       "      <th>preprocessed</th>\n",
       "    </tr>\n",
       "  </thead>\n",
       "  <tbody>\n",
       "    <tr>\n",
       "      <th>0</th>\n",
       "      <td>1998</td>\n",
       "      <td>1999</td>\n",
       "      <td>신선한 소재. 보고 난 후 기분도 좋아지네요</td>\n",
       "      <td>1</td>\n",
       "      <td>신선한 소재 보고 난 후 기분도 좋아지네요</td>\n",
       "    </tr>\n",
       "    <tr>\n",
       "      <th>1</th>\n",
       "      <td>2733</td>\n",
       "      <td>2734</td>\n",
       "      <td>3은 왜 붙었지 3편도 아니고</td>\n",
       "      <td>0</td>\n",
       "      <td>은 왜 붙었지 편도 아니고</td>\n",
       "    </tr>\n",
       "    <tr>\n",
       "      <th>2</th>\n",
       "      <td>4330</td>\n",
       "      <td>4331</td>\n",
       "      <td>삶의 진실 그리고, 현실을 넘어선 본연의 감성을 펼쳐보이는 영화...</td>\n",
       "      <td>1</td>\n",
       "      <td>삶의 진실 그리고 현실을 넘어선 본연의 감성을 펼쳐보이는 영화</td>\n",
       "    </tr>\n",
       "    <tr>\n",
       "      <th>3</th>\n",
       "      <td>3868</td>\n",
       "      <td>3869</td>\n",
       "      <td>이게먼내용이지.. 조토끼는그만의취향이있는듯..</td>\n",
       "      <td>0</td>\n",
       "      <td>이게먼내용이지 조토끼는그만의취향이있는듯</td>\n",
       "    </tr>\n",
       "    <tr>\n",
       "      <th>4</th>\n",
       "      <td>11</td>\n",
       "      <td>12</td>\n",
       "      <td>긴장감도없고 재미도없고 주제도 없다..</td>\n",
       "      <td>0</td>\n",
       "      <td>긴장감도없고 재미도없고 주제도 없다</td>\n",
       "    </tr>\n",
       "  </tbody>\n",
       "</table>\n",
       "</div>"
      ],
      "text/plain": [
       "   index    id                                document  label  \\\n",
       "0   1998  1999                신선한 소재. 보고 난 후 기분도 좋아지네요      1   \n",
       "1   2733  2734                        3은 왜 붙었지 3편도 아니고      0   \n",
       "2   4330  4331  삶의 진실 그리고, 현실을 넘어선 본연의 감성을 펼쳐보이는 영화...      1   \n",
       "3   3868  3869               이게먼내용이지.. 조토끼는그만의취향이있는듯..      0   \n",
       "4     11    12                   긴장감도없고 재미도없고 주제도 없다..      0   \n",
       "\n",
       "                         preprocessed  \n",
       "0             신선한 소재 보고 난 후 기분도 좋아지네요  \n",
       "1                      은 왜 붙었지 편도 아니고  \n",
       "2  삶의 진실 그리고 현실을 넘어선 본연의 감성을 펼쳐보이는 영화  \n",
       "3               이게먼내용이지 조토끼는그만의취향이있는듯  \n",
       "4                 긴장감도없고 재미도없고 주제도 없다  "
      ]
     },
     "execution_count": 6,
     "metadata": {},
     "output_type": "execute_result"
    }
   ],
   "source": [
    "train['preprocessed'] = train['document'].str.replace(\"[^ㄱ-ㅎㅏ-ㅣ가-힣 ]\",\"\") # 한글과 공백을 제외하고 모두 제거\n",
    "train[:5] # 데이터 확인"
   ]
  },
  {
   "cell_type": "markdown",
   "metadata": {},
   "source": [
    "추가적으로 혹시 모를 다중공백도 제거해줍니다."
   ]
  },
  {
   "cell_type": "code",
   "execution_count": 7,
   "metadata": {},
   "outputs": [
    {
     "data": {
      "text/html": [
       "<div>\n",
       "<style scoped>\n",
       "    .dataframe tbody tr th:only-of-type {\n",
       "        vertical-align: middle;\n",
       "    }\n",
       "\n",
       "    .dataframe tbody tr th {\n",
       "        vertical-align: top;\n",
       "    }\n",
       "\n",
       "    .dataframe thead th {\n",
       "        text-align: right;\n",
       "    }\n",
       "</style>\n",
       "<table border=\"1\" class=\"dataframe\">\n",
       "  <thead>\n",
       "    <tr style=\"text-align: right;\">\n",
       "      <th></th>\n",
       "      <th>index</th>\n",
       "      <th>id</th>\n",
       "      <th>document</th>\n",
       "      <th>label</th>\n",
       "      <th>preprocessed</th>\n",
       "    </tr>\n",
       "  </thead>\n",
       "  <tbody>\n",
       "    <tr>\n",
       "      <th>0</th>\n",
       "      <td>1998</td>\n",
       "      <td>1999</td>\n",
       "      <td>신선한 소재. 보고 난 후 기분도 좋아지네요</td>\n",
       "      <td>1</td>\n",
       "      <td>신선한 소재 보고 난 후 기분도 좋아지네요</td>\n",
       "    </tr>\n",
       "    <tr>\n",
       "      <th>1</th>\n",
       "      <td>2733</td>\n",
       "      <td>2734</td>\n",
       "      <td>3은 왜 붙었지 3편도 아니고</td>\n",
       "      <td>0</td>\n",
       "      <td>은 왜 붙었지 편도 아니고</td>\n",
       "    </tr>\n",
       "    <tr>\n",
       "      <th>2</th>\n",
       "      <td>4330</td>\n",
       "      <td>4331</td>\n",
       "      <td>삶의 진실 그리고, 현실을 넘어선 본연의 감성을 펼쳐보이는 영화...</td>\n",
       "      <td>1</td>\n",
       "      <td>삶의 진실 그리고 현실을 넘어선 본연의 감성을 펼쳐보이는 영화</td>\n",
       "    </tr>\n",
       "    <tr>\n",
       "      <th>3</th>\n",
       "      <td>3868</td>\n",
       "      <td>3869</td>\n",
       "      <td>이게먼내용이지.. 조토끼는그만의취향이있는듯..</td>\n",
       "      <td>0</td>\n",
       "      <td>이게먼내용이지 조토끼는그만의취향이있는듯</td>\n",
       "    </tr>\n",
       "    <tr>\n",
       "      <th>4</th>\n",
       "      <td>11</td>\n",
       "      <td>12</td>\n",
       "      <td>긴장감도없고 재미도없고 주제도 없다..</td>\n",
       "      <td>0</td>\n",
       "      <td>긴장감도없고 재미도없고 주제도 없다</td>\n",
       "    </tr>\n",
       "  </tbody>\n",
       "</table>\n",
       "</div>"
      ],
      "text/plain": [
       "   index    id                                document  label  \\\n",
       "0   1998  1999                신선한 소재. 보고 난 후 기분도 좋아지네요      1   \n",
       "1   2733  2734                        3은 왜 붙었지 3편도 아니고      0   \n",
       "2   4330  4331  삶의 진실 그리고, 현실을 넘어선 본연의 감성을 펼쳐보이는 영화...      1   \n",
       "3   3868  3869               이게먼내용이지.. 조토끼는그만의취향이있는듯..      0   \n",
       "4     11    12                   긴장감도없고 재미도없고 주제도 없다..      0   \n",
       "\n",
       "                         preprocessed  \n",
       "0             신선한 소재 보고 난 후 기분도 좋아지네요  \n",
       "1                      은 왜 붙었지 편도 아니고  \n",
       "2  삶의 진실 그리고 현실을 넘어선 본연의 감성을 펼쳐보이는 영화  \n",
       "3               이게먼내용이지 조토끼는그만의취향이있는듯  \n",
       "4                 긴장감도없고 재미도없고 주제도 없다  "
      ]
     },
     "execution_count": 7,
     "metadata": {},
     "output_type": "execute_result"
    }
   ],
   "source": [
    "train['preprocessed'] = train['preprocessed'].str.replace(\" +\", \" \") # 다중 공백 제거\n",
    "train[:5] # 데이터 확인"
   ]
  },
  {
   "cell_type": "markdown",
   "metadata": {},
   "source": [
    "### 토큰화"
   ]
  },
  {
   "cell_type": "markdown",
   "metadata": {},
   "source": [
    "#### 토큰화란?\n",
    "\n",
    "토큰화(Tokenization)란 말뭉치(Corpus)를 주어진 단위(Token)로 나누는 과정을 의미합니다.\n",
    "\n",
    "따라서 다음과 같이 크게 두 종류로 구분해볼 수 있습니다.\n",
    "\n",
    "1. 문장 토큰화\n",
    "2. 단어 토큰화"
   ]
  },
  {
   "cell_type": "markdown",
   "metadata": {},
   "source": [
    "먼저 말뭉치를 문장 단위로 나누는 문장 토큰화(sentence tokenization)의 예시를 살펴보겠습니다."
   ]
  },
  {
   "cell_type": "code",
   "execution_count": 9,
   "metadata": {},
   "outputs": [],
   "source": [
    "text = \"Hello, nice to meet you. What's your name? Have a nice day! See you soon.\" # 예시 문장을 정의합니다."
   ]
  },
  {
   "cell_type": "code",
   "execution_count": 10,
   "metadata": {},
   "outputs": [
    {
     "name": "stdout",
     "output_type": "stream",
     "text": [
      "문장 토큰화 결과 ==> ['Hello, nice to meet you.', \"What's your name?\", 'Have a nice day!', 'See you soon.']\n"
     ]
    }
   ],
   "source": [
    "from nltk.tokenize import sent_tokenize\n",
    "\n",
    "print('문장 토큰화 결과 ==>',sent_tokenize(text))"
   ]
  },
  {
   "cell_type": "markdown",
   "metadata": {},
   "source": [
    "따로 분리 기준으로 \"!\", \"?\", \".\" 등을 설정할 필요 없이 문장 단위로 말뭉치가 분리됩니다!\n",
    "\n",
    "다음으로 단어 단위로 나누는 단어 토큰화(word tokenization)의 예시를 살펴보겠습니다."
   ]
  },
  {
   "cell_type": "code",
   "execution_count": 11,
   "metadata": {},
   "outputs": [
    {
     "name": "stdout",
     "output_type": "stream",
     "text": [
      "단어 토큰화 결과 ==> ['Hello', ',', 'nice', 'to', 'meet', 'you', '.', 'What', \"'s\", 'your', 'name', '?', 'Have', 'a', 'nice', 'day', '!', 'See', 'you', 'soon', '.']\n"
     ]
    }
   ],
   "source": [
    "from nltk.tokenize import word_tokenize\n",
    "\n",
    "print('단어 토큰화 결과 ==>', word_tokenize(text))"
   ]
  },
  {
   "cell_type": "markdown",
   "metadata": {},
   "source": [
    "단어 단위로 깔끔하게 분리되네요. \"!\", \".\" 등의 구두점도 하나의 단어로 취급되는 것을 확인할 수 있습니다.\n",
    "\n",
    "이렇게 토큰화에 대해서 간단히 살펴보았습니다. "
   ]
  },
  {
   "cell_type": "markdown",
   "metadata": {},
   "source": [
    "#### 한국어에서의 토큰화\n",
    "\n",
    "한국어는 영어와 달리 형태소(뜻을 가진 말의 최소 단위)간의 결합으로 어절이 이루어집니다. ex) 철수 -가 책 -을 읽- -었- -다\n",
    "\n",
    "따라서 한국어 전용 형태소 분석기가 많이 존재하는데요, 이번에는 koNLPy라는 패키지의 Okt라는 형태소 분석기를 사용해보겠습니다."
   ]
  },
  {
   "cell_type": "code",
   "execution_count": 12,
   "metadata": {},
   "outputs": [
    {
     "name": "stdout",
     "output_type": "stream",
     "text": [
      "한국어 형태소 분석 결과(어간 추출X) ==> ['오늘', '도', '열심히', '코딩', '을', '해볼까', '요', '?', '같이', '힘내서', '자연어', '처리', '고수', '가', '됩시다', '!', 'ㅎㅎ']\n",
      "한국어 형태소 분석 결과(어간 추출O) ==> ['오늘', '도', '열심히', '코딩', '을', '해보다', '요', '?', '같이', '힘내다', '자연어', '처리', '고수', '가', '되다', '!', 'ㅎㅎ']\n"
     ]
    }
   ],
   "source": [
    "from konlpy.tag import Okt \n",
    "\n",
    "han_sentence = \"오늘도 열심히 코딩을 해볼까요? 같이 힘내서 자연어 처리 고수가 됩시다! ㅎㅎ\"\n",
    "okt = Okt() # 인스턴스 할당\n",
    "print(\"한국어 형태소 분석 결과(어간 추출X) ==>\", okt.morphs(han_sentence, stem = False)) # 형태소 단위로 분리\n",
    "print(\"한국어 형태소 분석 결과(어간 추출O) ==>\", okt.morphs(han_sentence, stem = True)) # 형태소 단위로 분리 후 어간 추출"
   ]
  },
  {
   "cell_type": "markdown",
   "metadata": {},
   "source": [
    "stem=True 설정한 두 번째 결과를 보면 \"해볼까\" -> \"해보다\", \"힘내서\" -> \"힘내다\", \"됩시다\" -> \"되다\" 와 같이 각 형태소의 어간을 추출해준 것을 확인할 수 있습니다. \n",
    "\n",
    "필요에 따라서 선택적으로 사용하면 좋을 것 같네요!"
   ]
  },
  {
   "cell_type": "markdown",
   "metadata": {},
   "source": [
    "이제 영화 리뷰 데이터에서 같은 방법으로 형태소 분석을 해볼까요?"
   ]
  },
  {
   "cell_type": "code",
   "execution_count": 13,
   "metadata": {},
   "outputs": [
    {
     "data": {
      "text/html": [
       "<div>\n",
       "<style scoped>\n",
       "    .dataframe tbody tr th:only-of-type {\n",
       "        vertical-align: middle;\n",
       "    }\n",
       "\n",
       "    .dataframe tbody tr th {\n",
       "        vertical-align: top;\n",
       "    }\n",
       "\n",
       "    .dataframe thead th {\n",
       "        text-align: right;\n",
       "    }\n",
       "</style>\n",
       "<table border=\"1\" class=\"dataframe\">\n",
       "  <thead>\n",
       "    <tr style=\"text-align: right;\">\n",
       "      <th></th>\n",
       "      <th>index</th>\n",
       "      <th>id</th>\n",
       "      <th>document</th>\n",
       "      <th>label</th>\n",
       "      <th>preprocessed</th>\n",
       "      <th>tokenized_stem</th>\n",
       "    </tr>\n",
       "  </thead>\n",
       "  <tbody>\n",
       "    <tr>\n",
       "      <th>0</th>\n",
       "      <td>1998</td>\n",
       "      <td>1999</td>\n",
       "      <td>신선한 소재. 보고 난 후 기분도 좋아지네요</td>\n",
       "      <td>1</td>\n",
       "      <td>신선한 소재 보고 난 후 기분도 좋아지네요</td>\n",
       "      <td>신선하다 소재 보고 난 후 기분 도 좋아지다</td>\n",
       "    </tr>\n",
       "    <tr>\n",
       "      <th>1</th>\n",
       "      <td>2733</td>\n",
       "      <td>2734</td>\n",
       "      <td>3은 왜 붙었지 3편도 아니고</td>\n",
       "      <td>0</td>\n",
       "      <td>은 왜 붙었지 편도 아니고</td>\n",
       "      <td>은 왜 붙다 편도 아니다</td>\n",
       "    </tr>\n",
       "    <tr>\n",
       "      <th>2</th>\n",
       "      <td>4330</td>\n",
       "      <td>4331</td>\n",
       "      <td>삶의 진실 그리고, 현실을 넘어선 본연의 감성을 펼쳐보이는 영화...</td>\n",
       "      <td>1</td>\n",
       "      <td>삶의 진실 그리고 현실을 넘어선 본연의 감성을 펼쳐보이는 영화</td>\n",
       "      <td>삶 의 진실 그리고 현실 을 넘어서다 본연 의 감성 을 펼치다 보이다 영화</td>\n",
       "    </tr>\n",
       "    <tr>\n",
       "      <th>3</th>\n",
       "      <td>3868</td>\n",
       "      <td>3869</td>\n",
       "      <td>이게먼내용이지.. 조토끼는그만의취향이있는듯..</td>\n",
       "      <td>0</td>\n",
       "      <td>이게먼내용이지 조토끼는그만의취향이있는듯</td>\n",
       "      <td>이 게 멀다 내용 이지 조 토끼 는 그 만의 취향 이 있다</td>\n",
       "    </tr>\n",
       "    <tr>\n",
       "      <th>4</th>\n",
       "      <td>11</td>\n",
       "      <td>12</td>\n",
       "      <td>긴장감도없고 재미도없고 주제도 없다..</td>\n",
       "      <td>0</td>\n",
       "      <td>긴장감도없고 재미도없고 주제도 없다</td>\n",
       "      <td>긴장감 도 없다 재미 도 없다 주제 도 없다</td>\n",
       "    </tr>\n",
       "  </tbody>\n",
       "</table>\n",
       "</div>"
      ],
      "text/plain": [
       "   index    id                                document  label  \\\n",
       "0   1998  1999                신선한 소재. 보고 난 후 기분도 좋아지네요      1   \n",
       "1   2733  2734                        3은 왜 붙었지 3편도 아니고      0   \n",
       "2   4330  4331  삶의 진실 그리고, 현실을 넘어선 본연의 감성을 펼쳐보이는 영화...      1   \n",
       "3   3868  3869               이게먼내용이지.. 조토끼는그만의취향이있는듯..      0   \n",
       "4     11    12                   긴장감도없고 재미도없고 주제도 없다..      0   \n",
       "\n",
       "                         preprocessed  \\\n",
       "0             신선한 소재 보고 난 후 기분도 좋아지네요   \n",
       "1                      은 왜 붙었지 편도 아니고   \n",
       "2  삶의 진실 그리고 현실을 넘어선 본연의 감성을 펼쳐보이는 영화   \n",
       "3               이게먼내용이지 조토끼는그만의취향이있는듯   \n",
       "4                 긴장감도없고 재미도없고 주제도 없다   \n",
       "\n",
       "                              tokenized_stem  \n",
       "0                   신선하다 소재 보고 난 후 기분 도 좋아지다  \n",
       "1                              은 왜 붙다 편도 아니다  \n",
       "2  삶 의 진실 그리고 현실 을 넘어서다 본연 의 감성 을 펼치다 보이다 영화  \n",
       "3           이 게 멀다 내용 이지 조 토끼 는 그 만의 취향 이 있다  \n",
       "4                   긴장감 도 없다 재미 도 없다 주제 도 없다  "
      ]
     },
     "execution_count": 13,
     "metadata": {},
     "output_type": "execute_result"
    }
   ],
   "source": [
    "tokenized = [] # 데이터프레임의 한 컬럼으로 추가할 리스트\n",
    "for sentence in train['preprocessed']: # 전처리된 리뷰들을 하나씩 꺼내옵니다\n",
    "    tokens = okt.morphs(sentence, stem = True) # 형태소 분석 (stem = True로 설정해 어간 추출을 해주었습니다)\n",
    "    tokenize = \" \".join(tokens) # tokens라는 리스트 안의 형태소들을 띄어쓰기로 분리된 하나의 문자열로 join시켜줍니다.\n",
    "    tokenized.append(tokenize) # 형태소 단위로 띄어쓰기된 문자열을 최종 리스트에 추가해줍니다\n",
    "train[\"tokenized_stem\"] = pd.DataFrame(tokenized) # 리스트를 데이터프레임으로 변환해 tokenized_stem라는 컬럼명으로 추가해줍니다.\n",
    "\n",
    "train.head() # 데이터 확인"
   ]
  },
  {
   "cell_type": "markdown",
   "metadata": {},
   "source": [
    "형태소 분석 및 어간 추출을 완료한 \"tokenized\" 컬럼이 추가되었습니다!"
   ]
  },
  {
   "cell_type": "markdown",
   "metadata": {},
   "source": [
    "### 품사 태깅(POS Tagging)\n",
    "\n",
    "자 이제 다음 단계인 품사 태깅에 대해 알아봅시다.\n",
    "\n",
    "품사 태깅이란 주어진 텍스트를 형태소 단위로 나눈 뒤, 각 형태소에 해당 품사를 태깅하여 리스트화 하는 것입니다."
   ]
  },
  {
   "cell_type": "code",
   "execution_count": 14,
   "metadata": {},
   "outputs": [
    {
     "name": "stdout",
     "output_type": "stream",
     "text": [
      "[('오늘', 'Noun'), ('도', 'Josa'), ('열심히', 'Adverb'), ('재밌는', 'Adjective'), ('코딩', 'Noun'), ('을', 'Josa'), ('해볼까', 'Verb'), ('?', 'Punctuation'), ('같이', 'Adverb'), ('힘내서', 'Verb'), ('자연어', 'Noun'), ('처리', 'Noun'), ('고수', 'Noun'), ('들', 'Suffix'), ('이', 'Josa'), ('됩시다', 'Verb'), ('!', 'Punctuation'), ('ㅎㅎ', 'KoreanParticle')]\n"
     ]
    }
   ],
   "source": [
    "# 품사 태깅\n",
    "print(okt.pos(\"오늘도 열심히 재밌는 코딩을 해볼까? 같이 힘내서 자연어 처리 고수들이 됩시다! ㅎㅎ\"))"
   ]
  },
  {
   "cell_type": "code",
   "execution_count": 15,
   "metadata": {},
   "outputs": [
    {
     "name": "stdout",
     "output_type": "stream",
     "text": [
      "[('이', 'Determiner'), ('것', 'Noun'), ('은', 'Josa'), ('1', 'Number'), ('점', 'Noun'), ('이', 'Josa'), ('아니다', 'Adjective'), ('11', 'Number'), ('점', 'Noun'), ('을', 'Josa'), ('주고싶은', 'Verb'), ('내', 'Noun'), ('간절한', 'Adjective'), ('마음', 'Noun'), ('이다', 'Josa')]\n"
     ]
    }
   ],
   "source": [
    "print(okt.pos(\"이것은 1점이 아니다 11점을 주고싶은 내 간절한 마음이다\"))"
   ]
  },
  {
   "cell_type": "markdown",
   "metadata": {},
   "source": [
    "한 예시를 살펴보니 Noun, Josa, Adverb, Adjective, Verb, Suffix, Punctuation, KoreanParticle 등으로 품사가 태깅되어 하나의 리스트 형태로 반환됩니다\n",
    "\n",
    "태그되는 품사의 종류는 더 다양하니 직접 다양한 문장을 이용해 공부해보세요!\n",
    "\n",
    "okt의 pos 함수만을 이용해 토큰화와 품사 태깅을 한번에 할 수 있습니다.\n",
    "\n",
    "품사 태깅은 꼭 필요한 품사(ex. 명사)를 추출할 때 유용하게 쓰일 수 있겠네요.\n",
    "\n",
    "바로 명사를 추출해볼까요?"
   ]
  },
  {
   "cell_type": "code",
   "execution_count": 16,
   "metadata": {},
   "outputs": [
    {
     "name": "stdout",
     "output_type": "stream",
     "text": [
      "['오늘', '코딩', '자연어', '처리', '고수']\n"
     ]
    }
   ],
   "source": [
    "print(okt.nouns(\"오늘도 열심히 재밌는 코딩을 해볼까? 같이 힘내서 자연어 처리 고수들이 됩시다! ㅎㅎ\"))"
   ]
  },
  {
   "cell_type": "markdown",
   "metadata": {},
   "source": [
    "okt의 nouns 함수를 사용해 간편하게 명사만을 추출하였습니다!\n",
    "\n",
    "이렇게 간단하게 명사만을 추출할수도 있지만, 영화 리뷰는 명사만으로 긍/부정을 판단하기 어렵기 때문에 \n",
    "\n",
    "우선 임의로 명사, 동사, 형용사, 부사를 추출하여 사용해보겠습니다. (이 부분은 직접 고민하고 수정해보세요!)"
   ]
  },
  {
   "cell_type": "code",
   "execution_count": 18,
   "metadata": {},
   "outputs": [
    {
     "data": {
      "text/html": [
       "<div>\n",
       "<style scoped>\n",
       "    .dataframe tbody tr th:only-of-type {\n",
       "        vertical-align: middle;\n",
       "    }\n",
       "\n",
       "    .dataframe tbody tr th {\n",
       "        vertical-align: top;\n",
       "    }\n",
       "\n",
       "    .dataframe thead th {\n",
       "        text-align: right;\n",
       "    }\n",
       "</style>\n",
       "<table border=\"1\" class=\"dataframe\">\n",
       "  <thead>\n",
       "    <tr style=\"text-align: right;\">\n",
       "      <th></th>\n",
       "      <th>index</th>\n",
       "      <th>id</th>\n",
       "      <th>document</th>\n",
       "      <th>label</th>\n",
       "      <th>preprocessed</th>\n",
       "      <th>tokenized_stem</th>\n",
       "      <th>main_pos</th>\n",
       "    </tr>\n",
       "  </thead>\n",
       "  <tbody>\n",
       "    <tr>\n",
       "      <th>0</th>\n",
       "      <td>1998</td>\n",
       "      <td>1999</td>\n",
       "      <td>신선한 소재. 보고 난 후 기분도 좋아지네요</td>\n",
       "      <td>1</td>\n",
       "      <td>신선한 소재 보고 난 후 기분도 좋아지네요</td>\n",
       "      <td>신선하다 소재 보고 난 후 기분 도 좋아지다</td>\n",
       "      <td>신선한 소재 보고 난 후 기분 좋아지네요</td>\n",
       "    </tr>\n",
       "    <tr>\n",
       "      <th>1</th>\n",
       "      <td>2733</td>\n",
       "      <td>2734</td>\n",
       "      <td>3은 왜 붙었지 3편도 아니고</td>\n",
       "      <td>0</td>\n",
       "      <td>은 왜 붙었지 편도 아니고</td>\n",
       "      <td>은 왜 붙다 편도 아니다</td>\n",
       "      <td>은 왜 붙었지 편도 아니고</td>\n",
       "    </tr>\n",
       "    <tr>\n",
       "      <th>2</th>\n",
       "      <td>4330</td>\n",
       "      <td>4331</td>\n",
       "      <td>삶의 진실 그리고, 현실을 넘어선 본연의 감성을 펼쳐보이는 영화...</td>\n",
       "      <td>1</td>\n",
       "      <td>삶의 진실 그리고 현실을 넘어선 본연의 감성을 펼쳐보이는 영화</td>\n",
       "      <td>삶 의 진실 그리고 현실 을 넘어서다 본연 의 감성 을 펼치다 보이다 영화</td>\n",
       "      <td>삶 진실 현실 넘어선 본연 감성 펼쳐 보이는 영화</td>\n",
       "    </tr>\n",
       "    <tr>\n",
       "      <th>3</th>\n",
       "      <td>3868</td>\n",
       "      <td>3869</td>\n",
       "      <td>이게먼내용이지.. 조토끼는그만의취향이있는듯..</td>\n",
       "      <td>0</td>\n",
       "      <td>이게먼내용이지 조토끼는그만의취향이있는듯</td>\n",
       "      <td>이 게 멀다 내용 이지 조 토끼 는 그 만의 취향 이 있다</td>\n",
       "      <td>게 먼 내용 토끼 그 취향 있는듯</td>\n",
       "    </tr>\n",
       "    <tr>\n",
       "      <th>4</th>\n",
       "      <td>11</td>\n",
       "      <td>12</td>\n",
       "      <td>긴장감도없고 재미도없고 주제도 없다..</td>\n",
       "      <td>0</td>\n",
       "      <td>긴장감도없고 재미도없고 주제도 없다</td>\n",
       "      <td>긴장감 도 없다 재미 도 없다 주제 도 없다</td>\n",
       "      <td>긴장감 없고 재미 없고 주제 없다</td>\n",
       "    </tr>\n",
       "  </tbody>\n",
       "</table>\n",
       "</div>"
      ],
      "text/plain": [
       "   index    id                                document  label  \\\n",
       "0   1998  1999                신선한 소재. 보고 난 후 기분도 좋아지네요      1   \n",
       "1   2733  2734                        3은 왜 붙었지 3편도 아니고      0   \n",
       "2   4330  4331  삶의 진실 그리고, 현실을 넘어선 본연의 감성을 펼쳐보이는 영화...      1   \n",
       "3   3868  3869               이게먼내용이지.. 조토끼는그만의취향이있는듯..      0   \n",
       "4     11    12                   긴장감도없고 재미도없고 주제도 없다..      0   \n",
       "\n",
       "                         preprocessed  \\\n",
       "0             신선한 소재 보고 난 후 기분도 좋아지네요   \n",
       "1                      은 왜 붙었지 편도 아니고   \n",
       "2  삶의 진실 그리고 현실을 넘어선 본연의 감성을 펼쳐보이는 영화   \n",
       "3               이게먼내용이지 조토끼는그만의취향이있는듯   \n",
       "4                 긴장감도없고 재미도없고 주제도 없다   \n",
       "\n",
       "                              tokenized_stem                     main_pos  \n",
       "0                   신선하다 소재 보고 난 후 기분 도 좋아지다       신선한 소재 보고 난 후 기분 좋아지네요  \n",
       "1                              은 왜 붙다 편도 아니다               은 왜 붙었지 편도 아니고  \n",
       "2  삶 의 진실 그리고 현실 을 넘어서다 본연 의 감성 을 펼치다 보이다 영화  삶 진실 현실 넘어선 본연 감성 펼쳐 보이는 영화  \n",
       "3           이 게 멀다 내용 이지 조 토끼 는 그 만의 취향 이 있다           게 먼 내용 토끼 그 취향 있는듯  \n",
       "4                   긴장감 도 없다 재미 도 없다 주제 도 없다           긴장감 없고 재미 없고 주제 없다  "
      ]
     },
     "execution_count": 18,
     "metadata": {},
     "output_type": "execute_result"
    }
   ],
   "source": [
    "main_pos = [] # 데이터프레임의 새 컬럼이 될 리스트\n",
    "for sentence in train['document']: # 리뷰들을 하나씩 가져옵니다\n",
    "    pos = okt.pos(sentence) # 형태소 분석을 진행하고 해당 리스트를 pos라는 변수로 받습니다\n",
    "    main_words = [word_pos[0] for word_pos in pos if word_pos[1] in (\"Noun\", \"Adverb\", \"Adjective\", \"Verb\")] # 가져오고자 하는 품사에 해당하면 해당 형태소를 main_words 리스트에 추가합니다.\n",
    "    main_words_str = \" \".join(main_words) # main_words 리스트 안의 형태소들을 띄어쓰기로 분리된 하나의 문자열로 join시켜줍니다.\n",
    "    main_pos.append(main_words_str) # 선택한 형태소들로 이루어진 문자열을 최종 리스트에 추가해줍니다\n",
    "train[\"main_pos\"] = pd.DataFrame(main_pos) # 리스트를 데이터프레임으로 변환해 main_pos라는 컬럼명으로 추가해줍니다.\n",
    "\n",
    "train.head() # 데이터 확인"
   ]
  },
  {
   "cell_type": "markdown",
   "metadata": {},
   "source": [
    "자 이제 총 세 개의 전처리된 컬럼이 생성되었습니다!\n",
    "\n",
    "어떤 전처리 과정이 성능이 가장 잘 나올지는 미지수입니다. 직접 다양한 시도를 통해 최적의 전처리 프로세스를 찾아보세요~\n",
    "\n",
    "이번 베이스라인에서는 마지막에 생성한 main_pos 컬럼을 이용해 모델 학습을 진행하겠습니다."
   ]
  },
  {
   "cell_type": "markdown",
   "metadata": {},
   "source": [
    "### 벡터화\n",
    "\n",
    "CountVectorizer를 사용하였습니다. \n",
    "\n",
    "이 부분에 대한 설명은 첫 번째 베이스라인에 자세히 나와있으니 넘어가겠습니다."
   ]
  },
  {
   "cell_type": "code",
   "execution_count": 19,
   "metadata": {},
   "outputs": [],
   "source": [
    "X_train = train.main_pos #training 데이터에서 문서 추출\n",
    "y_train = train.label #training 데이터에서 라벨 추출"
   ]
  },
  {
   "cell_type": "code",
   "execution_count": 20,
   "metadata": {},
   "outputs": [],
   "source": [
    "from sklearn.feature_extraction.text import CountVectorizer\n",
    "\n",
    "vectorizer = CountVectorizer() #countvectorizer 생성\n",
    "vectorizer.fit(X_train) # countvectorizer 학습\n",
    "X_train_vec = vectorizer.transform(X_train) # transform"
   ]
  },
  {
   "cell_type": "markdown",
   "metadata": {},
   "source": [
    "### 모델 학습"
   ]
  },
  {
   "cell_type": "code",
   "execution_count": 21,
   "metadata": {},
   "outputs": [
    {
     "data": {
      "text/plain": [
       "LogisticRegression()"
      ]
     },
     "execution_count": 21,
     "metadata": {},
     "output_type": "execute_result"
    }
   ],
   "source": [
    "from sklearn.linear_model import LogisticRegression #모델 불러오기\n",
    "model = LogisticRegression() #객체에 모델 할당\n",
    "model.fit(X_train_vec, y_train) #모델 학습"
   ]
  },
  {
   "cell_type": "markdown",
   "metadata": {},
   "source": [
    "### 검증셋으로 모델 성능 검증"
   ]
  },
  {
   "cell_type": "markdown",
   "metadata": {},
   "source": [
    "먼저 검증 셋 val에 train 셋과 동일한 전처리 과정을 거쳐줍니다."
   ]
  },
  {
   "cell_type": "code",
   "execution_count": 22,
   "metadata": {},
   "outputs": [
    {
     "data": {
      "text/html": [
       "<div>\n",
       "<style scoped>\n",
       "    .dataframe tbody tr th:only-of-type {\n",
       "        vertical-align: middle;\n",
       "    }\n",
       "\n",
       "    .dataframe tbody tr th {\n",
       "        vertical-align: top;\n",
       "    }\n",
       "\n",
       "    .dataframe thead th {\n",
       "        text-align: right;\n",
       "    }\n",
       "</style>\n",
       "<table border=\"1\" class=\"dataframe\">\n",
       "  <thead>\n",
       "    <tr style=\"text-align: right;\">\n",
       "      <th></th>\n",
       "      <th>index</th>\n",
       "      <th>id</th>\n",
       "      <th>document</th>\n",
       "      <th>label</th>\n",
       "      <th>preprocessed</th>\n",
       "      <th>tokenized_stem</th>\n",
       "      <th>main_pos</th>\n",
       "    </tr>\n",
       "  </thead>\n",
       "  <tbody>\n",
       "    <tr>\n",
       "      <th>0</th>\n",
       "      <td>4711</td>\n",
       "      <td>4712</td>\n",
       "      <td>개 ..... 재 미 없 고 ..... 모 든 게 어 색 해 여 .</td>\n",
       "      <td>0</td>\n",
       "      <td>개 재 미 없 고 모 든 게 어 색 해 여</td>\n",
       "      <td>개 재 밉다 없다 고 모 들다 게 어 색 해 여</td>\n",
       "      <td>개 재 미 없 고 모 든 게 색 해 여</td>\n",
       "    </tr>\n",
       "    <tr>\n",
       "      <th>1</th>\n",
       "      <td>3625</td>\n",
       "      <td>3626</td>\n",
       "      <td>지금 봐도 촌스럽지 않네. 명작이다.</td>\n",
       "      <td>1</td>\n",
       "      <td>지금 봐도 촌스럽지 않네 명작이다</td>\n",
       "      <td>지금 보다 촌 스럽지 않다 명작 이다</td>\n",
       "      <td>지금 봐도 촌 않네 명작</td>\n",
       "    </tr>\n",
       "    <tr>\n",
       "      <th>2</th>\n",
       "      <td>2483</td>\n",
       "      <td>2484</td>\n",
       "      <td>올해 감상한 영화 중 몇안되는 수작이네요</td>\n",
       "      <td>1</td>\n",
       "      <td>올해 감상한 영화 중 몇안되는 수작이네요</td>\n",
       "      <td>올해 감상 한 영화 중 몇 안되다 수작 이네 요</td>\n",
       "      <td>올해 감상 영화 중 몇 안되는 수작 요</td>\n",
       "    </tr>\n",
       "    <tr>\n",
       "      <th>3</th>\n",
       "      <td>2620</td>\n",
       "      <td>2621</td>\n",
       "      <td>이런 영화를 만들면서까지 돈을 벌어야 하는 사람들이 불쌍하다.</td>\n",
       "      <td>0</td>\n",
       "      <td>이런 영화를 만들면서까지 돈을 벌어야 하는 사람들이 불쌍하다</td>\n",
       "      <td>이렇다 영화 를 만들다 돈 을 벌다 하다 사람 들 이 불쌍하다</td>\n",
       "      <td>이런 영화 만들면서까지 돈 벌어야 하는 사람 불쌍하다</td>\n",
       "    </tr>\n",
       "    <tr>\n",
       "      <th>4</th>\n",
       "      <td>1574</td>\n",
       "      <td>1575</td>\n",
       "      <td>가슴만볼만함 스토리는없슴 눈요기 심심풀이임</td>\n",
       "      <td>0</td>\n",
       "      <td>가슴만볼만함 스토리는없슴 눈요기 심심풀이임</td>\n",
       "      <td>가슴 만 볼 만 함 스토리 는 없다 슴 눈요기 심심 풀이 임</td>\n",
       "      <td>가슴 볼 함 스토리 없 슴 눈요기 심심 풀이 임</td>\n",
       "    </tr>\n",
       "  </tbody>\n",
       "</table>\n",
       "</div>"
      ],
      "text/plain": [
       "   index    id                               document  label  \\\n",
       "0   4711  4712  개 ..... 재 미 없 고 ..... 모 든 게 어 색 해 여 .      0   \n",
       "1   3625  3626                   지금 봐도 촌스럽지 않네. 명작이다.      1   \n",
       "2   2483  2484                 올해 감상한 영화 중 몇안되는 수작이네요      1   \n",
       "3   2620  2621     이런 영화를 만들면서까지 돈을 벌어야 하는 사람들이 불쌍하다.      0   \n",
       "4   1574  1575                가슴만볼만함 스토리는없슴 눈요기 심심풀이임      0   \n",
       "\n",
       "                        preprocessed                      tokenized_stem  \\\n",
       "0           개 재 미 없 고 모 든 게 어 색 해 여           개 재 밉다 없다 고 모 들다 게 어 색 해 여   \n",
       "1                 지금 봐도 촌스럽지 않네 명작이다                지금 보다 촌 스럽지 않다 명작 이다   \n",
       "2             올해 감상한 영화 중 몇안되는 수작이네요          올해 감상 한 영화 중 몇 안되다 수작 이네 요   \n",
       "3  이런 영화를 만들면서까지 돈을 벌어야 하는 사람들이 불쌍하다  이렇다 영화 를 만들다 돈 을 벌다 하다 사람 들 이 불쌍하다   \n",
       "4            가슴만볼만함 스토리는없슴 눈요기 심심풀이임   가슴 만 볼 만 함 스토리 는 없다 슴 눈요기 심심 풀이 임   \n",
       "\n",
       "                        main_pos  \n",
       "0          개 재 미 없 고 모 든 게 색 해 여  \n",
       "1                  지금 봐도 촌 않네 명작  \n",
       "2          올해 감상 영화 중 몇 안되는 수작 요  \n",
       "3  이런 영화 만들면서까지 돈 벌어야 하는 사람 불쌍하다  \n",
       "4     가슴 볼 함 스토리 없 슴 눈요기 심심 풀이 임  "
      ]
     },
     "execution_count": 22,
     "metadata": {},
     "output_type": "execute_result"
    }
   ],
   "source": [
    "# preprocessed\n",
    "val['preprocessed'] = val['document'].str.replace(\"[^ㄱ-ㅎㅏ-ㅣ가-힣 ]\",\"\") # 한글과 공백을 제외하고 모두 제거\n",
    "val['preprocessed'] = val['preprocessed'].str.replace(\" +\", \" \") # 다중 공백 제거\n",
    "\n",
    "# tokenized_stem\n",
    "tokenized = []\n",
    "for sentence in val['preprocessed']:\n",
    "    tokens = okt.morphs(sentence, stem = True) # stem = True로 설정해 어간 추출을 해주었습니다\n",
    "    tokenize = \" \".join(tokens)\n",
    "    tokenized.append(tokenize)\n",
    "val[\"tokenized_stem\"] = pd.DataFrame(tokenized)\n",
    "\n",
    "# main_pos\n",
    "main_pos = []\n",
    "for sentence in val['document']:\n",
    "    pos = okt.pos(sentence)\n",
    "    main_words = [word_pos[0] for word_pos in pos if word_pos[1] in (\"Noun\", \"Adverb\", \"Adjective\", \"Verb\")]\n",
    "    main_words_str = \" \".join(main_words)\n",
    "    main_pos.append(main_words_str)\n",
    "val[\"main_pos\"] = pd.DataFrame(main_pos)\n",
    "\n",
    "val.head()"
   ]
  },
  {
   "cell_type": "markdown",
   "metadata": {},
   "source": [
    "학습한 모델로 예측할 X를 벡터화해줍니다."
   ]
  },
  {
   "cell_type": "code",
   "execution_count": 23,
   "metadata": {},
   "outputs": [],
   "source": [
    "X_val = val.main_pos #validation 데이터에서 전처리된 문서 추출\n",
    "y_val = val.label #validation 데이터에서 라벨 추출\n",
    "\n",
    "X_val_vec = vectorizer.transform(X_val) # train셋으로 fit한 벡터라이저 이용해 transform"
   ]
  },
  {
   "cell_type": "code",
   "execution_count": 24,
   "metadata": {},
   "outputs": [
    {
     "name": "stdout",
     "output_type": "stream",
     "text": [
      "[0 1 1 ... 1 1 0]\n"
     ]
    }
   ],
   "source": [
    "#run model\n",
    "y_pred = model.predict(X_val_vec)\n",
    "print(y_pred)\n",
    "#0:negative 1:positive"
   ]
  },
  {
   "cell_type": "code",
   "execution_count": 25,
   "metadata": {},
   "outputs": [
    {
     "name": "stdout",
     "output_type": "stream",
     "text": [
      "accuracy = 0.8184\n"
     ]
    }
   ],
   "source": [
    "from sklearn import metrics\n",
    "print('accuracy =', metrics.accuracy_score(y_val, y_pred)) # 정확도 확인"
   ]
  },
  {
   "cell_type": "markdown",
   "metadata": {},
   "source": [
    "train 셋으로 학습한 모델을 사용해 validation 셋을 예측해본 결과 0.8184의 정확도를 얻었습니다!\n",
    "\n",
    "다양한 전처리 기법과 모델들을 사용하여 성능을 높여보세요~"
   ]
  },
  {
   "cell_type": "markdown",
   "metadata": {},
   "source": [
    "# test.csv 분류하기"
   ]
  },
  {
   "cell_type": "markdown",
   "metadata": {},
   "source": [
    "이제 본격적으로 대회에서 주어진 정답이 없는 test 데이터의 라벨을 예측해보겠습니다.\n",
    "\n",
    "전처리 모델 학습 단계에서 test 데이터를 사용하면 data leakage로 간주되니\n",
    "\n",
    "test.csv는 반드시 모델 학습이 끝난 뒤 예측시에만 등장해야 함에 주의해주세요!\n",
    "\n",
    "train.csv를 이용한 전처리/학습을 test.cvs에 적용하는 것은 허용되지만, test.csv를 전처리/모델링에 직접적으로 이용하면 실격입니다."
   ]
  },
  {
   "cell_type": "code",
   "execution_count": 27,
   "metadata": {},
   "outputs": [
    {
     "data": {
      "text/html": [
       "<div>\n",
       "<style scoped>\n",
       "    .dataframe tbody tr th:only-of-type {\n",
       "        vertical-align: middle;\n",
       "    }\n",
       "\n",
       "    .dataframe tbody tr th {\n",
       "        vertical-align: top;\n",
       "    }\n",
       "\n",
       "    .dataframe thead th {\n",
       "        text-align: right;\n",
       "    }\n",
       "</style>\n",
       "<table border=\"1\" class=\"dataframe\">\n",
       "  <thead>\n",
       "    <tr style=\"text-align: right;\">\n",
       "      <th></th>\n",
       "      <th>id</th>\n",
       "      <th>document</th>\n",
       "    </tr>\n",
       "  </thead>\n",
       "  <tbody>\n",
       "    <tr>\n",
       "      <th>0</th>\n",
       "      <td>1</td>\n",
       "      <td>시간 때우기 좋은 영화 지루함</td>\n",
       "    </tr>\n",
       "    <tr>\n",
       "      <th>1</th>\n",
       "      <td>2</td>\n",
       "      <td>훈훈한 정이 느껴지는 영화! 가족끼리 드라마 보듯이 보면 딱~!</td>\n",
       "    </tr>\n",
       "    <tr>\n",
       "      <th>2</th>\n",
       "      <td>3</td>\n",
       "      <td>Childhood fantasy</td>\n",
       "    </tr>\n",
       "    <tr>\n",
       "      <th>3</th>\n",
       "      <td>4</td>\n",
       "      <td>멋있는 영화입니다. 잊을 수 없는!</td>\n",
       "    </tr>\n",
       "    <tr>\n",
       "      <th>4</th>\n",
       "      <td>5</td>\n",
       "      <td>너무 감동적이네요 펑펑 울었습니다</td>\n",
       "    </tr>\n",
       "    <tr>\n",
       "      <th>...</th>\n",
       "      <td>...</td>\n",
       "      <td>...</td>\n",
       "    </tr>\n",
       "    <tr>\n",
       "      <th>4995</th>\n",
       "      <td>4996</td>\n",
       "      <td>연계도 제대로 안되고 뭔가 부족한느낌이들고 찝찝한영화</td>\n",
       "    </tr>\n",
       "    <tr>\n",
       "      <th>4996</th>\n",
       "      <td>4997</td>\n",
       "      <td>내생에 최악의 영화중 하나 졸려서 미칠뻔....</td>\n",
       "    </tr>\n",
       "    <tr>\n",
       "      <th>4997</th>\n",
       "      <td>4998</td>\n",
       "      <td>지금까지 나온 드라마 중 최고였습니다. 100점 만점!</td>\n",
       "    </tr>\n",
       "    <tr>\n",
       "      <th>4998</th>\n",
       "      <td>4999</td>\n",
       "      <td>영화값으로 엄청난 공연을 보았다 - 이게 웬 횡재 ..</td>\n",
       "    </tr>\n",
       "    <tr>\n",
       "      <th>4999</th>\n",
       "      <td>5000</td>\n",
       "      <td>올해엔 롯데 자이언츠가 꼭 우승했으면...</td>\n",
       "    </tr>\n",
       "  </tbody>\n",
       "</table>\n",
       "<p>5000 rows × 2 columns</p>\n",
       "</div>"
      ],
      "text/plain": [
       "        id                             document\n",
       "0        1                     시간 때우기 좋은 영화 지루함\n",
       "1        2  훈훈한 정이 느껴지는 영화! 가족끼리 드라마 보듯이 보면 딱~!\n",
       "2        3                    Childhood fantasy\n",
       "3        4                  멋있는 영화입니다. 잊을 수 없는!\n",
       "4        5                   너무 감동적이네요 펑펑 울었습니다\n",
       "...    ...                                  ...\n",
       "4995  4996        연계도 제대로 안되고 뭔가 부족한느낌이들고 찝찝한영화\n",
       "4996  4997           내생에 최악의 영화중 하나 졸려서 미칠뻔....\n",
       "4997  4998       지금까지 나온 드라마 중 최고였습니다. 100점 만점!\n",
       "4998  4999       영화값으로 엄청난 공연을 보았다 - 이게 웬 횡재 ..\n",
       "4999  5000              올해엔 롯데 자이언츠가 꼭 우승했으면...\n",
       "\n",
       "[5000 rows x 2 columns]"
      ]
     },
     "execution_count": 27,
     "metadata": {},
     "output_type": "execute_result"
    }
   ],
   "source": [
    "test = pd.read_csv('dataset/test.csv')\n",
    "test"
   ]
  },
  {
   "cell_type": "markdown",
   "metadata": {},
   "source": [
    "동일한 전처리 과정을 거치되, data leakage가 발생하지 않도록 주의합니다."
   ]
  },
  {
   "cell_type": "code",
   "execution_count": 28,
   "metadata": {},
   "outputs": [
    {
     "data": {
      "text/plain": [
       "id          0\n",
       "document    0\n",
       "dtype: int64"
      ]
     },
     "execution_count": 28,
     "metadata": {},
     "output_type": "execute_result"
    }
   ],
   "source": [
    "test.isna().sum()"
   ]
  },
  {
   "cell_type": "code",
   "execution_count": 29,
   "metadata": {},
   "outputs": [
    {
     "data": {
      "text/html": [
       "<div>\n",
       "<style scoped>\n",
       "    .dataframe tbody tr th:only-of-type {\n",
       "        vertical-align: middle;\n",
       "    }\n",
       "\n",
       "    .dataframe tbody tr th {\n",
       "        vertical-align: top;\n",
       "    }\n",
       "\n",
       "    .dataframe thead th {\n",
       "        text-align: right;\n",
       "    }\n",
       "</style>\n",
       "<table border=\"1\" class=\"dataframe\">\n",
       "  <thead>\n",
       "    <tr style=\"text-align: right;\">\n",
       "      <th></th>\n",
       "      <th>id</th>\n",
       "      <th>document</th>\n",
       "      <th>preprocessed</th>\n",
       "      <th>tokenized_stem</th>\n",
       "      <th>main_pos</th>\n",
       "    </tr>\n",
       "  </thead>\n",
       "  <tbody>\n",
       "    <tr>\n",
       "      <th>0</th>\n",
       "      <td>1</td>\n",
       "      <td>시간 때우기 좋은 영화 지루함</td>\n",
       "      <td>시간 때우기 좋은 영화 지루함</td>\n",
       "      <td>시간 때우다 좋다 영화 지루함</td>\n",
       "      <td>시간 때우기 좋은 영화 지루함</td>\n",
       "    </tr>\n",
       "    <tr>\n",
       "      <th>1</th>\n",
       "      <td>2</td>\n",
       "      <td>훈훈한 정이 느껴지는 영화! 가족끼리 드라마 보듯이 보면 딱~!</td>\n",
       "      <td>훈훈한 정이 느껴지는 영화 가족끼리 드라마 보듯이 보면 딱</td>\n",
       "      <td>훈훈하다 정이 느껴지다 영화 가족 끼리 드라마 보다 보다 딱</td>\n",
       "      <td>훈훈한 정이 느껴지는 영화 가족 끼리 드라마 보듯이 보면 딱</td>\n",
       "    </tr>\n",
       "    <tr>\n",
       "      <th>2</th>\n",
       "      <td>3</td>\n",
       "      <td>Childhood fantasy</td>\n",
       "      <td></td>\n",
       "      <td></td>\n",
       "      <td></td>\n",
       "    </tr>\n",
       "    <tr>\n",
       "      <th>3</th>\n",
       "      <td>4</td>\n",
       "      <td>멋있는 영화입니다. 잊을 수 없는!</td>\n",
       "      <td>멋있는 영화입니다 잊을 수 없는</td>\n",
       "      <td>멋있다 영화 이다 잊다 수 없다</td>\n",
       "      <td>멋있는 영화 입니다 잊을 수 없는</td>\n",
       "    </tr>\n",
       "    <tr>\n",
       "      <th>4</th>\n",
       "      <td>5</td>\n",
       "      <td>너무 감동적이네요 펑펑 울었습니다</td>\n",
       "      <td>너무 감동적이네요 펑펑 울었습니다</td>\n",
       "      <td>너무 감동 적다 펑펑 울다</td>\n",
       "      <td>너무 감동 적이네요 펑펑 울었습니다</td>\n",
       "    </tr>\n",
       "  </tbody>\n",
       "</table>\n",
       "</div>"
      ],
      "text/plain": [
       "   id                             document                      preprocessed  \\\n",
       "0   1                     시간 때우기 좋은 영화 지루함                  시간 때우기 좋은 영화 지루함   \n",
       "1   2  훈훈한 정이 느껴지는 영화! 가족끼리 드라마 보듯이 보면 딱~!  훈훈한 정이 느껴지는 영화 가족끼리 드라마 보듯이 보면 딱   \n",
       "2   3                    Childhood fantasy                                     \n",
       "3   4                  멋있는 영화입니다. 잊을 수 없는!                 멋있는 영화입니다 잊을 수 없는   \n",
       "4   5                   너무 감동적이네요 펑펑 울었습니다                너무 감동적이네요 펑펑 울었습니다   \n",
       "\n",
       "                      tokenized_stem                           main_pos  \n",
       "0                   시간 때우다 좋다 영화 지루함                   시간 때우기 좋은 영화 지루함  \n",
       "1  훈훈하다 정이 느껴지다 영화 가족 끼리 드라마 보다 보다 딱  훈훈한 정이 느껴지는 영화 가족 끼리 드라마 보듯이 보면 딱  \n",
       "2                                                                        \n",
       "3                  멋있다 영화 이다 잊다 수 없다                 멋있는 영화 입니다 잊을 수 없는  \n",
       "4                     너무 감동 적다 펑펑 울다                너무 감동 적이네요 펑펑 울었습니다  "
      ]
     },
     "execution_count": 29,
     "metadata": {},
     "output_type": "execute_result"
    }
   ],
   "source": [
    "# preprocessed\n",
    "test['preprocessed'] = test['document'].str.replace(\"[^ㄱ-ㅎㅏ-ㅣ가-힣 ]\",\"\") # 한글과 공백을 제외하고 모두 제거\n",
    "test['preprocessed'] = test['preprocessed'].str.replace(\" +\", \" \") # 다중 공백 제거\n",
    "\n",
    "# tokenized_stem\n",
    "tokenized = []\n",
    "for sentence in test['preprocessed']:\n",
    "    tokens = okt.morphs(sentence, stem = True) # stem = True로 설정해 어간 추출을 해주었습니다\n",
    "    tokenize = \" \".join(tokens)\n",
    "    tokenized.append(tokenize)\n",
    "test[\"tokenized_stem\"] = pd.DataFrame(tokenized)\n",
    "\n",
    "# main_pos\n",
    "main_pos = []\n",
    "for sentence in test['document']:\n",
    "    pos = okt.pos(sentence)\n",
    "    main_words = [word_pos[0] for word_pos in pos if word_pos[1] in (\"Noun\", \"Adverb\", \"Adjective\", \"Verb\")]\n",
    "    main_words_str = \" \".join(main_words)\n",
    "    main_pos.append(main_words_str)\n",
    "test[\"main_pos\"] = pd.DataFrame(main_pos)\n",
    "\n",
    "test.head()"
   ]
  },
  {
   "cell_type": "code",
   "execution_count": 33,
   "metadata": {},
   "outputs": [
    {
     "name": "stdout",
     "output_type": "stream",
     "text": [
      "[0 1 0 ... 1 0 0]\n"
     ]
    }
   ],
   "source": [
    "X_test = test.main_pos\n",
    "X_test_vec = vectorizer.transform(X_test)\n",
    "pred_test = model.predict(X_test_vec)\n",
    "print(pred_test)"
   ]
  },
  {
   "cell_type": "markdown",
   "metadata": {},
   "source": [
    "# dacon 대회에 제출하기\n",
    "\n",
    "이제 이 예측 결과를 submission.csv 파일로 만들어서 대회 페이지에 제출해보도록 합시다.\n",
    "\n",
    "제출한 뒤 리더보드를 통해 결과를 확인합시다."
   ]
  },
  {
   "cell_type": "code",
   "execution_count": 34,
   "metadata": {},
   "outputs": [
    {
     "data": {
      "text/html": [
       "<div>\n",
       "<style scoped>\n",
       "    .dataframe tbody tr th:only-of-type {\n",
       "        vertical-align: middle;\n",
       "    }\n",
       "\n",
       "    .dataframe tbody tr th {\n",
       "        vertical-align: top;\n",
       "    }\n",
       "\n",
       "    .dataframe thead th {\n",
       "        text-align: right;\n",
       "    }\n",
       "</style>\n",
       "<table border=\"1\" class=\"dataframe\">\n",
       "  <thead>\n",
       "    <tr style=\"text-align: right;\">\n",
       "      <th></th>\n",
       "      <th>id</th>\n",
       "      <th>label</th>\n",
       "    </tr>\n",
       "  </thead>\n",
       "  <tbody>\n",
       "    <tr>\n",
       "      <th>0</th>\n",
       "      <td>1</td>\n",
       "      <td>0</td>\n",
       "    </tr>\n",
       "    <tr>\n",
       "      <th>1</th>\n",
       "      <td>2</td>\n",
       "      <td>0</td>\n",
       "    </tr>\n",
       "    <tr>\n",
       "      <th>2</th>\n",
       "      <td>3</td>\n",
       "      <td>0</td>\n",
       "    </tr>\n",
       "    <tr>\n",
       "      <th>3</th>\n",
       "      <td>4</td>\n",
       "      <td>0</td>\n",
       "    </tr>\n",
       "    <tr>\n",
       "      <th>4</th>\n",
       "      <td>5</td>\n",
       "      <td>0</td>\n",
       "    </tr>\n",
       "  </tbody>\n",
       "</table>\n",
       "</div>"
      ],
      "text/plain": [
       "   id  label\n",
       "0   1      0\n",
       "1   2      0\n",
       "2   3      0\n",
       "3   4      0\n",
       "4   5      0"
      ]
     },
     "execution_count": 34,
     "metadata": {},
     "output_type": "execute_result"
    }
   ],
   "source": [
    "# 제출용 sample 파일을 불러옵니다.\n",
    "submission = pd.read_csv('dataset/sample_submission.csv')\n",
    "submission.head()"
   ]
  },
  {
   "cell_type": "code",
   "execution_count": 35,
   "metadata": {},
   "outputs": [
    {
     "data": {
      "text/html": [
       "<div>\n",
       "<style scoped>\n",
       "    .dataframe tbody tr th:only-of-type {\n",
       "        vertical-align: middle;\n",
       "    }\n",
       "\n",
       "    .dataframe tbody tr th {\n",
       "        vertical-align: top;\n",
       "    }\n",
       "\n",
       "    .dataframe thead th {\n",
       "        text-align: right;\n",
       "    }\n",
       "</style>\n",
       "<table border=\"1\" class=\"dataframe\">\n",
       "  <thead>\n",
       "    <tr style=\"text-align: right;\">\n",
       "      <th></th>\n",
       "      <th>id</th>\n",
       "      <th>label</th>\n",
       "    </tr>\n",
       "  </thead>\n",
       "  <tbody>\n",
       "    <tr>\n",
       "      <th>0</th>\n",
       "      <td>1</td>\n",
       "      <td>0</td>\n",
       "    </tr>\n",
       "    <tr>\n",
       "      <th>1</th>\n",
       "      <td>2</td>\n",
       "      <td>1</td>\n",
       "    </tr>\n",
       "    <tr>\n",
       "      <th>2</th>\n",
       "      <td>3</td>\n",
       "      <td>0</td>\n",
       "    </tr>\n",
       "    <tr>\n",
       "      <th>3</th>\n",
       "      <td>4</td>\n",
       "      <td>1</td>\n",
       "    </tr>\n",
       "    <tr>\n",
       "      <th>4</th>\n",
       "      <td>5</td>\n",
       "      <td>1</td>\n",
       "    </tr>\n",
       "    <tr>\n",
       "      <th>...</th>\n",
       "      <td>...</td>\n",
       "      <td>...</td>\n",
       "    </tr>\n",
       "    <tr>\n",
       "      <th>4995</th>\n",
       "      <td>4996</td>\n",
       "      <td>0</td>\n",
       "    </tr>\n",
       "    <tr>\n",
       "      <th>4996</th>\n",
       "      <td>4997</td>\n",
       "      <td>0</td>\n",
       "    </tr>\n",
       "    <tr>\n",
       "      <th>4997</th>\n",
       "      <td>4998</td>\n",
       "      <td>1</td>\n",
       "    </tr>\n",
       "    <tr>\n",
       "      <th>4998</th>\n",
       "      <td>4999</td>\n",
       "      <td>0</td>\n",
       "    </tr>\n",
       "    <tr>\n",
       "      <th>4999</th>\n",
       "      <td>5000</td>\n",
       "      <td>0</td>\n",
       "    </tr>\n",
       "  </tbody>\n",
       "</table>\n",
       "<p>5000 rows × 2 columns</p>\n",
       "</div>"
      ],
      "text/plain": [
       "        id  label\n",
       "0        1      0\n",
       "1        2      1\n",
       "2        3      0\n",
       "3        4      1\n",
       "4        5      1\n",
       "...    ...    ...\n",
       "4995  4996      0\n",
       "4996  4997      0\n",
       "4997  4998      1\n",
       "4998  4999      0\n",
       "4999  5000      0\n",
       "\n",
       "[5000 rows x 2 columns]"
      ]
     },
     "execution_count": 35,
     "metadata": {},
     "output_type": "execute_result"
    }
   ],
   "source": [
    "# 위에서 구한 예측값을 그대로 넣어줍니다.\n",
    "submission['label'] = pred_test\n",
    "\n",
    "# 데이터가 잘 들어갔는지 확인합니다.\n",
    "submission"
   ]
  },
  {
   "cell_type": "code",
   "execution_count": 36,
   "metadata": {},
   "outputs": [],
   "source": [
    "# submission을 csv 파일로 저장합니다.\n",
    "# index=False란 추가적인 id를 부여할 필요가 없다는 뜻입니다. \n",
    "# 정확한 채점을 위해 꼭 index=False를 넣어주세요.\n",
    "submission.to_csv(\"submission_baseline2.csv\", index=False)"
   ]
  },
  {
   "cell_type": "markdown",
   "metadata": {},
   "source": [
    "이렇게 생성된 submission.csv 파일을 데이콘 대회 페이지에 업로드 & 제출하여 결과를 확인해보세요!\n",
    "\n",
    "문제를 해결하기 위한 여러분의 방법을 코드 공유 게시판에 공유해주세요\n",
    "\n",
    "좋아요와 댓글을 합산하여 가장 높은 점수를 얻으신 분께 데이콘 후드가 제공됩니다!"
   ]
  }
 ],
 "metadata": {
  "kernelspec": {
   "display_name": "Python 3",
   "language": "python",
   "name": "python3"
  },
  "language_info": {
   "codemirror_mode": {
    "name": "ipython",
    "version": 3
   },
   "file_extension": ".py",
   "mimetype": "text/x-python",
   "name": "python",
   "nbconvert_exporter": "python",
   "pygments_lexer": "ipython3",
   "version": "3.7.1"
  },
  "toc": {
   "base_numbering": 1,
   "nav_menu": {},
   "number_sections": true,
   "sideBar": true,
   "skip_h1_title": false,
   "title_cell": "Table of Contents",
   "title_sidebar": "Contents",
   "toc_cell": false,
   "toc_position": {},
   "toc_section_display": true,
   "toc_window_display": false
  },
  "varInspector": {
   "cols": {
    "lenName": 16,
    "lenType": 16,
    "lenVar": 40
   },
   "kernels_config": {
    "python": {
     "delete_cmd_postfix": "",
     "delete_cmd_prefix": "del ",
     "library": "var_list.py",
     "varRefreshCmd": "print(var_dic_list())"
    },
    "r": {
     "delete_cmd_postfix": ") ",
     "delete_cmd_prefix": "rm(",
     "library": "var_list.r",
     "varRefreshCmd": "cat(var_dic_list()) "
    }
   },
   "types_to_exclude": [
    "module",
    "function",
    "builtin_function_or_method",
    "instance",
    "_Feature"
   ],
   "window_display": false
  }
 },
 "nbformat": 4,
 "nbformat_minor": 4
}
