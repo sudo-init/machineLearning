{
 "cells": [
  {
   "cell_type": "markdown",
   "metadata": {},
   "source": [
    "# 따릉이 대여량 예측 경진대회\n",
    "\n",
    "이번 대회에서 주어진 데이터는 기상자료 개방포털의 단기예측 데이터와 예측일의 따릉이 대여 수 입니다.\n",
    "\n",
    "쉽게말해 오늘 발표된 \"내일의 날씨\" 예보를 보고, 내일 사람들이 따릉이를 얼마나 대여할 지 예측하는 문제입니다.\n",
    "\n",
    "자, 시작해 볼까요?"
   ]
  },
  {
   "cell_type": "markdown",
   "metadata": {},
   "source": [
    "## 데이터 불러오기\n",
    "\n",
    "우선 학습에 필요한 train데이터를 불러오겠습니다."
   ]
  },
  {
   "cell_type": "code",
   "execution_count": 1,
   "metadata": {},
   "outputs": [],
   "source": [
    "import seaborn as sns\n",
    "import matplotlib.pyplot as plt\n",
    "from sklearn.ensemble import RandomForestRegressor\n",
    "from xgboost import XGBRegressor as xgb\n",
    "import pandas as pd\n",
    "import numpy as np\n",
    "import warnings\n",
    "warnings.filterwarnings('ignore')"
   ]
  },
  {
   "cell_type": "code",
   "execution_count": 2,
   "metadata": {},
   "outputs": [
    {
     "data": {
      "text/html": [
       "<div>\n",
       "<style scoped>\n",
       "    .dataframe tbody tr th:only-of-type {\n",
       "        vertical-align: middle;\n",
       "    }\n",
       "\n",
       "    .dataframe tbody tr th {\n",
       "        vertical-align: top;\n",
       "    }\n",
       "\n",
       "    .dataframe thead th {\n",
       "        text-align: right;\n",
       "    }\n",
       "</style>\n",
       "<table border=\"1\" class=\"dataframe\">\n",
       "  <thead>\n",
       "    <tr style=\"text-align: right;\">\n",
       "      <th></th>\n",
       "      <th>date_time</th>\n",
       "      <th>wind_direction</th>\n",
       "      <th>sky_condition</th>\n",
       "      <th>precipitation_form</th>\n",
       "      <th>wind_speed</th>\n",
       "      <th>humidity</th>\n",
       "      <th>low_temp</th>\n",
       "      <th>high_temp</th>\n",
       "      <th>Precipitation_Probability</th>\n",
       "      <th>number_of_rentals</th>\n",
       "    </tr>\n",
       "  </thead>\n",
       "  <tbody>\n",
       "    <tr>\n",
       "      <th>0</th>\n",
       "      <td>2018-04-01</td>\n",
       "      <td>207.500</td>\n",
       "      <td>4.000</td>\n",
       "      <td>0.000</td>\n",
       "      <td>3.050</td>\n",
       "      <td>75.000</td>\n",
       "      <td>12.600</td>\n",
       "      <td>21.000</td>\n",
       "      <td>30.000</td>\n",
       "      <td>22994</td>\n",
       "    </tr>\n",
       "    <tr>\n",
       "      <th>1</th>\n",
       "      <td>2018-04-02</td>\n",
       "      <td>208.317</td>\n",
       "      <td>2.950</td>\n",
       "      <td>0.000</td>\n",
       "      <td>3.278</td>\n",
       "      <td>69.833</td>\n",
       "      <td>12.812</td>\n",
       "      <td>19.000</td>\n",
       "      <td>19.500</td>\n",
       "      <td>28139</td>\n",
       "    </tr>\n",
       "    <tr>\n",
       "      <th>2</th>\n",
       "      <td>2018-04-03</td>\n",
       "      <td>213.516</td>\n",
       "      <td>2.911</td>\n",
       "      <td>0.000</td>\n",
       "      <td>2.690</td>\n",
       "      <td>74.879</td>\n",
       "      <td>10.312</td>\n",
       "      <td>15.316</td>\n",
       "      <td>19.113</td>\n",
       "      <td>26817</td>\n",
       "    </tr>\n",
       "    <tr>\n",
       "      <th>3</th>\n",
       "      <td>2018-04-04</td>\n",
       "      <td>143.836</td>\n",
       "      <td>3.692</td>\n",
       "      <td>0.425</td>\n",
       "      <td>3.138</td>\n",
       "      <td>71.849</td>\n",
       "      <td>8.312</td>\n",
       "      <td>12.368</td>\n",
       "      <td>43.493</td>\n",
       "      <td>26034</td>\n",
       "    </tr>\n",
       "    <tr>\n",
       "      <th>4</th>\n",
       "      <td>2018-04-05</td>\n",
       "      <td>95.905</td>\n",
       "      <td>4.000</td>\n",
       "      <td>0.723</td>\n",
       "      <td>3.186</td>\n",
       "      <td>73.784</td>\n",
       "      <td>5.875</td>\n",
       "      <td>10.421</td>\n",
       "      <td>63.378</td>\n",
       "      <td>2833</td>\n",
       "    </tr>\n",
       "  </tbody>\n",
       "</table>\n",
       "</div>"
      ],
      "text/plain": [
       "    date_time  wind_direction  sky_condition  precipitation_form  wind_speed  \\\n",
       "0  2018-04-01         207.500          4.000               0.000       3.050   \n",
       "1  2018-04-02         208.317          2.950               0.000       3.278   \n",
       "2  2018-04-03         213.516          2.911               0.000       2.690   \n",
       "3  2018-04-04         143.836          3.692               0.425       3.138   \n",
       "4  2018-04-05          95.905          4.000               0.723       3.186   \n",
       "\n",
       "   humidity  low_temp  high_temp  Precipitation_Probability  number_of_rentals  \n",
       "0    75.000    12.600     21.000                     30.000              22994  \n",
       "1    69.833    12.812     19.000                     19.500              28139  \n",
       "2    74.879    10.312     15.316                     19.113              26817  \n",
       "3    71.849     8.312     12.368                     43.493              26034  \n",
       "4    73.784     5.875     10.421                     63.378               2833  "
      ]
     },
     "execution_count": 2,
     "metadata": {},
     "output_type": "execute_result"
    }
   ],
   "source": [
    "bicycle = pd.read_csv('data/train.csv')\n",
    "bicycle.head()"
   ]
  },
  {
   "cell_type": "code",
   "execution_count": 5,
   "metadata": {},
   "outputs": [
    {
     "name": "stdout",
     "output_type": "stream",
     "text": [
      "<class 'pandas.core.frame.DataFrame'>\n",
      "RangeIndex: 273 entries, 0 to 272\n",
      "Data columns (total 10 columns):\n",
      " #   Column                     Non-Null Count  Dtype  \n",
      "---  ------                     --------------  -----  \n",
      " 0   date_time                  273 non-null    object \n",
      " 1   wind_direction             273 non-null    float64\n",
      " 2   sky_condition              273 non-null    float64\n",
      " 3   precipitation_form         273 non-null    float64\n",
      " 4   wind_speed                 273 non-null    float64\n",
      " 5   humidity                   273 non-null    float64\n",
      " 6   low_temp                   273 non-null    float64\n",
      " 7   high_temp                  273 non-null    float64\n",
      " 8   Precipitation_Probability  273 non-null    float64\n",
      " 9   number_of_rentals          273 non-null    int64  \n",
      "dtypes: float64(8), int64(1), object(1)\n",
      "memory usage: 21.5+ KB\n"
     ]
    }
   ],
   "source": [
    "bicycle.info()"
   ]
  },
  {
   "cell_type": "markdown",
   "metadata": {},
   "source": [
    "0   date_time                  시간  \n",
    "1   wind_direction             풍향  \n",
    "2   sky_condition              하늘 상태  \n",
    "3   precipitation_form         강수량  \n",
    "4   wind_speed                 풍속  \n",
    "5   humidity                   습도  \n",
    "6   low_temp                   최저 온도  \n",
    "7   high_temp                  최고 온도  \n",
    "8   Precipitation_Probability  강수량 가능성  \n",
    "9   number_of_rentals          대여량  "
   ]
  },
  {
   "cell_type": "markdown",
   "metadata": {},
   "source": [
    "지난번 데이콘 베이직 iris데이터는 학습에 알맞도록 잘 정제되어있는 데이터였는데요\n",
    "\n",
    "이번 데이터는 기상자료 개방 포털의 자료와 서울 열린 데이터 광장에서 수집한 정제되지 않은 데이터입니다.\n",
    "\n",
    "즉, 모든 데이터 셀이 채워져 있다고 가정할 수 없으며 때때로 '빈칸'이 존재할 수 있습니다.\n",
    "\n",
    "빈칸이 있나 확인해보겠습니다!"
   ]
  },
  {
   "cell_type": "markdown",
   "metadata": {},
   "source": [
    "## 일자 분리\n",
    "\n",
    "모델에 수치를 넣고 학습시키기 위해선 글자나 문자를 숫자로 바꿔주는 작업이 필요합니다.\n",
    "\n",
    "주어진 데이터를 살펴보면 date_time부분이 문자열(string)로 되어있는 것을 확인하실 수 있습니다.\n",
    "\n",
    "이를 각각 년도, 월, 일로 나누어 숫자형으로 변환해 보겠습니다."
   ]
  },
  {
   "cell_type": "code",
   "execution_count": 3,
   "metadata": {
    "scrolled": true
   },
   "outputs": [
    {
     "data": {
      "text/html": [
       "<div>\n",
       "<style scoped>\n",
       "    .dataframe tbody tr th:only-of-type {\n",
       "        vertical-align: middle;\n",
       "    }\n",
       "\n",
       "    .dataframe tbody tr th {\n",
       "        vertical-align: top;\n",
       "    }\n",
       "\n",
       "    .dataframe thead th {\n",
       "        text-align: right;\n",
       "    }\n",
       "</style>\n",
       "<table border=\"1\" class=\"dataframe\">\n",
       "  <thead>\n",
       "    <tr style=\"text-align: right;\">\n",
       "      <th></th>\n",
       "      <th>date_time</th>\n",
       "      <th>wind_direction</th>\n",
       "      <th>sky_condition</th>\n",
       "      <th>precipitation_form</th>\n",
       "      <th>wind_speed</th>\n",
       "      <th>humidity</th>\n",
       "      <th>low_temp</th>\n",
       "      <th>high_temp</th>\n",
       "      <th>Precipitation_Probability</th>\n",
       "      <th>number_of_rentals</th>\n",
       "      <th>year</th>\n",
       "      <th>month</th>\n",
       "      <th>day</th>\n",
       "      <th>weekday</th>\n",
       "    </tr>\n",
       "  </thead>\n",
       "  <tbody>\n",
       "    <tr>\n",
       "      <th>0</th>\n",
       "      <td>2018-04-01</td>\n",
       "      <td>207.500</td>\n",
       "      <td>4.000</td>\n",
       "      <td>0.000</td>\n",
       "      <td>3.050</td>\n",
       "      <td>75.000</td>\n",
       "      <td>12.600</td>\n",
       "      <td>21.000</td>\n",
       "      <td>30.000</td>\n",
       "      <td>22994</td>\n",
       "      <td>2018</td>\n",
       "      <td>4</td>\n",
       "      <td>1</td>\n",
       "      <td>6</td>\n",
       "    </tr>\n",
       "    <tr>\n",
       "      <th>1</th>\n",
       "      <td>2018-04-02</td>\n",
       "      <td>208.317</td>\n",
       "      <td>2.950</td>\n",
       "      <td>0.000</td>\n",
       "      <td>3.278</td>\n",
       "      <td>69.833</td>\n",
       "      <td>12.812</td>\n",
       "      <td>19.000</td>\n",
       "      <td>19.500</td>\n",
       "      <td>28139</td>\n",
       "      <td>2018</td>\n",
       "      <td>4</td>\n",
       "      <td>2</td>\n",
       "      <td>0</td>\n",
       "    </tr>\n",
       "    <tr>\n",
       "      <th>2</th>\n",
       "      <td>2018-04-03</td>\n",
       "      <td>213.516</td>\n",
       "      <td>2.911</td>\n",
       "      <td>0.000</td>\n",
       "      <td>2.690</td>\n",
       "      <td>74.879</td>\n",
       "      <td>10.312</td>\n",
       "      <td>15.316</td>\n",
       "      <td>19.113</td>\n",
       "      <td>26817</td>\n",
       "      <td>2018</td>\n",
       "      <td>4</td>\n",
       "      <td>3</td>\n",
       "      <td>1</td>\n",
       "    </tr>\n",
       "    <tr>\n",
       "      <th>3</th>\n",
       "      <td>2018-04-04</td>\n",
       "      <td>143.836</td>\n",
       "      <td>3.692</td>\n",
       "      <td>0.425</td>\n",
       "      <td>3.138</td>\n",
       "      <td>71.849</td>\n",
       "      <td>8.312</td>\n",
       "      <td>12.368</td>\n",
       "      <td>43.493</td>\n",
       "      <td>26034</td>\n",
       "      <td>2018</td>\n",
       "      <td>4</td>\n",
       "      <td>4</td>\n",
       "      <td>2</td>\n",
       "    </tr>\n",
       "    <tr>\n",
       "      <th>4</th>\n",
       "      <td>2018-04-05</td>\n",
       "      <td>95.905</td>\n",
       "      <td>4.000</td>\n",
       "      <td>0.723</td>\n",
       "      <td>3.186</td>\n",
       "      <td>73.784</td>\n",
       "      <td>5.875</td>\n",
       "      <td>10.421</td>\n",
       "      <td>63.378</td>\n",
       "      <td>2833</td>\n",
       "      <td>2018</td>\n",
       "      <td>4</td>\n",
       "      <td>5</td>\n",
       "      <td>3</td>\n",
       "    </tr>\n",
       "  </tbody>\n",
       "</table>\n",
       "</div>"
      ],
      "text/plain": [
       "   date_time  wind_direction  sky_condition  precipitation_form  wind_speed  \\\n",
       "0 2018-04-01         207.500          4.000               0.000       3.050   \n",
       "1 2018-04-02         208.317          2.950               0.000       3.278   \n",
       "2 2018-04-03         213.516          2.911               0.000       2.690   \n",
       "3 2018-04-04         143.836          3.692               0.425       3.138   \n",
       "4 2018-04-05          95.905          4.000               0.723       3.186   \n",
       "\n",
       "   humidity  low_temp  high_temp  Precipitation_Probability  \\\n",
       "0    75.000    12.600     21.000                     30.000   \n",
       "1    69.833    12.812     19.000                     19.500   \n",
       "2    74.879    10.312     15.316                     19.113   \n",
       "3    71.849     8.312     12.368                     43.493   \n",
       "4    73.784     5.875     10.421                     63.378   \n",
       "\n",
       "   number_of_rentals  year  month  day  weekday  \n",
       "0              22994  2018      4    1        6  \n",
       "1              28139  2018      4    2        0  \n",
       "2              26817  2018      4    3        1  \n",
       "3              26034  2018      4    4        2  \n",
       "4               2833  2018      4    5        3  "
      ]
     },
     "execution_count": 3,
     "metadata": {},
     "output_type": "execute_result"
    }
   ],
   "source": [
    "# 연월일 분리\n",
    "bicycle['date_time'] = pd.to_datetime(bicycle['date_time'])\n",
    "\n",
    "bicycle['year'] = bicycle['date_time'].dt.year\n",
    "bicycle['month'] = bicycle['date_time'].dt.month\n",
    "bicycle['day'] = bicycle['date_time'].dt.day\n",
    "bicycle['weekday'] = bicycle['date_time'].dt.weekday\n",
    "\n",
    "bicycle.head()"
   ]
  },
  {
   "cell_type": "markdown",
   "metadata": {},
   "source": [
    "년도, 월, 일이 전부 잘 분리되어 들어간게 보이시나요?\n",
    "\n",
    "이제 학습에 필요한 X와 y를 분리해 보겠습니다\n",
    "\n",
    "## 변수 및 모델 정의\n",
    "\n",
    "우리의 목적은 주어진 날씨 데이터(low_temp, high_temp, precipitaion, wind_speed, humidity, insolation, cloud, year, month, day)를 이용하여 사람들이 따릉이를 얼마나 빌리는지(number_of_rentals) 예측하는 것입니다.\n",
    "\n",
    "그럼 날씨 데이터가 X, 따릉이 대여 수가 y가 되겠죠?"
   ]
  },
  {
   "cell_type": "markdown",
   "metadata": {},
   "source": [
    "## 새로운 feature 생성"
   ]
  },
  {
   "cell_type": "code",
   "execution_count": 4,
   "metadata": {},
   "outputs": [
    {
     "data": {
      "text/html": [
       "<div>\n",
       "<style scoped>\n",
       "    .dataframe tbody tr th:only-of-type {\n",
       "        vertical-align: middle;\n",
       "    }\n",
       "\n",
       "    .dataframe tbody tr th {\n",
       "        vertical-align: top;\n",
       "    }\n",
       "\n",
       "    .dataframe thead th {\n",
       "        text-align: right;\n",
       "    }\n",
       "</style>\n",
       "<table border=\"1\" class=\"dataframe\">\n",
       "  <thead>\n",
       "    <tr style=\"text-align: right;\">\n",
       "      <th></th>\n",
       "      <th>date_time</th>\n",
       "      <th>wind_direction</th>\n",
       "      <th>sky_condition</th>\n",
       "      <th>precipitation_form</th>\n",
       "      <th>wind_speed</th>\n",
       "      <th>humidity</th>\n",
       "      <th>low_temp</th>\n",
       "      <th>high_temp</th>\n",
       "      <th>Precipitation_Probability</th>\n",
       "      <th>number_of_rentals</th>\n",
       "      <th>year</th>\n",
       "      <th>month</th>\n",
       "      <th>day</th>\n",
       "      <th>weekday</th>\n",
       "      <th>temp</th>\n",
       "    </tr>\n",
       "  </thead>\n",
       "  <tbody>\n",
       "    <tr>\n",
       "      <th>0</th>\n",
       "      <td>2018-04-01</td>\n",
       "      <td>207.500</td>\n",
       "      <td>4.000</td>\n",
       "      <td>0.000</td>\n",
       "      <td>3.050</td>\n",
       "      <td>75.000</td>\n",
       "      <td>12.600</td>\n",
       "      <td>21.000</td>\n",
       "      <td>30.000</td>\n",
       "      <td>22994</td>\n",
       "      <td>2018</td>\n",
       "      <td>4</td>\n",
       "      <td>1</td>\n",
       "      <td>6</td>\n",
       "      <td>16.800</td>\n",
       "    </tr>\n",
       "    <tr>\n",
       "      <th>1</th>\n",
       "      <td>2018-04-02</td>\n",
       "      <td>208.317</td>\n",
       "      <td>2.950</td>\n",
       "      <td>0.000</td>\n",
       "      <td>3.278</td>\n",
       "      <td>69.833</td>\n",
       "      <td>12.812</td>\n",
       "      <td>19.000</td>\n",
       "      <td>19.500</td>\n",
       "      <td>28139</td>\n",
       "      <td>2018</td>\n",
       "      <td>4</td>\n",
       "      <td>2</td>\n",
       "      <td>0</td>\n",
       "      <td>15.906</td>\n",
       "    </tr>\n",
       "    <tr>\n",
       "      <th>2</th>\n",
       "      <td>2018-04-03</td>\n",
       "      <td>213.516</td>\n",
       "      <td>2.911</td>\n",
       "      <td>0.000</td>\n",
       "      <td>2.690</td>\n",
       "      <td>74.879</td>\n",
       "      <td>10.312</td>\n",
       "      <td>15.316</td>\n",
       "      <td>19.113</td>\n",
       "      <td>26817</td>\n",
       "      <td>2018</td>\n",
       "      <td>4</td>\n",
       "      <td>3</td>\n",
       "      <td>1</td>\n",
       "      <td>12.814</td>\n",
       "    </tr>\n",
       "    <tr>\n",
       "      <th>3</th>\n",
       "      <td>2018-04-04</td>\n",
       "      <td>143.836</td>\n",
       "      <td>3.692</td>\n",
       "      <td>0.425</td>\n",
       "      <td>3.138</td>\n",
       "      <td>71.849</td>\n",
       "      <td>8.312</td>\n",
       "      <td>12.368</td>\n",
       "      <td>43.493</td>\n",
       "      <td>26034</td>\n",
       "      <td>2018</td>\n",
       "      <td>4</td>\n",
       "      <td>4</td>\n",
       "      <td>2</td>\n",
       "      <td>10.340</td>\n",
       "    </tr>\n",
       "    <tr>\n",
       "      <th>4</th>\n",
       "      <td>2018-04-05</td>\n",
       "      <td>95.905</td>\n",
       "      <td>4.000</td>\n",
       "      <td>0.723</td>\n",
       "      <td>3.186</td>\n",
       "      <td>73.784</td>\n",
       "      <td>5.875</td>\n",
       "      <td>10.421</td>\n",
       "      <td>63.378</td>\n",
       "      <td>2833</td>\n",
       "      <td>2018</td>\n",
       "      <td>4</td>\n",
       "      <td>5</td>\n",
       "      <td>3</td>\n",
       "      <td>8.148</td>\n",
       "    </tr>\n",
       "  </tbody>\n",
       "</table>\n",
       "</div>"
      ],
      "text/plain": [
       "   date_time  wind_direction  sky_condition  precipitation_form  wind_speed  \\\n",
       "0 2018-04-01         207.500          4.000               0.000       3.050   \n",
       "1 2018-04-02         208.317          2.950               0.000       3.278   \n",
       "2 2018-04-03         213.516          2.911               0.000       2.690   \n",
       "3 2018-04-04         143.836          3.692               0.425       3.138   \n",
       "4 2018-04-05          95.905          4.000               0.723       3.186   \n",
       "\n",
       "   humidity  low_temp  high_temp  Precipitation_Probability  \\\n",
       "0    75.000    12.600     21.000                     30.000   \n",
       "1    69.833    12.812     19.000                     19.500   \n",
       "2    74.879    10.312     15.316                     19.113   \n",
       "3    71.849     8.312     12.368                     43.493   \n",
       "4    73.784     5.875     10.421                     63.378   \n",
       "\n",
       "   number_of_rentals  year  month  day  weekday    temp  \n",
       "0              22994  2018      4    1        6  16.800  \n",
       "1              28139  2018      4    2        0  15.906  \n",
       "2              26817  2018      4    3        1  12.814  \n",
       "3              26034  2018      4    4        2  10.340  \n",
       "4               2833  2018      4    5        3   8.148  "
      ]
     },
     "execution_count": 4,
     "metadata": {},
     "output_type": "execute_result"
    }
   ],
   "source": [
    "bicycle['temp'] = (bicycle['high_temp'] + bicycle['low_temp']) / 2\n",
    "bicycle.head()"
   ]
  },
  {
   "cell_type": "code",
   "execution_count": 10,
   "metadata": {
    "collapsed": true
   },
   "outputs": [
    {
     "data": {
      "text/html": [
       "<div>\n",
       "<style scoped>\n",
       "    .dataframe tbody tr th:only-of-type {\n",
       "        vertical-align: middle;\n",
       "    }\n",
       "\n",
       "    .dataframe tbody tr th {\n",
       "        vertical-align: top;\n",
       "    }\n",
       "\n",
       "    .dataframe thead th {\n",
       "        text-align: right;\n",
       "    }\n",
       "</style>\n",
       "<table border=\"1\" class=\"dataframe\">\n",
       "  <thead>\n",
       "    <tr style=\"text-align: right;\">\n",
       "      <th></th>\n",
       "      <th>humidity</th>\n",
       "      <th>number_of_rentals</th>\n",
       "    </tr>\n",
       "  </thead>\n",
       "  <tbody>\n",
       "    <tr>\n",
       "      <th>0</th>\n",
       "      <td>75.000</td>\n",
       "      <td>22994</td>\n",
       "    </tr>\n",
       "    <tr>\n",
       "      <th>1</th>\n",
       "      <td>69.833</td>\n",
       "      <td>28139</td>\n",
       "    </tr>\n",
       "    <tr>\n",
       "      <th>2</th>\n",
       "      <td>74.879</td>\n",
       "      <td>26817</td>\n",
       "    </tr>\n",
       "    <tr>\n",
       "      <th>3</th>\n",
       "      <td>71.849</td>\n",
       "      <td>26034</td>\n",
       "    </tr>\n",
       "    <tr>\n",
       "      <th>4</th>\n",
       "      <td>73.784</td>\n",
       "      <td>2833</td>\n",
       "    </tr>\n",
       "    <tr>\n",
       "      <th>...</th>\n",
       "      <td>...</td>\n",
       "      <td>...</td>\n",
       "    </tr>\n",
       "    <tr>\n",
       "      <th>268</th>\n",
       "      <td>78.378</td>\n",
       "      <td>96150</td>\n",
       "    </tr>\n",
       "    <tr>\n",
       "      <th>269</th>\n",
       "      <td>78.412</td>\n",
       "      <td>107001</td>\n",
       "    </tr>\n",
       "    <tr>\n",
       "      <th>270</th>\n",
       "      <td>72.736</td>\n",
       "      <td>98568</td>\n",
       "    </tr>\n",
       "    <tr>\n",
       "      <th>271</th>\n",
       "      <td>70.473</td>\n",
       "      <td>70053</td>\n",
       "    </tr>\n",
       "    <tr>\n",
       "      <th>272</th>\n",
       "      <td>77.061</td>\n",
       "      <td>38086</td>\n",
       "    </tr>\n",
       "  </tbody>\n",
       "</table>\n",
       "<p>273 rows × 2 columns</p>\n",
       "</div>"
      ],
      "text/plain": [
       "     humidity  number_of_rentals\n",
       "0      75.000              22994\n",
       "1      69.833              28139\n",
       "2      74.879              26817\n",
       "3      71.849              26034\n",
       "4      73.784               2833\n",
       "..        ...                ...\n",
       "268    78.378              96150\n",
       "269    78.412             107001\n",
       "270    72.736              98568\n",
       "271    70.473              70053\n",
       "272    77.061              38086\n",
       "\n",
       "[273 rows x 2 columns]"
      ]
     },
     "execution_count": 10,
     "metadata": {},
     "output_type": "execute_result"
    }
   ],
   "source": [
    "bicycle.loc[:, ['humidity', 'number_of_rentals']]"
   ]
  },
  {
   "cell_type": "code",
   "execution_count": 11,
   "metadata": {
    "collapsed": true
   },
   "outputs": [
    {
     "data": {
      "text/plain": [
       "1       28139\n",
       "2       26817\n",
       "3       26034\n",
       "4        2833\n",
       "5       13297\n",
       "        ...  \n",
       "263     95453\n",
       "264     98394\n",
       "265    103214\n",
       "270     98568\n",
       "271     70053\n",
       "Name: number_of_rentals, Length: 250, dtype: int64"
      ]
     },
     "execution_count": 11,
     "metadata": {},
     "output_type": "execute_result"
    }
   ],
   "source": [
    "bicycle[bicycle['humidity'] < 75]['number_of_rentals']"
   ]
  },
  {
   "cell_type": "code",
   "execution_count": 12,
   "metadata": {},
   "outputs": [
    {
     "data": {
      "text/plain": [
       "64944.5"
      ]
     },
     "execution_count": 12,
     "metadata": {},
     "output_type": "execute_result"
    }
   ],
   "source": [
    "bicycle[bicycle['humidity'] < 75]['number_of_rentals'].median()"
   ]
  },
  {
   "cell_type": "code",
   "execution_count": 173,
   "metadata": {
    "collapsed": true
   },
   "outputs": [
    {
     "data": {
      "text/plain": [
       "0       22994\n",
       "22       1037\n",
       "31       8374\n",
       "35      19809\n",
       "41       3551\n",
       "45       7072\n",
       "46       3802\n",
       "47      19629\n",
       "86       6391\n",
       "87      41128\n",
       "88      27757\n",
       "90      26911\n",
       "220      7600\n",
       "227     64549\n",
       "229     36761\n",
       "230     55556\n",
       "235     80357\n",
       "237     68498\n",
       "266     19756\n",
       "267     46415\n",
       "268     96150\n",
       "269    107001\n",
       "272     38086\n",
       "Name: number_of_rentals, dtype: int64"
      ]
     },
     "execution_count": 173,
     "metadata": {},
     "output_type": "execute_result"
    }
   ],
   "source": [
    "bicycle[bicycle['humidity'] >= 75]['number_of_rentals']"
   ]
  },
  {
   "cell_type": "code",
   "execution_count": 174,
   "metadata": {},
   "outputs": [
    {
     "data": {
      "text/plain": [
       "26911.0"
      ]
     },
     "execution_count": 174,
     "metadata": {},
     "output_type": "execute_result"
    }
   ],
   "source": [
    "bicycle[bicycle['humidity'] >= 75]['number_of_rentals'].median()"
   ]
  },
  {
   "cell_type": "code",
   "execution_count": 18,
   "metadata": {
    "collapsed": true
   },
   "outputs": [
    {
     "data": {
      "text/plain": [
       "weekday\n",
       "0    2330334\n",
       "1    2288535\n",
       "2    2347456\n",
       "3    2324045\n",
       "4    2372485\n",
       "5    2374604\n",
       "6    2226510\n",
       "Name: number_of_rentals, dtype: int64"
      ]
     },
     "execution_count": 18,
     "metadata": {},
     "output_type": "execute_result"
    }
   ],
   "source": [
    "bicycle.groupby(['weekday'])['number_of_rentals'].sum()"
   ]
  },
  {
   "cell_type": "code",
   "execution_count": 10,
   "metadata": {
    "collapsed": true
   },
   "outputs": [
    {
     "data": {
      "text/plain": [
       "0      0.25000\n",
       "1      0.30167\n",
       "2      0.25121\n",
       "3      0.28151\n",
       "4      0.26216\n",
       "        ...   \n",
       "268    0.21622\n",
       "269    0.21588\n",
       "270    0.27264\n",
       "271    0.29527\n",
       "272    0.22939\n",
       "Name: feeling, Length: 273, dtype: float64"
      ]
     },
     "execution_count": 10,
     "metadata": {},
     "output_type": "execute_result"
    }
   ],
   "source": [
    "# 습도를 감정으로 \n",
    "# 감정 = 100 / 습도\n",
    "# 습도와 감정은 반비례, 습도가 올라가면 불쾌지수 업, 야외 외출 자제, 따릉이 대여수 감소\n",
    "bicycle['feeling'] = (100 - bicycle['humidity']) / 100\n",
    "# bicycle['feeling'] = (5/9)*bicycle['temp']-0.55*((100-bicycle['humidity'])/100)*((5/9)*bicycle['temp']-26)+32\n",
    "bicycle['feeling']"
   ]
  },
  {
   "cell_type": "code",
   "execution_count": 42,
   "metadata": {
    "collapsed": true
   },
   "outputs": [
    {
     "data": {
      "text/html": [
       "<div>\n",
       "<style scoped>\n",
       "    .dataframe tbody tr th:only-of-type {\n",
       "        vertical-align: middle;\n",
       "    }\n",
       "\n",
       "    .dataframe tbody tr th {\n",
       "        vertical-align: top;\n",
       "    }\n",
       "\n",
       "    .dataframe thead th {\n",
       "        text-align: right;\n",
       "    }\n",
       "</style>\n",
       "<table border=\"1\" class=\"dataframe\">\n",
       "  <thead>\n",
       "    <tr style=\"text-align: right;\">\n",
       "      <th></th>\n",
       "      <th>number_of_rentals</th>\n",
       "      <th>feeling</th>\n",
       "      <th>humidity</th>\n",
       "      <th>temp</th>\n",
       "    </tr>\n",
       "  </thead>\n",
       "  <tbody>\n",
       "    <tr>\n",
       "      <th>0</th>\n",
       "      <td>22994</td>\n",
       "      <td>67.150148</td>\n",
       "      <td>75.000</td>\n",
       "      <td>16.8000</td>\n",
       "    </tr>\n",
       "    <tr>\n",
       "      <th>1</th>\n",
       "      <td>28139</td>\n",
       "      <td>62.523950</td>\n",
       "      <td>69.833</td>\n",
       "      <td>15.9060</td>\n",
       "    </tr>\n",
       "    <tr>\n",
       "      <th>2</th>\n",
       "      <td>26817</td>\n",
       "      <td>67.041812</td>\n",
       "      <td>74.879</td>\n",
       "      <td>12.8140</td>\n",
       "    </tr>\n",
       "    <tr>\n",
       "      <th>3</th>\n",
       "      <td>26034</td>\n",
       "      <td>64.328946</td>\n",
       "      <td>71.849</td>\n",
       "      <td>10.3400</td>\n",
       "    </tr>\n",
       "    <tr>\n",
       "      <th>4</th>\n",
       "      <td>2833</td>\n",
       "      <td>66.061420</td>\n",
       "      <td>73.784</td>\n",
       "      <td>8.1480</td>\n",
       "    </tr>\n",
       "    <tr>\n",
       "      <th>...</th>\n",
       "      <td>...</td>\n",
       "      <td>...</td>\n",
       "      <td>...</td>\n",
       "      <td>...</td>\n",
       "    </tr>\n",
       "    <tr>\n",
       "      <th>268</th>\n",
       "      <td>96150</td>\n",
       "      <td>70.174590</td>\n",
       "      <td>78.378</td>\n",
       "      <td>24.0130</td>\n",
       "    </tr>\n",
       "    <tr>\n",
       "      <th>269</th>\n",
       "      <td>107001</td>\n",
       "      <td>70.205032</td>\n",
       "      <td>78.412</td>\n",
       "      <td>24.8270</td>\n",
       "    </tr>\n",
       "    <tr>\n",
       "      <th>270</th>\n",
       "      <td>98568</td>\n",
       "      <td>65.123109</td>\n",
       "      <td>72.736</td>\n",
       "      <td>25.0265</td>\n",
       "    </tr>\n",
       "    <tr>\n",
       "      <th>271</th>\n",
       "      <td>70053</td>\n",
       "      <td>63.096965</td>\n",
       "      <td>70.473</td>\n",
       "      <td>22.8125</td>\n",
       "    </tr>\n",
       "    <tr>\n",
       "      <th>272</th>\n",
       "      <td>38086</td>\n",
       "      <td>68.995434</td>\n",
       "      <td>77.061</td>\n",
       "      <td>22.5890</td>\n",
       "    </tr>\n",
       "  </tbody>\n",
       "</table>\n",
       "<p>273 rows × 4 columns</p>\n",
       "</div>"
      ],
      "text/plain": [
       "     number_of_rentals    feeling  humidity     temp\n",
       "0                22994  67.150148    75.000  16.8000\n",
       "1                28139  62.523950    69.833  15.9060\n",
       "2                26817  67.041812    74.879  12.8140\n",
       "3                26034  64.328946    71.849  10.3400\n",
       "4                 2833  66.061420    73.784   8.1480\n",
       "..                 ...        ...       ...      ...\n",
       "268              96150  70.174590    78.378  24.0130\n",
       "269             107001  70.205032    78.412  24.8270\n",
       "270              98568  65.123109    72.736  25.0265\n",
       "271              70053  63.096965    70.473  22.8125\n",
       "272              38086  68.995434    77.061  22.5890\n",
       "\n",
       "[273 rows x 4 columns]"
      ]
     },
     "execution_count": 42,
     "metadata": {},
     "output_type": "execute_result"
    }
   ],
   "source": [
    "bicycle.loc[:, ['number_of_rentals', 'feeling', 'humidity', 'temp']]"
   ]
  },
  {
   "cell_type": "code",
   "execution_count": 34,
   "metadata": {
    "collapsed": true
   },
   "outputs": [
    {
     "data": {
      "text/plain": [
       "1     9\n",
       "17    9\n",
       "30    9\n",
       "29    9\n",
       "28    9\n",
       "27    9\n",
       "26    9\n",
       "25    9\n",
       "24    9\n",
       "23    9\n",
       "22    9\n",
       "21    9\n",
       "20    9\n",
       "19    9\n",
       "18    9\n",
       "16    9\n",
       "2     9\n",
       "15    9\n",
       "14    9\n",
       "13    9\n",
       "12    9\n",
       "11    9\n",
       "10    9\n",
       "9     9\n",
       "8     9\n",
       "7     9\n",
       "6     9\n",
       "5     9\n",
       "4     9\n",
       "3     9\n",
       "31    3\n",
       "Name: day, dtype: int64"
      ]
     },
     "execution_count": 34,
     "metadata": {},
     "output_type": "execute_result"
    }
   ],
   "source": [
    "bicycle['month'].value_counts()\n",
    "bicycle['year'].value_counts()\n",
    "bicycle['day'].value_counts()"
   ]
  },
  {
   "cell_type": "code",
   "execution_count": 161,
   "metadata": {},
   "outputs": [
    {
     "data": {
      "text/plain": [
       "56.745490842490845"
      ]
     },
     "execution_count": 161,
     "metadata": {},
     "output_type": "execute_result"
    }
   ],
   "source": [
    "bicycle['humidity'].mean()"
   ]
  },
  {
   "cell_type": "code",
   "execution_count": 162,
   "metadata": {},
   "outputs": [
    {
     "data": {
      "text/plain": [
       "55.845"
      ]
     },
     "execution_count": 162,
     "metadata": {},
     "output_type": "execute_result"
    }
   ],
   "source": [
    "bicycle['humidity'].median()"
   ]
  },
  {
   "cell_type": "code",
   "execution_count": 163,
   "metadata": {},
   "outputs": [
    {
     "data": {
      "text/plain": [
       "24.831"
      ]
     },
     "execution_count": 163,
     "metadata": {},
     "output_type": "execute_result"
    }
   ],
   "source": [
    "bicycle['humidity'].min()"
   ]
  },
  {
   "cell_type": "code",
   "execution_count": 5,
   "metadata": {},
   "outputs": [],
   "source": [
    "drop_features = ['date_time', 'wind_direction','precipitation_form', 'sky_condition']"
   ]
  },
  {
   "cell_type": "code",
   "execution_count": 19,
   "metadata": {},
   "outputs": [],
   "source": [
    "# wind_speed, precipitation_probability 는 모델 성능에 영향을 주는 변수\n",
    "train_x = bicycle.drop(drop_features + ['number_of_rentals'], axis=1)\n",
    "train_y = bicycle[['number_of_rentals']]"
   ]
  },
  {
   "cell_type": "code",
   "execution_count": 10,
   "metadata": {},
   "outputs": [],
   "source": [
    "X = bicycle.drop(drop_features + ['number_of_rentals'], axis=1)\n",
    "y = bicycle.number_of_rentals"
   ]
  },
  {
   "cell_type": "code",
   "execution_count": 11,
   "metadata": {},
   "outputs": [
    {
     "data": {
      "text/plain": [
       "pandas.core.series.Series"
      ]
     },
     "execution_count": 11,
     "metadata": {},
     "output_type": "execute_result"
    }
   ],
   "source": [
    "type(y)"
   ]
  },
  {
   "cell_type": "markdown",
   "metadata": {},
   "source": [
    "## 모델 학습"
   ]
  },
  {
   "cell_type": "code",
   "execution_count": 150,
   "metadata": {},
   "outputs": [
    {
     "data": {
      "text/plain": [
       "LinearRegression()"
      ]
     },
     "execution_count": 150,
     "metadata": {},
     "output_type": "execute_result"
    }
   ],
   "source": [
    "from sklearn.linear_model import LinearRegression\n",
    "\n",
    "model = LinearRegression() # 모델 정의\n",
    "model.fit(X, y) # 학습"
   ]
  },
  {
   "cell_type": "markdown",
   "metadata": {},
   "source": [
    "굉장히 간단하게 학습이 끝났습니다.\n",
    "\n",
    "모델이 실제로 데이터를 얼마나 잘 맞추는지 확인해볼까요?"
   ]
  },
  {
   "cell_type": "code",
   "execution_count": 70,
   "metadata": {},
   "outputs": [
    {
     "data": {
      "text/plain": [
       "RandomForestRegressor(max_depth=3, random_state=0)"
      ]
     },
     "execution_count": 70,
     "metadata": {},
     "output_type": "execute_result"
    }
   ],
   "source": [
    "# 랜덤포레스트\n",
    "\n",
    "model = RandomForestRegressor(max_depth=3, random_state=0)\n",
    "model.fit(X, y)\n",
    "\n"
   ]
  },
  {
   "cell_type": "code",
   "execution_count": 12,
   "metadata": {},
   "outputs": [
    {
     "data": {
      "text/plain": [
       "XGBRegressor(base_score=0.5, booster='gbtree', colsample_bylevel=1,\n",
       "             colsample_bynode=1, colsample_bytree=1, enable_categorical=False,\n",
       "             gamma=0, gpu_id=-1, importance_type=None,\n",
       "             interaction_constraints='', learning_rate=0.300000012,\n",
       "             max_delta_step=0, max_depth=6, min_child_weight=1, missing=nan,\n",
       "             monotone_constraints='()', n_estimators=100, n_jobs=6,\n",
       "             num_parallel_tree=1, predictor='auto', random_state=0, reg_alpha=0,\n",
       "             reg_lambda=1, scale_pos_weight=1, subsample=1, tree_method='exact',\n",
       "             validate_parameters=1, verbosity=None)"
      ]
     },
     "execution_count": 12,
     "metadata": {},
     "output_type": "execute_result"
    }
   ],
   "source": [
    "# XGBRegressor\n",
    "\n",
    "model = xgb()\n",
    "model.fit(X, y)"
   ]
  },
  {
   "cell_type": "code",
   "execution_count": 13,
   "metadata": {},
   "outputs": [],
   "source": [
    "y_hat = model.predict(X) # y 예측"
   ]
  },
  {
   "cell_type": "code",
   "execution_count": 16,
   "metadata": {},
   "outputs": [
    {
     "data": {
      "text/plain": [
       "0       22994\n",
       "1       28139\n",
       "2       26817\n",
       "3       26034\n",
       "4        2833\n",
       "        ...  \n",
       "268     96150\n",
       "269    107001\n",
       "270     98568\n",
       "271     70053\n",
       "272     38086\n",
       "Name: number_of_rentals, Length: 273, dtype: int64"
      ]
     },
     "execution_count": 16,
     "metadata": {},
     "output_type": "execute_result"
    }
   ],
   "source": [
    "y"
   ]
  },
  {
   "cell_type": "code",
   "execution_count": 17,
   "metadata": {},
   "outputs": [
    {
     "data": {
      "text/plain": [
       "array([ 22997.676 ,  28139.906 ,  26817.68  ,  26029.73  ,   2833.588 ,\n",
       "        13295.339 ,  13088.282 ,   7758.668 ,  23927.965 ,  20426.82  ,\n",
       "        25551.16  ,  28875.814 ,  29495.818 ,   8223.887 ,  12712.416 ,\n",
       "        29586.352 ,  28233.621 ,  23502.932 ,  20401.398 ,  28356.627 ,\n",
       "        33145.137 ,   8094.2236,   1038.8545,  24557.668 ,  33729.973 ,\n",
       "        32544.764 ,  32984.69  ,  33738.188 ,  35167.07  ,  32628.95  ,\n",
       "        34589.15  ,   8377.142 ,  25961.523 ,  34062.633 ,  37380.062 ,\n",
       "        19812.715 ,  40025.65  ,  33742.367 ,  37840.91  ,  36553.027 ,\n",
       "        33921.88  ,   3548.4277,  35663.78  ,  35921.76  ,  36480.41  ,\n",
       "         7071.688 ,   3802.7725,  19628.277 ,  43460.473 ,  39032.863 ,\n",
       "        42019.92  ,  17453.812 ,  35978.19  ,  36855.113 ,  37590.33  ,\n",
       "        37766.695 ,  39526.28  ,  40774.2   ,  29928.365 ,  39212.652 ,\n",
       "        41615.65  ,  41969.75  ,  41675.47  ,  40566.418 ,  44014.98  ,\n",
       "        44115.984 ,  40439.984 ,  42042.812 ,  46508.656 ,  32835.5   ,\n",
       "        39273.62  ,  30616.562 ,  46194.88  ,  49103.695 ,  30519.797 ,\n",
       "        45100.438 ,  46450.79  ,  43494.547 ,  36338.973 ,  47301.324 ,\n",
       "        46610.746 ,  47762.81  ,  47474.562 ,  45661.34  ,  39547.477 ,\n",
       "        46566.29  ,   6390.0137,  41126.723 ,  27759.727 ,  42766.66  ,\n",
       "        26909.555 ,  37661.98  ,  42027.293 ,  43257.125 ,  45683.258 ,\n",
       "        45645.645 ,  25902.621 ,  55944.74  ,  52640.62  ,  24733.377 ,\n",
       "        26421.816 ,  51021.89  ,  55115.04  ,  57021.46  ,  28464.445 ,\n",
       "        55424.95  ,  60567.55  ,  62525.043 ,  50443.812 ,  60914.59  ,\n",
       "        51080.613 ,  53331.785 ,  64007.848 ,  58808.652 ,  55811.656 ,\n",
       "        22467.043 ,  26483.541 ,  65123.523 ,  56018.69  ,  63254.945 ,\n",
       "        70202.76  ,  76437.96  ,  72432.67  ,  73643.805 ,  66388.98  ,\n",
       "        66911.28  ,  74805.836 ,  70502.164 ,  70449.74  ,  71707.11  ,\n",
       "        74958.3   ,  76106.25  ,  73318.7   ,  68398.586 ,  78381.46  ,\n",
       "        76965.984 ,  75405.23  ,  79155.77  ,  79581.414 ,  12757.596 ,\n",
       "        72050.586 ,  80596.15  ,  80728.45  ,  78495.914 ,  77191.92  ,\n",
       "        75805.625 ,  74321.91  ,  30676.96  ,  83652.51  ,  83489.586 ,\n",
       "        73816.6   ,  83762.18  ,  79878.13  ,  77094.33  ,  82910.61  ,\n",
       "        83568.38  ,  81516.516 ,  36940.848 ,  54698.78  ,  83742.21  ,\n",
       "        60373.69  ,  63026.566 ,  85752.92  ,  83504.05  ,  81551.67  ,\n",
       "        85529.19  ,  71913.37  ,  81796.72  ,  86963.836 ,  42403.883 ,\n",
       "        79957.234 ,  88208.766 ,  81089.39  ,  85719.805 ,  79273.22  ,\n",
       "        88429.9   ,  88096.555 ,  81271.375 ,  79236.375 ,  77054.805 ,\n",
       "        67347.92  ,  74994.445 ,  70258.586 ,  72130.43  ,  74851.4   ,\n",
       "        66404.805 ,  64112.742 ,  68414.31  ,  73677.13  ,  72862.75  ,\n",
       "        73382.54  ,  75021.69  ,  75636.89  ,  63341.375 ,  77604.22  ,\n",
       "        83799.516 ,  89775.84  ,  83971.414 ,  35658.715 ,  92814.016 ,\n",
       "        29386.941 ,  56127.383 ,  58745.38  ,  51334.742 ,  64768.9   ,\n",
       "        72888.75  ,  78411.586 ,  82599.93  ,  77157.91  ,  86547.5   ,\n",
       "        88829.18  ,  96874.56  ,  93245.336 ,  88518.71  ,  89282.62  ,\n",
       "        93569.27  ,  88247.945 ,  88561.89  ,  90634.54  ,  63473.1   ,\n",
       "         7602.961 ,  65932.06  ,  76041.63  ,  78200.44  ,  89180.26  ,\n",
       "        89147.65  ,  13782.853 ,  64556.633 ,  89431.47  ,  36767.465 ,\n",
       "        55554.75  ,  88251.1   ,  93946.61  ,  89326.016 , 101234.59  ,\n",
       "        80358.22  ,  92533.21  ,  68502.28  , 101941.266 ,  99791.95  ,\n",
       "       103994.234 , 105170.22  ,  93552.33  ,  99930.6   ,  79823.87  ,\n",
       "       103886.62  ,  97670.914 , 107346.85  , 105037.23  , 101832.69  ,\n",
       "       103582.766 , 102080.766 ,  58139.89  , 100030.47  , 109205.83  ,\n",
       "        90398.78  ,  94406.125 , 108315.91  , 106528.625 , 107720.555 ,\n",
       "       110375.85  , 109129.164 , 102342.01  ,  95451.68  ,  98393.586 ,\n",
       "       103213.984 ,  19759.357 ,  46421.95  ,  96138.04  , 106998.57  ,\n",
       "        98566.836 ,  70054.54  ,  38085.09  ], dtype=float32)"
      ]
     },
     "execution_count": 17,
     "metadata": {},
     "output_type": "execute_result"
    }
   ],
   "source": [
    "y_hat"
   ]
  },
  {
   "cell_type": "code",
   "execution_count": 15,
   "metadata": {},
   "outputs": [
    {
     "name": "stdout",
     "output_type": "stream",
     "text": [
      "모델 NMAE: 0.00010693111541750807\n"
     ]
    }
   ],
   "source": [
    "nmae = np.mean(abs(y_hat - y) / y) # nmae 계산\n",
    "\n",
    "print(f'모델 NMAE: {nmae}')"
   ]
  },
  {
   "cell_type": "markdown",
   "metadata": {},
   "source": [
    "NMAE로 계산하여 0.32가 나왔습니다.\n",
    "\n",
    "좋은 수치일까요 나쁜 수치일까요?\n",
    "\n",
    "NMAE 0.32는 대략 예측치와 실제값이 32% 정도의 오차율을 보인다는 것을 의미합니다.\n",
    "\n",
    "어떠신가요 여러분은 만족하시나요?"
   ]
  },
  {
   "cell_type": "markdown",
   "metadata": {},
   "source": [
    "## 교차 검증 도입하기!"
   ]
  },
  {
   "cell_type": "code",
   "execution_count": 16,
   "metadata": {},
   "outputs": [
    {
     "name": "stdout",
     "output_type": "stream",
     "text": [
      "(273, 9) (273, 1)\n"
     ]
    }
   ],
   "source": [
    "print(train_x.shape, train_y.shape)"
   ]
  },
  {
   "cell_type": "code",
   "execution_count": 28,
   "metadata": {},
   "outputs": [
    {
     "name": "stdout",
     "output_type": "stream",
     "text": [
      "-------------\n",
      "     wind_speed  humidity  low_temp  high_temp  Precipitation_Probability  \\\n",
      "1         3.278    69.833    12.812     19.000                     19.500   \n",
      "3         3.138    71.849     8.312     12.368                     43.493   \n",
      "5         3.734    68.885     2.500      9.895                     40.068   \n",
      "7         3.865    53.243     4.312     14.211                     15.676   \n",
      "9         5.607    54.054     8.375     18.474                     21.824   \n",
      "..          ...       ...       ...        ...                        ...   \n",
      "263       1.551    61.723    21.625     33.421                      2.027   \n",
      "265       1.700    55.541    22.312     26.947                      8.176   \n",
      "267       2.447    84.527    20.688     27.316                     54.054   \n",
      "269       1.794    78.412    20.812     28.842                     21.081   \n",
      "271       2.043    70.473    19.625     26.000                     15.541   \n",
      "\n",
      "     year  month  day  weekday     temp  \n",
      "1    2018      4    2        0  15.9060  \n",
      "3    2018      4    4        2  10.3400  \n",
      "5    2018      4    6        4   6.1975  \n",
      "7    2018      4    8        6   9.2615  \n",
      "9    2018      4   10        1  13.4245  \n",
      "..    ...    ...  ...      ...      ...  \n",
      "263  2020      6   21        6  27.5230  \n",
      "265  2020      6   23        1  24.6295  \n",
      "267  2020      6   25        3  24.0020  \n",
      "269  2020      6   27        5  24.8270  \n",
      "271  2020      6   29        0  22.8125  \n",
      "\n",
      "[136 rows x 10 columns]\n",
      "-------------\n",
      "     wind_speed  humidity  low_temp  high_temp  Precipitation_Probability  \\\n",
      "0         3.050    75.000    12.600     21.000                     30.000   \n",
      "2         2.690    74.879    10.312     15.316                     19.113   \n",
      "4         3.186    73.784     5.875     10.421                     63.378   \n",
      "6         4.824    45.541     1.938     10.947                      9.122   \n",
      "8         2.412    55.473     8.188     17.474                     10.000   \n",
      "..          ...       ...       ...        ...                        ...   \n",
      "264       1.571    52.365    22.250     31.053                      0.000   \n",
      "266       3.203    76.182    21.375     26.421                     62.500   \n",
      "268       2.271    78.378    20.500     27.526                     36.486   \n",
      "270       1.820    72.736    21.000     29.053                      7.297   \n",
      "272       5.574    77.061    19.125     26.053                     41.284   \n",
      "\n",
      "     year  month  day  weekday     temp  \n",
      "0    2018      4    1        6  16.8000  \n",
      "2    2018      4    3        1  12.8140  \n",
      "4    2018      4    5        3   8.1480  \n",
      "6    2018      4    7        5   6.4425  \n",
      "8    2018      4    9        0  12.8310  \n",
      "..    ...    ...  ...      ...      ...  \n",
      "264  2020      6   22        0  26.6515  \n",
      "266  2020      6   24        2  23.8980  \n",
      "268  2020      6   26        4  24.0130  \n",
      "270  2020      6   28        6  25.0265  \n",
      "272  2020      6   30        1  22.5890  \n",
      "\n",
      "[137 rows x 10 columns]\n",
      "-------------\n",
      "     number_of_rentals\n",
      "1                28139\n",
      "3                26034\n",
      "5                13297\n",
      "7                 7758\n",
      "9                20423\n",
      "..                 ...\n",
      "263              95453\n",
      "265             103214\n",
      "267              46415\n",
      "269             107001\n",
      "271              70053\n",
      "\n",
      "[136 rows x 1 columns]\n",
      "-------------\n",
      "     number_of_rentals\n",
      "0                22994\n",
      "2                26817\n",
      "4                 2833\n",
      "6                13088\n",
      "8                23925\n",
      "..                 ...\n",
      "264              98394\n",
      "266              19756\n",
      "268              96150\n",
      "270              98568\n",
      "272              38086\n",
      "\n",
      "[137 rows x 1 columns]\n",
      "-------------\n",
      "     wind_speed  humidity  low_temp  high_temp  Precipitation_Probability  \\\n",
      "0         3.050    75.000    12.600     21.000                     30.000   \n",
      "2         2.690    74.879    10.312     15.316                     19.113   \n",
      "4         3.186    73.784     5.875     10.421                     63.378   \n",
      "6         4.824    45.541     1.938     10.947                      9.122   \n",
      "8         2.412    55.473     8.188     17.474                     10.000   \n",
      "..          ...       ...       ...        ...                        ...   \n",
      "264       1.571    52.365    22.250     31.053                      0.000   \n",
      "266       3.203    76.182    21.375     26.421                     62.500   \n",
      "268       2.271    78.378    20.500     27.526                     36.486   \n",
      "270       1.820    72.736    21.000     29.053                      7.297   \n",
      "272       5.574    77.061    19.125     26.053                     41.284   \n",
      "\n",
      "     year  month  day  weekday     temp  \n",
      "0    2018      4    1        6  16.8000  \n",
      "2    2018      4    3        1  12.8140  \n",
      "4    2018      4    5        3   8.1480  \n",
      "6    2018      4    7        5   6.4425  \n",
      "8    2018      4    9        0  12.8310  \n",
      "..    ...    ...  ...      ...      ...  \n",
      "264  2020      6   22        0  26.6515  \n",
      "266  2020      6   24        2  23.8980  \n",
      "268  2020      6   26        4  24.0130  \n",
      "270  2020      6   28        6  25.0265  \n",
      "272  2020      6   30        1  22.5890  \n",
      "\n",
      "[137 rows x 10 columns]\n",
      "-------------\n",
      "     wind_speed  humidity  low_temp  high_temp  Precipitation_Probability  \\\n",
      "1         3.278    69.833    12.812     19.000                     19.500   \n",
      "3         3.138    71.849     8.312     12.368                     43.493   \n",
      "5         3.734    68.885     2.500      9.895                     40.068   \n",
      "7         3.865    53.243     4.312     14.211                     15.676   \n",
      "9         5.607    54.054     8.375     18.474                     21.824   \n",
      "..          ...       ...       ...        ...                        ...   \n",
      "263       1.551    61.723    21.625     33.421                      2.027   \n",
      "265       1.700    55.541    22.312     26.947                      8.176   \n",
      "267       2.447    84.527    20.688     27.316                     54.054   \n",
      "269       1.794    78.412    20.812     28.842                     21.081   \n",
      "271       2.043    70.473    19.625     26.000                     15.541   \n",
      "\n",
      "     year  month  day  weekday     temp  \n",
      "1    2018      4    2        0  15.9060  \n",
      "3    2018      4    4        2  10.3400  \n",
      "5    2018      4    6        4   6.1975  \n",
      "7    2018      4    8        6   9.2615  \n",
      "9    2018      4   10        1  13.4245  \n",
      "..    ...    ...  ...      ...      ...  \n",
      "263  2020      6   21        6  27.5230  \n",
      "265  2020      6   23        1  24.6295  \n",
      "267  2020      6   25        3  24.0020  \n",
      "269  2020      6   27        5  24.8270  \n",
      "271  2020      6   29        0  22.8125  \n",
      "\n",
      "[136 rows x 10 columns]\n",
      "-------------\n",
      "     number_of_rentals\n",
      "0                22994\n",
      "2                26817\n",
      "4                 2833\n",
      "6                13088\n",
      "8                23925\n",
      "..                 ...\n",
      "264              98394\n",
      "266              19756\n",
      "268              96150\n",
      "270              98568\n",
      "272              38086\n",
      "\n",
      "[137 rows x 1 columns]\n",
      "-------------\n",
      "     number_of_rentals\n",
      "1                28139\n",
      "3                26034\n",
      "5                13297\n",
      "7                 7758\n",
      "9                20423\n",
      "..                 ...\n",
      "263              95453\n",
      "265             103214\n",
      "267              46415\n",
      "269             107001\n",
      "271              70053\n",
      "\n",
      "[136 rows x 1 columns]\n"
     ]
    }
   ],
   "source": [
    "for n_fold, (train_index, val_index) in enumerate(folds.split(train_x, train_y)):\n",
    "    X_train, X_val = train_x.iloc[train_index], train_x.iloc[val_index]\n",
    "    y_train, y_val = train_y.iloc[train_index], train_y.iloc[val_index]\n",
    "\n",
    "    print('-------------')\n",
    "    print(X_train)\n",
    "    print('-------------')\n",
    "    print(X_val)\n",
    "    print('-------------')\n",
    "    print(y_train)\n",
    "    print('-------------')\n",
    "    print(y_val)"
   ]
  },
  {
   "cell_type": "code",
   "execution_count": 21,
   "metadata": {},
   "outputs": [],
   "source": [
    "# wind_speed, precipitation_probability 는 모델 성능에 영향을 주는 변수\n",
    "train_x = bicycle.drop(drop_features + ['number_of_rentals'], axis=1)\n",
    "train_y = bicycle[['number_of_rentals']]"
   ]
  },
  {
   "cell_type": "code",
   "execution_count": 22,
   "metadata": {
    "scrolled": true
   },
   "outputs": [
    {
     "data": {
      "text/html": [
       "<div>\n",
       "<style scoped>\n",
       "    .dataframe tbody tr th:only-of-type {\n",
       "        vertical-align: middle;\n",
       "    }\n",
       "\n",
       "    .dataframe tbody tr th {\n",
       "        vertical-align: top;\n",
       "    }\n",
       "\n",
       "    .dataframe thead th {\n",
       "        text-align: right;\n",
       "    }\n",
       "</style>\n",
       "<table border=\"1\" class=\"dataframe\">\n",
       "  <thead>\n",
       "    <tr style=\"text-align: right;\">\n",
       "      <th></th>\n",
       "      <th>wind_speed</th>\n",
       "      <th>humidity</th>\n",
       "      <th>low_temp</th>\n",
       "      <th>high_temp</th>\n",
       "      <th>Precipitation_Probability</th>\n",
       "      <th>year</th>\n",
       "      <th>month</th>\n",
       "      <th>day</th>\n",
       "      <th>weekday</th>\n",
       "      <th>temp</th>\n",
       "    </tr>\n",
       "  </thead>\n",
       "  <tbody>\n",
       "    <tr>\n",
       "      <th>0</th>\n",
       "      <td>3.050</td>\n",
       "      <td>75.000</td>\n",
       "      <td>12.600</td>\n",
       "      <td>21.000</td>\n",
       "      <td>30.000</td>\n",
       "      <td>2018</td>\n",
       "      <td>4</td>\n",
       "      <td>1</td>\n",
       "      <td>6</td>\n",
       "      <td>16.8000</td>\n",
       "    </tr>\n",
       "    <tr>\n",
       "      <th>1</th>\n",
       "      <td>3.278</td>\n",
       "      <td>69.833</td>\n",
       "      <td>12.812</td>\n",
       "      <td>19.000</td>\n",
       "      <td>19.500</td>\n",
       "      <td>2018</td>\n",
       "      <td>4</td>\n",
       "      <td>2</td>\n",
       "      <td>0</td>\n",
       "      <td>15.9060</td>\n",
       "    </tr>\n",
       "    <tr>\n",
       "      <th>2</th>\n",
       "      <td>2.690</td>\n",
       "      <td>74.879</td>\n",
       "      <td>10.312</td>\n",
       "      <td>15.316</td>\n",
       "      <td>19.113</td>\n",
       "      <td>2018</td>\n",
       "      <td>4</td>\n",
       "      <td>3</td>\n",
       "      <td>1</td>\n",
       "      <td>12.8140</td>\n",
       "    </tr>\n",
       "    <tr>\n",
       "      <th>3</th>\n",
       "      <td>3.138</td>\n",
       "      <td>71.849</td>\n",
       "      <td>8.312</td>\n",
       "      <td>12.368</td>\n",
       "      <td>43.493</td>\n",
       "      <td>2018</td>\n",
       "      <td>4</td>\n",
       "      <td>4</td>\n",
       "      <td>2</td>\n",
       "      <td>10.3400</td>\n",
       "    </tr>\n",
       "    <tr>\n",
       "      <th>4</th>\n",
       "      <td>3.186</td>\n",
       "      <td>73.784</td>\n",
       "      <td>5.875</td>\n",
       "      <td>10.421</td>\n",
       "      <td>63.378</td>\n",
       "      <td>2018</td>\n",
       "      <td>4</td>\n",
       "      <td>5</td>\n",
       "      <td>3</td>\n",
       "      <td>8.1480</td>\n",
       "    </tr>\n",
       "    <tr>\n",
       "      <th>...</th>\n",
       "      <td>...</td>\n",
       "      <td>...</td>\n",
       "      <td>...</td>\n",
       "      <td>...</td>\n",
       "      <td>...</td>\n",
       "      <td>...</td>\n",
       "      <td>...</td>\n",
       "      <td>...</td>\n",
       "      <td>...</td>\n",
       "      <td>...</td>\n",
       "    </tr>\n",
       "    <tr>\n",
       "      <th>268</th>\n",
       "      <td>2.271</td>\n",
       "      <td>78.378</td>\n",
       "      <td>20.500</td>\n",
       "      <td>27.526</td>\n",
       "      <td>36.486</td>\n",
       "      <td>2020</td>\n",
       "      <td>6</td>\n",
       "      <td>26</td>\n",
       "      <td>4</td>\n",
       "      <td>24.0130</td>\n",
       "    </tr>\n",
       "    <tr>\n",
       "      <th>269</th>\n",
       "      <td>1.794</td>\n",
       "      <td>78.412</td>\n",
       "      <td>20.812</td>\n",
       "      <td>28.842</td>\n",
       "      <td>21.081</td>\n",
       "      <td>2020</td>\n",
       "      <td>6</td>\n",
       "      <td>27</td>\n",
       "      <td>5</td>\n",
       "      <td>24.8270</td>\n",
       "    </tr>\n",
       "    <tr>\n",
       "      <th>270</th>\n",
       "      <td>1.820</td>\n",
       "      <td>72.736</td>\n",
       "      <td>21.000</td>\n",
       "      <td>29.053</td>\n",
       "      <td>7.297</td>\n",
       "      <td>2020</td>\n",
       "      <td>6</td>\n",
       "      <td>28</td>\n",
       "      <td>6</td>\n",
       "      <td>25.0265</td>\n",
       "    </tr>\n",
       "    <tr>\n",
       "      <th>271</th>\n",
       "      <td>2.043</td>\n",
       "      <td>70.473</td>\n",
       "      <td>19.625</td>\n",
       "      <td>26.000</td>\n",
       "      <td>15.541</td>\n",
       "      <td>2020</td>\n",
       "      <td>6</td>\n",
       "      <td>29</td>\n",
       "      <td>0</td>\n",
       "      <td>22.8125</td>\n",
       "    </tr>\n",
       "    <tr>\n",
       "      <th>272</th>\n",
       "      <td>5.574</td>\n",
       "      <td>77.061</td>\n",
       "      <td>19.125</td>\n",
       "      <td>26.053</td>\n",
       "      <td>41.284</td>\n",
       "      <td>2020</td>\n",
       "      <td>6</td>\n",
       "      <td>30</td>\n",
       "      <td>1</td>\n",
       "      <td>22.5890</td>\n",
       "    </tr>\n",
       "  </tbody>\n",
       "</table>\n",
       "<p>273 rows × 10 columns</p>\n",
       "</div>"
      ],
      "text/plain": [
       "     wind_speed  humidity  low_temp  high_temp  Precipitation_Probability  \\\n",
       "0         3.050    75.000    12.600     21.000                     30.000   \n",
       "1         3.278    69.833    12.812     19.000                     19.500   \n",
       "2         2.690    74.879    10.312     15.316                     19.113   \n",
       "3         3.138    71.849     8.312     12.368                     43.493   \n",
       "4         3.186    73.784     5.875     10.421                     63.378   \n",
       "..          ...       ...       ...        ...                        ...   \n",
       "268       2.271    78.378    20.500     27.526                     36.486   \n",
       "269       1.794    78.412    20.812     28.842                     21.081   \n",
       "270       1.820    72.736    21.000     29.053                      7.297   \n",
       "271       2.043    70.473    19.625     26.000                     15.541   \n",
       "272       5.574    77.061    19.125     26.053                     41.284   \n",
       "\n",
       "     year  month  day  weekday     temp  \n",
       "0    2018      4    1        6  16.8000  \n",
       "1    2018      4    2        0  15.9060  \n",
       "2    2018      4    3        1  12.8140  \n",
       "3    2018      4    4        2  10.3400  \n",
       "4    2018      4    5        3   8.1480  \n",
       "..    ...    ...  ...      ...      ...  \n",
       "268  2020      6   26        4  24.0130  \n",
       "269  2020      6   27        5  24.8270  \n",
       "270  2020      6   28        6  25.0265  \n",
       "271  2020      6   29        0  22.8125  \n",
       "272  2020      6   30        1  22.5890  \n",
       "\n",
       "[273 rows x 10 columns]"
      ]
     },
     "execution_count": 22,
     "metadata": {},
     "output_type": "execute_result"
    }
   ],
   "source": [
    "train_x"
   ]
  },
  {
   "cell_type": "code",
   "execution_count": 23,
   "metadata": {
    "scrolled": true
   },
   "outputs": [
    {
     "data": {
      "text/html": [
       "<div>\n",
       "<style scoped>\n",
       "    .dataframe tbody tr th:only-of-type {\n",
       "        vertical-align: middle;\n",
       "    }\n",
       "\n",
       "    .dataframe tbody tr th {\n",
       "        vertical-align: top;\n",
       "    }\n",
       "\n",
       "    .dataframe thead th {\n",
       "        text-align: right;\n",
       "    }\n",
       "</style>\n",
       "<table border=\"1\" class=\"dataframe\">\n",
       "  <thead>\n",
       "    <tr style=\"text-align: right;\">\n",
       "      <th></th>\n",
       "      <th>number_of_rentals</th>\n",
       "    </tr>\n",
       "  </thead>\n",
       "  <tbody>\n",
       "    <tr>\n",
       "      <th>0</th>\n",
       "      <td>22994</td>\n",
       "    </tr>\n",
       "    <tr>\n",
       "      <th>1</th>\n",
       "      <td>28139</td>\n",
       "    </tr>\n",
       "    <tr>\n",
       "      <th>2</th>\n",
       "      <td>26817</td>\n",
       "    </tr>\n",
       "    <tr>\n",
       "      <th>3</th>\n",
       "      <td>26034</td>\n",
       "    </tr>\n",
       "    <tr>\n",
       "      <th>4</th>\n",
       "      <td>2833</td>\n",
       "    </tr>\n",
       "    <tr>\n",
       "      <th>...</th>\n",
       "      <td>...</td>\n",
       "    </tr>\n",
       "    <tr>\n",
       "      <th>268</th>\n",
       "      <td>96150</td>\n",
       "    </tr>\n",
       "    <tr>\n",
       "      <th>269</th>\n",
       "      <td>107001</td>\n",
       "    </tr>\n",
       "    <tr>\n",
       "      <th>270</th>\n",
       "      <td>98568</td>\n",
       "    </tr>\n",
       "    <tr>\n",
       "      <th>271</th>\n",
       "      <td>70053</td>\n",
       "    </tr>\n",
       "    <tr>\n",
       "      <th>272</th>\n",
       "      <td>38086</td>\n",
       "    </tr>\n",
       "  </tbody>\n",
       "</table>\n",
       "<p>273 rows × 1 columns</p>\n",
       "</div>"
      ],
      "text/plain": [
       "     number_of_rentals\n",
       "0                22994\n",
       "1                28139\n",
       "2                26817\n",
       "3                26034\n",
       "4                 2833\n",
       "..                 ...\n",
       "268              96150\n",
       "269             107001\n",
       "270              98568\n",
       "271              70053\n",
       "272              38086\n",
       "\n",
       "[273 rows x 1 columns]"
      ]
     },
     "execution_count": 23,
     "metadata": {},
     "output_type": "execute_result"
    }
   ],
   "source": [
    "train_y"
   ]
  },
  {
   "cell_type": "code",
   "execution_count": 27,
   "metadata": {},
   "outputs": [
    {
     "data": {
      "text/plain": [
       "(273,)"
      ]
     },
     "execution_count": 27,
     "metadata": {},
     "output_type": "execute_result"
    }
   ],
   "source": [
    "train_y['number_of_rentals'].shape"
   ]
  },
  {
   "cell_type": "code",
   "execution_count": 26,
   "metadata": {},
   "outputs": [
    {
     "name": "stdout",
     "output_type": "stream",
     "text": [
      "(273, 1)\n",
      "(273,)\n"
     ]
    }
   ],
   "source": [
    "print(train_y.shape)\n",
    "print(y.shape)"
   ]
  },
  {
   "cell_type": "code",
   "execution_count": 24,
   "metadata": {},
   "outputs": [
    {
     "data": {
      "text/plain": [
       "0       22994\n",
       "1       28139\n",
       "2       26817\n",
       "3       26034\n",
       "4        2833\n",
       "        ...  \n",
       "268     96150\n",
       "269    107001\n",
       "270     98568\n",
       "271     70053\n",
       "272     38086\n",
       "Name: number_of_rentals, Length: 273, dtype: int64"
      ]
     },
     "execution_count": 24,
     "metadata": {},
     "output_type": "execute_result"
    }
   ],
   "source": [
    "y"
   ]
  },
  {
   "cell_type": "code",
   "execution_count": 39,
   "metadata": {},
   "outputs": [
    {
     "ename": "ValueError",
     "evalue": "n_splits=15 cannot be greater than the number of members in each class.",
     "output_type": "error",
     "traceback": [
      "\u001b[1;31m---------------------------------------------------------------------------\u001b[0m",
      "\u001b[1;31mValueError\u001b[0m                                Traceback (most recent call last)",
      "\u001b[1;32m<ipython-input-39-4d106580f9fc>\u001b[0m in \u001b[0;36m<module>\u001b[1;34m\u001b[0m\n\u001b[0;32m     15\u001b[0m \u001b[1;31m#                                                     random_state = 10086)\u001b[0m\u001b[1;33m\u001b[0m\u001b[1;33m\u001b[0m\u001b[1;33m\u001b[0m\u001b[0m\n\u001b[0;32m     16\u001b[0m \u001b[1;31m# sub=np.zeros((test_x.shape[0], 3))\u001b[0m\u001b[1;33m\u001b[0m\u001b[1;33m\u001b[0m\u001b[1;33m\u001b[0m\u001b[0m\n\u001b[1;32m---> 17\u001b[1;33m \u001b[1;32mfor\u001b[0m \u001b[0mtrain_index\u001b[0m\u001b[1;33m,\u001b[0m \u001b[0mval_index\u001b[0m \u001b[1;32min\u001b[0m \u001b[0mfolds\u001b[0m\u001b[1;33m.\u001b[0m\u001b[0msplit\u001b[0m\u001b[1;33m(\u001b[0m\u001b[0mtrain_x\u001b[0m\u001b[1;33m,\u001b[0m \u001b[0mtrain_y\u001b[0m\u001b[1;33m)\u001b[0m\u001b[1;33m:\u001b[0m\u001b[1;33m\u001b[0m\u001b[1;33m\u001b[0m\u001b[0m\n\u001b[0m\u001b[0;32m     18\u001b[0m     \u001b[0mX_train\u001b[0m\u001b[1;33m,\u001b[0m \u001b[0mX_val\u001b[0m \u001b[1;33m=\u001b[0m \u001b[0mtrain_x\u001b[0m\u001b[1;33m.\u001b[0m\u001b[0miloc\u001b[0m\u001b[1;33m[\u001b[0m\u001b[0mtrain_index\u001b[0m\u001b[1;33m]\u001b[0m\u001b[1;33m,\u001b[0m \u001b[0mtrain_x\u001b[0m\u001b[1;33m.\u001b[0m\u001b[0miloc\u001b[0m\u001b[1;33m[\u001b[0m\u001b[0mval_index\u001b[0m\u001b[1;33m]\u001b[0m\u001b[1;33m\u001b[0m\u001b[1;33m\u001b[0m\u001b[0m\n\u001b[0;32m     19\u001b[0m     \u001b[0my_train\u001b[0m\u001b[1;33m,\u001b[0m \u001b[0my_val\u001b[0m \u001b[1;33m=\u001b[0m \u001b[0mtrain_y\u001b[0m\u001b[1;33m.\u001b[0m\u001b[0miloc\u001b[0m\u001b[1;33m[\u001b[0m\u001b[0mtrain_index\u001b[0m\u001b[1;33m]\u001b[0m\u001b[1;33m,\u001b[0m \u001b[0mtrain_y\u001b[0m\u001b[1;33m.\u001b[0m\u001b[0miloc\u001b[0m\u001b[1;33m[\u001b[0m\u001b[0mval_index\u001b[0m\u001b[1;33m]\u001b[0m\u001b[1;33m\u001b[0m\u001b[1;33m\u001b[0m\u001b[0m\n",
      "\u001b[1;32mc:\\users\\user\\appdata\\local\\programs\\python\\python37\\lib\\site-packages\\sklearn\\model_selection\\_split.py\u001b[0m in \u001b[0;36msplit\u001b[1;34m(self, X, y, groups)\u001b[0m\n\u001b[0;32m    330\u001b[0m                 .format(self.n_splits, n_samples))\n\u001b[0;32m    331\u001b[0m \u001b[1;33m\u001b[0m\u001b[0m\n\u001b[1;32m--> 332\u001b[1;33m         \u001b[1;32mfor\u001b[0m \u001b[0mtrain\u001b[0m\u001b[1;33m,\u001b[0m \u001b[0mtest\u001b[0m \u001b[1;32min\u001b[0m \u001b[0msuper\u001b[0m\u001b[1;33m(\u001b[0m\u001b[1;33m)\u001b[0m\u001b[1;33m.\u001b[0m\u001b[0msplit\u001b[0m\u001b[1;33m(\u001b[0m\u001b[0mX\u001b[0m\u001b[1;33m,\u001b[0m \u001b[0my\u001b[0m\u001b[1;33m,\u001b[0m \u001b[0mgroups\u001b[0m\u001b[1;33m)\u001b[0m\u001b[1;33m:\u001b[0m\u001b[1;33m\u001b[0m\u001b[1;33m\u001b[0m\u001b[0m\n\u001b[0m\u001b[0;32m    333\u001b[0m             \u001b[1;32myield\u001b[0m \u001b[0mtrain\u001b[0m\u001b[1;33m,\u001b[0m \u001b[0mtest\u001b[0m\u001b[1;33m\u001b[0m\u001b[1;33m\u001b[0m\u001b[0m\n\u001b[0;32m    334\u001b[0m \u001b[1;33m\u001b[0m\u001b[0m\n",
      "\u001b[1;32mc:\\users\\user\\appdata\\local\\programs\\python\\python37\\lib\\site-packages\\sklearn\\model_selection\\_split.py\u001b[0m in \u001b[0;36msplit\u001b[1;34m(self, X, y, groups)\u001b[0m\n\u001b[0;32m     78\u001b[0m         \u001b[0mX\u001b[0m\u001b[1;33m,\u001b[0m \u001b[0my\u001b[0m\u001b[1;33m,\u001b[0m \u001b[0mgroups\u001b[0m \u001b[1;33m=\u001b[0m \u001b[0mindexable\u001b[0m\u001b[1;33m(\u001b[0m\u001b[0mX\u001b[0m\u001b[1;33m,\u001b[0m \u001b[0my\u001b[0m\u001b[1;33m,\u001b[0m \u001b[0mgroups\u001b[0m\u001b[1;33m)\u001b[0m\u001b[1;33m\u001b[0m\u001b[1;33m\u001b[0m\u001b[0m\n\u001b[0;32m     79\u001b[0m         \u001b[0mindices\u001b[0m \u001b[1;33m=\u001b[0m \u001b[0mnp\u001b[0m\u001b[1;33m.\u001b[0m\u001b[0marange\u001b[0m\u001b[1;33m(\u001b[0m\u001b[0m_num_samples\u001b[0m\u001b[1;33m(\u001b[0m\u001b[0mX\u001b[0m\u001b[1;33m)\u001b[0m\u001b[1;33m)\u001b[0m\u001b[1;33m\u001b[0m\u001b[1;33m\u001b[0m\u001b[0m\n\u001b[1;32m---> 80\u001b[1;33m         \u001b[1;32mfor\u001b[0m \u001b[0mtest_index\u001b[0m \u001b[1;32min\u001b[0m \u001b[0mself\u001b[0m\u001b[1;33m.\u001b[0m\u001b[0m_iter_test_masks\u001b[0m\u001b[1;33m(\u001b[0m\u001b[0mX\u001b[0m\u001b[1;33m,\u001b[0m \u001b[0my\u001b[0m\u001b[1;33m,\u001b[0m \u001b[0mgroups\u001b[0m\u001b[1;33m)\u001b[0m\u001b[1;33m:\u001b[0m\u001b[1;33m\u001b[0m\u001b[1;33m\u001b[0m\u001b[0m\n\u001b[0m\u001b[0;32m     81\u001b[0m             \u001b[0mtrain_index\u001b[0m \u001b[1;33m=\u001b[0m \u001b[0mindices\u001b[0m\u001b[1;33m[\u001b[0m\u001b[0mnp\u001b[0m\u001b[1;33m.\u001b[0m\u001b[0mlogical_not\u001b[0m\u001b[1;33m(\u001b[0m\u001b[0mtest_index\u001b[0m\u001b[1;33m)\u001b[0m\u001b[1;33m]\u001b[0m\u001b[1;33m\u001b[0m\u001b[1;33m\u001b[0m\u001b[0m\n\u001b[0;32m     82\u001b[0m             \u001b[0mtest_index\u001b[0m \u001b[1;33m=\u001b[0m \u001b[0mindices\u001b[0m\u001b[1;33m[\u001b[0m\u001b[0mtest_index\u001b[0m\u001b[1;33m]\u001b[0m\u001b[1;33m\u001b[0m\u001b[1;33m\u001b[0m\u001b[0m\n",
      "\u001b[1;32mc:\\users\\user\\appdata\\local\\programs\\python\\python37\\lib\\site-packages\\sklearn\\model_selection\\_split.py\u001b[0m in \u001b[0;36m_iter_test_masks\u001b[1;34m(self, X, y, groups)\u001b[0m\n\u001b[0;32m    691\u001b[0m \u001b[1;33m\u001b[0m\u001b[0m\n\u001b[0;32m    692\u001b[0m     \u001b[1;32mdef\u001b[0m \u001b[0m_iter_test_masks\u001b[0m\u001b[1;33m(\u001b[0m\u001b[0mself\u001b[0m\u001b[1;33m,\u001b[0m \u001b[0mX\u001b[0m\u001b[1;33m,\u001b[0m \u001b[0my\u001b[0m\u001b[1;33m=\u001b[0m\u001b[1;32mNone\u001b[0m\u001b[1;33m,\u001b[0m \u001b[0mgroups\u001b[0m\u001b[1;33m=\u001b[0m\u001b[1;32mNone\u001b[0m\u001b[1;33m)\u001b[0m\u001b[1;33m:\u001b[0m\u001b[1;33m\u001b[0m\u001b[1;33m\u001b[0m\u001b[0m\n\u001b[1;32m--> 693\u001b[1;33m         \u001b[0mtest_folds\u001b[0m \u001b[1;33m=\u001b[0m \u001b[0mself\u001b[0m\u001b[1;33m.\u001b[0m\u001b[0m_make_test_folds\u001b[0m\u001b[1;33m(\u001b[0m\u001b[0mX\u001b[0m\u001b[1;33m,\u001b[0m \u001b[0my\u001b[0m\u001b[1;33m)\u001b[0m\u001b[1;33m\u001b[0m\u001b[1;33m\u001b[0m\u001b[0m\n\u001b[0m\u001b[0;32m    694\u001b[0m         \u001b[1;32mfor\u001b[0m \u001b[0mi\u001b[0m \u001b[1;32min\u001b[0m \u001b[0mrange\u001b[0m\u001b[1;33m(\u001b[0m\u001b[0mself\u001b[0m\u001b[1;33m.\u001b[0m\u001b[0mn_splits\u001b[0m\u001b[1;33m)\u001b[0m\u001b[1;33m:\u001b[0m\u001b[1;33m\u001b[0m\u001b[1;33m\u001b[0m\u001b[0m\n\u001b[0;32m    695\u001b[0m             \u001b[1;32myield\u001b[0m \u001b[0mtest_folds\u001b[0m \u001b[1;33m==\u001b[0m \u001b[0mi\u001b[0m\u001b[1;33m\u001b[0m\u001b[1;33m\u001b[0m\u001b[0m\n",
      "\u001b[1;32mc:\\users\\user\\appdata\\local\\programs\\python\\python37\\lib\\site-packages\\sklearn\\model_selection\\_split.py\u001b[0m in \u001b[0;36m_make_test_folds\u001b[1;34m(self, X, y)\u001b[0m\n\u001b[0;32m    662\u001b[0m             raise ValueError(\"n_splits=%d cannot be greater than the\"\n\u001b[0;32m    663\u001b[0m                              \u001b[1;34m\" number of members in each class.\"\u001b[0m\u001b[1;33m\u001b[0m\u001b[1;33m\u001b[0m\u001b[0m\n\u001b[1;32m--> 664\u001b[1;33m                              % (self.n_splits))\n\u001b[0m\u001b[0;32m    665\u001b[0m         \u001b[1;32mif\u001b[0m \u001b[0mself\u001b[0m\u001b[1;33m.\u001b[0m\u001b[0mn_splits\u001b[0m \u001b[1;33m>\u001b[0m \u001b[0mmin_groups\u001b[0m\u001b[1;33m:\u001b[0m\u001b[1;33m\u001b[0m\u001b[1;33m\u001b[0m\u001b[0m\n\u001b[0;32m    666\u001b[0m             warnings.warn((\"The least populated class in y has only %d\"\n",
      "\u001b[1;31mValueError\u001b[0m: n_splits=15 cannot be greater than the number of members in each class."
     ]
    }
   ],
   "source": [
    "from sklearn.model_selection import KFold, StratifiedKFold\n",
    "from sklearn.metrics import accuracy_score, confusion_matrix, log_loss\n",
    "from sklearn.ensemble import RandomForestClassifier\n",
    "from sklearn.metrics import f1_score\n",
    "from tensorflow.keras.utils import to_categorical\n",
    "\n",
    "\n",
    "folds=StratifiedKFold(n_splits=15, shuffle=True, random_state=55)\n",
    "outcomes=[]\n",
    "\n",
    "model2 = xgb()\n",
    "# model.fit(X, y)\n",
    "# X_train, X_val, y_train, y_val = train_test_split(train_x, train_y, \n",
    "#                                                     stratify=train_y, test_size=0.25,\n",
    "#                                                     random_state = 10086)\n",
    "# sub=np.zeros((test_x.shape[0], 3))  \n",
    "for train_index, val_index in folds.split(train_x, train_y):\n",
    "    X_train, X_val = train_x.iloc[train_index], train_x.iloc[val_index]\n",
    "    y_train, y_val = train_y.iloc[train_index], train_y.iloc[val_index]\n",
    "    model2.fit(X_train, y_train)\n",
    "\n",
    "    prediction = model2.predict(X_val)\n",
    "    \n",
    "    y = y_val.number_of_rentals\n",
    "#     y = y_train['number_of_rentals']\n",
    "    \n",
    "    nmae = np.mean(abs(prediction - y) / y) # nmae 계산\n",
    "#     print(prediction)\n",
    "    print(f'모델 NMAE: {nmae}')\n",
    "    \n",
    "#     logloss=log_loss(to_categorical(y_val['number_of_rentals']), predictions)\n",
    "#     outcomes.append(logloss)\n",
    "#     print(f\"FOLD {n_fold} : logloss:{logloss}\")\n",
    "\n",
    "#     sub+=clf.predict_proba(test_x)\n",
    "\n",
    "\n",
    "# mean_outcome=np.mean(outcomes)\n",
    "    \n",
    "# print(\"Mean:{}\".format(mean_outcome))\n",
    "#     return sub/folds.n_splits\n",
    "\n",
    "# my_submission = run_kfold(clf)\n",
    "\n",
    "# y = y_val['number_of_rentals']\n",
    "    \n",
    "# nmae = np.mean(abs(predictions - y / y)) # nmae 계산\n",
    "\n",
    "# print(f'모델 NMAE: {nmae}')"
   ]
  },
  {
   "cell_type": "code",
   "execution_count": 42,
   "metadata": {},
   "outputs": [
    {
     "ename": "ValueError",
     "evalue": "The least populated class in y has only 1 member, which is too few. The minimum number of groups for any class cannot be less than 2.",
     "output_type": "error",
     "traceback": [
      "\u001b[1;31m---------------------------------------------------------------------------\u001b[0m",
      "\u001b[1;31mValueError\u001b[0m                                Traceback (most recent call last)",
      "\u001b[1;32m<ipython-input-42-5eba20902516>\u001b[0m in \u001b[0;36m<module>\u001b[1;34m\u001b[0m\n\u001b[0;32m      3\u001b[0m X_train, X_val, y_train, y_val = train_test_split(train_x, train_y, \n\u001b[0;32m      4\u001b[0m                                                     \u001b[0mstratify\u001b[0m\u001b[1;33m=\u001b[0m\u001b[0mtrain_y\u001b[0m\u001b[1;33m,\u001b[0m \u001b[0mtest_size\u001b[0m\u001b[1;33m=\u001b[0m\u001b[1;36m0.5\u001b[0m\u001b[1;33m,\u001b[0m\u001b[1;33m\u001b[0m\u001b[1;33m\u001b[0m\u001b[0m\n\u001b[1;32m----> 5\u001b[1;33m                                                     random_state = 10086)\n\u001b[0m",
      "\u001b[1;32mc:\\users\\user\\appdata\\local\\programs\\python\\python37\\lib\\site-packages\\sklearn\\model_selection\\_split.py\u001b[0m in \u001b[0;36mtrain_test_split\u001b[1;34m(test_size, train_size, random_state, shuffle, stratify, *arrays)\u001b[0m\n\u001b[0;32m   2195\u001b[0m                      random_state=random_state)\n\u001b[0;32m   2196\u001b[0m \u001b[1;33m\u001b[0m\u001b[0m\n\u001b[1;32m-> 2197\u001b[1;33m         \u001b[0mtrain\u001b[0m\u001b[1;33m,\u001b[0m \u001b[0mtest\u001b[0m \u001b[1;33m=\u001b[0m \u001b[0mnext\u001b[0m\u001b[1;33m(\u001b[0m\u001b[0mcv\u001b[0m\u001b[1;33m.\u001b[0m\u001b[0msplit\u001b[0m\u001b[1;33m(\u001b[0m\u001b[0mX\u001b[0m\u001b[1;33m=\u001b[0m\u001b[0marrays\u001b[0m\u001b[1;33m[\u001b[0m\u001b[1;36m0\u001b[0m\u001b[1;33m]\u001b[0m\u001b[1;33m,\u001b[0m \u001b[0my\u001b[0m\u001b[1;33m=\u001b[0m\u001b[0mstratify\u001b[0m\u001b[1;33m)\u001b[0m\u001b[1;33m)\u001b[0m\u001b[1;33m\u001b[0m\u001b[1;33m\u001b[0m\u001b[0m\n\u001b[0m\u001b[0;32m   2198\u001b[0m \u001b[1;33m\u001b[0m\u001b[0m\n\u001b[0;32m   2199\u001b[0m     return list(chain.from_iterable((_safe_indexing(a, train),\n",
      "\u001b[1;32mc:\\users\\user\\appdata\\local\\programs\\python\\python37\\lib\\site-packages\\sklearn\\model_selection\\_split.py\u001b[0m in \u001b[0;36msplit\u001b[1;34m(self, X, y, groups)\u001b[0m\n\u001b[0;32m   1385\u001b[0m         \"\"\"\n\u001b[0;32m   1386\u001b[0m         \u001b[0mX\u001b[0m\u001b[1;33m,\u001b[0m \u001b[0my\u001b[0m\u001b[1;33m,\u001b[0m \u001b[0mgroups\u001b[0m \u001b[1;33m=\u001b[0m \u001b[0mindexable\u001b[0m\u001b[1;33m(\u001b[0m\u001b[0mX\u001b[0m\u001b[1;33m,\u001b[0m \u001b[0my\u001b[0m\u001b[1;33m,\u001b[0m \u001b[0mgroups\u001b[0m\u001b[1;33m)\u001b[0m\u001b[1;33m\u001b[0m\u001b[1;33m\u001b[0m\u001b[0m\n\u001b[1;32m-> 1387\u001b[1;33m         \u001b[1;32mfor\u001b[0m \u001b[0mtrain\u001b[0m\u001b[1;33m,\u001b[0m \u001b[0mtest\u001b[0m \u001b[1;32min\u001b[0m \u001b[0mself\u001b[0m\u001b[1;33m.\u001b[0m\u001b[0m_iter_indices\u001b[0m\u001b[1;33m(\u001b[0m\u001b[0mX\u001b[0m\u001b[1;33m,\u001b[0m \u001b[0my\u001b[0m\u001b[1;33m,\u001b[0m \u001b[0mgroups\u001b[0m\u001b[1;33m)\u001b[0m\u001b[1;33m:\u001b[0m\u001b[1;33m\u001b[0m\u001b[1;33m\u001b[0m\u001b[0m\n\u001b[0m\u001b[0;32m   1388\u001b[0m             \u001b[1;32myield\u001b[0m \u001b[0mtrain\u001b[0m\u001b[1;33m,\u001b[0m \u001b[0mtest\u001b[0m\u001b[1;33m\u001b[0m\u001b[1;33m\u001b[0m\u001b[0m\n\u001b[0;32m   1389\u001b[0m \u001b[1;33m\u001b[0m\u001b[0m\n",
      "\u001b[1;32mc:\\users\\user\\appdata\\local\\programs\\python\\python37\\lib\\site-packages\\sklearn\\model_selection\\_split.py\u001b[0m in \u001b[0;36m_iter_indices\u001b[1;34m(self, X, y, groups)\u001b[0m\n\u001b[0;32m   1713\u001b[0m         \u001b[0mclass_counts\u001b[0m \u001b[1;33m=\u001b[0m \u001b[0mnp\u001b[0m\u001b[1;33m.\u001b[0m\u001b[0mbincount\u001b[0m\u001b[1;33m(\u001b[0m\u001b[0my_indices\u001b[0m\u001b[1;33m)\u001b[0m\u001b[1;33m\u001b[0m\u001b[1;33m\u001b[0m\u001b[0m\n\u001b[0;32m   1714\u001b[0m         \u001b[1;32mif\u001b[0m \u001b[0mnp\u001b[0m\u001b[1;33m.\u001b[0m\u001b[0mmin\u001b[0m\u001b[1;33m(\u001b[0m\u001b[0mclass_counts\u001b[0m\u001b[1;33m)\u001b[0m \u001b[1;33m<\u001b[0m \u001b[1;36m2\u001b[0m\u001b[1;33m:\u001b[0m\u001b[1;33m\u001b[0m\u001b[1;33m\u001b[0m\u001b[0m\n\u001b[1;32m-> 1715\u001b[1;33m             raise ValueError(\"The least populated class in y has only 1\"\n\u001b[0m\u001b[0;32m   1716\u001b[0m                              \u001b[1;34m\" member, which is too few. The minimum\"\u001b[0m\u001b[1;33m\u001b[0m\u001b[1;33m\u001b[0m\u001b[0m\n\u001b[0;32m   1717\u001b[0m                              \u001b[1;34m\" number of groups for any class cannot\"\u001b[0m\u001b[1;33m\u001b[0m\u001b[1;33m\u001b[0m\u001b[0m\n",
      "\u001b[1;31mValueError\u001b[0m: The least populated class in y has only 1 member, which is too few. The minimum number of groups for any class cannot be less than 2."
     ]
    }
   ],
   "source": [
    "from sklearn.model_selection import train_test_split\n",
    "\n",
    "X_train, X_val, y_train, y_val = train_test_split(train_x, train_y, \n",
    "                                                    stratify=train_y, test_size=0.5,\n",
    "                                                    random_state = 10086)"
   ]
  },
  {
   "cell_type": "code",
   "execution_count": 35,
   "metadata": {},
   "outputs": [
    {
     "data": {
      "text/html": [
       "<div>\n",
       "<style scoped>\n",
       "    .dataframe tbody tr th:only-of-type {\n",
       "        vertical-align: middle;\n",
       "    }\n",
       "\n",
       "    .dataframe tbody tr th {\n",
       "        vertical-align: top;\n",
       "    }\n",
       "\n",
       "    .dataframe thead th {\n",
       "        text-align: right;\n",
       "    }\n",
       "</style>\n",
       "<table border=\"1\" class=\"dataframe\">\n",
       "  <thead>\n",
       "    <tr style=\"text-align: right;\">\n",
       "      <th></th>\n",
       "      <th>wind_speed</th>\n",
       "      <th>humidity</th>\n",
       "      <th>low_temp</th>\n",
       "      <th>high_temp</th>\n",
       "      <th>Precipitation_Probability</th>\n",
       "      <th>year</th>\n",
       "      <th>month</th>\n",
       "      <th>day</th>\n",
       "      <th>weekday</th>\n",
       "    </tr>\n",
       "  </thead>\n",
       "  <tbody>\n",
       "    <tr>\n",
       "      <th>0</th>\n",
       "      <td>3.050</td>\n",
       "      <td>75.000</td>\n",
       "      <td>12.600</td>\n",
       "      <td>21.000</td>\n",
       "      <td>30.000</td>\n",
       "      <td>2018</td>\n",
       "      <td>4</td>\n",
       "      <td>1</td>\n",
       "      <td>6</td>\n",
       "    </tr>\n",
       "    <tr>\n",
       "      <th>1</th>\n",
       "      <td>3.278</td>\n",
       "      <td>69.833</td>\n",
       "      <td>12.812</td>\n",
       "      <td>19.000</td>\n",
       "      <td>19.500</td>\n",
       "      <td>2018</td>\n",
       "      <td>4</td>\n",
       "      <td>2</td>\n",
       "      <td>0</td>\n",
       "    </tr>\n",
       "    <tr>\n",
       "      <th>2</th>\n",
       "      <td>2.690</td>\n",
       "      <td>74.879</td>\n",
       "      <td>10.312</td>\n",
       "      <td>15.316</td>\n",
       "      <td>19.113</td>\n",
       "      <td>2018</td>\n",
       "      <td>4</td>\n",
       "      <td>3</td>\n",
       "      <td>1</td>\n",
       "    </tr>\n",
       "    <tr>\n",
       "      <th>3</th>\n",
       "      <td>3.138</td>\n",
       "      <td>71.849</td>\n",
       "      <td>8.312</td>\n",
       "      <td>12.368</td>\n",
       "      <td>43.493</td>\n",
       "      <td>2018</td>\n",
       "      <td>4</td>\n",
       "      <td>4</td>\n",
       "      <td>2</td>\n",
       "    </tr>\n",
       "    <tr>\n",
       "      <th>4</th>\n",
       "      <td>3.186</td>\n",
       "      <td>73.784</td>\n",
       "      <td>5.875</td>\n",
       "      <td>10.421</td>\n",
       "      <td>63.378</td>\n",
       "      <td>2018</td>\n",
       "      <td>4</td>\n",
       "      <td>5</td>\n",
       "      <td>3</td>\n",
       "    </tr>\n",
       "    <tr>\n",
       "      <th>...</th>\n",
       "      <td>...</td>\n",
       "      <td>...</td>\n",
       "      <td>...</td>\n",
       "      <td>...</td>\n",
       "      <td>...</td>\n",
       "      <td>...</td>\n",
       "      <td>...</td>\n",
       "      <td>...</td>\n",
       "      <td>...</td>\n",
       "    </tr>\n",
       "    <tr>\n",
       "      <th>268</th>\n",
       "      <td>2.271</td>\n",
       "      <td>78.378</td>\n",
       "      <td>20.500</td>\n",
       "      <td>27.526</td>\n",
       "      <td>36.486</td>\n",
       "      <td>2020</td>\n",
       "      <td>6</td>\n",
       "      <td>26</td>\n",
       "      <td>4</td>\n",
       "    </tr>\n",
       "    <tr>\n",
       "      <th>269</th>\n",
       "      <td>1.794</td>\n",
       "      <td>78.412</td>\n",
       "      <td>20.812</td>\n",
       "      <td>28.842</td>\n",
       "      <td>21.081</td>\n",
       "      <td>2020</td>\n",
       "      <td>6</td>\n",
       "      <td>27</td>\n",
       "      <td>5</td>\n",
       "    </tr>\n",
       "    <tr>\n",
       "      <th>270</th>\n",
       "      <td>1.820</td>\n",
       "      <td>72.736</td>\n",
       "      <td>21.000</td>\n",
       "      <td>29.053</td>\n",
       "      <td>7.297</td>\n",
       "      <td>2020</td>\n",
       "      <td>6</td>\n",
       "      <td>28</td>\n",
       "      <td>6</td>\n",
       "    </tr>\n",
       "    <tr>\n",
       "      <th>271</th>\n",
       "      <td>2.043</td>\n",
       "      <td>70.473</td>\n",
       "      <td>19.625</td>\n",
       "      <td>26.000</td>\n",
       "      <td>15.541</td>\n",
       "      <td>2020</td>\n",
       "      <td>6</td>\n",
       "      <td>29</td>\n",
       "      <td>0</td>\n",
       "    </tr>\n",
       "    <tr>\n",
       "      <th>272</th>\n",
       "      <td>5.574</td>\n",
       "      <td>77.061</td>\n",
       "      <td>19.125</td>\n",
       "      <td>26.053</td>\n",
       "      <td>41.284</td>\n",
       "      <td>2020</td>\n",
       "      <td>6</td>\n",
       "      <td>30</td>\n",
       "      <td>1</td>\n",
       "    </tr>\n",
       "  </tbody>\n",
       "</table>\n",
       "<p>273 rows × 9 columns</p>\n",
       "</div>"
      ],
      "text/plain": [
       "     wind_speed  humidity  low_temp  high_temp  Precipitation_Probability  \\\n",
       "0         3.050    75.000    12.600     21.000                     30.000   \n",
       "1         3.278    69.833    12.812     19.000                     19.500   \n",
       "2         2.690    74.879    10.312     15.316                     19.113   \n",
       "3         3.138    71.849     8.312     12.368                     43.493   \n",
       "4         3.186    73.784     5.875     10.421                     63.378   \n",
       "..          ...       ...       ...        ...                        ...   \n",
       "268       2.271    78.378    20.500     27.526                     36.486   \n",
       "269       1.794    78.412    20.812     28.842                     21.081   \n",
       "270       1.820    72.736    21.000     29.053                      7.297   \n",
       "271       2.043    70.473    19.625     26.000                     15.541   \n",
       "272       5.574    77.061    19.125     26.053                     41.284   \n",
       "\n",
       "     year  month  day  weekday  \n",
       "0    2018      4    1        6  \n",
       "1    2018      4    2        0  \n",
       "2    2018      4    3        1  \n",
       "3    2018      4    4        2  \n",
       "4    2018      4    5        3  \n",
       "..    ...    ...  ...      ...  \n",
       "268  2020      6   26        4  \n",
       "269  2020      6   27        5  \n",
       "270  2020      6   28        6  \n",
       "271  2020      6   29        0  \n",
       "272  2020      6   30        1  \n",
       "\n",
       "[273 rows x 9 columns]"
      ]
     },
     "execution_count": 35,
     "metadata": {},
     "output_type": "execute_result"
    }
   ],
   "source": [
    "train_x"
   ]
  },
  {
   "cell_type": "code",
   "execution_count": 36,
   "metadata": {},
   "outputs": [
    {
     "data": {
      "text/html": [
       "<div>\n",
       "<style scoped>\n",
       "    .dataframe tbody tr th:only-of-type {\n",
       "        vertical-align: middle;\n",
       "    }\n",
       "\n",
       "    .dataframe tbody tr th {\n",
       "        vertical-align: top;\n",
       "    }\n",
       "\n",
       "    .dataframe thead th {\n",
       "        text-align: right;\n",
       "    }\n",
       "</style>\n",
       "<table border=\"1\" class=\"dataframe\">\n",
       "  <thead>\n",
       "    <tr style=\"text-align: right;\">\n",
       "      <th></th>\n",
       "      <th>number_of_rentals</th>\n",
       "    </tr>\n",
       "  </thead>\n",
       "  <tbody>\n",
       "    <tr>\n",
       "      <th>0</th>\n",
       "      <td>22994</td>\n",
       "    </tr>\n",
       "    <tr>\n",
       "      <th>1</th>\n",
       "      <td>28139</td>\n",
       "    </tr>\n",
       "    <tr>\n",
       "      <th>2</th>\n",
       "      <td>26817</td>\n",
       "    </tr>\n",
       "    <tr>\n",
       "      <th>3</th>\n",
       "      <td>26034</td>\n",
       "    </tr>\n",
       "    <tr>\n",
       "      <th>4</th>\n",
       "      <td>2833</td>\n",
       "    </tr>\n",
       "    <tr>\n",
       "      <th>...</th>\n",
       "      <td>...</td>\n",
       "    </tr>\n",
       "    <tr>\n",
       "      <th>268</th>\n",
       "      <td>96150</td>\n",
       "    </tr>\n",
       "    <tr>\n",
       "      <th>269</th>\n",
       "      <td>107001</td>\n",
       "    </tr>\n",
       "    <tr>\n",
       "      <th>270</th>\n",
       "      <td>98568</td>\n",
       "    </tr>\n",
       "    <tr>\n",
       "      <th>271</th>\n",
       "      <td>70053</td>\n",
       "    </tr>\n",
       "    <tr>\n",
       "      <th>272</th>\n",
       "      <td>38086</td>\n",
       "    </tr>\n",
       "  </tbody>\n",
       "</table>\n",
       "<p>273 rows × 1 columns</p>\n",
       "</div>"
      ],
      "text/plain": [
       "     number_of_rentals\n",
       "0                22994\n",
       "1                28139\n",
       "2                26817\n",
       "3                26034\n",
       "4                 2833\n",
       "..                 ...\n",
       "268              96150\n",
       "269             107001\n",
       "270              98568\n",
       "271              70053\n",
       "272              38086\n",
       "\n",
       "[273 rows x 1 columns]"
      ]
     },
     "execution_count": 36,
     "metadata": {},
     "output_type": "execute_result"
    }
   ],
   "source": [
    "train_y"
   ]
  },
  {
   "cell_type": "code",
   "execution_count": 37,
   "metadata": {},
   "outputs": [
    {
     "name": "stdout",
     "output_type": "stream",
     "text": [
      "모델 NMAE: 60403.546867819394\n"
     ]
    }
   ],
   "source": [
    "model2 = xgb()\n",
    "model2.fit(train_x, train_y)\n",
    "\n",
    "pred = model2.predict(train_x)\n",
    "\n",
    "y = y_train['number_of_rentals']\n",
    "    \n",
    "nmae = np.mean(abs(prediction - y / y)) # nmae 계산\n",
    "\n",
    "print(f'모델 NMAE: {nmae}')\n"
   ]
  },
  {
   "cell_type": "code",
   "execution_count": null,
   "metadata": {},
   "outputs": [],
   "source": []
  },
  {
   "cell_type": "code",
   "execution_count": null,
   "metadata": {},
   "outputs": [],
   "source": []
  },
  {
   "cell_type": "markdown",
   "metadata": {},
   "source": [
    "## 상관관계 파악"
   ]
  },
  {
   "cell_type": "code",
   "execution_count": 121,
   "metadata": {},
   "outputs": [],
   "source": [
    "bicycle_number = bicycle.select_dtypes(np.number)"
   ]
  },
  {
   "cell_type": "code",
   "execution_count": 140,
   "metadata": {
    "scrolled": false
   },
   "outputs": [
    {
     "data": {
      "image/png": "[encoded data removed]",
      "text/plain": [
       "<Figure size 1440x720 with 2 Axes>"
      ]
     },
     "metadata": {
      "needs_background": "light"
     },
     "output_type": "display_data"
    }
   ],
   "source": [
    "corr = bicycle_number.corr()\n",
    "\n",
    "plt.figure(figsize=(20, 10))\n",
    "\n",
    "ax = sns.heatmap(\n",
    "    corr,\n",
    "    vmin=-1, vmax=1, center=0,\n",
    "    cmap=sns.diverging_palette(20, 220, n=200),\n",
    "    square = True,\n",
    "    annot = True\n",
    ")\n",
    "\n",
    "ax.set_xticklabels(\n",
    "    ax.get_xticklabels(),\n",
    "    rotation=45,\n",
    "    horizontalalignment='right'\n",
    ")\n",
    "\n",
    "plt.show()"
   ]
  },
  {
   "cell_type": "markdown",
   "metadata": {},
   "source": [
    "## 예측값 눈으로 확인하기\n",
    "\n",
    "0.32라는 숫자만 봐서는 모델이 어떤방식으로 맞췄는지 어디에서 오차가 더 많이 나는지 알 수 없습니다.\n",
    "\n",
    "모델을 개선시키기 위해선 어느 포인트에서 예측을 하지 못했는지 모델의 약점을 알아야합니다.\n",
    "\n",
    "그러기 위한 방법중 하나가 바로 오답노트인데요\n",
    "\n",
    "여러분은 데이콘 제출페이지에 제출하는 방식으로 스코어를 확인할수도, train set의 정확도가 어느정도 나오는지 눈으로 확인할 수도 있습니다.\n",
    "\n",
    "train set에서 오답노트를 확인하는것은 자칫 overfitting시킬 수 있어 조심해야하는 부분이지만 여러분에게 어느정도 인사이트를 줄 수도 있을겁니다.\n",
    "\n",
    "그럼 plot을 그려서 확인해 보겠습니다."
   ]
  },
  {
   "cell_type": "code",
   "execution_count": 8,
   "metadata": {},
   "outputs": [
    {
     "data": {
      "image/png": "[encoded data removed]",
      "text/plain": [
       "<Figure size 1440x720 with 1 Axes>"
      ]
     },
     "metadata": {},
     "output_type": "display_data"
    }
   ],
   "source": [
    "import matplotlib.pyplot as plt\n",
    "\n",
    "plt.style.use('ggplot')\n",
    "plt.figure(figsize=(20, 10))\n",
    "plt.plot(y_hat, label = 'prediction')\n",
    "plt.plot(y, label = 'real')\n",
    "plt.legend(fontsize = 20)\n",
    "plt.show()"
   ]
  },
  {
   "cell_type": "markdown",
   "metadata": {},
   "source": [
    "파란선이 실제 따릉이 대여량, 붉은 선이 우리의 모델이 예측한 값입니다.\n",
    "\n",
    "여러분이 보기에는 어떠신가요?\n",
    "\n",
    "우리의 모델이 어느정도 예측을 하고 있는것같나요?\n",
    "\n",
    "'추세는 따라가고 있는것 같다'정도는 이야기할 수 있을것 같습니다."
   ]
  },
  {
   "cell_type": "markdown",
   "metadata": {},
   "source": [
    "## 제출\n",
    "\n",
    "이제 제출을 해보겠습니다.\n",
    "\n",
    "주어진 test데이터로 예측을 진행한 다음 sample_submission.csv에 날짜별로 예측한 값을 넣어보겠습니다."
   ]
  },
  {
   "cell_type": "code",
   "execution_count": 17,
   "metadata": {},
   "outputs": [
    {
     "data": {
      "text/html": [
       "<div>\n",
       "<style scoped>\n",
       "    .dataframe tbody tr th:only-of-type {\n",
       "        vertical-align: middle;\n",
       "    }\n",
       "\n",
       "    .dataframe tbody tr th {\n",
       "        vertical-align: top;\n",
       "    }\n",
       "\n",
       "    .dataframe thead th {\n",
       "        text-align: right;\n",
       "    }\n",
       "</style>\n",
       "<table border=\"1\" class=\"dataframe\">\n",
       "  <thead>\n",
       "    <tr style=\"text-align: right;\">\n",
       "      <th></th>\n",
       "      <th>date_time</th>\n",
       "      <th>wind_direction</th>\n",
       "      <th>sky_condition</th>\n",
       "      <th>precipitation_form</th>\n",
       "      <th>wind_speed</th>\n",
       "      <th>humidity</th>\n",
       "      <th>low_temp</th>\n",
       "      <th>high_temp</th>\n",
       "      <th>Precipitation_Probability</th>\n",
       "      <th>year</th>\n",
       "      <th>month</th>\n",
       "      <th>day</th>\n",
       "      <th>weekday</th>\n",
       "    </tr>\n",
       "  </thead>\n",
       "  <tbody>\n",
       "    <tr>\n",
       "      <th>0</th>\n",
       "      <td>2021-04-01</td>\n",
       "      <td>108.833</td>\n",
       "      <td>3.000</td>\n",
       "      <td>0.000</td>\n",
       "      <td>2.900</td>\n",
       "      <td>28.333</td>\n",
       "      <td>11.800</td>\n",
       "      <td>20.667</td>\n",
       "      <td>18.333</td>\n",
       "      <td>2021</td>\n",
       "      <td>4</td>\n",
       "      <td>1</td>\n",
       "      <td>3</td>\n",
       "    </tr>\n",
       "    <tr>\n",
       "      <th>1</th>\n",
       "      <td>2021-04-02</td>\n",
       "      <td>116.717</td>\n",
       "      <td>3.850</td>\n",
       "      <td>0.000</td>\n",
       "      <td>2.662</td>\n",
       "      <td>46.417</td>\n",
       "      <td>12.000</td>\n",
       "      <td>19.000</td>\n",
       "      <td>28.500</td>\n",
       "      <td>2021</td>\n",
       "      <td>4</td>\n",
       "      <td>2</td>\n",
       "      <td>4</td>\n",
       "    </tr>\n",
       "    <tr>\n",
       "      <th>2</th>\n",
       "      <td>2021-04-03</td>\n",
       "      <td>82.669</td>\n",
       "      <td>4.000</td>\n",
       "      <td>0.565</td>\n",
       "      <td>2.165</td>\n",
       "      <td>77.258</td>\n",
       "      <td>8.875</td>\n",
       "      <td>16.368</td>\n",
       "      <td>52.847</td>\n",
       "      <td>2021</td>\n",
       "      <td>4</td>\n",
       "      <td>3</td>\n",
       "      <td>5</td>\n",
       "    </tr>\n",
       "    <tr>\n",
       "      <th>3</th>\n",
       "      <td>2021-04-04</td>\n",
       "      <td>44.123</td>\n",
       "      <td>3.466</td>\n",
       "      <td>0.466</td>\n",
       "      <td>3.747</td>\n",
       "      <td>63.288</td>\n",
       "      <td>6.250</td>\n",
       "      <td>17.368</td>\n",
       "      <td>37.671</td>\n",
       "      <td>2021</td>\n",
       "      <td>4</td>\n",
       "      <td>4</td>\n",
       "      <td>6</td>\n",
       "    </tr>\n",
       "    <tr>\n",
       "      <th>4</th>\n",
       "      <td>2021-04-05</td>\n",
       "      <td>147.791</td>\n",
       "      <td>1.500</td>\n",
       "      <td>0.000</td>\n",
       "      <td>1.560</td>\n",
       "      <td>48.176</td>\n",
       "      <td>7.188</td>\n",
       "      <td>18.684</td>\n",
       "      <td>4.459</td>\n",
       "      <td>2021</td>\n",
       "      <td>4</td>\n",
       "      <td>5</td>\n",
       "      <td>0</td>\n",
       "    </tr>\n",
       "  </tbody>\n",
       "</table>\n",
       "</div>"
      ],
      "text/plain": [
       "   date_time  wind_direction  sky_condition  precipitation_form  wind_speed  \\\n",
       "0 2021-04-01         108.833          3.000               0.000       2.900   \n",
       "1 2021-04-02         116.717          3.850               0.000       2.662   \n",
       "2 2021-04-03          82.669          4.000               0.565       2.165   \n",
       "3 2021-04-04          44.123          3.466               0.466       3.747   \n",
       "4 2021-04-05         147.791          1.500               0.000       1.560   \n",
       "\n",
       "   humidity  low_temp  high_temp  Precipitation_Probability  year  month  day  \\\n",
       "0    28.333    11.800     20.667                     18.333  2021      4    1   \n",
       "1    46.417    12.000     19.000                     28.500  2021      4    2   \n",
       "2    77.258     8.875     16.368                     52.847  2021      4    3   \n",
       "3    63.288     6.250     17.368                     37.671  2021      4    4   \n",
       "4    48.176     7.188     18.684                      4.459  2021      4    5   \n",
       "\n",
       "   weekday  \n",
       "0        3  \n",
       "1        4  \n",
       "2        5  \n",
       "3        6  \n",
       "4        0  "
      ]
     },
     "execution_count": 17,
     "metadata": {},
     "output_type": "execute_result"
    }
   ],
   "source": [
    "test = pd.read_csv('data/test.csv') # 데이터를 불러온 뒤\n",
    "submission  = pd.read_csv('data/sample_submission.csv')\n",
    "\n",
    "# check_missing_col(test) # 결측치 확인\n",
    "\n",
    "test['date_time'] = pd.to_datetime(test['date_time'])\n",
    "\n",
    "test['year'] = test['date_time'].dt.year\n",
    "test['month'] = test['date_time'].dt.month\n",
    "test['day'] = test['date_time'].dt.day\n",
    "test['weekday'] = test['date_time'].dt.weekday\n",
    "\n",
    "test.head()"
   ]
  },
  {
   "cell_type": "markdown",
   "metadata": {},
   "source": [
    "위에서 학습시킨 모델을 사용해서 예측을 진행합니다."
   ]
  },
  {
   "cell_type": "code",
   "execution_count": 20,
   "metadata": {},
   "outputs": [],
   "source": [
    "test['temp'] = (test['high_temp'] + test['low_temp']) / 2\n",
    "test['feeling'] = (100 - test['humidity']) / 100"
   ]
  },
  {
   "cell_type": "code",
   "execution_count": 21,
   "metadata": {},
   "outputs": [],
   "source": [
    "# 문자열인 date_time 컬럼 drop\n",
    "test_X = test.drop(drop_features, axis = 1)\n",
    "\n",
    "# train data로 학습시킨 모델에 test_X데이터를 넣고 예측\n",
    "# test_yhat = model.predict(test_X)\n",
    "\n",
    "test_yhat = model.predict(test_X)"
   ]
  },
  {
   "cell_type": "code",
   "execution_count": 22,
   "metadata": {},
   "outputs": [],
   "source": [
    "# submission dataFrame 완성\n",
    "submission['number_of_rentals'] = test_yhat\n",
    "\n",
    "# 제출 파일 생성\n",
    "submission.to_csv('submission2.csv', index= False)"
   ]
  },
  {
   "cell_type": "markdown",
   "metadata": {},
   "source": [
    "이제 여러분의 제출 파일이 생성되었습니다.\n",
    "\n",
    "결과물을 제출하고 여러분의 점수를 확인해보세요!"
   ]
  }
 ],
 "metadata": {
  "interpreter": {
   "hash": "8207dccf39e710c758db0a3115e8b6364f9af698460a2f758c1d8836f75fc2ad"
  },
  "kernelspec": {
   "display_name": "Python 3",
   "language": "python",
   "name": "python3"
  },
  "language_info": {
   "codemirror_mode": {
    "name": "ipython",
    "version": 3
   },
   "file_extension": ".py",
   "mimetype": "text/x-python",
   "name": "python",
   "nbconvert_exporter": "python",
   "pygments_lexer": "ipython3",
   "version": "3.7.1"
  }
 },
 "nbformat": 4,
 "nbformat_minor": 4
}
