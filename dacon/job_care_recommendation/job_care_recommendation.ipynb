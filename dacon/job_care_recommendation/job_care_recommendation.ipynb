{
 "cells": [
  {
   "cell_type": "markdown",
   "metadata": {},
   "source": [
    "# 필요 패키지 import"
   ]
  },
  {
   "cell_type": "code",
   "execution_count": 1,
   "metadata": {
    "ExecuteTime": {
     "end_time": "2022-02-25T07:40:59.329060Z",
     "start_time": "2022-02-25T07:40:58.282666Z"
    }
   },
   "outputs": [],
   "source": [
    "import pandas as pd\n",
    "import numpy as np\n",
    "from tqdm import tqdm\n",
    "from sklearn.preprocessing import LabelEncoder\n",
    "from sklearn.ensemble import RandomForestClassifier\n",
    "from sklearn import metrics\n",
    "from sklearn.metrics import f1_score, accuracy_score, precision_score, recall_score\n",
    "from sklearn.model_selection import train_test_split, GridSearchCV\n",
    "\n",
    "from xgboost import plot_importance, XGBClassifier\n",
    "\n",
    "\n",
    "import warnings\n",
    "warnings.filterwarnings(action='ignore')\n",
    "\n",
    "pd.set_option('display.max_columns', None)\n",
    "pd.set_option('display.max_rows', None)"
   ]
  },
  {
   "cell_type": "code",
   "execution_count": 2,
   "metadata": {
    "ExecuteTime": {
     "end_time": "2022-02-25T07:41:00.132778Z",
     "start_time": "2022-02-25T07:41:00.117143Z"
    }
   },
   "outputs": [
    {
     "data": {
      "text/plain": [
       "'C:\\\\Users\\\\user\\\\projects\\\\ml\\\\dacon\\\\dacon\\\\job_care_recommendation'"
      ]
     },
     "execution_count": 2,
     "metadata": {},
     "output_type": "execute_result"
    }
   ],
   "source": [
    "import os\n",
    "\n",
    "os.path.abspath('.')"
   ]
  },
  {
   "cell_type": "markdown",
   "metadata": {},
   "source": [
    "# 데이터 불러오기"
   ]
  },
  {
   "cell_type": "code",
   "execution_count": 3,
   "metadata": {
    "ExecuteTime": {
     "end_time": "2022-02-25T07:41:01.865156Z",
     "start_time": "2022-02-25T07:41:00.806666Z"
    }
   },
   "outputs": [],
   "source": [
    "train = pd.read_csv('./data/train.csv')\n",
    "test = pd.read_csv('./data/test.csv')"
   ]
  },
  {
   "cell_type": "markdown",
   "metadata": {},
   "source": [
    "# 날짜 데이터 추가 (월, 일)"
   ]
  },
  {
   "cell_type": "code",
   "execution_count": 4,
   "metadata": {
    "ExecuteTime": {
     "end_time": "2022-02-25T07:41:09.463300Z",
     "start_time": "2022-02-25T07:41:09.080524Z"
    }
   },
   "outputs": [],
   "source": [
    "train.loc[:, 'month'] = pd.to_datetime(train['contents_open_dt']).dt.month\n",
    "test.loc[:, 'month'] = pd.to_datetime(test['contents_open_dt']).dt.month"
   ]
  },
  {
   "cell_type": "code",
   "execution_count": 5,
   "metadata": {
    "ExecuteTime": {
     "end_time": "2022-02-25T07:41:18.099891Z",
     "start_time": "2022-02-25T07:41:17.733600Z"
    }
   },
   "outputs": [],
   "source": [
    "train.loc[:, 'day'] = pd.to_datetime(train['contents_open_dt']).dt.day\n",
    "test.loc[:, 'day'] = pd.to_datetime(test['contents_open_dt']).dt.day"
   ]
  },
  {
   "cell_type": "markdown",
   "metadata": {},
   "source": [
    "# 필요 데이터 추출\n",
    "\n",
    "모델 학습시 id는 제외해야하고\n",
    "\n",
    "베이스라인에선 contents_open_dt를 제거하고 진행하였습니다"
   ]
  },
  {
   "cell_type": "code",
   "execution_count": 6,
   "metadata": {
    "ExecuteTime": {
     "end_time": "2022-02-25T07:41:23.831078Z",
     "start_time": "2022-02-25T07:41:23.724669Z"
    }
   },
   "outputs": [],
   "source": [
    "train = train.drop(['id', 'contents_open_dt'], axis=1) \n",
    "\n",
    "test = test.drop(['id', 'contents_open_dt'], axis=1)"
   ]
  },
  {
   "cell_type": "markdown",
   "metadata": {},
   "source": [
    "# 데이터 전처리"
   ]
  },
  {
   "cell_type": "markdown",
   "metadata": {},
   "source": [
    "## 값이 1개인 변수(column) drop\n",
    "- class가 하나만 있는 변수 drop"
   ]
  },
  {
   "cell_type": "markdown",
   "metadata": {},
   "source": [
    " feature person_prefer_h_3 (0.009)  \n",
    "20. feature person_attribute_a_1 (0.009)  \n",
    "21. feature contents_attribute_a (0.005)  \n",
    "22. feature h_m_match_yn (0.005)  \n",
    "23. feature person_prefer_c (0.004)  \n",
    "24. feature person_attribute_b (0.004)  \n",
    "25. feature h_s_match_yn (0.003)  \n",
    "26. feature contents_attribute_i (0.002)  \n",
    "27. feature contents_attribute_k (0.001)  \n",
    "28. feature person_attribute_a (0.001)  "
   ]
  },
  {
   "cell_type": "markdown",
   "metadata": {},
   "source": [
    "- person_rn: 사용자 번호  \n",
    "- contents_rn: 컨텐츠 번호"
   ]
  },
  {
   "cell_type": "code",
   "execution_count": 6,
   "metadata": {
    "ExecuteTime": {
     "end_time": "2022-02-25T07:31:06.059577Z",
     "start_time": "2022-02-25T07:31:06.044195Z"
    }
   },
   "outputs": [],
   "source": [
    "# value의 종류가 1개이거나, 너무 많은 feartures drop\n",
    "drop_list = ['person_prefer_f', 'person_prefer_g', 'person_rn', 'contents_rn']"
   ]
  },
  {
   "cell_type": "code",
   "execution_count": 7,
   "metadata": {
    "ExecuteTime": {
     "end_time": "2022-02-25T07:32:30.625996Z",
     "start_time": "2022-02-25T07:32:30.611996Z"
    }
   },
   "outputs": [],
   "source": [
    "# importance가 낮은 feartures drop\n",
    "low_importances = ['person_attribute_a_1', 'contents_attribute_a', 'h_m_match_yn', 'person_prefer_c', 'person_attribute_b', 'h_s_match_yn', 'contents_attribute_i', 'contents_attribute_k', 'person_attribute_a']"
   ]
  },
  {
   "cell_type": "code",
   "execution_count": 8,
   "metadata": {
    "ExecuteTime": {
     "end_time": "2022-02-25T07:35:04.641082Z",
     "start_time": "2022-02-25T07:35:04.632074Z"
    }
   },
   "outputs": [
    {
     "data": {
      "text/plain": [
       "(501951, 37)"
      ]
     },
     "execution_count": 8,
     "metadata": {},
     "output_type": "execute_result"
    }
   ],
   "source": [
    "train.shape"
   ]
  },
  {
   "cell_type": "code",
   "execution_count": 9,
   "metadata": {
    "ExecuteTime": {
     "end_time": "2022-02-25T07:35:15.833512Z",
     "start_time": "2022-02-25T07:35:15.818529Z"
    }
   },
   "outputs": [
    {
     "data": {
      "text/plain": [
       "(46404, 36)"
      ]
     },
     "execution_count": 9,
     "metadata": {},
     "output_type": "execute_result"
    }
   ],
   "source": [
    "test.shape"
   ]
  },
  {
   "cell_type": "code",
   "execution_count": 10,
   "metadata": {
    "ExecuteTime": {
     "end_time": "2022-02-25T07:37:59.846476Z",
     "start_time": "2022-02-25T07:37:59.682198Z"
    }
   },
   "outputs": [],
   "source": [
    "train.drop(drop_list, axis=1, inplace=True)\n",
    "train.drop(low_importances, axis=1, inplace=True)\n",
    "test.drop(drop_list, axis=1, inplace=True)\n",
    "test.drop(low_importances, axis=1, inplace=True)"
   ]
  },
  {
   "cell_type": "code",
   "execution_count": 11,
   "metadata": {
    "ExecuteTime": {
     "end_time": "2022-02-25T07:38:26.859295Z",
     "start_time": "2022-02-25T07:38:26.855301Z"
    }
   },
   "outputs": [
    {
     "data": {
      "text/plain": [
       "(501951, 24)"
      ]
     },
     "execution_count": 11,
     "metadata": {},
     "output_type": "execute_result"
    }
   ],
   "source": [
    "train.shape"
   ]
  },
  {
   "cell_type": "code",
   "execution_count": null,
   "metadata": {
    "ExecuteTime": {
     "start_time": "2022-02-25T07:38:28.552Z"
    }
   },
   "outputs": [],
   "source": [
    "test.shape"
   ]
  },
  {
   "cell_type": "markdown",
   "metadata": {},
   "source": [
    "# 데이터 분리"
   ]
  },
  {
   "cell_type": "code",
   "execution_count": null,
   "metadata": {
    "ExecuteTime": {
     "end_time": "2022-02-24T07:25:32.129648Z",
     "start_time": "2022-02-24T07:25:32.068630Z"
    }
   },
   "outputs": [],
   "source": [
    "X_train = train.drop('target', axis=1)\n",
    "y_train = train.loc[:, 'target']\n",
    "X_test = test.drop('target', axis=1)\n",
    "y_test = test.loc[:, 'target']"
   ]
  },
  {
   "cell_type": "markdown",
   "metadata": {},
   "source": [
    "# 모델 학습\n",
    "\n",
    "RandomForest를 이용한 학습"
   ]
  },
  {
   "cell_type": "markdown",
   "metadata": {},
   "source": [
    "## RandomForest "
   ]
  },
  {
   "cell_type": "code",
   "execution_count": null,
   "metadata": {
    "ExecuteTime": {
     "end_time": "2022-01-24T05:54:33.731504Z",
     "start_time": "2022-01-24T05:53:56.738476Z"
    }
   },
   "outputs": [],
   "source": [
    "model = RandomForestClassifier(n_estimators=300, max_depth=6)\n",
    "\n",
    "\n",
    "model.fit(X_train, y_train)"
   ]
  },
  {
   "cell_type": "markdown",
   "metadata": {},
   "source": [
    "## xgboost"
   ]
  },
  {
   "cell_type": "code",
   "execution_count": null,
   "metadata": {
    "ExecuteTime": {
     "end_time": "2022-01-24T05:55:45.190488Z",
     "start_time": "2022-01-24T05:55:45.179493Z"
    }
   },
   "outputs": [],
   "source": [
    "xgb = XGBClassifier(n_estimators=500, learning_rate=0.1, max_depth=8)"
   ]
  },
  {
   "cell_type": "code",
   "execution_count": null,
   "metadata": {
    "ExecuteTime": {
     "end_time": "2022-01-24T05:57:18.902885Z",
     "start_time": "2022-01-24T05:55:46.710595Z"
    }
   },
   "outputs": [],
   "source": [
    "xgb.fit(X_train, y_train)"
   ]
  },
  {
   "cell_type": "markdown",
   "metadata": {},
   "source": [
    "### 하이퍼파라미터 튜닝"
   ]
  },
  {
   "cell_type": "code",
   "execution_count": null,
   "metadata": {
    "ExecuteTime": {
     "end_time": "2021-12-21T02:00:50.006334Z",
     "start_time": "2021-12-20T05:21:22.264850Z"
    }
   },
   "outputs": [],
   "source": [
    "xgb = XGBClassifier()\n",
    "xgb_param_grid = {\n",
    "    'n_estimators' : [100, 200, 400, 600],\n",
    "    'learning_rate' : [0.01, 0.05, 0.1, 0.15],\n",
    "    'max_depth' : [4, 6, 8, 10, 12],\n",
    "}\n",
    "\n",
    "xgb_grid = GridSearchCV(xgb, param_grid=xgb_param_grid, scoring='accuracy', n_jobs= -1, verbose=1)\n",
    "xgb_grid.fit(X_train, y_train)"
   ]
  },
  {
   "cell_type": "markdown",
   "metadata": {},
   "source": [
    "## 모델 검증"
   ]
  },
  {
   "cell_type": "code",
   "execution_count": null,
   "metadata": {
    "ExecuteTime": {
     "end_time": "2022-01-24T05:25:51.003663Z",
     "start_time": "2022-01-24T05:25:50.992673Z"
    }
   },
   "outputs": [],
   "source": [
    "def get_metrics(y_test, pred):\n",
    "    print('정확도: ', accuracy_score(y_test, pred))\n",
    "    print('정확성: ',  precision_score(y_test, pred)) # 정확도\n",
    "    print('재현율: ', recall_score(y_test, pred)) # 재현율\n",
    "    print('f1 score: ', f1_score(y_test, pred)) # f1 score"
   ]
  },
  {
   "cell_type": "markdown",
   "metadata": {},
   "source": [
    "### RandomForest"
   ]
  },
  {
   "cell_type": "code",
   "execution_count": null,
   "metadata": {
    "ExecuteTime": {
     "end_time": "2022-01-24T05:54:35.340839Z",
     "start_time": "2022-01-24T05:54:33.859516Z"
    },
    "scrolled": true
   },
   "outputs": [],
   "source": [
    "pred = model.predict(X_test)\n",
    "\n",
    "get_metrics(y_test, pred)"
   ]
  },
  {
   "cell_type": "code",
   "execution_count": null,
   "metadata": {
    "ExecuteTime": {
     "end_time": "2022-01-24T05:26:55.439099Z",
     "start_time": "2022-01-24T05:26:55.280887Z"
    },
    "scrolled": false
   },
   "outputs": [],
   "source": [
    "get_metrics(y_test, pred)"
   ]
  },
  {
   "cell_type": "markdown",
   "metadata": {},
   "source": [
    "### xgboost"
   ]
  },
  {
   "cell_type": "code",
   "execution_count": null,
   "metadata": {
    "ExecuteTime": {
     "end_time": "2022-01-24T05:57:19.921739Z",
     "start_time": "2022-01-24T05:57:19.030583Z"
    }
   },
   "outputs": [],
   "source": [
    "pred = xgb.predict(X_test) \n",
    "\n",
    "get_metrics(y_test, pred)"
   ]
  },
  {
   "cell_type": "markdown",
   "metadata": {},
   "source": [
    "# feature importance"
   ]
  },
  {
   "cell_type": "code",
   "execution_count": null,
   "metadata": {
    "ExecuteTime": {
     "end_time": "2022-01-24T05:58:01.623440Z",
     "start_time": "2022-01-24T05:58:01.491557Z"
    }
   },
   "outputs": [],
   "source": [
    "importances = model.feature_importances_"
   ]
  },
  {
   "cell_type": "code",
   "execution_count": null,
   "metadata": {
    "ExecuteTime": {
     "end_time": "2022-01-24T05:58:01.766860Z",
     "start_time": "2022-01-24T05:58:01.752838Z"
    }
   },
   "outputs": [],
   "source": [
    "import matplotlib.pyplot as plt"
   ]
  },
  {
   "cell_type": "code",
   "execution_count": null,
   "metadata": {
    "ExecuteTime": {
     "end_time": "2022-01-24T05:58:02.149922Z",
     "start_time": "2022-01-24T05:58:01.896399Z"
    },
    "scrolled": false
   },
   "outputs": [],
   "source": [
    "std = np.std([tree.feature_importances_ for tree in model.estimators_], axis=0)\n",
    "indices = np.argsort(importances)[::-1]\n",
    "\n",
    "print('Feature Ranking: ')\n",
    "\n",
    "for f in range(X.shape[1]):\n",
    "    print(\"{}. feature {} ({:.3f})\".format(f + 1, X.columns[indices][f], importances[indices[f]]))\n",
    "    \n",
    "    \n",
    "plt.figure(figsize =(20, 10))\n",
    "plt.title('Feature importances')\n",
    "plt.bar(range(X.shape[1]), importances[indices],\n",
    "       color='r', yerr=std[indices], align='center')\n",
    "plt.xticks(range(X.shape[1]), X.columns[indices], rotation=45, fontsize=20)\n",
    "plt.xlim([-1, X.shape[1]])\n",
    "plt.show()"
   ]
  },
  {
   "cell_type": "markdown",
   "metadata": {},
   "source": [
    "# Test set 예측"
   ]
  },
  {
   "cell_type": "code",
   "execution_count": null,
   "metadata": {},
   "outputs": [],
   "source": [
    "preds = model.predict(test)"
   ]
  },
  {
   "cell_type": "code",
   "execution_count": null,
   "metadata": {
    "ExecuteTime": {
     "end_time": "2021-12-22T06:26:29.130864Z",
     "start_time": "2021-12-22T06:26:28.819723Z"
    }
   },
   "outputs": [],
   "source": [
    "test2 = test.drop(drop_columns, axis=1)\n",
    "preds2 = xgb.predict(test2)"
   ]
  },
  {
   "cell_type": "code",
   "execution_count": null,
   "metadata": {
    "ExecuteTime": {
     "end_time": "2021-12-22T06:48:09.621845Z",
     "start_time": "2021-12-22T06:48:09.034728Z"
    }
   },
   "outputs": [],
   "source": [
    "preds3 = xgb_grid.predict(test)"
   ]
  },
  {
   "cell_type": "markdown",
   "metadata": {},
   "source": [
    "# 제출파일 생성"
   ]
  },
  {
   "cell_type": "code",
   "execution_count": null,
   "metadata": {},
   "outputs": [],
   "source": [
    "submission = pd.read_csv('sample_submission.csv')\n",
    "submission['target'] = preds\n",
    "\n",
    "submission.to_csv('baseline.csv', index=False)"
   ]
  },
  {
   "cell_type": "code",
   "execution_count": null,
   "metadata": {
    "ExecuteTime": {
     "end_time": "2021-12-22T06:27:27.304313Z",
     "start_time": "2021-12-22T06:27:27.132850Z"
    }
   },
   "outputs": [],
   "source": [
    "submission = pd.read_csv('./data/sample_submission.csv')\n",
    "submission['target'] = preds2\n",
    "\n",
    "submission.to_csv('result1.csv', index=False)"
   ]
  },
  {
   "cell_type": "code",
   "execution_count": null,
   "metadata": {
    "ExecuteTime": {
     "end_time": "2021-12-22T06:51:01.193248Z",
     "start_time": "2021-12-22T06:51:01.127235Z"
    }
   },
   "outputs": [],
   "source": [
    "# grid search 적용\n",
    "submission = pd.read_csv('./data/sample_submission.csv')\n",
    "submission['target'] = preds3\n",
    "\n",
    "submission.to_csv('result2.csv', index=False)"
   ]
  },
  {
   "cell_type": "code",
   "execution_count": null,
   "metadata": {},
   "outputs": [],
   "source": []
  }
 ],
 "metadata": {
  "kernelspec": {
   "display_name": "Python 3",
   "language": "python",
   "name": "python3"
  },
  "language_info": {
   "codemirror_mode": {
    "name": "ipython",
    "version": 3
   },
   "file_extension": ".py",
   "mimetype": "text/x-python",
   "name": "python",
   "nbconvert_exporter": "python",
   "pygments_lexer": "ipython3",
   "version": "3.7.1"
  },
  "toc": {
   "base_numbering": 1,
   "nav_menu": {},
   "number_sections": true,
   "sideBar": true,
   "skip_h1_title": false,
   "title_cell": "Table of Contents",
   "title_sidebar": "Contents",
   "toc_cell": false,
   "toc_position": {
    "height": "calc(100% - 180px)",
    "left": "10px",
    "top": "150px",
    "width": "303.825px"
   },
   "toc_section_display": true,
   "toc_window_display": true
  },
  "varInspector": {
   "cols": {
    "lenName": 16,
    "lenType": 16,
    "lenVar": 40
   },
   "kernels_config": {
    "python": {
     "delete_cmd_postfix": "",
     "delete_cmd_prefix": "del ",
     "library": "var_list.py",
     "varRefreshCmd": "print(var_dic_list())"
    },
    "r": {
     "delete_cmd_postfix": ") ",
     "delete_cmd_prefix": "rm(",
     "library": "var_list.r",
     "varRefreshCmd": "cat(var_dic_list()) "
    }
   },
   "types_to_exclude": [
    "module",
    "function",
    "builtin_function_or_method",
    "instance",
    "_Feature"
   ],
   "window_display": false
  }
 },
 "nbformat": 4,
 "nbformat_minor": 4
}
